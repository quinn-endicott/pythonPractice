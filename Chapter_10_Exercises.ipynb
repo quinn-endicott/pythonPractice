{
 "cells": [
  {
   "cell_type": "markdown",
   "metadata": {},
   "source": [
    "# 1. Pet Class\n",
    "Write a class named Pet, which should have the following data attributes:\n",
    "• _ _name (for the name of a pet)\n",
    "• _ _animal_type (for the type of animal that a pet is. Example values are ‘Dog’, ‘Cat’, \n",
    "and ‘Bird’)\n",
    "• _ _age (for the pet’s age)\n",
    "\n",
    "The Pet class should have an _ _init_ _ method that creates these attributes. It should also have the following methods:\n",
    "• set_name\n",
    "This method assigns a value to the _ _name field.\n",
    "• set_animal_type\n",
    "This method assigns a value to the _ _animal_type field.\n",
    "• set_age\n",
    "This method assigns a value to the _ _age field.\n",
    "• get_name\n",
    "This method returns the value of the _ _ name field.\n",
    "• get_animal_type\n",
    "This method returns the value of the _ _animal_type field.\n",
    "• get_age\n",
    "This method returns the value of the _ _age field.\n",
    "\n",
    "Once you have written the class, write a program that creates an object of the class and prompts the user to enter the name, type, and age of his or her pet. This data should be stored as the object’s attributes. Use the object’s accessor methods to retrieve the pet’s name, type, and age and display this data on the screen."
   ]
  },
  {
   "cell_type": "code",
   "execution_count": null,
   "metadata": {},
   "outputs": [],
   "source": [
    "#pet class definition\n",
    "class Pet:\n",
    "    #objects in the pet class have 3 data attributes: name, age, and animal type\n",
    "    def __init__(self, name, animal_type, age):\n",
    "        self.__name = name\n",
    "        self.__animal_type = animal_type\n",
    "        self.__age = age\n",
    "    #mutator method, changes name\n",
    "    def set_name(self, name):\n",
    "        self.__name = name\n",
    "    #mutator method, changes animal type\n",
    "    def set_animal_type(self, animal_type):\n",
    "        self.__animal_type = animal_type\n",
    "    #mutator method, changes age\n",
    "    def set_age(self, age):\n",
    "        self.__age = age\n",
    "    #accesor method, returns name\n",
    "    def get_name(self):\n",
    "        return self.__name\n",
    "    #accessor method, returns animal type\n",
    "    def get_animal_type(self):\n",
    "        return self.__animal_type\n",
    "    #accessor method, returns age\n",
    "    def get_age(self):\n",
    "        return self.__age\n",
    "\n",
    "    "
   ]
  },
  {
   "cell_type": "code",
   "execution_count": 2,
   "metadata": {},
   "outputs": [
    {
     "name": "stdout",
     "output_type": "stream",
     "text": [
      "Chopstick\n"
     ]
    }
   ],
   "source": [
    "import pet\n",
    "#test whether the class is working as intended\n",
    "petTest = pet.Pet('Chopstick', 'dog', 6)\n",
    "print(petTest.get_name())"
   ]
  },
  {
   "cell_type": "code",
   "execution_count": 5,
   "metadata": {},
   "outputs": [
    {
     "name": "stdout",
     "output_type": "stream",
     "text": [
      "Your pet's name: Chopstick\n",
      "Your pet's age: 6\n",
      "Chopstick is a(n) dog.\n"
     ]
    }
   ],
   "source": [
    "#import pet module\n",
    "import pet\n",
    "\n",
    "#the main function takes a pet name, age, and animal type from the user, it then\n",
    "#creates a pet() object with those values passed through its init function. The\n",
    "#program then outputs the entered data to the user.\n",
    "def main():\n",
    "    #enter the pet name\n",
    "    petName = input('Enter the name of your pet: ')\n",
    "    #enter the animal type\n",
    "    petAnimal = input('What kind of animal is your pet? ')\n",
    "    #enter age\n",
    "    petAge = input('How old is your pet? ')\n",
    "    #create pet object using entered values for init\n",
    "    petOb = pet.Pet(petName, petAnimal, petAge)\n",
    "    #print your pet's name\n",
    "    print(f\"Your pet's name: {petOb.get_name()}\")\n",
    "    #print your pet's age\n",
    "    print(f\"Your pet's age: {petOb.get_age()}\")\n",
    "    #print your pet's animal type\n",
    "    print(f\"{petOb.get_name()} is a(n) {petOb.get_animal_type()}.\")\n",
    "\n",
    "#call main\n",
    "if __name__ == \"__main__\":\n",
    "    main()"
   ]
  },
  {
   "cell_type": "code",
   "execution_count": null,
   "metadata": {},
   "outputs": [],
   "source": []
  }
 ],
 "metadata": {
  "kernelspec": {
   "display_name": "Python 3",
   "language": "python",
   "name": "python3"
  },
  "language_info": {
   "codemirror_mode": {
    "name": "ipython",
    "version": 3
   },
   "file_extension": ".py",
   "mimetype": "text/x-python",
   "name": "python",
   "nbconvert_exporter": "python",
   "pygments_lexer": "ipython3",
   "version": "3.6.4"
  }
 },
 "nbformat": 4,
 "nbformat_minor": 2
}
