{
 "cells": [
  {
   "cell_type": "markdown",
   "metadata": {},
   "source": [
    "# 1. Pet Class\n",
    "Write a class named Pet, which should have the following data attributes:\n",
    "• _ _name (for the name of a pet)\n",
    "• _ _animal_type (for the type of animal that a pet is. Example values are ‘Dog’, ‘Cat’, \n",
    "and ‘Bird’)\n",
    "• _ _age (for the pet’s age)\n",
    "\n",
    "The Pet class should have an _ _init_ _ method that creates these attributes. It should also have the following methods:\n",
    "• set_name\n",
    "This method assigns a value to the _ _name field.\n",
    "• set_animal_type\n",
    "This method assigns a value to the _ _animal_type field.\n",
    "• set_age\n",
    "This method assigns a value to the _ _age field.\n",
    "• get_name\n",
    "This method returns the value of the _ _ name field.\n",
    "• get_animal_type\n",
    "This method returns the value of the _ _animal_type field.\n",
    "• get_age\n",
    "This method returns the value of the _ _age field.\n",
    "\n",
    "Once you have written the class, write a program that creates an object of the class and prompts the user to enter the name, type, and age of his or her pet. This data should be stored as the object’s attributes. Use the object’s accessor methods to retrieve the pet’s name, type, and age and display this data on the screen."
   ]
  },
  {
   "cell_type": "code",
   "execution_count": null,
   "metadata": {},
   "outputs": [],
   "source": [
    "#The Pet class with create a pet object with the appropriate attributes and methods\n",
    "\n",
    "class Pet:\n",
    "    #initialize Pet object\n",
    "    #objects in the pet class have 3 data attributes: name, age, and animal type\n",
    "    def __init__(self, name, animal_type, age):\n",
    "        self.__name = name\n",
    "        self.__animal_type = animal_type\n",
    "        self.__age = age\n",
    "    #mutator method, changes name\n",
    "    def set_name(self, name):\n",
    "        self.__name = name\n",
    "    #mutator method, changes animal type\n",
    "    def set_animal_type(self, animal_type):\n",
    "        self.__animal_type = animal_type\n",
    "    #mutator method, changes age\n",
    "    def set_age(self, age):\n",
    "        self.__age = age\n",
    "    #accesor method, returns name\n",
    "    def get_name(self):\n",
    "        return self.__name\n",
    "    #accessor method, returns animal type\n",
    "    def get_animal_type(self):\n",
    "        return self.__animal_type\n",
    "    #accessor method, returns age\n",
    "    def get_age(self):\n",
    "        return self.__age\n",
    "\n",
    "    "
   ]
  },
  {
   "cell_type": "code",
   "execution_count": 2,
   "metadata": {},
   "outputs": [
    {
     "name": "stdout",
     "output_type": "stream",
     "text": [
      "Chopstick\n"
     ]
    }
   ],
   "source": [
    "import pet\n",
    "#test whether the class is working as intended\n",
    "petTest = pet.Pet('Chopstick', 'dog', 6)\n",
    "print(petTest.get_name())"
   ]
  },
  {
   "cell_type": "code",
   "execution_count": 2,
   "metadata": {},
   "outputs": [
    {
     "name": "stdout",
     "output_type": "stream",
     "text": [
      "Your pet's name: Chopstick\n",
      "Your pet's age: 6\n",
      "Chopstick is a(n) dog.\n"
     ]
    }
   ],
   "source": [
    "#import pet module\n",
    "import pet\n",
    "\n",
    "#the main function takes a pet name, age, and animal type from the user, it then\n",
    "#creates a pet() object with those values passed through its init function. The\n",
    "#program then outputs the entered data to the user.\n",
    "def main():\n",
    "    #enter the pet name\n",
    "    petName = input('Enter the name of your pet: ')\n",
    "    #enter the animal type\n",
    "    petAnimal = input('What kind of animal is your pet? ')\n",
    "    #enter age\n",
    "    petAge = input('How old is your pet? ')\n",
    "    #create pet object using entered values for init\n",
    "    petOb = pet.Pet(petName, petAnimal, petAge)\n",
    "    #print your pet's name\n",
    "    print(f\"Your pet's name: {petOb.get_name()}\")\n",
    "    #print your pet's age\n",
    "    print(f\"Your pet's age: {petOb.get_age()}\")\n",
    "    #print your pet's animal type\n",
    "    print(f\"{petOb.get_name()} is a(n) {petOb.get_animal_type()}.\")\n",
    "\n",
    "#call main\n",
    "if __name__ == \"__main__\":\n",
    "    main()"
   ]
  },
  {
   "cell_type": "markdown",
   "metadata": {},
   "source": [
    "# 7. Employee Management System\n",
    "This exercise assumes you have created the Employee class for Programming Exercise 4. Create a program that stores Employee objects in a dictionary. Use the employee ID number as the key. The program should present a menu that lets the user perform the following \n",
    "actions:\n",
    "\n",
    "• Look up an employee in the dictionary\n",
    "• Add a new employee to the dictionary\n",
    "• Change an existing employee’s name, department, and job title in the dictionary\n",
    "• Delete an employee from the dictionary\n",
    "• Quit the program\n",
    "\n",
    "When the program ends, it should pickle the dictionary and save it to a file. Each time the program starts, it should try to load the pickled dictionary from the file. If the file does not exist, the program should start with an empty dictionary."
   ]
  },
  {
   "cell_type": "code",
   "execution_count": 3,
   "metadata": {},
   "outputs": [
    {
     "name": "stdout",
     "output_type": "stream",
     "text": [
      "Menu Options:\n",
      "1: Look up an employee\n",
      "2: Add an employee\n",
      "3: Change employee information\n",
      "4: Delete an employee\n",
      "5: Quit\n",
      "\n",
      "Results for your search: \n",
      "Joy Rogers, 81774, Manufacturing, Engineer\n",
      "\n",
      "Menu Options:\n",
      "1: Look up an employee\n",
      "2: Add an employee\n",
      "3: Change employee information\n",
      "4: Delete an employee\n",
      "5: Quit\n",
      "\n",
      "You added a new employee: \n",
      "Severus Snape, 37865, Hogwarts, Potion Teacher\n",
      "\n",
      "Menu Options:\n",
      "1: Look up an employee\n",
      "2: Add an employee\n",
      "3: Change employee information\n",
      "4: Delete an employee\n",
      "5: Quit\n",
      "\n",
      "You added a new employee: \n",
      "Julius Cesar, 68913, Roman, Dictator\n",
      "\n",
      "Menu Options:\n",
      "1: Look up an employee\n",
      "2: Add an employee\n",
      "3: Change employee information\n",
      "4: Delete an employee\n",
      "5: Quit\n",
      "\n",
      "You deleted employee: \n",
      "Julius Cesar, 68913, Roman, Dictator\n",
      "\n",
      "Menu Options:\n",
      "1: Look up an employee\n",
      "2: Add an employee\n",
      "3: Change employee information\n",
      "4: Delete an employee\n",
      "5: Quit\n",
      "\n"
     ]
    }
   ],
   "source": [
    "#import custom module\n",
    "import employee\n",
    "#import pickle for handling binary files\n",
    "import pickle\n",
    "#global constants for buttons\n",
    "LOOK_UP = 1\n",
    "ADD = 2\n",
    "CHANGE = 3\n",
    "DELETE = 4\n",
    "QUIT = 5\n",
    "#constant for filename\n",
    "FILE = 'employeeDir.dat'\n",
    "# this main function provides a menu of options a user can use to read and modify a \n",
    "#dictionary containing employee objects\n",
    "def main():\n",
    "    #load the dictionary\n",
    "    empDic = employee.loadEmpDic(FILE)\n",
    "    #initialize menu choice\n",
    "    menuChoice = 0 \n",
    "    #while the user is not picking quit\n",
    "    while menuChoice != QUIT:\n",
    "       #menu choice is chosen via getMenuChoice function\n",
    "       menuChoice = employee.getMenuChoice()\n",
    "       # if user chooses LOOK_UP\n",
    "       if menuChoice == LOOK_UP:\n",
    "           #assign the result of the lookUp function to searchReturn variable\n",
    "           searchReturn = employee.lookUp(empDic)\n",
    "           # if lookUp returns failure message\n",
    "           if searchReturn == 'fail':\n",
    "               #prompt user for another choice from menu\n",
    "               print('Please make another choice')\n",
    "               print()\n",
    "            #if search is succesful\n",
    "           else:\n",
    "               #print statement with context\n",
    "               print('Results for your search: ')\n",
    "               #print current status of searchReturn\n",
    "               employee.printCurrent(searchReturn)\n",
    "               print()\n",
    "\n",
    "        #if user chooses ADD\n",
    "       elif menuChoice == ADD:\n",
    "           #run addEmp function, assign returned object to newEm\n",
    "           newEm = employee.addEmp(empDic)\n",
    "           #print context\n",
    "           print('You added a new employee: ')\n",
    "           #print state of newEm\n",
    "           employee.printCurrent(newEm)\n",
    "           print()\n",
    "        # if user selects CHANGE \n",
    "       elif menuChoice == CHANGE:\n",
    "           # run changeEmp function, assign returned object (or fail state) to \n",
    "           #chEm\n",
    "           chEm = employee.changeEmp(empDic)\n",
    "           #if failure state is 'no result'\n",
    "           if chEm is None:\n",
    "               \n",
    "               print('Make another choice')\n",
    "               print()\n",
    "            # if dictionary updated successfully\n",
    "           else:\n",
    "               #print context\n",
    "               print(\"Updated employee information: \")\n",
    "               #printCurrent information for chEm\n",
    "               employee.printCurrent(chEm)\n",
    "               print()\n",
    "        #if user selects DELETE\n",
    "       elif menuChoice == DELETE:\n",
    "           #run deleteEmp function, return deleted object and assign to delOB\n",
    "           delOB = employee.deleteEmp(empDic)\n",
    "           #if there is no employee\n",
    "           if delOB == None:\n",
    "               #file not found for deleting, select another option\n",
    "               print('No employee found, make another choice ')\n",
    "               print()\n",
    "            #if employee can be deleted\n",
    "           else:\n",
    "               #context\n",
    "               print('You deleted employee: ')\n",
    "               #printCurrent informatino for delOB\n",
    "               employee.printCurrent(delOB)\n",
    "               print()\n",
    "                \n",
    "           \n",
    "\n",
    "    #save on exit, FILE passed manually becuase saveDic refused to connect to it\n",
    "    employee.saveDic(empDic, FILE)\n",
    "\n",
    "#call main\n",
    "if __name__ == \"__main__\":\n",
    "    main()\n",
    "\n",
    "    \n"
   ]
  },
  {
   "cell_type": "code",
   "execution_count": 4,
   "metadata": {},
   "outputs": [],
   "source": [
    "#saveDic function saves the contents of the empDic to the binary file\n",
    "def saveDic(empDic, FILE):\n",
    "    #open the file, write mode so new file supercedes old\n",
    "    with open(FILE, 'wb') as savFile:\n",
    "        #pickle dictionary, save to file\n",
    "        pickle.dump(empDic, savFile)\n",
    "\n",
    "saveDic({12345: employee.Employee('Susan Meyers', 47899, 'Accounting', 'Vice President')})\n",
    "\n"
   ]
  },
  {
   "cell_type": "code",
   "execution_count": 16,
   "metadata": {},
   "outputs": [
    {
     "name": "stdout",
     "output_type": "stream",
     "text": [
      "Susan Meyers, 47899, Accounting, Vice President\n"
     ]
    }
   ],
   "source": [
    "#the deleteEmp function will pop the employee object out of the dictionary by the \n",
    "#key the user enters\n",
    "def deleteEmp(empDic):\n",
    "    #input the key of the value to delete\n",
    "    delKey = int(input('Enter the ID of the employee to delete: '))\n",
    "    #while the key provided is not in the dictionary\n",
    "    while delKey not in empDic:\n",
    "        #if there are no items in the dictionary\n",
    "        if len(empDic) == 0:\n",
    "            #return 'no result'\n",
    "            return None\n",
    "            #break loop\n",
    "            break\n",
    "        else:\n",
    "            #prompt for a valid key to delete\n",
    "            delKey = int(input('Employee ID must exist, try again: '))\n",
    "    #pop object from dictionary by key, assign to variable\n",
    "    popOB = empDic.pop(delKey)\n",
    "    #return object that was removed\n",
    "    return popOB\n",
    "\n",
    "\n",
    "\n",
    "    "
   ]
  },
  {
   "cell_type": "code",
   "execution_count": 14,
   "metadata": {},
   "outputs": [
    {
     "data": {
      "text/plain": [
       "'no result'"
      ]
     },
     "execution_count": 14,
     "metadata": {},
     "output_type": "execute_result"
    }
   ],
   "source": [
    "\n",
    "#changeEmp is a function that allows the user to replace the name, department, and\n",
    "#job_title values in a selected employee onject\n",
    "def changeEmp(empDic):\n",
    "    #enter the key for the employee to modify\n",
    "    chKey = int(input('Enter the ID of the employee you want to modify: '))\n",
    "    #while the entered key is not in the dictionary\n",
    "    while chKey not in empDic:\n",
    "        # if there is nothing in the dictionary\n",
    "        if len(empDic) == 0:\n",
    "            #return 'no result'\n",
    "            return None\n",
    "            #break out of loop\n",
    "            break\n",
    "        #else the search term is not one of the present values\n",
    "        else:\n",
    "            #does user want to search again?\n",
    "            contVar = input('Employee not found, search again (y/n)?').lower()\n",
    "            #if user wants to continue\n",
    "            if contVar == 'y':\n",
    "                #enter a valid id\n",
    "                chKey = int(input('Enter employee ID: '))\n",
    "            #if user did not choose to continue\n",
    "            else:\n",
    "                #return 'abort'\n",
    "                return None\n",
    "                #break loop\n",
    "                break\n",
    "    #assign object at chKey to emOB            \n",
    "    emOB = empDic[chKey]\n",
    "    #context\n",
    "    print('Current employee information: ')\n",
    "    #print current state of emOB\n",
    "    printCurrent(emOB)\n",
    "    print()\n",
    "    #do you want to change the name?\n",
    "    nVar = input(\"Change the employee's name (y/n)?\").lower()\n",
    "    #if nVar is yes\n",
    "    if nVar == 'y':\n",
    "        #enter new name\n",
    "        nName = input('Enter new name: ')\n",
    "        #call set_name method for emOB\n",
    "        emOB.set_name(nName)\n",
    "    #do you want to change department, works like above\n",
    "    dVar = input(\"Change the employee's department (y/n)?\").lower()\n",
    "    if dVar == 'y':\n",
    "        nDep = input('Enter the new department: ')\n",
    "        #uses set_department method\n",
    "        emOB.set_department(nDep)\n",
    "    #do you want to change job_title, works like above\n",
    "    tVar = input(\"Change the employee's job title (y/n)?\").lower()\n",
    "    if tVar == 'y':\n",
    "        nTit = input('Enter the new job title: ')\n",
    "        #uses set_job_title method\n",
    "        emOB.set_job_title(nTit)\n",
    "    # return employee object\n",
    "    return emOB\n",
    "\n",
    "\n",
    "\n",
    "\n"
   ]
  },
  {
   "cell_type": "code",
   "execution_count": 22,
   "metadata": {},
   "outputs": [
    {
     "data": {
      "text/plain": [
       "('harry potter', 45637, 'ministry of magic', 'magic user')"
      ]
     },
     "execution_count": 22,
     "metadata": {},
     "output_type": "execute_result"
    }
   ],
   "source": [
    "#addEmp function allows user to add an employee to the dictionary\n",
    "def addEmp(empDic):\n",
    "    #enter the name of the employee\n",
    "    empName = input(\"Enter the employee's name:\")\n",
    "    #enter the employee id\n",
    "    empNum = input('Enter a unique 5 digit employee ID: ')\n",
    "    #need id as both a string and an integer for validation\n",
    "    empInt = int(empNum)\n",
    "    #while there are not 5 digits or if empInt in the dictionary already\n",
    "    while len(empNum) != 5 or empInt in empDic:\n",
    "        #if both issues present\n",
    "        if len(empNum) != 5 and empInt in empDic:\n",
    "            #ask for a valid id, with information about what is wrong\n",
    "            empNum = input('ID number must be both 5 digits and unique, try again: ')\n",
    "            #new value for empInt\n",
    "            empInt = int(empNum)\n",
    "        # if id not unique\n",
    "        elif empNum in empDic:\n",
    "            #ask for a valid id, with information about what is wrong\n",
    "            empNum = input('ID must be unique, try again: ')\n",
    "            #new value for empInt\n",
    "            empInt = int(empNum)\n",
    "        #other failure mode, not 5 digits\n",
    "        else:\n",
    "            #ask for a valid id, with information about what is wrong\n",
    "            empNum = input('ID must be 5 digits, try again: ')\n",
    "            #new value for empInt\n",
    "            empInt = int(empNum)\n",
    "    #enter the department employee works in\n",
    "    empDepartment = input('Enter the department the employee works in: ')\n",
    "    #enter employee job title\n",
    "    empTitle = input(\"Enter the employee's job title: \")\n",
    "    #create new employee from class\n",
    "    newEmp = employee.Employee(empName, empInt, empDepartment, empTitle)\n",
    "    #add employee to dictionary with empInt as the key\n",
    "    empDic[empInt] = newEmp\n",
    "    #return current employee object\n",
    "    return newEmp\n",
    "\n",
    "addEmp({})\n"
   ]
  },
  {
   "cell_type": "code",
   "execution_count": 4,
   "metadata": {},
   "outputs": [
    {
     "data": {
      "text/plain": [
       "'fail'"
      ]
     },
     "execution_count": 4,
     "metadata": {},
     "output_type": "execute_result"
    }
   ],
   "source": [
    "#lookup function allows the user to look at an employee's information based\n",
    "#on an entered id number\n",
    "def lookUp(empDic):\n",
    "\n",
    "    #enter a key value to search in the dictionary\n",
    "    searchKey = int(input('Enter the ID number of the employee to look up: '))\n",
    "    #try searching for key in dictionary\n",
    "    try:\n",
    "        #validation loop for searchKey\n",
    "        while searchKey not in empDic:\n",
    "            #if no items in dictionary\n",
    "            if len(empDic) == 0:\n",
    "                #break loop\n",
    "                break\n",
    "            #try to lookup a different id\n",
    "            contVar = input('Invalid input, would you like to try again(y/n): ').lower()\n",
    "            #if user wants to continue\n",
    "            if contVar == 'y':\n",
    "                #take new search key\n",
    "                searchKey = int(input('Enter a valid ID: '))\n",
    "            #else break loop\n",
    "            else:\n",
    "                break\n",
    "        #assign object in dictionary at searchKey to empOB variable\n",
    "        empOB = empDic[searchKey]\n",
    "        # return employee object\n",
    "        return empOB\n",
    "    #if the key is not in the dictionary, or some other failure occurs\n",
    "    except:\n",
    "        # return state 'fail'\n",
    "        return 'fail'\n",
    "        \n",
    "        \n",
    "    \n",
    "lookUp({})\n"
   ]
  },
  {
   "cell_type": "code",
   "execution_count": 7,
   "metadata": {},
   "outputs": [
    {
     "name": "stdout",
     "output_type": "stream",
     "text": [
      "Menu Options:\n",
      "1: Look up an employee\n",
      "2: Add an employee\n",
      "3: Change employee information\n",
      "4: Delete an employee\n",
      "5: Quit\n"
     ]
    },
    {
     "data": {
      "text/plain": [
       "5"
      ]
     },
     "execution_count": 7,
     "metadata": {},
     "output_type": "execute_result"
    }
   ],
   "source": [
    "\n",
    "#getMenuChoice() promts user for a choice from the menu and returns that choice\n",
    "def getMenuChoice():\n",
    "    #print the menu options\n",
    "    print('Menu Options:')\n",
    "    print('1: Look up an employee')\n",
    "    print('2: Add an employee')\n",
    "    print('3: Change employee information')\n",
    "    print('4: Delete an employee')\n",
    "    print('5: Quit')\n",
    "    print()\n",
    "    #enter the number of the choice you want to make\n",
    "    menuChoice = int(input('What do you want to do?  '))\n",
    "    #while the menuChoice is outside the range of valid options\n",
    "    while menuChoice < 1 or menuChoice > 5:\n",
    "        #make a different choice\n",
    "        menuChoice = int(input('Enter one of the choices:  '))\n",
    "    #return menu button choice\n",
    "    return menuChoice\n",
    "\n",
    "getMenuChoice()\n",
    "    "
   ]
  },
  {
   "cell_type": "code",
   "execution_count": 5,
   "metadata": {},
   "outputs": [
    {
     "data": {
      "text/plain": [
       "{1, 2}"
      ]
     },
     "execution_count": 5,
     "metadata": {},
     "output_type": "execute_result"
    }
   ],
   "source": [
    "#loadEmpDic() is a function that loads a current dictionary if one is present,\n",
    "#or outputs an empty dictionary if the file does not exist yet\n",
    "def loadEmpDic(FILE):\n",
    "    #try to open the file in read binary mode\n",
    "    try:\n",
    "        with open(FILE, 'rb') as empFile:\n",
    "            #unpickle dictionary and assign to empOut\n",
    "            empOut = pickle.load(empFile)\n",
    "    #if file fails to open\n",
    "    except:\n",
    "        #empOut is an empty dictionary\n",
    "        empOut = {}\n",
    "    #return empOut\n",
    "    return empOut\n",
    "\n",
    "\n"
   ]
  },
  {
   "cell_type": "code",
   "execution_count": 6,
   "metadata": {},
   "outputs": [],
   "source": [
    "#The employee class is used to make employee objects for the dictionary. It has \n",
    "#methods to return data, modify data, and return current state.\n",
    "class Employee:\n",
    "    #initialize data attributes: name, id_number, department, job_title\n",
    "    def __init__(self, name, id_number, department, job_title):\n",
    "        self.__name = name\n",
    "        self.__id_number = id_number\n",
    "        self.__department = department\n",
    "        self.__job_title = job_title\n",
    "    #set_name function allows user to change name\n",
    "    def set_name(self, name):\n",
    "        self.__name = name\n",
    "    #allows user to change department\n",
    "    def set_department(self, department):\n",
    "        self.__department = department\n",
    "    #allows user to change job_title\n",
    "    def set_job_title(self, job_title):\n",
    "        self.__job_title = job_title\n",
    "    #returns value of __name\n",
    "    def get_name(self):\n",
    "        return self.__name\n",
    "    #returns value of __id_number\n",
    "    def get_id_number(self):\n",
    "        return self.__id_number\n",
    "    #returns value of __department\n",
    "    def get_department(self):\n",
    "        return self.__department\n",
    "    #returns value of __job_title\n",
    "    def get_job_title(self):\n",
    "        return self.__job_title\n",
    "    #returns states of object data\n",
    "    def __str__(self):\n",
    "        return f'{self.__name}, {self.__id_number}, {self.__department}, {self.__job_title}'\n",
    "    \n"
   ]
  },
  {
   "cell_type": "code",
   "execution_count": 1,
   "metadata": {},
   "outputs": [
    {
     "data": {
      "text/plain": [
       "'Susan Meyers, 47899, Accounting, Vice President'"
      ]
     },
     "execution_count": 1,
     "metadata": {},
     "output_type": "execute_result"
    }
   ],
   "source": [
    "import employee\n",
    "\n",
    "empTest.__str__()empTest = employee.Employee('Susan Meyers', 47899, 'Accounting', 'Vice President')\n",
    "\n"
   ]
  },
  {
   "cell_type": "code",
   "execution_count": 5,
   "metadata": {},
   "outputs": [],
   "source": [
    "#printCurrent prints the data associated with referenced object\n",
    "def printCurrent(curOB):\n",
    "    #uses __str__ method for curOB\n",
    "    print(curOB.__str__())\n",
    "\n"
   ]
  },
  {
   "cell_type": "code",
   "execution_count": null,
   "metadata": {},
   "outputs": [],
   "source": []
  }
 ],
 "metadata": {
  "kernelspec": {
   "display_name": "Python 3",
   "language": "python",
   "name": "python3"
  },
  "language_info": {
   "codemirror_mode": {
    "name": "ipython",
    "version": 3
   },
   "file_extension": ".py",
   "mimetype": "text/x-python",
   "name": "python",
   "nbconvert_exporter": "python",
   "pygments_lexer": "ipython3",
   "version": "3.6.4"
  }
 },
 "nbformat": 4,
 "nbformat_minor": 2
}
