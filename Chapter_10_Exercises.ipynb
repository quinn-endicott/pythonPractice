{
 "cells": [
  {
   "cell_type": "markdown",
   "metadata": {},
   "source": [
    "# 1. Pet Class\n",
    "Write a class named Pet, which should have the following data attributes:\n",
    "• _ _name (for the name of a pet)\n",
    "• _ _animal_type (for the type of animal that a pet is. Example values are ‘Dog’, ‘Cat’, \n",
    "and ‘Bird’)\n",
    "• _ _age (for the pet’s age)\n",
    "\n",
    "The Pet class should have an _ _init_ _ method that creates these attributes. It should also have the following methods:\n",
    "• set_name\n",
    "This method assigns a value to the _ _name field.\n",
    "• set_animal_type\n",
    "This method assigns a value to the _ _animal_type field.\n",
    "• set_age\n",
    "This method assigns a value to the _ _age field.\n",
    "• get_name\n",
    "This method returns the value of the _ _ name field.\n",
    "• get_animal_type\n",
    "This method returns the value of the _ _animal_type field.\n",
    "• get_age\n",
    "This method returns the value of the _ _age field.\n",
    "\n",
    "Once you have written the class, write a program that creates an object of the class and prompts the user to enter the name, type, and age of his or her pet. This data should be stored as the object’s attributes. Use the object’s accessor methods to retrieve the pet’s name, type, and age and display this data on the screen."
   ]
  },
  {
   "cell_type": "code",
   "execution_count": null,
   "metadata": {},
   "outputs": [],
   "source": [
    "#pet class definition\n",
    "class Pet:\n",
    "    #objects in the pet class have 3 data attributes: name, age, and animal type\n",
    "    def __init__(self, name, animal_type, age):\n",
    "        self.__name = name\n",
    "        self.__animal_type = animal_type\n",
    "        self.__age = age\n",
    "    #mutator method, changes name\n",
    "    def set_name(self, name):\n",
    "        self.__name = name\n",
    "    #mutator method, changes animal type\n",
    "    def set_animal_type(self, animal_type):\n",
    "        self.__animal_type = animal_type\n",
    "    #mutator method, changes age\n",
    "    def set_age(self, age):\n",
    "        self.__age = age\n",
    "    #accesor method, returns name\n",
    "    def get_name(self):\n",
    "        return self.__name\n",
    "    #accessor method, returns animal type\n",
    "    def get_animal_type(self):\n",
    "        return self.__animal_type\n",
    "    #accessor method, returns age\n",
    "    def get_age(self):\n",
    "        return self.__age\n",
    "\n",
    "    "
   ]
  },
  {
   "cell_type": "code",
   "execution_count": 2,
   "metadata": {},
   "outputs": [
    {
     "name": "stdout",
     "output_type": "stream",
     "text": [
      "Chopstick\n"
     ]
    }
   ],
   "source": [
    "import pet\n",
    "#test whether the class is working as intended\n",
    "petTest = pet.Pet('Chopstick', 'dog', 6)\n",
    "print(petTest.get_name())"
   ]
  },
  {
   "cell_type": "code",
   "execution_count": 5,
   "metadata": {},
   "outputs": [
    {
     "name": "stdout",
     "output_type": "stream",
     "text": [
      "Your pet's name: Chopstick\n",
      "Your pet's age: 6\n",
      "Chopstick is a(n) dog.\n"
     ]
    }
   ],
   "source": [
    "#import pet module\n",
    "import pet\n",
    "\n",
    "#the main function takes a pet name, age, and animal type from the user, it then\n",
    "#creates a pet() object with those values passed through its init function. The\n",
    "#program then outputs the entered data to the user.\n",
    "def main():\n",
    "    #enter the pet name\n",
    "    petName = input('Enter the name of your pet: ')\n",
    "    #enter the animal type\n",
    "    petAnimal = input('What kind of animal is your pet? ')\n",
    "    #enter age\n",
    "    petAge = input('How old is your pet? ')\n",
    "    #create pet object using entered values for init\n",
    "    petOb = pet.Pet(petName, petAnimal, petAge)\n",
    "    #print your pet's name\n",
    "    print(f\"Your pet's name: {petOb.get_name()}\")\n",
    "    #print your pet's age\n",
    "    print(f\"Your pet's age: {petOb.get_age()}\")\n",
    "    #print your pet's animal type\n",
    "    print(f\"{petOb.get_name()} is a(n) {petOb.get_animal_type()}.\")\n",
    "\n",
    "#call main\n",
    "if __name__ == \"__main__\":\n",
    "    main()"
   ]
  },
  {
   "cell_type": "markdown",
   "metadata": {},
   "source": [
    "# 7. Employee Management System\n",
    "This exercise assumes you have created the Employee class for Programming Exercise 4. Create a program that stores Employee objects in a dictionary. Use the employee ID number as the key. The program should present a menu that lets the user perform the following \n",
    "actions:\n",
    "\n",
    "• Look up an employee in the dictionary\n",
    "• Add a new employee to the dictionary\n",
    "• Change an existing employee’s name, department, and job title in the dictionary\n",
    "• Delete an employee from the dictionary\n",
    "• Quit the program\n",
    "\n",
    "When the program ends, it should pickle the dictionary and save it to a file. Each time the program starts, it should try to load the pickled dictionary from the file. If the file does not exist, the program should start with an empty dictionary."
   ]
  },
  {
   "cell_type": "code",
   "execution_count": null,
   "metadata": {},
   "outputs": [],
   "source": [
    "import employee\n",
    "import pickle\n",
    "#buttons\n",
    "LOOK_UP = 1\n",
    "ADD = 2\n",
    "CHANGE = 3\n",
    "DELETE = 4\n",
    "QUIT = 5\n",
    "\n",
    "FILE = 'employeeDir.dat'\n",
    "\n",
    "def main():\n",
    "    #load the dictionary\n",
    "    empDic = employee.loadEmpDic(FILE)\n",
    "    menuChoice = 0 \n",
    "    while menuChoice != QUIT:\n",
    "       menuChoice = employee.getMenuChoice()\n",
    "       if menuChoice == LOOK_UP:\n",
    "           searchReturn = employee.lookUp(empDic)\n",
    "           print('Results for your search: ')\n",
    "           employee.printCurrent(searchReturn)\n",
    "\n",
    "       elif menuChoice == ADD:\n",
    "           newEm = employee.addEmp(empDic)\n",
    "           print('You added a new employee: ')\n",
    "           employee.printCurrent(newEm)\n",
    "           \n",
    "       elif menuChoice == CHANGE:\n",
    "           state, chEm = employee.changeEmp(empDic)\n",
    "           if state == 'no result':\n",
    "               print('No employee on file. ')\n",
    "               print(\"Updated employee information: \")\n",
    "               employee.printCurrent(chEm)\n",
    "\n",
    "       elif menuChoice == DELETE:\n",
    "           pass\n",
    "       else:\n",
    "           pass\n",
    "\n",
    "    \n"
   ]
  },
  {
   "cell_type": "code",
   "execution_count": 16,
   "metadata": {},
   "outputs": [
    {
     "name": "stdout",
     "output_type": "stream",
     "text": [
      "Susan Meyers, 47899, Accounting, Vice President\n"
     ]
    }
   ],
   "source": [
    "def deleteEmp(empDic):\n",
    "    delKey = int(input('Enter the ID of the employee to delete: '))\n",
    "    while delKey not in empDic:\n",
    "        if len(empDic) == 0:\n",
    "            return 'no result'\n",
    "            break\n",
    "        else:\n",
    "            delKey = int(input('Employee ID must exist, try again: '))\n",
    "    popOB = empDic.pop(delKey)\n",
    "    return popOB\n",
    "\n",
    "\n",
    "\n",
    "    "
   ]
  },
  {
   "cell_type": "code",
   "execution_count": 14,
   "metadata": {},
   "outputs": [
    {
     "data": {
      "text/plain": [
       "'no result'"
      ]
     },
     "execution_count": 14,
     "metadata": {},
     "output_type": "execute_result"
    }
   ],
   "source": [
    "\n",
    "def changeEmp(empDic):\n",
    "    chKey = int(input('Enter the ID of the employee you want to modify: '))\n",
    "    while chKey not in empDic:\n",
    "        if len(empDic) == 0:\n",
    "            return 'no result'\n",
    "            break\n",
    "        else:\n",
    "            chKey = int(input('Employee ID must exist, try again: '))\n",
    "    emOB = empDic[chKey]\n",
    "    print('Current employee information: ')\n",
    "    printCurrent(emOB)\n",
    "    nVar = input(\"Change the employee's name (y/n)?\").lower()\n",
    "    if nVar == 'y':\n",
    "        nName = input('Enter new name: ')\n",
    "        emOB.set_name(nName)\n",
    "    dVar = input(\"Change the employee's department (y/n)?\").lower()\n",
    "    if dVar == 'y':\n",
    "        nDep = input('Enter the new department: ')\n",
    "        emOB.set_department(nDep)\n",
    "    tVar = input(\"Change the employee's job title (y/n)?\").lower()\n",
    "    if tVar == 'y':\n",
    "        nTit = input('Enter the new job title: ')\n",
    "        emOB.set_department(nTit)\n",
    "    \n",
    "    return 'result', emOB\n",
    "\n",
    "\n",
    "\n",
    "\n"
   ]
  },
  {
   "cell_type": "code",
   "execution_count": 22,
   "metadata": {},
   "outputs": [
    {
     "data": {
      "text/plain": [
       "('harry potter', 45637, 'ministry of magic', 'magic user')"
      ]
     },
     "execution_count": 22,
     "metadata": {},
     "output_type": "execute_result"
    }
   ],
   "source": [
    "def addEmp(empDic):\n",
    "    empName = input(\"Enter the employee's name:\")\n",
    "    empNum = input('Enter a unique 5 digit employee ID: ')\n",
    "    empInt = int(empNum)\n",
    "    while len(empNum) != 5 or empInt in empDic:\n",
    "        if len(empNum) != 5 and empInt in empDic:\n",
    "            empNum = input('ID number must be both 5 digits and unique, try again: ')\n",
    "            empInt = int(empNum)\n",
    "        elif empNum in empDic:\n",
    "            empNum = input('ID must be unique, try again: ')\n",
    "            empInt = int(empNum)\n",
    "        else:\n",
    "            empNum = input('ID must be 5 digits, try again: ')\n",
    "            empInt = int(empNum)\n",
    "    empDepartment = input('Enter the department the employee works in: ')\n",
    "    empTitle = input(\"Enter the employee's job title: \")\n",
    "    newEmp = employee.Employee(empName, empInt, empDepartment, empTitle)\n",
    "    empDic[empInt] = newEmp\n",
    "    return newEmp\n",
    "\n",
    "addEmp({})\n"
   ]
  },
  {
   "cell_type": "code",
   "execution_count": 17,
   "metadata": {},
   "outputs": [
    {
     "data": {
      "text/plain": [
       "'fail'"
      ]
     },
     "execution_count": 17,
     "metadata": {},
     "output_type": "execute_result"
    }
   ],
   "source": [
    "def lookUp(empDic):\n",
    "    contVar = 'y'\n",
    "    searchKey = int(input('Enter the ID number of the employee to look up: '))\n",
    "    try:\n",
    "        while searchKey not in empDic:\n",
    "            if len(empDic) == 0:\n",
    "                break\n",
    "            contVar = input('Would you like to try again(y/n): ').lower()\n",
    "            if contVar == 'y':\n",
    "                searchKey = int(input('Enter a valid ID: '))\n",
    "            else:\n",
    "                break\n",
    "        \n",
    "        empOB = empDic[searchKey]\n",
    "        return empOB\n",
    "    except:\n",
    "        if contVar != 'y':\n",
    "            return 'abort'\n",
    "        else:\n",
    "            return 'fail'\n",
    "        \n",
    "        \n",
    "    \n",
    "lookUp({})\n"
   ]
  },
  {
   "cell_type": "code",
   "execution_count": 7,
   "metadata": {},
   "outputs": [
    {
     "name": "stdout",
     "output_type": "stream",
     "text": [
      "Menu Options:\n",
      "1: Look up an employee\n",
      "2: Add an employee\n",
      "3: Change employee information\n",
      "4: Delete an employee\n",
      "5: Quit\n"
     ]
    },
    {
     "data": {
      "text/plain": [
       "5"
      ]
     },
     "execution_count": 7,
     "metadata": {},
     "output_type": "execute_result"
    }
   ],
   "source": [
    "\n",
    "def getMenuChoice():\n",
    "    print('Menu Options:')\n",
    "    print('1: Look up an employee')\n",
    "    print('2: Add an employee')\n",
    "    print('3: Change employee information')\n",
    "    print('4: Delete an employee')\n",
    "    print('5: Quit')\n",
    "    menuChoice = int(input('What do you want to do?  '))\n",
    "\n",
    "    while menuChoice < 1 or menuChoice > 5:\n",
    "        menuChoice = int(input('Enter one of the choices:  '))\n",
    "\n",
    "    return menuChoice\n",
    "\n",
    "getMenuChoice()\n",
    "    "
   ]
  },
  {
   "cell_type": "code",
   "execution_count": 5,
   "metadata": {},
   "outputs": [
    {
     "data": {
      "text/plain": [
       "{1, 2}"
      ]
     },
     "execution_count": 5,
     "metadata": {},
     "output_type": "execute_result"
    }
   ],
   "source": [
    "def loadEmpDic(FILE):\n",
    "    try:\n",
    "        with open(FILE, 'rb') as empFile:\n",
    "            empOut = pickle.load(empFile)\n",
    "    except:\n",
    "        empOut = {}\n",
    "    return empOut\n",
    "\n",
    "\n"
   ]
  },
  {
   "cell_type": "code",
   "execution_count": 6,
   "metadata": {},
   "outputs": [],
   "source": [
    "class Employee:\n",
    "    def __init__(self, name, id_number, department, job_title):\n",
    "        self.__name = name\n",
    "        self.__id_number = id_number\n",
    "        self.__department = department\n",
    "        self.__job_title = job_title\n",
    "    def set_name(self, name):\n",
    "        self.__name = name\n",
    "    def set_department(self, department):\n",
    "        self.__department = department\n",
    "    def set_job_title(self, job_title):\n",
    "        self.__job_title = job_title\n",
    "    def get_name(self):\n",
    "        return self.__name\n",
    "    def get_id_number(self):\n",
    "        return self.__id_number\n",
    "    def get_department(self):\n",
    "        return self.__department\n",
    "    def get_job_title(self):\n",
    "        return self.__job_title\n",
    "    \n"
   ]
  },
  {
   "cell_type": "code",
   "execution_count": 1,
   "metadata": {},
   "outputs": [
    {
     "data": {
      "text/plain": [
       "'Susan Meyers, 47899, Accounting, Vice President'"
      ]
     },
     "execution_count": 1,
     "metadata": {},
     "output_type": "execute_result"
    }
   ],
   "source": [
    "import employee\n",
    "\n",
    "empTest.__str__()empTest = employee.Employee('Susan Meyers', 47899, 'Accounting', 'Vice President')\n",
    "\n"
   ]
  },
  {
   "cell_type": "code",
   "execution_count": 5,
   "metadata": {},
   "outputs": [],
   "source": [
    "def printCurrent(curOB):\n",
    "    print(curOB.__str__())\n",
    "\n"
   ]
  },
  {
   "cell_type": "code",
   "execution_count": null,
   "metadata": {},
   "outputs": [],
   "source": []
  }
 ],
 "metadata": {
  "kernelspec": {
   "display_name": "Python 3",
   "language": "python",
   "name": "python3"
  },
  "language_info": {
   "codemirror_mode": {
    "name": "ipython",
    "version": 3
   },
   "file_extension": ".py",
   "mimetype": "text/x-python",
   "name": "python",
   "nbconvert_exporter": "python",
   "pygments_lexer": "ipython3",
   "version": "3.6.4"
  }
 },
 "nbformat": 4,
 "nbformat_minor": 2
}
