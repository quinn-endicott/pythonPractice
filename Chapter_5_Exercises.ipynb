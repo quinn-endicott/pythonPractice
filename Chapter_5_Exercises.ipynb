{
 "cells": [
  {
   "cell_type": "markdown",
   "metadata": {},
   "source": [
    "# Algorithm Workbench\n",
    "1. Write a function named times_ten. The function should accept an argument and \n",
    "display the product of its argument multiplied times 10."
   ]
  },
  {
   "cell_type": "code",
   "execution_count": 2,
   "metadata": {},
   "outputs": [],
   "source": [
    "#define function, take 1 argument for number\n",
    "def times_ten(num):\n",
    "    #multiply num by 10, assign result to variable\n",
    "    tenNum = num * 10\n",
    "    #print result\n",
    "    print(f\"10 times {num} is {tenNum}\")"
   ]
  },
  {
   "cell_type": "code",
   "execution_count": 3,
   "metadata": {},
   "outputs": [
    {
     "name": "stdout",
     "output_type": "stream",
     "text": [
      "10 times 9 is 90\n"
     ]
    }
   ],
   "source": [
    "times_ten(9)"
   ]
  },
  {
   "cell_type": "code",
   "execution_count": 4,
   "metadata": {},
   "outputs": [
    {
     "name": "stdout",
     "output_type": "stream",
     "text": [
      "10 times 4.76 is 47.599999999999994\n"
     ]
    }
   ],
   "source": [
    "#asked chat gpt why this output is inaccurate and it's because of imprecision in\n",
    "#handling floating point values \n",
    "times_ten(4.76)"
   ]
  },
  {
   "cell_type": "code",
   "execution_count": 5,
   "metadata": {},
   "outputs": [
    {
     "name": "stdout",
     "output_type": "stream",
     "text": [
      "10 times 8000 is 80000\n"
     ]
    }
   ],
   "source": [
    "times_ten(8000)"
   ]
  },
  {
   "cell_type": "code",
   "execution_count": null,
   "metadata": {},
   "outputs": [],
   "source": []
  }
 ],
 "metadata": {
  "kernelspec": {
   "display_name": "Python 3",
   "language": "python",
   "name": "python3"
  },
  "language_info": {
   "codemirror_mode": {
    "name": "ipython",
    "version": 3
   },
   "file_extension": ".py",
   "mimetype": "text/x-python",
   "name": "python",
   "nbconvert_exporter": "python",
   "pygments_lexer": "ipython3",
   "version": "3.6.4"
  },
  "orig_nbformat": 4
 },
 "nbformat": 4,
 "nbformat_minor": 2
}
