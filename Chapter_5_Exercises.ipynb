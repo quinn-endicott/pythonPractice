{
 "cells": [
  {
   "cell_type": "markdown",
   "metadata": {},
   "source": [
    "# Algorithm Workbench\n",
    "1. Write a function named times_ten. The function should accept an argument and \n",
    "display the product of its argument multiplied times 10."
   ]
  },
  {
   "cell_type": "code",
   "execution_count": 2,
   "metadata": {},
   "outputs": [],
   "source": [
    "#define function, take 1 argument for number\n",
    "def times_ten(num):\n",
    "    #multiply num by 10, assign result to variable\n",
    "    tenNum = num * 10\n",
    "    #print result\n",
    "    print(f\"10 times {num} is {tenNum}\")"
   ]
  },
  {
   "cell_type": "code",
   "execution_count": 3,
   "metadata": {},
   "outputs": [
    {
     "name": "stdout",
     "output_type": "stream",
     "text": [
      "10 times 9 is 90\n"
     ]
    }
   ],
   "source": [
    "times_ten(9)"
   ]
  },
  {
   "cell_type": "code",
   "execution_count": 4,
   "metadata": {},
   "outputs": [
    {
     "name": "stdout",
     "output_type": "stream",
     "text": [
      "10 times 4.76 is 47.599999999999994\n"
     ]
    }
   ],
   "source": [
    "#asked chat gpt why this output is inaccurate and it's because of imprecision in\n",
    "#handling floating point values \n",
    "times_ten(4.76)"
   ]
  },
  {
   "cell_type": "code",
   "execution_count": 6,
   "metadata": {},
   "outputs": [],
   "source": [
    "#make the funtion truncate output for a float, if the multiplier wasn't ten this would\n",
    "#not make sense to do at all, gpt suggested isinstance funtion to test input\n",
    "\n",
    "def times_ten(num):\n",
    "    #integer input\n",
    "    if isinstance(num, int):\n",
    "        tenNum = num * 10\n",
    "        #print result unformatted\n",
    "        print(f\"10 times {num} is {tenNum}\")  \n",
    "    #float input\n",
    "    elif isinstance(num, float):\n",
    "        tenNum = num * 10\n",
    "        #print formatted result\n",
    "        print(f\"10 times {num} is {tenNum:.2f}\")\n",
    "    #all other input is invalid\n",
    "    else:\n",
    "        print(\"your input is very not good\")\n",
    "        \n",
    "\n",
    "        "
   ]
  },
  {
   "cell_type": "code",
   "execution_count": 7,
   "metadata": {},
   "outputs": [
    {
     "name": "stdout",
     "output_type": "stream",
     "text": [
      "10 times 4.76 is 47.60\n"
     ]
    }
   ],
   "source": [
    "#looks way better now\n",
    "times_ten(4.76)"
   ]
  },
  {
   "cell_type": "code",
   "execution_count": 17,
   "metadata": {},
   "outputs": [],
   "source": [
    "def times_ten(num):\n",
    "    #integer input\n",
    "    if isinstance(num, int):\n",
    "        tenNum = num * 10\n",
    "        #print result unformatted\n",
    "        print(f\"10 times {num} is {tenNum}\")  \n",
    "    #float input\n",
    "    elif isinstance(num, float):\n",
    "        tenNum = num * 10\n",
    "        #print formatted result\n",
    "        print(f\"10 times {num} is {tenNum:.2f}\")\n",
    "    #all other input is invalid\n",
    "    else:\n",
    "        print(\"your input is very not good\")\n",
    "\n",
    "#function to take user input and call times_ten\n",
    "def tenUser():\n",
    "    userVar = input(\"Enter the number you would like to multiply:    \")\n",
    "    #call times_ten with userVar as argument\n",
    "    times_ten(userVar)"
   ]
  },
  {
   "cell_type": "code",
   "execution_count": 18,
   "metadata": {},
   "outputs": [
    {
     "name": "stdout",
     "output_type": "stream",
     "text": [
      "your input is very not good\n"
     ]
    }
   ],
   "source": [
    "tenUser()"
   ]
  },
  {
   "cell_type": "code",
   "execution_count": 19,
   "metadata": {},
   "outputs": [],
   "source": [
    "#so this is having issues, everything input is a string so it triggers the else clause\n",
    "#I want to test whether input is float, int, or invalid and pass on as that type, or\n",
    "#read out an error message\n",
    "def times_ten(num):\n",
    "    #integer input\n",
    "    if isinstance(num, int):\n",
    "        tenNum = num * 10\n",
    "        #print result unformatted\n",
    "        print(f\"10 times {num} is {tenNum}\")  \n",
    "    #float input\n",
    "    elif isinstance(num, float):\n",
    "        tenNum = num * 10\n",
    "        #print formatted result\n",
    "        print(f\"10 times {num} is {tenNum:.2f}\")\n",
    "    #all other input is invalid\n",
    "    else:\n",
    "        print(\"your input is very not good\")\n",
    "\n",
    "#function to take user input and call times_ten\n",
    "def tenUser():\n",
    "    userVar = input(\"Enter the number you would like to multiply:    \")\n",
    "    #try/except block to test whether input is a number\n",
    "    try:\n",
    "        #can userVar be converted to float?\n",
    "        num = float(userVar)\n",
    "    #except valueError\n",
    "    except ValueError:\n",
    "        print(\"something was not right with your input\")\n",
    "        #gpt wanted to just return here but I want to ask for input again\n",
    "        tenUser()\n",
    "    #using .is_integer to test whether input is an integer\n",
    "    if num.is_integer():\n",
    "        #if it is make it that type explicitly\n",
    "        num = int(num)\n",
    "\n",
    "    #call times_ten with userVar as argument\n",
    "    times_ten(userVar)"
   ]
  },
  {
   "cell_type": "code",
   "execution_count": 20,
   "metadata": {},
   "outputs": [
    {
     "name": "stdout",
     "output_type": "stream",
     "text": [
      "something was not right with your input\n",
      "something was not right with your input\n",
      "your input is very not good\n"
     ]
    },
    {
     "ename": "UnboundLocalError",
     "evalue": "local variable 'num' referenced before assignment",
     "output_type": "error",
     "traceback": [
      "\u001b[1;31m---------------------------------------------------------------------------\u001b[0m",
      "\u001b[1;31mValueError\u001b[0m                                Traceback (most recent call last)",
      "\u001b[1;32m<ipython-input-19-51efd4b93e95>\u001b[0m in \u001b[0;36mtenUser\u001b[1;34m()\u001b[0m\n\u001b[0;32m     24\u001b[0m         \u001b[1;31m#can userVar be converted to float?\u001b[0m\u001b[1;33m\u001b[0m\u001b[1;33m\u001b[0m\u001b[0m\n\u001b[1;32m---> 25\u001b[1;33m         \u001b[0mnum\u001b[0m \u001b[1;33m=\u001b[0m \u001b[0mfloat\u001b[0m\u001b[1;33m(\u001b[0m\u001b[0muserVar\u001b[0m\u001b[1;33m)\u001b[0m\u001b[1;33m\u001b[0m\u001b[0m\n\u001b[0m\u001b[0;32m     26\u001b[0m     \u001b[1;31m#except valueError\u001b[0m\u001b[1;33m\u001b[0m\u001b[1;33m\u001b[0m\u001b[0m\n",
      "\u001b[1;31mValueError\u001b[0m: could not convert string to float: 'r'",
      "\nDuring handling of the above exception, another exception occurred:\n",
      "\u001b[1;31mUnboundLocalError\u001b[0m                         Traceback (most recent call last)",
      "\u001b[1;32m<ipython-input-20-0e335bc2abc1>\u001b[0m in \u001b[0;36m<module>\u001b[1;34m\u001b[0m\n\u001b[1;32m----> 1\u001b[1;33m \u001b[0mtenUser\u001b[0m\u001b[1;33m(\u001b[0m\u001b[1;33m)\u001b[0m\u001b[1;33m\u001b[0m\u001b[0m\n\u001b[0m",
      "\u001b[1;32m<ipython-input-19-51efd4b93e95>\u001b[0m in \u001b[0;36mtenUser\u001b[1;34m()\u001b[0m\n\u001b[0;32m     28\u001b[0m         \u001b[0mprint\u001b[0m\u001b[1;33m(\u001b[0m\u001b[1;34m\"something was not right with your input\"\u001b[0m\u001b[1;33m)\u001b[0m\u001b[1;33m\u001b[0m\u001b[0m\n\u001b[0;32m     29\u001b[0m         \u001b[1;31m#gpt wanted to just return here but I want to ask for input again\u001b[0m\u001b[1;33m\u001b[0m\u001b[1;33m\u001b[0m\u001b[0m\n\u001b[1;32m---> 30\u001b[1;33m         \u001b[0mtenUser\u001b[0m\u001b[1;33m(\u001b[0m\u001b[1;33m)\u001b[0m\u001b[1;33m\u001b[0m\u001b[0m\n\u001b[0m\u001b[0;32m     31\u001b[0m     \u001b[1;31m#using .is_integer to test whether input is an integer\u001b[0m\u001b[1;33m\u001b[0m\u001b[1;33m\u001b[0m\u001b[0m\n\u001b[0;32m     32\u001b[0m     \u001b[1;32mif\u001b[0m \u001b[0mnum\u001b[0m\u001b[1;33m.\u001b[0m\u001b[0mis_integer\u001b[0m\u001b[1;33m(\u001b[0m\u001b[1;33m)\u001b[0m\u001b[1;33m:\u001b[0m\u001b[1;33m\u001b[0m\u001b[0m\n",
      "\u001b[1;32m<ipython-input-19-51efd4b93e95>\u001b[0m in \u001b[0;36mtenUser\u001b[1;34m()\u001b[0m\n\u001b[0;32m     30\u001b[0m         \u001b[0mtenUser\u001b[0m\u001b[1;33m(\u001b[0m\u001b[1;33m)\u001b[0m\u001b[1;33m\u001b[0m\u001b[0m\n\u001b[0;32m     31\u001b[0m     \u001b[1;31m#using .is_integer to test whether input is an integer\u001b[0m\u001b[1;33m\u001b[0m\u001b[1;33m\u001b[0m\u001b[0m\n\u001b[1;32m---> 32\u001b[1;33m     \u001b[1;32mif\u001b[0m \u001b[0mnum\u001b[0m\u001b[1;33m.\u001b[0m\u001b[0mis_integer\u001b[0m\u001b[1;33m(\u001b[0m\u001b[1;33m)\u001b[0m\u001b[1;33m:\u001b[0m\u001b[1;33m\u001b[0m\u001b[0m\n\u001b[0m\u001b[0;32m     33\u001b[0m         \u001b[1;31m#if it is make it that type explicitly\u001b[0m\u001b[1;33m\u001b[0m\u001b[1;33m\u001b[0m\u001b[0m\n\u001b[0;32m     34\u001b[0m         \u001b[0mnum\u001b[0m \u001b[1;33m=\u001b[0m \u001b[0mint\u001b[0m\u001b[1;33m(\u001b[0m\u001b[0mnum\u001b[0m\u001b[1;33m)\u001b[0m\u001b[1;33m\u001b[0m\u001b[0m\n",
      "\u001b[1;31mUnboundLocalError\u001b[0m: local variable 'num' referenced before assignment"
     ]
    }
   ],
   "source": [
    "tenUser()"
   ]
  },
  {
   "cell_type": "code",
   "execution_count": 27,
   "metadata": {},
   "outputs": [],
   "source": [
    "#so this is having issues, everything input is a string so it triggers the else clause\n",
    "#I want to test whether input is float, int, or invalid and pass on as that type, or\n",
    "#read out an error message\n",
    "def times_ten(num):\n",
    "    #integer input\n",
    "    if isinstance(num, int):\n",
    "        tenNum = num * 10\n",
    "        #print result unformatted\n",
    "        print(f\"10 times {num} is {tenNum}\")  \n",
    "    #tenUser function is already discarding non numeric entries, at this point num\n",
    "    #can only be float or int\n",
    "    else:\n",
    "        tenNum = num * 10\n",
    "        #print formatted result\n",
    "        print(f\"10 times {num} is {tenNum:.2f}\")\n",
    "    \n",
    "#function to take user input and call times_ten\n",
    "def tenUser():\n",
    "    userVar = input(\"Enter the number you would like to multiply:    \")\n",
    "    #try/except block to test whether input is a number\n",
    "    try:\n",
    "        #can userVar be converted to float?\n",
    "        num = float(userVar)\n",
    "    #except valueError\n",
    "    except ValueError:\n",
    "        print(\"something was not right with your input\")\n",
    "        #gpt wanted to just return here but I want to ask for input again, needs to return\n",
    "        #to original state\n",
    "        return tenUser()\n",
    "    #using .is_integer to test whether input is an integer\n",
    "    if num.is_integer():\n",
    "        num = int(num)\n",
    "    #call times_ten with userVar as argument, this is what is causing the trouble, it needs to \n",
    "    #be the converted value num, took forever to find this issue\n",
    "    times_ten(num)"
   ]
  },
  {
   "cell_type": "code",
   "execution_count": 28,
   "metadata": {},
   "outputs": [
    {
     "name": "stdout",
     "output_type": "stream",
     "text": [
      "something was not right with your input\n",
      "something was not right with your input\n",
      "something was not right with your input\n",
      "10 times 5 is 50\n"
     ]
    }
   ],
   "source": [
    "tenUser()"
   ]
  },
  {
   "cell_type": "code",
   "execution_count": 29,
   "metadata": {},
   "outputs": [
    {
     "name": "stdout",
     "output_type": "stream",
     "text": [
      "something was not right with your input\n",
      "something was not right with your input\n",
      "something was not right with your input\n",
      "10 times 6.795 is 67.95\n"
     ]
    }
   ],
   "source": [
    "tenUser()"
   ]
  },
  {
   "cell_type": "code",
   "execution_count": null,
   "metadata": {},
   "outputs": [],
   "source": []
  }
 ],
 "metadata": {
  "kernelspec": {
   "display_name": "Python 3",
   "language": "python",
   "name": "python3"
  },
  "language_info": {
   "codemirror_mode": {
    "name": "ipython",
    "version": 3
   },
   "file_extension": ".py",
   "mimetype": "text/x-python",
   "name": "python",
   "nbconvert_exporter": "python",
   "pygments_lexer": "ipython3",
   "version": "3.6.4"
  },
  "orig_nbformat": 4
 },
 "nbformat": 4,
 "nbformat_minor": 2
}
