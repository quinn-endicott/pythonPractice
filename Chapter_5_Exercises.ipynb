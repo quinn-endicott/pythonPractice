{
 "cells": [
  {
   "cell_type": "markdown",
   "metadata": {},
   "source": [
    "# Algorithm Workbench\n",
    "1. Write a function named times_ten. The function should accept an argument and \n",
    "display the product of its argument multiplied times 10."
   ]
  },
  {
   "cell_type": "code",
   "execution_count": 2,
   "metadata": {},
   "outputs": [],
   "source": [
    "#define function, take 1 argument for number\n",
    "def times_ten(num):\n",
    "    #multiply num by 10, assign result to variable\n",
    "    tenNum = num * 10\n",
    "    #print result\n",
    "    print(f\"10 times {num} is {tenNum}\")"
   ]
  },
  {
   "cell_type": "code",
   "execution_count": 3,
   "metadata": {},
   "outputs": [
    {
     "name": "stdout",
     "output_type": "stream",
     "text": [
      "10 times 9 is 90\n"
     ]
    }
   ],
   "source": [
    "times_ten(9)"
   ]
  },
  {
   "cell_type": "code",
   "execution_count": 4,
   "metadata": {},
   "outputs": [
    {
     "name": "stdout",
     "output_type": "stream",
     "text": [
      "10 times 4.76 is 47.599999999999994\n"
     ]
    }
   ],
   "source": [
    "#asked chat gpt why this output is inaccurate and it's because of imprecision in\n",
    "#handling floating point values \n",
    "times_ten(4.76)"
   ]
  },
  {
   "cell_type": "code",
   "execution_count": 6,
   "metadata": {},
   "outputs": [],
   "source": [
    "#make the funtion truncate output for a float, if the multiplier wasn't ten this would\n",
    "#not make sense to do at all, gpt suggested isinstance funtion to test input\n",
    "def times_ten(num):\n",
    "    #integer input\n",
    "    if isinstance(num, int):\n",
    "        tenNum = num * 10\n",
    "        #print result unformatted\n",
    "        print(f\"10 times {num} is {tenNum}\")  \n",
    "    #float input\n",
    "    elif isinstance(num, float):\n",
    "        tenNum = num * 10\n",
    "        #print formatted result\n",
    "        print(f\"10 times {num} is {tenNum:.2f}\")\n",
    "    #all other input is invalid\n",
    "    else:\n",
    "        print(\"your input is very not good\")\n",
    "\n",
    "        "
   ]
  },
  {
   "cell_type": "code",
   "execution_count": 7,
   "metadata": {},
   "outputs": [
    {
     "name": "stdout",
     "output_type": "stream",
     "text": [
      "10 times 4.76 is 47.60\n"
     ]
    }
   ],
   "source": [
    "#looks way better now\n",
    "times_ten(4.76)"
   ]
  }
 ],
 "metadata": {
  "kernelspec": {
   "display_name": "Python 3",
   "language": "python",
   "name": "python3"
  },
  "language_info": {
   "codemirror_mode": {
    "name": "ipython",
    "version": 3
   },
   "file_extension": ".py",
   "mimetype": "text/x-python",
   "name": "python",
   "nbconvert_exporter": "python",
   "pygments_lexer": "ipython3",
   "version": "3.6.4"
  },
  "orig_nbformat": 4
 },
 "nbformat": 4,
 "nbformat_minor": 2
}
