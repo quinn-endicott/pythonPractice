{
 "cells": [
  {
   "cell_type": "markdown",
   "metadata": {},
   "source": [
    "# Algorithm Workbench\n",
    "1. Write a function named times_ten. The function should accept an argument and \n",
    "display the product of its argument multiplied times 10."
   ]
  },
  {
   "cell_type": "code",
   "execution_count": 2,
   "metadata": {},
   "outputs": [],
   "source": [
    "#define function, take 1 argument for number\n",
    "def times_ten(num):\n",
    "    #multiply num by 10, assign result to variable\n",
    "    tenNum = num * 10\n",
    "    #print result\n",
    "    print(f\"10 times {num} is {tenNum}\")"
   ]
  },
  {
   "cell_type": "code",
   "execution_count": 3,
   "metadata": {},
   "outputs": [
    {
     "name": "stdout",
     "output_type": "stream",
     "text": [
      "10 times 9 is 90\n"
     ]
    }
   ],
   "source": [
    "times_ten(9)"
   ]
  },
  {
   "cell_type": "code",
   "execution_count": 4,
   "metadata": {},
   "outputs": [
    {
     "name": "stdout",
     "output_type": "stream",
     "text": [
      "10 times 4.76 is 47.599999999999994\n"
     ]
    }
   ],
   "source": [
    "#asked chat gpt why this output is inaccurate and it's because of imprecision in\n",
    "#handling floating point values \n",
    "times_ten(4.76)"
   ]
  },
  {
   "cell_type": "code",
   "execution_count": 6,
   "metadata": {},
   "outputs": [],
   "source": [
    "#make the funtion truncate output for a float, if the multiplier wasn't ten this would\n",
    "#not make sense to do at all, gpt suggested isinstance funtion to test input\n",
    "\n",
    "def times_ten(num):\n",
    "    #integer input\n",
    "    if isinstance(num, int):\n",
    "        tenNum = num * 10\n",
    "        #print result unformatted\n",
    "        print(f\"10 times {num} is {tenNum}\")  \n",
    "    #float input\n",
    "    elif isinstance(num, float):\n",
    "        tenNum = num * 10\n",
    "        #print formatted result\n",
    "        print(f\"10 times {num} is {tenNum:.2f}\")\n",
    "    #all other input is invalid\n",
    "    else:\n",
    "        print(\"your input is very not good\")\n",
    "        \n",
    "\n",
    "        "
   ]
  },
  {
   "cell_type": "code",
   "execution_count": 7,
   "metadata": {},
   "outputs": [
    {
     "name": "stdout",
     "output_type": "stream",
     "text": [
      "10 times 4.76 is 47.60\n"
     ]
    }
   ],
   "source": [
    "#looks way better now\n",
    "times_ten(4.76)"
   ]
  },
  {
   "cell_type": "code",
   "execution_count": 17,
   "metadata": {},
   "outputs": [],
   "source": [
    "def times_ten(num):\n",
    "    #integer input\n",
    "    if isinstance(num, int):\n",
    "        tenNum = num * 10\n",
    "        #print result unformatted\n",
    "        print(f\"10 times {num} is {tenNum}\")  \n",
    "    #float input\n",
    "    elif isinstance(num, float):\n",
    "        tenNum = num * 10\n",
    "        #print formatted result\n",
    "        print(f\"10 times {num} is {tenNum:.2f}\")\n",
    "    #all other input is invalid\n",
    "    else:\n",
    "        print(\"your input is very not good\")\n",
    "\n",
    "#function to take user input and call times_ten\n",
    "def tenUser():\n",
    "    userVar = input(\"Enter the number you would like to multiply:    \")\n",
    "    #call times_ten with userVar as argument\n",
    "    times_ten(userVar)"
   ]
  },
  {
   "cell_type": "code",
   "execution_count": 18,
   "metadata": {},
   "outputs": [
    {
     "name": "stdout",
     "output_type": "stream",
     "text": [
      "your input is very not good\n"
     ]
    }
   ],
   "source": [
    "tenUser()"
   ]
  },
  {
   "cell_type": "code",
   "execution_count": 19,
   "metadata": {},
   "outputs": [],
   "source": [
    "#so this is having issues, everything input is a string so it triggers the else clause\n",
    "#I want to test whether input is float, int, or invalid and pass on as that type, or\n",
    "#read out an error message\n",
    "def times_ten(num):\n",
    "    #integer input\n",
    "    if isinstance(num, int):\n",
    "        tenNum = num * 10\n",
    "        #print result unformatted\n",
    "        print(f\"10 times {num} is {tenNum}\")  \n",
    "    #float input\n",
    "    elif isinstance(num, float):\n",
    "        tenNum = num * 10\n",
    "        #print formatted result\n",
    "        print(f\"10 times {num} is {tenNum:.2f}\")\n",
    "    #all other input is invalid\n",
    "    else:\n",
    "        print(\"your input is very not good\")\n",
    "\n",
    "#function to take user input and call times_ten\n",
    "def tenUser():\n",
    "    userVar = input(\"Enter the number you would like to multiply:    \")\n",
    "    #try/except block to test whether input is a number\n",
    "    try:\n",
    "        #can userVar be converted to float?\n",
    "        num = float(userVar)\n",
    "    #except valueError\n",
    "    except ValueError:\n",
    "        print(\"something was not right with your input\")\n",
    "        #gpt wanted to just return here but I want to ask for input again\n",
    "        tenUser()\n",
    "    #using .is_integer to test whether input is an integer\n",
    "    if num.is_integer():\n",
    "        #if it is make it that type explicitly\n",
    "        num = int(num)\n",
    "\n",
    "    #call times_ten with userVar as argument\n",
    "    times_ten(userVar)"
   ]
  },
  {
   "cell_type": "code",
   "execution_count": 20,
   "metadata": {},
   "outputs": [
    {
     "name": "stdout",
     "output_type": "stream",
     "text": [
      "something was not right with your input\n",
      "something was not right with your input\n",
      "your input is very not good\n"
     ]
    },
    {
     "ename": "UnboundLocalError",
     "evalue": "local variable 'num' referenced before assignment",
     "output_type": "error",
     "traceback": [
      "\u001b[1;31m---------------------------------------------------------------------------\u001b[0m",
      "\u001b[1;31mValueError\u001b[0m                                Traceback (most recent call last)",
      "\u001b[1;32m<ipython-input-19-51efd4b93e95>\u001b[0m in \u001b[0;36mtenUser\u001b[1;34m()\u001b[0m\n\u001b[0;32m     24\u001b[0m         \u001b[1;31m#can userVar be converted to float?\u001b[0m\u001b[1;33m\u001b[0m\u001b[1;33m\u001b[0m\u001b[0m\n\u001b[1;32m---> 25\u001b[1;33m         \u001b[0mnum\u001b[0m \u001b[1;33m=\u001b[0m \u001b[0mfloat\u001b[0m\u001b[1;33m(\u001b[0m\u001b[0muserVar\u001b[0m\u001b[1;33m)\u001b[0m\u001b[1;33m\u001b[0m\u001b[0m\n\u001b[0m\u001b[0;32m     26\u001b[0m     \u001b[1;31m#except valueError\u001b[0m\u001b[1;33m\u001b[0m\u001b[1;33m\u001b[0m\u001b[0m\n",
      "\u001b[1;31mValueError\u001b[0m: could not convert string to float: 'r'",
      "\nDuring handling of the above exception, another exception occurred:\n",
      "\u001b[1;31mUnboundLocalError\u001b[0m                         Traceback (most recent call last)",
      "\u001b[1;32m<ipython-input-20-0e335bc2abc1>\u001b[0m in \u001b[0;36m<module>\u001b[1;34m\u001b[0m\n\u001b[1;32m----> 1\u001b[1;33m \u001b[0mtenUser\u001b[0m\u001b[1;33m(\u001b[0m\u001b[1;33m)\u001b[0m\u001b[1;33m\u001b[0m\u001b[0m\n\u001b[0m",
      "\u001b[1;32m<ipython-input-19-51efd4b93e95>\u001b[0m in \u001b[0;36mtenUser\u001b[1;34m()\u001b[0m\n\u001b[0;32m     28\u001b[0m         \u001b[0mprint\u001b[0m\u001b[1;33m(\u001b[0m\u001b[1;34m\"something was not right with your input\"\u001b[0m\u001b[1;33m)\u001b[0m\u001b[1;33m\u001b[0m\u001b[0m\n\u001b[0;32m     29\u001b[0m         \u001b[1;31m#gpt wanted to just return here but I want to ask for input again\u001b[0m\u001b[1;33m\u001b[0m\u001b[1;33m\u001b[0m\u001b[0m\n\u001b[1;32m---> 30\u001b[1;33m         \u001b[0mtenUser\u001b[0m\u001b[1;33m(\u001b[0m\u001b[1;33m)\u001b[0m\u001b[1;33m\u001b[0m\u001b[0m\n\u001b[0m\u001b[0;32m     31\u001b[0m     \u001b[1;31m#using .is_integer to test whether input is an integer\u001b[0m\u001b[1;33m\u001b[0m\u001b[1;33m\u001b[0m\u001b[0m\n\u001b[0;32m     32\u001b[0m     \u001b[1;32mif\u001b[0m \u001b[0mnum\u001b[0m\u001b[1;33m.\u001b[0m\u001b[0mis_integer\u001b[0m\u001b[1;33m(\u001b[0m\u001b[1;33m)\u001b[0m\u001b[1;33m:\u001b[0m\u001b[1;33m\u001b[0m\u001b[0m\n",
      "\u001b[1;32m<ipython-input-19-51efd4b93e95>\u001b[0m in \u001b[0;36mtenUser\u001b[1;34m()\u001b[0m\n\u001b[0;32m     30\u001b[0m         \u001b[0mtenUser\u001b[0m\u001b[1;33m(\u001b[0m\u001b[1;33m)\u001b[0m\u001b[1;33m\u001b[0m\u001b[0m\n\u001b[0;32m     31\u001b[0m     \u001b[1;31m#using .is_integer to test whether input is an integer\u001b[0m\u001b[1;33m\u001b[0m\u001b[1;33m\u001b[0m\u001b[0m\n\u001b[1;32m---> 32\u001b[1;33m     \u001b[1;32mif\u001b[0m \u001b[0mnum\u001b[0m\u001b[1;33m.\u001b[0m\u001b[0mis_integer\u001b[0m\u001b[1;33m(\u001b[0m\u001b[1;33m)\u001b[0m\u001b[1;33m:\u001b[0m\u001b[1;33m\u001b[0m\u001b[0m\n\u001b[0m\u001b[0;32m     33\u001b[0m         \u001b[1;31m#if it is make it that type explicitly\u001b[0m\u001b[1;33m\u001b[0m\u001b[1;33m\u001b[0m\u001b[0m\n\u001b[0;32m     34\u001b[0m         \u001b[0mnum\u001b[0m \u001b[1;33m=\u001b[0m \u001b[0mint\u001b[0m\u001b[1;33m(\u001b[0m\u001b[0mnum\u001b[0m\u001b[1;33m)\u001b[0m\u001b[1;33m\u001b[0m\u001b[0m\n",
      "\u001b[1;31mUnboundLocalError\u001b[0m: local variable 'num' referenced before assignment"
     ]
    }
   ],
   "source": [
    "tenUser()"
   ]
  },
  {
   "cell_type": "code",
   "execution_count": 27,
   "metadata": {},
   "outputs": [],
   "source": [
    "#so this is having issues, everything input is a string so it triggers the else clause\n",
    "#I want to test whether input is float, int, or invalid and pass on as that type, or\n",
    "#read out an error message\n",
    "def times_ten(num):\n",
    "    #integer input\n",
    "    if isinstance(num, int):\n",
    "        tenNum = num * 10\n",
    "        #print result unformatted\n",
    "        print(f\"10 times {num} is {tenNum}\")  \n",
    "    #tenUser function is already discarding non numeric entries, at this point num\n",
    "    #can only be float or int\n",
    "    else:\n",
    "        tenNum = num * 10\n",
    "        #print formatted result\n",
    "        print(f\"10 times {num} is {tenNum:.2f}\")\n",
    "    \n",
    "#function to take user input and call times_ten\n",
    "def tenUser():\n",
    "    userVar = input(\"Enter the number you would like to multiply:    \")\n",
    "    #try/except block to test whether input is a number\n",
    "    try:\n",
    "        #can userVar be converted to float?\n",
    "        num = float(userVar)\n",
    "    #except valueError\n",
    "    except ValueError:\n",
    "        print(\"something was not right with your input\")\n",
    "        #gpt wanted to just return here but I want to ask for input again, needs to return\n",
    "        #to original state\n",
    "        return tenUser()\n",
    "    #using .is_integer to test whether input is an integer\n",
    "    if num.is_integer():\n",
    "        num = int(num)\n",
    "    #call times_ten with userVar as argument, this is what is causing the trouble, it needs to \n",
    "    #be the converted value num, took forever to find this issue\n",
    "    times_ten(num)"
   ]
  },
  {
   "cell_type": "code",
   "execution_count": 28,
   "metadata": {},
   "outputs": [
    {
     "name": "stdout",
     "output_type": "stream",
     "text": [
      "something was not right with your input\n",
      "something was not right with your input\n",
      "something was not right with your input\n",
      "10 times 5 is 50\n"
     ]
    }
   ],
   "source": [
    "tenUser()"
   ]
  },
  {
   "cell_type": "code",
   "execution_count": 29,
   "metadata": {},
   "outputs": [
    {
     "name": "stdout",
     "output_type": "stream",
     "text": [
      "something was not right with your input\n",
      "something was not right with your input\n",
      "something was not right with your input\n",
      "10 times 6.795 is 67.95\n"
     ]
    }
   ],
   "source": [
    "tenUser()"
   ]
  },
  {
   "cell_type": "markdown",
   "metadata": {},
   "source": [
    "6. Write a statement that generates a random number in the range of 1 through 100 and \n",
    "assigns it to a variable named rand."
   ]
  },
  {
   "cell_type": "code",
   "execution_count": 30,
   "metadata": {},
   "outputs": [],
   "source": [
    "#import statement for library function\n",
    "import random \n"
   ]
  },
  {
   "cell_type": "code",
   "execution_count": 32,
   "metadata": {},
   "outputs": [
    {
     "name": "stdout",
     "output_type": "stream",
     "text": [
      "54\n"
     ]
    }
   ],
   "source": [
    "rand = random.randint(1,100)\n",
    "print(rand)"
   ]
  },
  {
   "cell_type": "code",
   "execution_count": 33,
   "metadata": {},
   "outputs": [
    {
     "ename": "SyntaxError",
     "evalue": "invalid syntax (<ipython-input-33-39b036b8c9d6>, line 12)",
     "output_type": "error",
     "traceback": [
      "\u001b[1;36m  File \u001b[1;32m\"<ipython-input-33-39b036b8c9d6>\"\u001b[1;36m, line \u001b[1;32m12\u001b[0m\n\u001b[1;33m    while contVar = 'y':\u001b[0m\n\u001b[1;37m                  ^\u001b[0m\n\u001b[1;31mSyntaxError\u001b[0m\u001b[1;31m:\u001b[0m invalid syntax\n"
     ]
    }
   ],
   "source": [
    "#make a function to generate and print random number\n",
    "def randPrinter():\n",
    "    rand = random.randint(1,100)\n",
    "    print(rand)\n",
    "\n",
    "#want to be able to call repeatedly as user requires\n",
    "def randCaller():\n",
    "    #screen declaring purpose to user\n",
    "    print(\"This program will generate some random numbers for you  \")\n",
    "    #user selects y to start\n",
    "    contVar = input(\"Enter 'y' if you would like to generate some random numbers   \")\n",
    "    while contVar = 'y':\n",
    "        randPrinter()\n",
    "        contVar = input(\"Enter 'y' if you would like to generate some random numbers   \")\n",
    "    if contVar != 'y':\n",
    "        print(\"have a nice day\")"
   ]
  },
  {
   "cell_type": "code",
   "execution_count": 34,
   "metadata": {},
   "outputs": [],
   "source": [
    "#make a function to generate and print random number\n",
    "def randPrinter():\n",
    "    rand = random.randint(1,100)\n",
    "    print(rand)\n",
    "\n",
    "#want to be able to call repeatedly as user requires\n",
    "def randCaller():\n",
    "    #screen declaring purpose to user\n",
    "    print(\"This program will generate some random numbers for you  \")\n",
    "    #user selects y to start\n",
    "    contVar = input(\"Enter 'y' if you would like to generate some random numbers   \")\n",
    "    #== not =\n",
    "    while contVar == 'y':\n",
    "        randPrinter()\n",
    "        contVar = input(\"Enter 'y' if you would like to generate some random numbers   \")\n",
    "    if contVar != 'y':\n",
    "        print(\"have a nice day\")"
   ]
  },
  {
   "cell_type": "code",
   "execution_count": 35,
   "metadata": {},
   "outputs": [
    {
     "name": "stdout",
     "output_type": "stream",
     "text": [
      "This program will generate some random numbers for you  \n",
      "61\n",
      "46\n",
      "21\n",
      "88\n",
      "8\n",
      "77\n",
      "33\n",
      "69\n",
      "88\n",
      "4\n",
      "27\n",
      "have a nice day\n"
     ]
    }
   ],
   "source": [
    "randCaller()"
   ]
  },
  {
   "cell_type": "markdown",
   "metadata": {},
   "source": [
    "# Programming Exercise 1\n",
    "Write a program that asks the user to enter a distance in kilometers, then converts that distance to miles. The conversion formula is as follows: Miles = Kilometers * 0.6214"
   ]
  },
  {
   "cell_type": "code",
   "execution_count": 36,
   "metadata": {},
   "outputs": [],
   "source": [
    "#create function\n",
    "def kiloConverter():\n",
    "    #take user input for Kilometers\n",
    "    userKilos = float(input(\"Please enter the distance in Kilometers:   \"))\n",
    "    #convert to miles and assign to variable\n",
    "    outMiles = userKilos * 0.6214\n",
    "    #print statement with meaningful output\n",
    "    print(f\"{userKilos} is equal to {outMiles} miles.\")\n"
   ]
  },
  {
   "cell_type": "code",
   "execution_count": 37,
   "metadata": {},
   "outputs": [
    {
     "name": "stdout",
     "output_type": "stream",
     "text": [
      "25.0 is equal to 15.534999999999998 miles.\n"
     ]
    }
   ],
   "source": [
    "kiloConverter()"
   ]
  },
  {
   "cell_type": "code",
   "execution_count": 38,
   "metadata": {},
   "outputs": [],
   "source": [
    "#create function\n",
    "def kiloConverter():\n",
    "    #take user input for Kilometers\n",
    "    userKilos = float(input(\"Please enter the distance in Kilometers:   \"))\n",
    "    #convert to miles and assign to variable\n",
    "    outMiles = userKilos * 0.6214\n",
    "    #print statement with *meaningful* output, limit to significant figures of \n",
    "    #conversion factor\n",
    "    print(f\"{userKilos} Kilometers is equal to {outMiles:.4f} miles.\")"
   ]
  },
  {
   "cell_type": "code",
   "execution_count": 39,
   "metadata": {},
   "outputs": [
    {
     "name": "stdout",
     "output_type": "stream",
     "text": [
      "20.0 Kilometers is equal to 12.4280 miles.\n"
     ]
    }
   ],
   "source": [
    "kiloConverter()"
   ]
  },
  {
   "cell_type": "code",
   "execution_count": 40,
   "metadata": {},
   "outputs": [
    {
     "name": "stdout",
     "output_type": "stream",
     "text": [
      "25 Kilometers is equal to 15.5350 miles.\n"
     ]
    }
   ],
   "source": [
    "#this work like this?\n",
    "def kiloConverter(userKilos):\n",
    "\n",
    "    outMiles = userKilos * 0.6214\n",
    "    #print statement with *meaningful* output, limit to significant figures of \n",
    "    #conversion factor\n",
    "    print(f\"{userKilos} Kilometers is equal to {outMiles:.4f} miles.\")\n",
    "\n",
    "kiloConverter(25)"
   ]
  },
  {
   "cell_type": "code",
   "execution_count": 41,
   "metadata": {},
   "outputs": [],
   "source": [
    "def kiloConverter(userKilos):\n",
    "\n",
    "    outMiles = userKilos * 0.6214\n",
    "    #print statement with *meaningful* output, limit to significant figures of \n",
    "    #conversion factor\n",
    "    print(f\"{userKilos} Kilometers is equal to {outMiles:.4f} miles.\")\n",
    "\n",
    "#make a function to call kiloConverter repeatedly with user input\n",
    "def kiloControl():\n",
    "    #tells user what program does\n",
    "    print(\"This program will convert Kilometers to Miles.\")\n",
    "    #'y' to proceed, assign to variable\n",
    "    nextEntry = input(\"Enter 'y' to do some converting, any other key to exit:   \")\n",
    "    #keep going as long as user wants\n",
    "    while nextEntry == 'y':\n",
    "        #take input in km\n",
    "        userIn = float(input(\"Enter the distance in Kilometers:   \"))\n",
    "        #call kiloConverter with that input\n",
    "        kiloConverter(userIn)\n",
    "        #does user wish to continue\n",
    "        nextEntry = input(\"Enter 'y' to do more converting, any other key to exit:   \")\n",
    "        \n",
    "\n",
    "\n"
   ]
  },
  {
   "cell_type": "code",
   "execution_count": 42,
   "metadata": {},
   "outputs": [
    {
     "name": "stdout",
     "output_type": "stream",
     "text": [
      "This program will convert Kilometers to Miles.\n",
      "20.0 Kilometers is equal to 12.4280 miles.\n",
      "30.0 Kilometers is equal to 18.6420 miles.\n",
      "50.0 Kilometers is equal to 31.0700 miles.\n",
      "12567.85674 Kilometers is equal to 7809.6662 miles.\n"
     ]
    }
   ],
   "source": [
    "kiloControl()"
   ]
  },
  {
   "cell_type": "code",
   "execution_count": null,
   "metadata": {},
   "outputs": [],
   "source": []
  }
 ],
 "metadata": {
  "kernelspec": {
   "display_name": "Python 3",
   "language": "python",
   "name": "python3"
  },
  "language_info": {
   "codemirror_mode": {
    "name": "ipython",
    "version": 3
   },
   "file_extension": ".py",
   "mimetype": "text/x-python",
   "name": "python",
   "nbconvert_exporter": "python",
   "pygments_lexer": "ipython3",
   "version": "3.6.4"
  },
  "orig_nbformat": 4
 },
 "nbformat": 4,
 "nbformat_minor": 2
}
