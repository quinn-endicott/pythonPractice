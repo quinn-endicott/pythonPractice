{
 "cells": [
  {
   "cell_type": "markdown",
   "id": "899b543e",
   "metadata": {},
   "source": [
    "# Algorithm Workbench 4 \n",
    "The following code contains several nested if-else statements. Unfortunately, it was written without proper alignment and indentation. Rewrite the code and use the proper conventions of alignment and indentation."
   ]
  },
  {
   "cell_type": "code",
   "execution_count": null,
   "id": "b730f402",
   "metadata": {},
   "outputs": [],
   "source": []
  },
  {
   "cell_type": "code",
   "execution_count": 1,
   "id": "efe0ac45",
   "metadata": {},
   "outputs": [
    {
     "ename": "IndentationError",
     "evalue": "expected an indented block after 'if' statement on line 1 (3079014608.py, line 2)",
     "output_type": "error",
     "traceback": [
      "\u001b[1;36m  Cell \u001b[1;32mIn[1], line 2\u001b[1;36m\u001b[0m\n\u001b[1;33m    print('Your grade is A.')\u001b[0m\n\u001b[1;37m    ^\u001b[0m\n\u001b[1;31mIndentationError\u001b[0m\u001b[1;31m:\u001b[0m expected an indented block after 'if' statement on line 1\n"
     ]
    }
   ],
   "source": [
    "# code verbatim from book\n",
    "if score >= A_score:\n",
    "print('Your grade is A.')\n",
    "else:\n",
    "if score >= B_score:\n",
    "print('Your grade is B.')\n",
    "else:\n",
    "if score >= C_score:\n",
    "print('Your grade is C.')\n",
    "else:\n",
    "if score >= D_score:\n",
    "print('Your grade is D.')\n",
    "else:\n",
    "print('Your grade is F.')"
   ]
  },
  {
   "cell_type": "code",
   "execution_count": 2,
   "id": "88babc18",
   "metadata": {},
   "outputs": [
    {
     "ename": "IndentationError",
     "evalue": "expected an indented block after 'if' statement on line 1 (3542416319.py, line 2)",
     "output_type": "error",
     "traceback": [
      "\u001b[1;36m  Cell \u001b[1;32mIn[2], line 2\u001b[1;36m\u001b[0m\n\u001b[1;33m    print('Your grade is A.')\u001b[0m\n\u001b[1;37m    ^\u001b[0m\n\u001b[1;31mIndentationError\u001b[0m\u001b[1;31m:\u001b[0m expected an indented block after 'if' statement on line 1\n"
     ]
    }
   ],
   "source": [
    "# 1st attempt at indentation\n",
    "if score >= A_score:\n",
    "print('Your grade is A.')\n",
    "else:\n",
    "    if score >= B_score:\n",
    "    print('Your grade is B.')\n",
    "    else:\n",
    "        if score >= C_score:\n",
    "        print('Your grade is C.')\n",
    "        else:\n",
    "            if score >= D_score:\n",
    "            print('Your grade is D.')\n",
    "            else:\n",
    "                print('Your grade is F.')"
   ]
  },
  {
   "cell_type": "code",
   "execution_count": 3,
   "id": "7c1f8158",
   "metadata": {},
   "outputs": [
    {
     "ename": "NameError",
     "evalue": "name 'score' is not defined",
     "output_type": "error",
     "traceback": [
      "\u001b[1;31m---------------------------------------------------------------------------\u001b[0m",
      "\u001b[1;31mNameError\u001b[0m                                 Traceback (most recent call last)",
      "Cell \u001b[1;32mIn[3], line 1\u001b[0m\n\u001b[1;32m----> 1\u001b[0m \u001b[38;5;28;01mif\u001b[39;00m score \u001b[38;5;241m>\u001b[39m\u001b[38;5;241m=\u001b[39m A_score:\n\u001b[0;32m      2\u001b[0m     \u001b[38;5;28mprint\u001b[39m(\u001b[38;5;124m'\u001b[39m\u001b[38;5;124mYour grade is A.\u001b[39m\u001b[38;5;124m'\u001b[39m)\n\u001b[0;32m      3\u001b[0m \u001b[38;5;28;01melse\u001b[39;00m:\n",
      "\u001b[1;31mNameError\u001b[0m: name 'score' is not defined"
     ]
    }
   ],
   "source": [
    "# code in book does not take a score\n",
    "if score >= A_score:\n",
    "    print('Your grade is A.')\n",
    "else:\n",
    "    if score >= B_score:\n",
    "        print('Your grade is B.')\n",
    "    else:\n",
    "        if score >= C_score:\n",
    "            print('Your grade is C.')\n",
    "        else:\n",
    "            if score >= D_score:\n",
    "                print('Your grade is D.')\n",
    "            else:\n",
    "                print('Your grade is F.')"
   ]
  },
  {
   "cell_type": "code",
   "execution_count": 4,
   "id": "eab42bd4",
   "metadata": {},
   "outputs": [
    {
     "ename": "IndentationError",
     "evalue": "expected an indented block after 'if' statement on line 3 (1843556854.py, line 4)",
     "output_type": "error",
     "traceback": [
      "\u001b[1;36m  Cell \u001b[1;32mIn[4], line 4\u001b[1;36m\u001b[0m\n\u001b[1;33m    print('Your grade is A.')\u001b[0m\n\u001b[1;37m    ^\u001b[0m\n\u001b[1;31mIndentationError\u001b[0m\u001b[1;31m:\u001b[0m expected an indented block after 'if' statement on line 3\n"
     ]
    }
   ],
   "source": [
    "score = float(input(\"enter your score:   \"))\n",
    "# for some reason I pasted in the older version\n",
    "if score >= A_score:\n",
    "print('Your grade is A.')\n",
    "else:\n",
    "    if score >= B_score:\n",
    "    print('Your grade is B.')\n",
    "    else:\n",
    "        if score >= C_score:\n",
    "        print('Your grade is C.')\n",
    "        else:\n",
    "            if score >= D_score:\n",
    "            print('Your grade is D.')\n",
    "            else:\n",
    "                print('Your grade is F.')"
   ]
  },
  {
   "cell_type": "code",
   "execution_count": 5,
   "id": "a2caf9ad",
   "metadata": {},
   "outputs": [
    {
     "name": "stdout",
     "output_type": "stream",
     "text": [
      "enter your score:   95\n"
     ]
    },
    {
     "ename": "NameError",
     "evalue": "name 'A_score' is not defined",
     "output_type": "error",
     "traceback": [
      "\u001b[1;31m---------------------------------------------------------------------------\u001b[0m",
      "\u001b[1;31mNameError\u001b[0m                                 Traceback (most recent call last)",
      "Cell \u001b[1;32mIn[5], line 3\u001b[0m\n\u001b[0;32m      1\u001b[0m score \u001b[38;5;241m=\u001b[39m \u001b[38;5;28mfloat\u001b[39m(\u001b[38;5;28minput\u001b[39m(\u001b[38;5;124m\"\u001b[39m\u001b[38;5;124menter your score:   \u001b[39m\u001b[38;5;124m\"\u001b[39m))\n\u001b[1;32m----> 3\u001b[0m \u001b[38;5;28;01mif\u001b[39;00m score \u001b[38;5;241m>\u001b[39m\u001b[38;5;241m=\u001b[39m A_score:\n\u001b[0;32m      4\u001b[0m     \u001b[38;5;28mprint\u001b[39m(\u001b[38;5;124m'\u001b[39m\u001b[38;5;124mYour grade is A.\u001b[39m\u001b[38;5;124m'\u001b[39m)\n\u001b[0;32m      5\u001b[0m \u001b[38;5;28;01melse\u001b[39;00m:\n",
      "\u001b[1;31mNameError\u001b[0m: name 'A_score' is not defined"
     ]
    }
   ],
   "source": [
    "score = float(input(\"enter your score:   \"))\n",
    "\n",
    "if score >= A_score:\n",
    "    print('Your grade is A.')\n",
    "else:\n",
    "    if score >= B_score:\n",
    "        print('Your grade is B.')\n",
    "    else:\n",
    "        if score >= C_score:\n",
    "            print('Your grade is C.')\n",
    "        else:\n",
    "            if score >= D_score:\n",
    "                print('Your grade is D.')\n",
    "            else:\n",
    "                print('Your grade is F.')"
   ]
  },
  {
   "cell_type": "code",
   "execution_count": 6,
   "id": "dd23b44a",
   "metadata": {},
   "outputs": [
    {
     "name": "stdout",
     "output_type": "stream",
     "text": [
      "enter your score:   87\n",
      "Your grade is B.\n"
     ]
    }
   ],
   "source": [
    "# score variables need definition\n",
    "score = float(input(\"enter your score:   \"))\n",
    "A_score = 90\n",
    "B_score = 80\n",
    "C_score = 70\n",
    "D_score = 60\n",
    "\n",
    "if score >= A_score:\n",
    "    print('Your grade is A.')\n",
    "else:\n",
    "    if score >= B_score:\n",
    "        print('Your grade is B.')\n",
    "    else:\n",
    "        if score >= C_score:\n",
    "            print('Your grade is C.')\n",
    "        else:\n",
    "            if score >= D_score:\n",
    "                print('Your grade is D.')\n",
    "            else:\n",
    "                print('Your grade is F.')"
   ]
  },
  {
   "cell_type": "markdown",
   "id": "c188f62a",
   "metadata": {},
   "source": [
    "# Alogorithm Workbench 5 \n",
    "Write nested decision structures that perform the following: If amount1 is greater than 10 and amount2 is less than 100, display the greater of amount1 and amount2."
   ]
  },
  {
   "cell_type": "code",
   "execution_count": 7,
   "id": "79f44430",
   "metadata": {},
   "outputs": [
    {
     "name": "stdout",
     "output_type": "stream",
     "text": [
      "enter amount 1    56\n",
      "enter amount 2    54\n",
      "56.0\n"
     ]
    }
   ],
   "source": [
    "# take value of amount1 and amount2\n",
    "amount1 = float(input(\"enter amount 1    \"))\n",
    "amount2 = float(input(\"enter amount 2    \"))\n",
    "\n",
    "# compare and output the higher value\n",
    "if amount1 > 10 and amount2 < 100:\n",
    "    if amount1>amount2:\n",
    "        print(amount1)\n",
    "    else:\n",
    "        print(amount2)\n",
    "else:\n",
    "    print(\"bad input\")"
   ]
  },
  {
   "cell_type": "code",
   "execution_count": 8,
   "id": "e4ee50e3",
   "metadata": {},
   "outputs": [
    {
     "name": "stdout",
     "output_type": "stream",
     "text": [
      "enter amount 1    2\n",
      "enter amount 2    987\n",
      "bad input\n"
     ]
    }
   ],
   "source": [
    "# take value of amount1 and amount2\n",
    "amount1 = float(input(\"enter amount 1    \"))\n",
    "amount2 = float(input(\"enter amount 2    \"))\n",
    "\n",
    "# compare and output the higher value\n",
    "if amount1 > 10 and amount2 < 100:\n",
    "    if amount1>amount2:\n",
    "        print(amount1)\n",
    "    else:\n",
    "        print(amount2)\n",
    "else:\n",
    "    print(\"bad input\")"
   ]
  },
  {
   "cell_type": "markdown",
   "id": "28088a9e",
   "metadata": {},
   "source": [
    "# Programming Exercise 1\n",
    "Write a program that asks the user for a number in the range of 1 through 7. The pro\u0002gram should display the corresponding day of the week, where 1 = Monday, 2 = Tuesday, 3 = Wednesday, 4 = Thursday, 5 = Friday, 6 = Saturday, and 7 = Sunday. The program should display an error message if the user enters a number that is outside the range of 1 through 7."
   ]
  },
  {
   "cell_type": "code",
   "execution_count": 9,
   "id": "a7703d0b",
   "metadata": {},
   "outputs": [
    {
     "name": "stdout",
     "output_type": "stream",
     "text": [
      "Enter an interger, 1-7   2\n",
      "Tuesday\n"
     ]
    }
   ],
   "source": [
    "# take input from user\n",
    "userNum = int(input(\"Enter an interger, 1-7   \"))\n",
    "# decide if input is in appropriate range\n",
    "if userNum >= 1 and userNum <= 7:\n",
    "    #print day of the week based on input\n",
    "    if userNum == 1:\n",
    "        print(\"Monday\")\n",
    "    elif userNum == 2:\n",
    "        print(\"Tuesday\")\n",
    "    elif userNum == 3:\n",
    "        print(\"Wednesday\")\n",
    "    elif userNum == 4:\n",
    "        print(\"Thursday\")\n",
    "    elif userNum == 5:\n",
    "        print(\"Friday\")\n",
    "    elif userNum == 6:\n",
    "        print(\"Saturday\")\n",
    "    elif userNum == 7:\n",
    "        print(\"Sunday\")\n",
    "#otherwise input is bad\n",
    "else:\n",
    "    print(\"bad input\")"
   ]
  },
  {
   "cell_type": "code",
   "execution_count": 10,
   "id": "a52108a5",
   "metadata": {},
   "outputs": [
    {
     "name": "stdout",
     "output_type": "stream",
     "text": [
      "Enter an interger, 1-7   8\n",
      "bad input\n"
     ]
    }
   ],
   "source": [
    "# take input from user\n",
    "userNum = int(input(\"Enter an interger, 1-7   \"))\n",
    "# decide if input is in appropriate range\n",
    "if userNum >= 1 and userNum <= 7:\n",
    "    #print day of the week based on input\n",
    "    if userNum == 1:\n",
    "        print(\"Monday\")\n",
    "    elif userNum == 2:\n",
    "        print(\"Tuesday\")\n",
    "    elif userNum == 3:\n",
    "        print(\"Wednesday\")\n",
    "    elif userNum == 4:\n",
    "        print(\"Thursday\")\n",
    "    elif userNum == 5:\n",
    "        print(\"Friday\")\n",
    "    elif userNum == 6:\n",
    "        print(\"Saturday\")\n",
    "    elif userNum == 7:\n",
    "        print(\"Sunday\")\n",
    "#otherwise input is bad\n",
    "else:\n",
    "    print(\"bad input\")"
   ]
  },
  {
   "cell_type": "code",
   "execution_count": 11,
   "id": "59554adb",
   "metadata": {},
   "outputs": [],
   "source": [
    "# I want it to call itself again when input is bad, so make it a function\n",
    "def dayPrinter():\n",
    "    userNum = int(input(\"Enter an interger, 1-7   \"))\n",
    "    if userNum >= 1 and userNum <= 7:\n",
    "        if userNum == 1:\n",
    "            print(\"Monday\")\n",
    "        elif userNum == 2:\n",
    "            print(\"Tuesday\")\n",
    "        elif userNum == 3:\n",
    "            print(\"Wednesday\")\n",
    "        elif userNum == 4:\n",
    "            print(\"Thursday\")\n",
    "        elif userNum == 5:\n",
    "            print(\"Friday\")\n",
    "        elif userNum == 6:\n",
    "            print(\"Saturday\")\n",
    "        elif userNum == 7:\n",
    "            print(\"Sunday\")\n",
    "    else:\n",
    "        print(\"bad input\")\n",
    "        #call function again\n",
    "        dayPrinter()\n",
    "        "
   ]
  },
  {
   "cell_type": "code",
   "execution_count": 12,
   "id": "8bb3875a",
   "metadata": {},
   "outputs": [
    {
     "name": "stdout",
     "output_type": "stream",
     "text": [
      "Enter an interger, 1-7   9\n",
      "bad input\n",
      "Enter an interger, 1-7   3\n",
      "Wednesday\n"
     ]
    }
   ],
   "source": [
    "dayPrinter()"
   ]
  },
  {
   "cell_type": "markdown",
   "id": "32cc86f5",
   "metadata": {},
   "source": [
    "# Programming Exercise 5\n",
    "Scientists measure an object’s mass in kilograms and its weight in newtons. If you know the amount of mass of an object in kilograms, you can calculate its weight in newtons with the following formula:\n",
    "weight = mass x 9.8\n",
    "Write a program that asks the user to enter an object’s mass, then calculates its weight. If the object weighs more than 500 newtons, display a message indicating that it is too heavy. If the object weighs less than 100 newtons, display a message indicating that it is too light."
   ]
  },
  {
   "cell_type": "code",
   "execution_count": 13,
   "id": "996f3cb1",
   "metadata": {},
   "outputs": [
    {
     "name": "stdout",
     "output_type": "stream",
     "text": [
      "enter the mass   600\n",
      "this is too heavy\n"
     ]
    }
   ],
   "source": [
    "#take input for mass\n",
    "mass = float(input(\"enter the mass   \"))\n",
    "#define weight\n",
    "weight = mass * 9.8\n",
    "#weight needs to be positive or zero\n",
    "if weight >= 0:\n",
    "    #too heavy output\n",
    "    if weight > 500:\n",
    "        print(\"this is too heavy\")\n",
    "    #too light output\n",
    "    elif weight < 100:\n",
    "        print(\"this is too light\")\n",
    "else:\n",
    "    print(\"this is impossible\")"
   ]
  },
  {
   "cell_type": "code",
   "execution_count": 14,
   "id": "d8a821f5",
   "metadata": {},
   "outputs": [],
   "source": [
    "#make this a function so it can be called again\n",
    "def massConverter():\n",
    "    mass = float(input(\"enter the mass   \"))\n",
    "    weight = mass * 9.8\n",
    "    #why not print the weight\n",
    "    print(f\"the weight is {weight}\")\n",
    "    if weight >= 0:\n",
    "        if weight > 500:\n",
    "            print(\"this is too heavy\")\n",
    "        elif weight < 100:\n",
    "            print(\"this is too light\")\n",
    "    else:\n",
    "        print(\"this is impossible   \")\n",
    "        massConverter()"
   ]
  },
  {
   "cell_type": "code",
   "execution_count": 15,
   "id": "8aaaf0d8",
   "metadata": {},
   "outputs": [
    {
     "name": "stdout",
     "output_type": "stream",
     "text": [
      "enter the mass   -999\n",
      "the weight is -9790.2\n",
      "this is impossible   \n",
      "enter the mass   789\n",
      "the weight is 7732.200000000001\n",
      "this is too heavy\n"
     ]
    }
   ],
   "source": [
    "massConverter()"
   ]
  },
  {
   "cell_type": "code",
   "execution_count": 16,
   "id": "b76bfebc",
   "metadata": {},
   "outputs": [],
   "source": [
    "def massConverter():\n",
    "    mass = float(input(\"enter the mass   \"))\n",
    "    weight = mass * 9.8\n",
    "    #why not print the weight with units\n",
    "    print(f\"the weight is {weight} newtons\")\n",
    "    if weight >= 0:\n",
    "        if weight > 500:\n",
    "            print(\"this is too heavy\")\n",
    "        elif weight < 100:\n",
    "            print(\"this is too light\")\n",
    "    else:\n",
    "        print(\"this is impossible   \")\n",
    "        massConverter()"
   ]
  },
  {
   "cell_type": "code",
   "execution_count": 17,
   "id": "6480952a",
   "metadata": {},
   "outputs": [
    {
     "name": "stdout",
     "output_type": "stream",
     "text": [
      "enter the mass   -3456\n",
      "the weight is -33868.8 newtons\n",
      "this is impossible   \n",
      "enter the mass   3\n",
      "the weight is 29.400000000000002 newtons\n",
      "this is too light\n"
     ]
    }
   ],
   "source": [
    "massConverter()"
   ]
  },
  {
   "cell_type": "markdown",
   "id": "b2dda20b",
   "metadata": {},
   "source": [
    "# Programming Exercise 15\n",
    "Write a program that asks the user to enter a number of seconds and works as follows: \n",
    "\n",
    "-There are 60 seconds in a minute. If the number of seconds entered by the user is greater than or equal to 60, the program should convert the number of seconds to minutes and seconds. \n",
    "\n",
    "-There are 3,600 seconds in an hour. If the number of seconds entered by the user is greater than or equal to 3,600, the program should convert the number of seconds to hours, minutes, and seconds. \n",
    "\n",
    "-There are 86,400 seconds in a day. If the number of seconds entered by the user is greater than or equal to 86,400, the program should convert the number of seconds to days, hours, minutes, and seconds\n"
   ]
  },
  {
   "cell_type": "code",
   "execution_count": 1,
   "id": "4897fd40",
   "metadata": {},
   "outputs": [
    {
     "name": "stdout",
     "output_type": "stream",
     "text": [
      "Enter the number of seconds:   420\n",
      "the time is 7 minutes and 0 seconds\n"
     ]
    }
   ],
   "source": [
    "#take user input for number of seconds\n",
    "numSeconds = int(input(\"Enter the number of seconds:   \"))\n",
    "\n",
    "#output in seconds if under 1 minute\n",
    "if numSeconds < 60:\n",
    "    print(f\"the time is {numSeconds} seconds\")\n",
    "#output for 1 minute to 1 hour\n",
    "elif numSeconds >= 60 and numSeconds <= 3599:\n",
    "    mins = numSeconds // 60\n",
    "    secs = numSeconds % 60\n",
    "    print(f\"the time is {mins} minutes and {secs} seconds\")"
   ]
  },
  {
   "cell_type": "code",
   "execution_count": 5,
   "id": "019d6b13",
   "metadata": {},
   "outputs": [
    {
     "name": "stdout",
     "output_type": "stream",
     "text": [
      "Enter the number of seconds:   9000\n",
      "the time is 2 hours, 0 minutes, and 2 seconds\n"
     ]
    }
   ],
   "source": [
    "#take user input for number of seconds\n",
    "numSeconds = int(input(\"Enter the number of seconds:   \"))\n",
    "\n",
    "#output in seconds if under 1 minute, positive\n",
    "if numSeconds < 60 and numSeconds >= 0:\n",
    "    print(f\"the time is {numSeconds} seconds\")\n",
    "#output for 1 minute to 1 hour\n",
    "elif numSeconds >= 60 and numSeconds <= 3599:\n",
    "    mins = numSeconds // 60\n",
    "    secs = numSeconds % 60\n",
    "    print(f\"the time is {mins} minutes and {secs} seconds\")\n",
    "#from 1 hour to 1 day\n",
    "elif numSeconds >= 3600 and numSeconds <= 86400:\n",
    "    hours = numSeconds // 3600\n",
    "    mins = (numSeconds // 3600)//60\n",
    "    secs = (numSeconds // 3600)%60\n",
    "    print(f\"the time is {hours} hours, {mins} minutes, and {secs} seconds\")\n",
    "\n",
    "    "
   ]
  },
  {
   "cell_type": "code",
   "execution_count": 6,
   "id": "f230f4d9",
   "metadata": {},
   "outputs": [
    {
     "name": "stdout",
     "output_type": "stream",
     "text": [
      "Enter the number of seconds:   9000\n",
      "the time is 2 hours, 30 minutes, and 0 seconds\n"
     ]
    }
   ],
   "source": [
    "#take user input for number of seconds\n",
    "numSeconds = int(input(\"Enter the number of seconds:   \"))\n",
    "\n",
    "#output in seconds if under 1 minute, positive\n",
    "if numSeconds < 60 and numSeconds >= 0:\n",
    "    print(f\"the time is {numSeconds} seconds\")\n",
    "#output for 1 minute to 1 hour\n",
    "elif numSeconds >= 60 and numSeconds <= 3599:\n",
    "    mins = numSeconds // 60\n",
    "    secs = numSeconds % 60\n",
    "    print(f\"the time is {mins} minutes and {secs} seconds\")\n",
    "#from 1 hour to 1 day, try to correct math\n",
    "elif numSeconds >= 3600 and numSeconds <= 86400:\n",
    "    hours = numSeconds // 3600\n",
    "    mins = (numSeconds % 3600)//60\n",
    "    secs = (numSeconds % 3600)%60\n",
    "    print(f\"the time is {hours} hours, {mins} minutes, and {secs} seconds\")"
   ]
  },
  {
   "cell_type": "code",
   "execution_count": 7,
   "id": "4207e7dc",
   "metadata": {},
   "outputs": [],
   "source": [
    "#make this easier to call on\n",
    "def secConverter():\n",
    "    numSeconds = int(input(\"Enter the number of seconds:   \"))\n",
    "\n",
    "#output in seconds if under 1 minute, positive\n",
    "    if numSeconds < 60 and numSeconds >= 0:\n",
    "        print(f\"the time is {numSeconds} seconds\")\n",
    "#output for 1 minute to 1 hour\n",
    "    elif numSeconds >= 60 and numSeconds <= 3599:\n",
    "        mins = numSeconds // 60\n",
    "        secs = numSeconds % 60\n",
    "        print(f\"the time is {mins} minutes and {secs} seconds\")\n",
    "#from 1 hour to 1 day, try to correct math\n",
    "    elif numSeconds >= 3600 and numSeconds <= 86400:\n",
    "        hours = numSeconds // 3600\n",
    "        mins = (numSeconds % 3600)//60\n",
    "        secs = (numSeconds % 3600)%60\n",
    "        print(f\"the time is {hours} hours, {mins} minutes, and {secs} seconds\")"
   ]
  },
  {
   "cell_type": "code",
   "execution_count": 8,
   "id": "69973c57",
   "metadata": {},
   "outputs": [
    {
     "name": "stdout",
     "output_type": "stream",
     "text": [
      "Enter the number of seconds:   9030\n",
      "the time is 2 hours, 30 minutes, and 30 seconds\n"
     ]
    }
   ],
   "source": [
    "secConverter()"
   ]
  },
  {
   "cell_type": "code",
   "execution_count": 12,
   "id": "a818dbd9",
   "metadata": {},
   "outputs": [],
   "source": [
    "def secConverter():\n",
    "    numSeconds = int(input(\"Enter the number of seconds:   \"))\n",
    "\n",
    "#output in seconds if under 1 minute, positive\n",
    "    if numSeconds < 60 and numSeconds >= 0:\n",
    "        print(f\"the time is {numSeconds} seconds\")\n",
    "#output for 1 minute to 1 hour\n",
    "    elif numSeconds >= 60 and numSeconds <= 3599:\n",
    "        mins = numSeconds // 60\n",
    "        secs = numSeconds % 60\n",
    "        print(f\"the time is {mins} minutes and {secs} seconds\")\n",
    "#from 1 hour to 1 day, try to correct math, math now correct\n",
    "    elif numSeconds >= 3600 and numSeconds <= 86399:\n",
    "        hours = numSeconds // 3600\n",
    "        mins = (numSeconds % 3600)//60\n",
    "        secs = (numSeconds % 3600)%60\n",
    "        print(f\"the time is {hours} hours, {mins} minutes, and {secs} seconds\")\n",
    "#over 1 day\n",
    "    elif numSeconds > 86400:\n",
    "        days = numSeconds // 86400\n",
    "        hours = (numSeconds % 86400) // 3600\n",
    "        mins = ((numSeconds % 86400) % 3600) // 60\n",
    "        secs = ((numSeconds % 86400) % 3600) % 60\n",
    "        print(f\"the time is {days} days, {hours} hours, {mins} minutes\\\n",
    "        , and {secs} seconds\")\n",
    "#handle negative input and call function again with error message\n",
    "    else:\n",
    "        print(\"there is a problem with your input, try again   \")\n",
    "        secConcerter()"
   ]
  },
  {
   "cell_type": "code",
   "execution_count": 11,
   "id": "3a8bcb9b",
   "metadata": {},
   "outputs": [
    {
     "ename": "NameError",
     "evalue": "name 'secConcerter' is not defined",
     "output_type": "error",
     "traceback": [
      "\u001b[1;31m---------------------------------------------------------------------------\u001b[0m",
      "\u001b[1;31mNameError\u001b[0m                                 Traceback (most recent call last)",
      "Cell \u001b[1;32mIn[11], line 1\u001b[0m\n\u001b[1;32m----> 1\u001b[0m secConcerter()\n",
      "\u001b[1;31mNameError\u001b[0m: name 'secConcerter' is not defined"
     ]
    }
   ],
   "source": [
    "secConcerter()"
   ]
  },
  {
   "cell_type": "code",
   "execution_count": 3,
   "id": "b1220c29",
   "metadata": {},
   "outputs": [],
   "source": [
    "#usually this means I need a kernal restart and to state everything again\n",
    "def secConverter():\n",
    "    numSeconds = int(input(\"Enter the number of seconds:   \"))\n",
    "\n",
    "#output in seconds if under 1 minute, positive\n",
    "    if numSeconds < 60 and numSeconds >= 0:\n",
    "        print(f\"the time is {numSeconds} seconds\")\n",
    "#output for 1 minute to 1 hour\n",
    "    elif numSeconds >= 60 and numSeconds <= 3599:\n",
    "        mins = numSeconds // 60\n",
    "        secs = numSeconds % 60\n",
    "        print(f\"the time is {mins} minutes and {secs} seconds\")\n",
    "#from 1 hour to 1 day, try to correct math, math now correct\n",
    "    elif numSeconds >= 3600 and numSeconds <= 86399:\n",
    "        hours = numSeconds // 3600\n",
    "        mins = (numSeconds % 3600)//60\n",
    "        secs = (numSeconds % 3600)%60\n",
    "        print(f\"the time is {hours} hours, {mins} minutes, and {secs} seconds\")\n",
    "#over 1 day\n",
    "    elif numSeconds > 86400:\n",
    "        days = numSeconds // 86400\n",
    "        hours = (numSeconds % 86400) // 3600\n",
    "        mins = ((numSeconds % 86400) % 3600) // 60\n",
    "        secs = ((numSeconds % 86400) % 3600) % 60\n",
    "        #this looks real ugly outside the nested structure but prints bad \n",
    "        #indented\n",
    "        print(f\"the time is {days} days, {hours} hours, {mins} minutes\\\n",
    ", and {secs} seconds\")\n",
    "#handle negative input and call function again with error message\n",
    "    else:\n",
    "        print(\"there is a problem with your input, try again   \")\n",
    "        secConcerter()"
   ]
  },
  {
   "cell_type": "code",
   "execution_count": 4,
   "id": "01f06d84",
   "metadata": {},
   "outputs": [
    {
     "name": "stdout",
     "output_type": "stream",
     "text": [
      "Enter the number of seconds:   100000\n",
      "the time is 1 days, 3 hours, 46 minutes, and 40 seconds\n"
     ]
    }
   ],
   "source": [
    "secConverter()"
   ]
  },
  {
   "cell_type": "code",
   "execution_count": 5,
   "id": "e6e5fb99",
   "metadata": {},
   "outputs": [
    {
     "name": "stdout",
     "output_type": "stream",
     "text": [
      "Enter the number of seconds:   0\n",
      "the time is 0 seconds\n"
     ]
    }
   ],
   "source": [
    "secConverter()"
   ]
  },
  {
   "cell_type": "code",
   "execution_count": 6,
   "id": "e337b298",
   "metadata": {},
   "outputs": [
    {
     "name": "stdout",
     "output_type": "stream",
     "text": [
      "Enter the number of seconds:   -35\n",
      "there is a problem with your input, try again   \n"
     ]
    },
    {
     "ename": "NameError",
     "evalue": "name 'secConcerter' is not defined",
     "output_type": "error",
     "traceback": [
      "\u001b[1;31m---------------------------------------------------------------------------\u001b[0m",
      "\u001b[1;31mNameError\u001b[0m                                 Traceback (most recent call last)",
      "Cell \u001b[1;32mIn[6], line 1\u001b[0m\n\u001b[1;32m----> 1\u001b[0m secConverter()\n",
      "Cell \u001b[1;32mIn[3], line 30\u001b[0m, in \u001b[0;36msecConverter\u001b[1;34m()\u001b[0m\n\u001b[0;32m     27\u001b[0m \u001b[38;5;66;03m#handle negative input and call function again with error message\u001b[39;00m\n\u001b[0;32m     28\u001b[0m     \u001b[38;5;28;01melse\u001b[39;00m:\n\u001b[0;32m     29\u001b[0m         \u001b[38;5;28mprint\u001b[39m(\u001b[38;5;124m\"\u001b[39m\u001b[38;5;124mthere is a problem with your input, try again   \u001b[39m\u001b[38;5;124m\"\u001b[39m)\n\u001b[1;32m---> 30\u001b[0m         secConcerter()\n",
      "\u001b[1;31mNameError\u001b[0m: name 'secConcerter' is not defined"
     ]
    }
   ],
   "source": [
    "secConverter()"
   ]
  },
  {
   "cell_type": "code",
   "execution_count": 7,
   "id": "bee1dbe8",
   "metadata": {},
   "outputs": [],
   "source": [
    "#should probably spell my own function correctly\n",
    "def secConverter():\n",
    "    numSeconds = int(input(\"Enter the number of seconds:   \"))\n",
    "\n",
    "#output in seconds if under 1 minute, positive\n",
    "    if numSeconds < 60 and numSeconds >= 0:\n",
    "        print(f\"the time is {numSeconds} seconds\")\n",
    "#output for 1 minute to 1 hour\n",
    "    elif numSeconds >= 60 and numSeconds <= 3599:\n",
    "        mins = numSeconds // 60\n",
    "        secs = numSeconds % 60\n",
    "        print(f\"the time is {mins} minutes and {secs} seconds\")\n",
    "#from 1 hour to 1 day, try to correct math, math now correct\n",
    "    elif numSeconds >= 3600 and numSeconds <= 86399:\n",
    "        hours = numSeconds // 3600\n",
    "        mins = (numSeconds % 3600)//60\n",
    "        secs = (numSeconds % 3600)%60\n",
    "        print(f\"the time is {hours} hours, {mins} minutes, and {secs} seconds\")\n",
    "#over 1 day\n",
    "    elif numSeconds > 86400:\n",
    "        days = numSeconds // 86400\n",
    "        hours = (numSeconds % 86400) // 3600\n",
    "        mins = ((numSeconds % 86400) % 3600) // 60\n",
    "        secs = ((numSeconds % 86400) % 3600) % 60\n",
    "        #this looks real ugly outside the nested structure but prints bad \n",
    "        #indented\n",
    "        print(f\"the time is {days} days, {hours} hours, {mins} minutes\\\n",
    ", and {secs} seconds\")\n",
    "#handle negative input and call function again with error message\n",
    "    else:\n",
    "        print(\"there is a problem with your input, try again   \")\n",
    "        secConverter()"
   ]
  },
  {
   "cell_type": "code",
   "execution_count": 8,
   "id": "ab3ba1bd",
   "metadata": {},
   "outputs": [
    {
     "name": "stdout",
     "output_type": "stream",
     "text": [
      "Enter the number of seconds:   -56\n",
      "there is a problem with your input, try again   \n",
      "Enter the number of seconds:   42069\n",
      "the time is 11 hours, 41 minutes, and 9 seconds\n"
     ]
    }
   ],
   "source": [
    "secConverter()"
   ]
  },
  {
   "cell_type": "code",
   "execution_count": 9,
   "id": "6f8b292b",
   "metadata": {},
   "outputs": [
    {
     "name": "stdout",
     "output_type": "stream",
     "text": [
      "Enter the number of seconds:   76849375699747960383746\n",
      "the time is 889460366895231022 days, 23 hours, 2 minutes, and 26 seconds\n"
     ]
    }
   ],
   "source": [
    "secConverter()"
   ]
  },
  {
   "cell_type": "markdown",
   "id": "7ddd24c4",
   "metadata": {},
   "source": [
    "# Programming Exercise 16\n",
    "The month of February normally has 28 days. But if it is a leap year, February has 29 days. Write a program that asks the user to enter a year. The program should then display the number of days in February that year. Use the following criteria to identify leap years:\n",
    "\n",
    "-Determine whether the year is divisible by 100. If it is, then it is a leap year if and only if it is also divisible by 400\n",
    "\n",
    "-If the year is not divisible by 100, then it is a leap year if and only if it is divisible by 4\n"
   ]
  },
  {
   "cell_type": "code",
   "execution_count": 10,
   "id": "93fbdec3",
   "metadata": {},
   "outputs": [
    {
     "name": "stdout",
     "output_type": "stream",
     "text": [
      "Enter a year:   2020\n",
      "in 2020 February has 29 days\n"
     ]
    }
   ],
   "source": [
    "#take user input for the year, should be a positive integer \n",
    "yearIn = int(input(\"Enter a year:   \"))\n",
    "\n",
    "#is yearIn divisible by 100 and 400\n",
    "if (yearIn % 100) == 0 and (yearIn % 400):\n",
    "    print(f\"in {yearIn} February has 29 days\")\n",
    "#is yearIn not divisible by 100 but by 4\n",
    "elif (yearIn % 100) != 0 and (yearIn % 4) == 0:\n",
    "    print(f\"in {yearIn} February has 29 days\")\n",
    "else:\n",
    "    print(f\"in {yearIn} February has 28 days\")\n"
   ]
  },
  {
   "cell_type": "code",
   "execution_count": 11,
   "id": "85b8a0b2",
   "metadata": {},
   "outputs": [
    {
     "name": "stdout",
     "output_type": "stream",
     "text": [
      "Enter a year:   4\n",
      "in 4 February has 29 days\n"
     ]
    }
   ],
   "source": [
    "#take user input for the year, should be a positive integer \n",
    "yearIn = int(input(\"Enter a year:   \"))\n",
    "\n",
    "#is yearIn divisible by 100 and 400\n",
    "if (yearIn % 100) == 0 and (yearIn % 400):\n",
    "    print(f\"in {yearIn} February has 29 days\")\n",
    "#is yearIn not divisible by 100 but by 4\n",
    "elif (yearIn % 100) != 0 and (yearIn % 4) == 0:\n",
    "    print(f\"in {yearIn} February has 29 days\")\n",
    "else:\n",
    "    print(f\"in {yearIn} February has 28 days\")"
   ]
  },
  {
   "cell_type": "code",
   "execution_count": 12,
   "id": "50a1d2d0",
   "metadata": {},
   "outputs": [
    {
     "name": "stdout",
     "output_type": "stream",
     "text": [
      "Enter a year:   4\n",
      "in 4 February has 29 days, but don't count on it\n"
     ]
    }
   ],
   "source": [
    "#this is not really correct because 1582 was the year the Gregorian Calendar was\n",
    "#introduced and with it the modern method of calculating leap years (https://en.wikipedia.org/wiki/Gregorian_calendar)\n",
    "yearIn = int(input(\"Enter a year:   \"))\n",
    "\n",
    "#is yearIn divisible by 100 and 400\n",
    "if yearIn >= 1582 and (yearIn % 100) == 0 and (yearIn % 400):\n",
    "    print(f\"in {yearIn} February has 29 days\")\n",
    "#is yearIn not divisible by 100 but by 4\n",
    "elif yearIn >= 1582 and (yearIn % 100) != 0 and (yearIn % 4) == 0:\n",
    "    print(f\"in {yearIn} February has 29 days\")\n",
    "#is yearIn divisible by 100 and 400\n",
    "if yearIn >= 1582 or (yearIn % 100) == 0 and (yearIn % 400):\n",
    "    print(f\"in {yearIn} February has 29 days, but don't count on it\")\n",
    "#is yearIn not divisible by 100 but by 4\n",
    "elif yearIn >= 1582 or (yearIn % 100) != 0 and (yearIn % 4) == 0:\n",
    "    print(f\"in {yearIn} February has 29 days, but don't count on it\")\n",
    "else:\n",
    "    print(f\"in {yearIn} February has 28 days\")"
   ]
  },
  {
   "cell_type": "code",
   "execution_count": 13,
   "id": "8362972c",
   "metadata": {},
   "outputs": [],
   "source": [
    "#make it a function to test easier\n",
    "# leap years: 1904, 1908, 1912, 1916, 1920, 1924\n",
    "def leapYear():\n",
    "    yearIn = int(input(\"Enter a year:   \"))\n",
    "\n",
    "\n",
    "    if yearIn >= 1582 and (yearIn % 100) == 0 and (yearIn % 400):\n",
    "        print(f\"in {yearIn} February has 29 days\")\n",
    "\n",
    "    elif yearIn >= 1582 and (yearIn % 100) != 0 and (yearIn % 4) == 0:\n",
    "        print(f\"in {yearIn} February has 29 days\")\n",
    "\n",
    "    if yearIn >= 1582 or (yearIn % 100) == 0 and (yearIn % 400):\n",
    "        print(f\"in {yearIn} February has 29 days, but don't count on it\")\n",
    "\n",
    "    elif yearIn >= 1582 or (yearIn % 100) != 0 and (yearIn % 4) == 0:\n",
    "        print(f\"in {yearIn} February has 29 days, but don't count on it\")\n",
    "        \n",
    "    else:\n",
    "        print(f\"in {yearIn} February has 28 days\")"
   ]
  },
  {
   "cell_type": "code",
   "execution_count": 14,
   "id": "6d890ffe",
   "metadata": {},
   "outputs": [
    {
     "name": "stdout",
     "output_type": "stream",
     "text": [
      "Enter a year:   1904\n",
      "in 1904 February has 29 days\n",
      "in 1904 February has 29 days, but don't count on it\n"
     ]
    }
   ],
   "source": [
    "leapYear()"
   ]
  },
  {
   "cell_type": "code",
   "execution_count": 17,
   "id": "e425f624",
   "metadata": {},
   "outputs": [],
   "source": [
    "#make it a function to test easier\n",
    "# leap years: 1904, 1908, 1912, 1916, 1920, 1924\n",
    "def leapYear():\n",
    "    yearIn = int(input(\"Enter a year:   \"))\n",
    "\n",
    "\n",
    "    if yearIn >= 1582 and (yearIn % 100) == 0 and (yearIn % 400):\n",
    "        print(f\"in {yearIn} February has 29 days\")\n",
    "\n",
    "    elif yearIn >= 1582 and (yearIn % 100) != 0 and (yearIn % 4) == 0:\n",
    "        print(f\"in {yearIn} February has 29 days\")\n",
    "\n",
    "    elif yearIn < 1582 and (yearIn % 100) == 0 and (yearIn % 400):\n",
    "        print(f\"in {yearIn} February has 29 days, but don't count on it\")\n",
    "\n",
    "    elif yearIn < 1582 and (yearIn % 100) != 0 and (yearIn % 4) == 0:\n",
    "        print(f\"in {yearIn} February has 29 days, but don't count on it\")\n",
    "        \n",
    "    else:\n",
    "        print(f\"in {yearIn} February has 28 days\")"
   ]
  },
  {
   "cell_type": "code",
   "execution_count": 18,
   "id": "724d0f45",
   "metadata": {},
   "outputs": [
    {
     "name": "stdout",
     "output_type": "stream",
     "text": [
      "Enter a year:   1904\n",
      "in 1904 February has 29 days\n"
     ]
    }
   ],
   "source": [
    "leapYear()"
   ]
  },
  {
   "cell_type": "code",
   "execution_count": 19,
   "id": "4c75f487",
   "metadata": {},
   "outputs": [
    {
     "name": "stdout",
     "output_type": "stream",
     "text": [
      "Enter a year:   1905\n",
      "in 1905 February has 28 days\n"
     ]
    }
   ],
   "source": [
    "leapYear()"
   ]
  },
  {
   "cell_type": "code",
   "execution_count": 20,
   "id": "d3853e22",
   "metadata": {},
   "outputs": [
    {
     "name": "stdout",
     "output_type": "stream",
     "text": [
      "Enter a year:   4\n",
      "in 4 February has 29 days, but don't count on it\n"
     ]
    }
   ],
   "source": [
    "leapYear()"
   ]
  },
  {
   "cell_type": "code",
   "execution_count": 21,
   "id": "aa2f8119",
   "metadata": {},
   "outputs": [
    {
     "name": "stdout",
     "output_type": "stream",
     "text": [
      "Enter a year:   1582\n",
      "in 1582 February has 28 days\n"
     ]
    }
   ],
   "source": [
    "leapYear()"
   ]
  },
  {
   "cell_type": "code",
   "execution_count": 22,
   "id": "e31d5f94",
   "metadata": {},
   "outputs": [
    {
     "name": "stdout",
     "output_type": "stream",
     "text": [
      "Enter a year:   1584\n",
      "in 1584 February has 29 days\n"
     ]
    }
   ],
   "source": [
    "leapYear()"
   ]
  },
  {
   "cell_type": "code",
   "execution_count": 24,
   "id": "87193dbb",
   "metadata": {},
   "outputs": [],
   "source": [
    "def leapYear():\n",
    "    yearIn = int(input(\"Enter a year:   \"))\n",
    "\n",
    "\n",
    "    if yearIn >= 1582 and (yearIn % 100) == 0 and (yearIn % 400):\n",
    "        print(f\"in {yearIn} February has 29 days\")\n",
    "\n",
    "    elif yearIn >= 1582 and (yearIn % 100) != 0 and (yearIn % 4) == 0:\n",
    "        print(f\"in {yearIn} February has 29 days\")\n",
    "\n",
    "    elif yearIn < 1582 and (yearIn % 100) == 0 and (yearIn % 400):\n",
    "        print(f\"in {yearIn} February has 29 days, but don't count on it\")\n",
    "\n",
    "    elif yearIn < 1582 and (yearIn % 100) != 0 and (yearIn % 4) == 0:\n",
    "        print(f\"in {yearIn} February has 29 days, but don't count on it\")\n",
    "        \n",
    "    #this distinction is also true for normal years\n",
    "    else:\n",
    "        if yearIn >= 1582:\n",
    "            print(f\"in {yearIn} February has 28 days\")\n",
    "        else:\n",
    "            print(f\"in {yearIn} February has 28 days, but don't count on it\")"
   ]
  },
  {
   "cell_type": "code",
   "execution_count": 25,
   "id": "be3772a4",
   "metadata": {},
   "outputs": [
    {
     "name": "stdout",
     "output_type": "stream",
     "text": [
      "Enter a year:   6\n",
      "in 6 February has 28 days, but don't count on it\n"
     ]
    }
   ],
   "source": [
    "leapYear()"
   ]
  },
  {
   "cell_type": "code",
   "execution_count": 26,
   "id": "cc4ea93b",
   "metadata": {},
   "outputs": [
    {
     "name": "stdout",
     "output_type": "stream",
     "text": [
      "Enter a year:   1920\n",
      "in 1920 February has 29 days\n"
     ]
    }
   ],
   "source": [
    "leapYear()"
   ]
  },
  {
   "cell_type": "code",
   "execution_count": 27,
   "id": "41d4c760",
   "metadata": {},
   "outputs": [
    {
     "name": "stdout",
     "output_type": "stream",
     "text": [
      "Enter a year:   1921\n",
      "in 1921 February has 28 days\n"
     ]
    }
   ],
   "source": [
    "leapYear()"
   ]
  },
  {
   "cell_type": "code",
   "execution_count": 1,
   "id": "839d59ae",
   "metadata": {},
   "outputs": [],
   "source": [
    "def leapYear():\n",
    "    yearIn = int(input(\"Enter a year:   \"))\n",
    "\n",
    "#realised the second part of this statement wasn't complete\n",
    "    if yearIn >= 1582 and (yearIn % 100) == 0 and (yearIn % 400) == 0:\n",
    "        print(f\"in {yearIn} February has 29 days\")\n",
    "\n",
    "    elif yearIn >= 1582 and (yearIn % 100) != 0 and (yearIn % 4) == 0:\n",
    "        print(f\"in {yearIn} February has 29 days\")\n",
    "#and here\n",
    "    elif yearIn < 1582 and (yearIn % 100) == 0 and (yearIn % 400) == 0:\n",
    "        print(f\"in {yearIn} February has 29 days, but don't count on it\")\n",
    "\n",
    "    elif yearIn < 1582 and (yearIn % 100) != 0 and (yearIn % 4) == 0:\n",
    "        print(f\"in {yearIn} February has 29 days, but don't count on it\")\n",
    "        \n",
    "    #this distinction is also true for normal years\n",
    "    else:\n",
    "        if yearIn >= 1582:\n",
    "            print(f\"in {yearIn} February has 28 days\")\n",
    "        else:\n",
    "            print(f\"in {yearIn} February has 28 days, but don't count on it\")"
   ]
  },
  {
   "cell_type": "code",
   "execution_count": 2,
   "id": "0393ba17",
   "metadata": {},
   "outputs": [
    {
     "name": "stdout",
     "output_type": "stream",
     "text": [
      "Enter a year:   1920\n",
      "in 1920 February has 29 days\n"
     ]
    }
   ],
   "source": [
    "leapYear()"
   ]
  },
  {
   "cell_type": "code",
   "execution_count": 3,
   "id": "98feaceb",
   "metadata": {},
   "outputs": [
    {
     "name": "stdout",
     "output_type": "stream",
     "text": [
      "Enter a year:   1921\n",
      "in 1921 February has 28 days\n"
     ]
    }
   ],
   "source": [
    "leapYear()"
   ]
  },
  {
   "cell_type": "code",
   "execution_count": 4,
   "id": "0fed6b45",
   "metadata": {},
   "outputs": [
    {
     "name": "stdout",
     "output_type": "stream",
     "text": [
      "Enter a year:   4\n",
      "in 4 February has 29 days, but don't count on it\n"
     ]
    }
   ],
   "source": [
    "leapYear()"
   ]
  },
  {
   "cell_type": "code",
   "execution_count": 5,
   "id": "6c341e2a",
   "metadata": {},
   "outputs": [
    {
     "name": "stdout",
     "output_type": "stream",
     "text": [
      "Enter a year:   6\n",
      "in 6 February has 28 days, but don't count on it\n"
     ]
    }
   ],
   "source": [
    "leapYear()"
   ]
  },
  {
   "cell_type": "code",
   "execution_count": 6,
   "id": "6ef75b0f",
   "metadata": {},
   "outputs": [
    {
     "name": "stdout",
     "output_type": "stream",
     "text": [
      "Enter a year:   78183\n",
      "in 78183 February has 28 days\n"
     ]
    }
   ],
   "source": [
    "leapYear()"
   ]
  },
  {
   "cell_type": "code",
   "execution_count": 7,
   "id": "77858636",
   "metadata": {},
   "outputs": [
    {
     "name": "stdout",
     "output_type": "stream",
     "text": [
      "Enter a year:   2364\n",
      "in 2364 February has 29 days\n"
     ]
    }
   ],
   "source": [
    "#this means TNG didn't start in a leap year, actually according to wikipedia the stardate is equivalent to 2364 so\n",
    "leapYear()\n"
   ]
  },
  {
   "cell_type": "code",
   "execution_count": null,
   "id": "f7209395",
   "metadata": {},
   "outputs": [],
   "source": [
    "#TNG did start on a leap year"
   ]
  }
 ],
 "metadata": {
  "kernelspec": {
   "display_name": "Python 3 (ipykernel)",
   "language": "python",
   "name": "python3"
  },
  "language_info": {
   "codemirror_mode": {
    "name": "ipython",
    "version": 3
   },
   "file_extension": ".py",
   "mimetype": "text/x-python",
   "name": "python",
   "nbconvert_exporter": "python",
   "pygments_lexer": "ipython3",
   "version": "3.11.4"
  }
 },
 "nbformat": 4,
 "nbformat_minor": 5
}
