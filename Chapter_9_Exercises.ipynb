{
 "cells": [
  {
   "cell_type": "markdown",
   "metadata": {},
   "source": [
    "# Programming Exercise 9: Blackjack Simulation\n",
    "Previously in this chapter you saw the card_dealer.py program that simulates cards being dealt from a deck. Enhance the program so it simulates a simplified version of the game of Blackjack between two virtual players. The cards have the following values:\n",
    "\n",
    "• Numeric cards are assigned the value they have printed on them. For example, the value of the 2 of spades is 2, and the value of the 5 of diamonds is 5.\n",
    "\n",
    "• Jacks, queens, and kings are valued at 10.\n",
    "\n",
    "• Aces are valued at 1 or 11, depending on the player’s choice.\n",
    "\n",
    "The program should deal cards to each player until one player’s hand is worth more than 21 points. When that happens, the other player is the winner. (It is possible that both players’ hands will simultaneously exceed 21 points, in which case neither player wins.) The program should repeat until all the cards have been dealt from the deck. If a player is dealt an ace, the program should decide the value of the card according to the following rule: The ace will be worth 11 points, unless that makes the player’s hand exceed 21 points. In that case, the ace will be worth 1 point."
   ]
  },
  {
   "cell_type": "code",
   "execution_count": 12,
   "metadata": {},
   "outputs": [
    {
     "name": "stdout",
     "output_type": "stream",
     "text": [
      "Ace of Hearts\n",
      "Queen of Hearts\n",
      "Jack of Clubs\n",
      "7 of Diamonds\n",
      "King of Spades\n",
      "4 of Diamonds\n",
      "Value of this hand: 42\n"
     ]
    }
   ],
   "source": [
    "#first create the referenced program from the book and verify that calling\n",
    "#the functions of the module works \n",
    "import card_dealer\n",
    "card_dealer.main()\n"
   ]
  },
  {
   "cell_type": "code",
   "execution_count": 3,
   "metadata": {},
   "outputs": [
    {
     "name": "stdout",
     "output_type": "stream",
     "text": [
      "Let's play a hand of Blackjack.\n",
      "\n",
      "Your cards, turn 1: \n",
      "4 of Hearts\n",
      "8 of Hearts\n",
      "Your Score is: 12\n",
      "\n",
      "Dealer's cards, turn 1: \n",
      "7 of Hearts\n",
      "5 of Diamonds\n",
      "Dealer score: 12\n",
      "\n"
     ]
    },
    {
     "name": "stdout",
     "output_type": "stream",
     "text": [
      "Your cards, turn 2: \n",
      "4 of Hearts\n",
      "8 of Hearts\n",
      "10 of Spades\n",
      "Your Score is: 22\n",
      "\n",
      "Dealer's cards, turn 2: \n",
      "7 of Hearts\n",
      "5 of Diamonds\n",
      "Jack of Hearts\n",
      "Dealer score: 22\n",
      "\n",
      "The dealer won! You busted out.\n",
      "\n"
     ]
    }
   ],
   "source": [
    "import card_dealer\n",
    "import random \n",
    "\n",
    "\n",
    "#The main function will play a game of Blackjack between the user and a dealer.\n",
    "#the program will create and manage a deck of cards as a dictionary. 2 cards are\n",
    "#drawn in the first turn. On subsequent turns the user will take cards as desired\n",
    "#dealer will stand on 17. The program will score the hands on the conclusion of\n",
    "#each turn, decide if there is a winner, and print revlevant output as this \n",
    "#happens. User will be prompted for if they want to play again\n",
    "def main():\n",
    "    #contVar is 'y' to start as obviously we want to play the game if we're \n",
    "    #starting it\n",
    "    contVar = 'y'\n",
    "    #while contVar is 'y'\n",
    "    while contVar == 'y':\n",
    "        #initialize user hand, empty\n",
    "        userHand = {}\n",
    "        #initialize dealer hand, empty\n",
    "        dealerHand = {}\n",
    "        usrScore = 0\n",
    "        #initialize dealer score\n",
    "        dealerScore = 0\n",
    "        #create the deck, assign to deck variable\n",
    "        deck = card_dealer.create_deck() \n",
    "        #print message to user   \n",
    "        print(\"Let's play a hand of Blackjack.\\n\")\n",
    "        #deal 2 cars to the user\n",
    "        userHand = card_dealer.deal(deck, 2, userHand)\n",
    "        #deal 2 cards to the dealer\n",
    "        dealerHand = card_dealer.deal(deck, 2, dealerHand)\n",
    "        #score userHand and dealerHand, assign scores to usrScore, dealerScore\n",
    "        usrScore, dealerScore = card_dealer.score(userHand, dealerHand)\n",
    "        #this is the first turn, this variable will be a counter for turn number\n",
    "        turnNum = 1\n",
    "        #call printTurn function to print current hands and scores\n",
    "        card_dealer.printTurn(userHand, dealerHand, usrScore, dealerScore, turnNum)\n",
    "        #call turnResult function to determine the outcome of the turn, return\n",
    "        #winBool and state\n",
    "        winBool, state = card_dealer.turnResult(usrScore, dealerScore, 'y')\n",
    "        #print the winner if there is a winner\n",
    "        card_dealer.winPrinter(winBool, state)\n",
    "        \n",
    "        #while no winner has been determined\n",
    "        while winBool is False:\n",
    "            #iternate turnNum\n",
    "            turnNum += 1\n",
    "            #does the user want to draw another card?\n",
    "            hitVar = input(\"Enter 'y' to draw another card: \").lower()\n",
    "            #if the dealer's score is <= 16\n",
    "            if dealerScore <= 16:\n",
    "                #1 card to dealerHand\n",
    "                dealerHand = card_dealer.deal(deck, 1, dealerHand)\n",
    "            #if user chooses to draw\n",
    "            if hitVar == 'y':\n",
    "                #1 card to userHand\n",
    "                userHand = card_dealer.deal(deck, 1, userHand)\n",
    "            #score the hands\n",
    "            usrScore, dealerScore = card_dealer.score(userHand, dealerHand)\n",
    "            #print current hands and scores, before breaking loop\n",
    "            card_dealer.printTurn(userHand, dealerHand, usrScore, dealerScore, turnNum)\n",
    "            #determine the result of the turn, if winBool true loop terminates\n",
    "            winBool, state = card_dealer.turnResult(usrScore, dealerScore, hitVar)\n",
    "        #print the result of the game    \n",
    "        card_dealer.winPrinter(winBool, state)\n",
    "        #prompt if user wants to play again\n",
    "        contVar = input('Play again? (y/n)\\n ').lower()\n",
    "\n",
    "#call main\n",
    "if __name__ == '__main__':\n",
    "    main()\n",
    "\n",
    "\n",
    "\n",
    "            \n",
    "        "
   ]
  },
  {
   "cell_type": "markdown",
   "metadata": {},
   "source": [
    "These functions support the main function and have been put into the card_dealer.py module. They exist here for the ability to test that the program functions work."
   ]
  },
  {
   "cell_type": "code",
   "execution_count": 2,
   "metadata": {},
   "outputs": [],
   "source": [
    "def printTurn(userHand, dealerHand, usrScore, dealerScore, turn):\n",
    "    print(f'Your cards, turn {turn}: ')\n",
    "    for uCard in userHand:\n",
    "        print(uCard)\n",
    "    print(f'Your Score is: {usrScore}\\n')\n",
    "\n",
    "    print(f\"Dealer's cards, turn {turn}: \")\n",
    "    for dCard in dealerHand:\n",
    "        print(dCard)\n",
    "    print(f'Dealer score: {dealerScore}\\n')"
   ]
  },
  {
   "cell_type": "code",
   "execution_count": 21,
   "metadata": {},
   "outputs": [
    {
     "data": {
      "text/plain": [
       "(16, 21)"
      ]
     },
     "execution_count": 21,
     "metadata": {},
     "output_type": "execute_result"
    }
   ],
   "source": [
    "#score function scores the cards in \n",
    "def score(userHand, dealerHand):\n",
    "    usrScore = 0\n",
    "    dealerScore = 0\n",
    "    uAceNum = 0\n",
    "    dAceNum = 0\n",
    "    aceList = []\n",
    "    nAceList = []\n",
    "    dAceList = []\n",
    "    dNAceList = []\n",
    "    aces = ['Ace of Spades', 'Ace of Hearts', 'Ace of Clubs', 'Ace of Diamonds']\n",
    "    for usrKey, cardNum in userHand.items():\n",
    "        usrScore += cardNum\n",
    "        if usrKey in aces:\n",
    "            uAceNum += 1\n",
    "            aceList.append(cardNum)\n",
    "        else:\n",
    "            nAceList.append(cardNum)\n",
    "    if uAceNum == 0:\n",
    "        pass\n",
    "    else:\n",
    "        uHiAce = sum(aceList) + 10\n",
    "        if (uHiAce + sum(nAceList)) <= 21:\n",
    "            usrScore += 10\n",
    "\n",
    "    for dlrKey, dCardNum in dealerHand.items():\n",
    "        dealerScore += dCardNum\n",
    "        if dlrKey in aces:\n",
    "            dAceNum += 1\n",
    "            dAceList.append(dCardNum)\n",
    "        else:\n",
    "            dNAceList.append(dCardNum)\n",
    "    if dAceNum == 0:\n",
    "        pass\n",
    "    else:\n",
    "        dHiAce = sum(dAceList) + 10\n",
    "        if (dHiAce + sum(dNAceList)) <= 21:\n",
    "            dealerScore += 10\n",
    "    return usrScore, dealerScore\n",
    "\n",
    "score({'Ace of Spades':1, '2 of Spades':2, '3 of Spades':3}, {'Ace of Clubs':1,  'King of Clubs':10} )"
   ]
  },
  {
   "cell_type": "code",
   "execution_count": 20,
   "metadata": {},
   "outputs": [
    {
     "data": {
      "text/plain": [
       "{'3 of Diamonds': 3, '3 of Clubs': 3}"
      ]
     },
     "execution_count": 20,
     "metadata": {},
     "output_type": "execute_result"
    }
   ],
   "source": [
    "#These functions can be simplified to one function, deal() has 3 arguments\n",
    "#deck, how many cards to draw an which hand to deal them to\n",
    "def deal(deck, times, hand):\n",
    "    #for range(times passed as argument)\n",
    "    for card in range(times):\n",
    "        #select a random key from the deck\n",
    "        randKey = random.choice(list(deck.keys()))\n",
    "        #pop value from dictionary, card is now gone and cannot be drawn again\n",
    "        cardValue = deck.pop(randKey)\n",
    "        #add the chosen card to the user's hand\n",
    "        hand[randKey] = cardValue\n",
    "    #return hand\n",
    "    return hand\n",
    "\n",
    "#dDeal is obsolete     \n",
    "def dDeal(deck, times, dealerHand):\n",
    "    for Dcard in range(times):\n",
    "        DrandKey = random.choice(list(deck.keys()))\n",
    "        DcardValue = deck.pop(DrandKey)\n",
    "        dealerHand[DrandKey] = DcardValue\n",
    "    return dealerHand\n",
    "\n",
    "uDeal({'Ace of Spades':1, '2 of Spades':2, '3 of Spades':3,\n",
    "            '4 of Spades':4, '5 of Spades':5, '6 of Spades':6,\n",
    "            '7 of Spades':7, '8 of Spades':8, '9 of Spades':9,\n",
    "            '10 of Spades':10, 'Jack of Spades':10,\n",
    "            'Queen of Spades':10, 'King of Spades': 10,\n",
    "            'Ace of Hearts':1, '2 of Hearts':2, '3 of Hearts':3,\n",
    "            '4 of Hearts':4, '5 of Hearts':5, '6 of Hearts':6,\n",
    "            '7 of Hearts':7, '8 of Hearts':8, '9 of Hearts':9,\n",
    "            '10 of Hearts':10, 'Jack of Hearts':10,\n",
    "            'Queen of Hearts':10, 'King of Hearts': 10,\n",
    "            'Ace of Clubs':1, '2 of Clubs':2, '3 of Clubs':3,\n",
    "            '4 of Clubs':4, '5 of Clubs':5, '6 of Clubs':6,\n",
    "            '7 of Clubs':7, '8 of Clubs':8, '9 of Clubs':9,\n",
    "            '10 of Clubs':10, 'Jack of Clubs':10,\n",
    "            'Queen of Clubs':10, 'King of Clubs': 10,\n",
    "            'Ace of Diamonds':1, '2 of Diamonds':2, '3 of Diamonds':3,\n",
    "            '4 of Diamonds':4, '5 of Diamonds':5, '6 of Diamonds':6,\n",
    "            '7 of Diamonds':7, '8 of Diamonds':8, '9 of Diamonds':9,\n",
    "            '10 of Diamonds':10, 'Jack of Diamonds':10,\n",
    "            'Queen of Diamonds':10, 'King of Diamonds': 10}, 2, {} )"
   ]
  },
  {
   "cell_type": "code",
   "execution_count": 22,
   "metadata": {},
   "outputs": [
    {
     "data": {
      "text/plain": [
       "(True, 'dealer bust')"
      ]
     },
     "execution_count": 22,
     "metadata": {},
     "output_type": "execute_result"
    }
   ],
   "source": [
    "#this function determines if a win has occurred and passes a string value to indicate\n",
    "#how it happened, this is now in the card_dealer.py module\n",
    "def turnResult(usrScore, dealerScore, hitVar):\n",
    "    #more rare, both bust out\n",
    "    if usrScore > 21 and dealerScore > 21:\n",
    "        return True, 'both bust'\n",
    "    #rare: if both user and dealer get 21 it's a tie, return true because game\n",
    "    #is complete\n",
    "    elif usrScore == 21 and dealerScore == 21:\n",
    "        return True, 'tie'\n",
    "    #if user hits 21, user wins\n",
    "    elif usrScore > 21:\n",
    "        return True, 'user bust'\n",
    "    #if user wins because dealer busts out\n",
    "    elif dealerScore > 21:\n",
    "        return True, 'dealer bust'\n",
    "    elif usrScore == 21:\n",
    "        return True, 'user win'\n",
    "    #if dealer hits 21, dealer wins\n",
    "    elif dealerScore == 21:\n",
    "        return True, 'dealer win'\n",
    "    #if dealer wins because user busts out\n",
    "    \n",
    "    #if user stands and dealer will not draw in next round\n",
    "    elif dealerScore > 16 and hitVar != 'y':\n",
    "        #if the user has more points than the dealer user wins\n",
    "        if usrScore > dealerScore:\n",
    "            return True, 'user win'\n",
    "        #otherwise dealer wins\n",
    "        else:\n",
    "            return True, 'dealer win'\n",
    "    #otherwise no one has won \n",
    "    else:\n",
    "        return False, 'no win'\n",
    "\n",
    "turnResult(21,35,'n')"
   ]
  },
  {
   "cell_type": "code",
   "execution_count": 23,
   "metadata": {},
   "outputs": [
    {
     "name": "stdout",
     "output_type": "stream",
     "text": [
      "You Win!\n",
      "\n"
     ]
    }
   ],
   "source": [
    "#winPrinter takes the winBool and win state variables and prints various statements\n",
    "#based on who won and how they won, if there is no win, do nothing\n",
    "def winPrinter(winBool, state):\n",
    "    #if there is a winner\n",
    "    if winBool is True:\n",
    "        #if the user wins because higher score\n",
    "        if state == 'user win':\n",
    "            print('You Win!\\n')\n",
    "        #only had this once, but it exists\n",
    "        elif state == 'both bust':\n",
    "            print('Everyone looses!')\n",
    "        elif state == 'tie':\n",
    "            print(\"It's a tie! Nobody wins.\\n\")\n",
    "        # if the user won becuase dealer broke 21\n",
    "        elif state == 'dealer bust':\n",
    "            print('You Win! The dealer busted out.\\n')\n",
    "        # if dealer wins because you bust out\n",
    "        elif state == 'user bust':\n",
    "            print('The dealer won! You busted out.\\n')\n",
    "        # if dealer wins by points\n",
    "        else:\n",
    "            print('The dealer won!\\n')\n",
    "    # if winBool is false no one wins, do nothing\n",
    "    else:\n",
    "        pass\n",
    "winPrinter(True, 'user win')"
   ]
  },
  {
   "cell_type": "code",
   "execution_count": null,
   "metadata": {},
   "outputs": [],
   "source": []
  }
 ],
 "metadata": {
  "kernelspec": {
   "display_name": "Python 3",
   "language": "python",
   "name": "python3"
  },
  "language_info": {
   "codemirror_mode": {
    "name": "ipython",
    "version": 3
   },
   "file_extension": ".py",
   "mimetype": "text/x-python",
   "name": "python",
   "nbconvert_exporter": "python",
   "pygments_lexer": "ipython3",
   "version": "3.6.4"
  }
 },
 "nbformat": 4,
 "nbformat_minor": 2
}
