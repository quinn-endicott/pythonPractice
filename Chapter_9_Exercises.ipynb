{
 "cells": [
  {
   "cell_type": "markdown",
   "metadata": {},
   "source": [
    "# Programming Exercise 9: Blackjack Simulation\n",
    "Previously in this chapter you saw the card_dealer.py program that simulates cards being dealt from a deck. Enhance the program so it simulates a simplified version of the game of Blackjack between two virtual players. The cards have the following values:\n",
    "\n",
    "• Numeric cards are assigned the value they have printed on them. For example, the value of the 2 of spades is 2, and the value of the 5 of diamonds is 5.\n",
    "\n",
    "• Jacks, queens, and kings are valued at 10.\n",
    "\n",
    "• Aces are valued at 1 or 11, depending on the player’s choice.\n",
    "\n",
    "The program should deal cards to each player until one player’s hand is worth more than 21 points. When that happens, the other player is the winner. (It is possible that both players’ hands will simultaneously exceed 21 points, in which case neither player wins.) The program should repeat until all the cards have been dealt from the deck. If a player is dealt an ace, the program should decide the value of the card according to the following rule: The ace will be worth 11 points, unless that makes the player’s hand exceed 21 points. In that case, the ace will be worth 1 point."
   ]
  },
  {
   "cell_type": "code",
   "execution_count": 12,
   "metadata": {},
   "outputs": [
    {
     "name": "stdout",
     "output_type": "stream",
     "text": [
      "Ace of Hearts\n",
      "Queen of Hearts\n",
      "Jack of Clubs\n",
      "7 of Diamonds\n",
      "King of Spades\n",
      "4 of Diamonds\n",
      "Value of this hand: 42\n"
     ]
    }
   ],
   "source": [
    "#first create the referenced program from the book and verify that calling\n",
    "#the functions of the module works \n",
    "import card_dealer\n",
    "card_dealer.main()\n"
   ]
  },
  {
   "cell_type": "code",
   "execution_count": 2,
   "metadata": {},
   "outputs": [
    {
     "name": "stdout",
     "output_type": "stream",
     "text": [
      "Let's play a hand of Blackjack.\n",
      "\n",
      "Your cards, turn 1: \n",
      "3 of Hearts\n",
      "8 of Clubs\n",
      "Your Score is: 11\n",
      "\n",
      "Dealer's cards, turn 1: \n",
      "10 of Hearts\n",
      "4 of Spades\n",
      "Dealer score: 14\n",
      "\n"
     ]
    },
    {
     "name": "stdout",
     "output_type": "stream",
     "text": [
      "Your cards, turn 2: \n",
      "3 of Hearts\n",
      "8 of Clubs\n",
      "Your Score is: 11\n",
      "\n",
      "Dealer's cards, turn 2: \n",
      "10 of Hearts\n",
      "4 of Spades\n",
      "3 of Spades\n",
      "Dealer score: 17\n",
      "\n",
      "The dealer won!\n"
     ]
    }
   ],
   "source": [
    "import card_dealer\n",
    "import random \n",
    "\n",
    "\n",
    "\n",
    "def main():\n",
    "    contVar = 'y'\n",
    "    userHand = {}\n",
    "    dealerHand = {}\n",
    "    aces = ['Ace of Spades', 'Ace of Hearts', 'Ace of Clubs', 'Ace of Diamonds']\n",
    "    \n",
    "    \n",
    "\n",
    "    while contVar == 'y':\n",
    "        userHand = {}\n",
    "        dealerHand = {}\n",
    "        \n",
    "        deck = card_dealer.create_deck()    \n",
    "        print(\"Let's play a hand of Blackjack.\\n\")\n",
    "        usrScore = 0\n",
    "        dealerScore = 0\n",
    "        userHand = card_dealer.uDeal(deck, 2, userHand)\n",
    "        dealerHand = card_dealer.dDeal(deck, 2, dealerHand)\n",
    "\n",
    "        usrScore, dealerScore = card_dealer.score(userHand, dealerHand)\n",
    "\n",
    "        print('Your cards, turn 1: ')\n",
    "        for uCard in userHand:\n",
    "            print(uCard)\n",
    "        print(f'Your Score is: {usrScore}\\n')\n",
    "\n",
    "        print(\"Dealer's cards, turn 1: \")\n",
    "        for dCard in dealerHand:\n",
    "            print(dCard)\n",
    "        print(f'Dealer score: {dealerScore}\\n')\n",
    "\n",
    "        winBool, state = card_dealer.turnResult(usrScore, dealerScore, 'y')\n",
    "        card_dealer.winPrinter(winBool, state)\n",
    "        turnNum = 1\n",
    "        while winBool is False:\n",
    "            turnNum += 1\n",
    "            hitVar = input(\"Enter 'y' to draw another card: \").lower()\n",
    "            if dealerScore <= 16:\n",
    "                dealerHand = card_dealer.dDeal(deck, 1, dealerHand)\n",
    "            if hitVar == 'y':\n",
    "                userHand = card_dealer.uDeal(deck, 1, userHand)\n",
    "            usrScore, dealerScore = card_dealer.score(userHand, dealerHand)\n",
    "            winBool, state = card_dealer.turnResult(usrScore, dealerScore, hitVar)\n",
    "            print(f'Your cards, turn {turnNum}: ')\n",
    "            for uCard in userHand:\n",
    "                print(uCard)\n",
    "            print(f'Your Score is: {usrScore}\\n')\n",
    "\n",
    "            print(f\"Dealer's cards, turn {turnNum}: \")\n",
    "            for dCard in dealerHand:\n",
    "                print(dCard)\n",
    "            print(f'Dealer score: {dealerScore}\\n')\n",
    "            if winBool is not True:\n",
    "                hitVar = input(\"Enter 'y' to draw another card: \").lower()\n",
    "            else: \n",
    "                break\n",
    "        card_dealer.winPrinter(winBool, state)\n",
    "\n",
    "        contVar = 'n'\n",
    "\n",
    "\n",
    "main()\n",
    "#I was not calling main, leading to no output, this took a long time to discover\n",
    "\n",
    "\n",
    "\n",
    "            \n",
    "        "
   ]
  },
  {
   "cell_type": "markdown",
   "metadata": {},
   "source": [
    "These functions support the main function and have been put into the card_dealer.py module. They exist here for the ability to test that the program functions work."
   ]
  },
  {
   "cell_type": "code",
   "execution_count": 4,
   "metadata": {},
   "outputs": [
    {
     "data": {
      "text/plain": [
       "(22, 21)"
      ]
     },
     "execution_count": 4,
     "metadata": {},
     "output_type": "execute_result"
    }
   ],
   "source": [
    "def score(userHand, dealerHand):\n",
    "    usrScore = 0\n",
    "    dealerScore = 0\n",
    "    uAceNum = 0\n",
    "    dAceNum = 0\n",
    "    aceList = []\n",
    "    nAceList = []\n",
    "    dAceList = []\n",
    "    dNAceList = []\n",
    "    aces = ['Ace of Spades', 'Ace of Hearts', 'Ace of Clubs', 'Ace of Diamonds']\n",
    "    for usrKey, cardNum in userHand.items():\n",
    "        usrScore += cardNum\n",
    "        if usrKey in aces:\n",
    "            uAceNum += 1\n",
    "            aceList.append(cardNum)\n",
    "        else:\n",
    "            nAceList.append(cardNum)\n",
    "    if uAceNum == 0:\n",
    "        pass\n",
    "    else:\n",
    "        uHiAce = sum(aceList) + 10\n",
    "        if (uHiAce + sum(nAceList)) <= 21:\n",
    "            usrScore += 10\n",
    "\n",
    "    for dlrKey, dCardNum in dealerHand.items():\n",
    "        dealerScore += dCardNum\n",
    "        if dlrKey in aces:\n",
    "            dAceNum += 1\n",
    "            dAceList.append(dCardNum)\n",
    "        else:\n",
    "            dNAceList.append(dCardNum)\n",
    "    if dAceNum == 0:\n",
    "        pass\n",
    "    else:\n",
    "        dHiAce = sum(dAceList) + 10\n",
    "        if (dHiAce + sum(dNAceList)) <= 21:\n",
    "            dealerScore += 10\n",
    "    return usrScore, dealerScore\n",
    "\n"
   ]
  },
  {
   "cell_type": "code",
   "execution_count": null,
   "metadata": {},
   "outputs": [],
   "source": [
    "#These functions draw a certain number of cards from the deck and add them to the\n",
    "#user and dealer hand dictionaries\n",
    "def uDeal(deck, times, userHand):\n",
    "    #for range(times passed as argument)\n",
    "    for Ucard in range(times):\n",
    "        #select a random key from the deck\n",
    "        UrandKey = random.choice(list(deck.keys()))\n",
    "        #pop value from dictionary, card is now gone and cannot be drawn again\n",
    "        UcardValue = deck.pop(UrandKey)\n",
    "        #add the chosen card to the user's hand\n",
    "        userHand[UrandKey] = UcardValue\n",
    "    #return userhand\n",
    "    return userHand\n",
    "\n",
    "#dDeal is the same as uDeal, but deals cards to the dealer's hand       \n",
    "def dDeal(deck, times, dealerHand):\n",
    "    for Dcard in range(times):\n",
    "        DrandKey = random.choice(list(deck.keys()))\n",
    "        DcardValue = deck.pop(DrandKey)\n",
    "        dealerHand[DrandKey] = DcardValue\n",
    "    return dealerHand"
   ]
  },
  {
   "cell_type": "code",
   "execution_count": null,
   "metadata": {},
   "outputs": [],
   "source": [
    "#this function determines if a win has occurred and passes a string value to indicate\n",
    "#how it happened, this is now in the card_dealer.py module\n",
    "def turnResult(usrScore, dealerScore, hitVar):\n",
    "    #rare: if both user and dealer get 21 it's a tie, return true because game\n",
    "    #is complete\n",
    "    if usrScore == 21 and dealerScore == 21:\n",
    "        return True, 'tie'\n",
    "    #if user hits 21, user wins\n",
    "    elif usrScore == 21:\n",
    "        return True, 'user win'\n",
    "    #if dealer hits 21, dealer wins\n",
    "    elif dealerScore == 21:\n",
    "        return True, 'dealer win'\n",
    "    #if dealer wins because user busts out\n",
    "    elif usrScore > 21:\n",
    "        return True, 'user bust'\n",
    "    #if user wins because dealer busts out\n",
    "    elif dealerScore > 21:\n",
    "        return True, 'dealer bust'\n",
    "    #if user stands and dealer will not draw in next round\n",
    "    elif dealerScore > 16 and hitVar != 'y':\n",
    "        #if the user has more points than the dealer user wins\n",
    "        if usrScore > dealerScore:\n",
    "            return True, 'user win'\n",
    "        #otherwise dealer wins\n",
    "        else:\n",
    "            return True, 'dealer win'\n",
    "    #otherwise no one has won \n",
    "    else:\n",
    "        return False, 'no win'\n",
    "\n"
   ]
  },
  {
   "cell_type": "code",
   "execution_count": null,
   "metadata": {},
   "outputs": [],
   "source": [
    "#winPrinter takes the winBool and win state variables and prints various statements\n",
    "#based on who won and how they won, if there is no win, do nothing\n",
    "def winPrinter(winBool, state):\n",
    "    #if there is a winner\n",
    "    if winBool is True:\n",
    "        #if the user wins because higher score\n",
    "        if state == 'user win':\n",
    "            print('You Win!\\n')\n",
    "        elif state == 'tie':\n",
    "            print(\"It's a tie!\\n\")\n",
    "        # if the user won becuase dealer broke 21\n",
    "        elif state == 'dealer bust':\n",
    "            print('You Win! The dealer busted out.\\n')\n",
    "        # if dealer wins because you bust out\n",
    "        elif state == 'user bust':\n",
    "            print('The dealer won! You busted out.\\n')\n",
    "        # if dealer wins by points\n",
    "        else:\n",
    "            print('The dealer won!\\n')\n",
    "    # if winBool is false no one wins, do nothing\n",
    "    else:\n",
    "        pass"
   ]
  }
 ],
 "metadata": {
  "kernelspec": {
   "display_name": "Python 3",
   "language": "python",
   "name": "python3"
  },
  "language_info": {
   "codemirror_mode": {
    "name": "ipython",
    "version": 3
   },
   "file_extension": ".py",
   "mimetype": "text/x-python",
   "name": "python",
   "nbconvert_exporter": "python",
   "pygments_lexer": "ipython3",
   "version": "3.6.4"
  }
 },
 "nbformat": 4,
 "nbformat_minor": 2
}
