{
 "cells": [
  {
   "cell_type": "markdown",
   "metadata": {},
   "source": [
    "# Programming Exercise 9: Blackjack Simulation\n",
    "Previously in this chapter you saw the card_dealer.py program that simulates cards being dealt from a deck. Enhance the program so it simulates a simplified version of the game of Blackjack between two virtual players. The cards have the following values:\n",
    "\n",
    "• Numeric cards are assigned the value they have printed on them. For example, the value of the 2 of spades is 2, and the value of the 5 of diamonds is 5.\n",
    "\n",
    "• Jacks, queens, and kings are valued at 10.\n",
    "\n",
    "• Aces are valued at 1 or 11, depending on the player’s choice.\n",
    "\n",
    "The program should deal cards to each player until one player’s hand is worth more than 21 points. When that happens, the other player is the winner. (It is possible that both players’ hands will simultaneously exceed 21 points, in which case neither player wins.) The program should repeat until all the cards have been dealt from the deck. If a player is dealt an ace, the program should decide the value of the card according to the following rule: The ace will be worth 11 points, unless that makes the player’s hand exceed 21 points. In that case, the ace will be worth 1 point."
   ]
  },
  {
   "cell_type": "code",
   "execution_count": null,
   "metadata": {},
   "outputs": [],
   "source": [
    "#content of card_dealer.py, functions are called from module, but putting it\n",
    "#here to work on as this program requires\n",
    "\n",
    "# This program uses a dictionary as a deck of cards.\n",
    "import random\n",
    "\n",
    "def main():\n",
    "# Create a deck of cards.\n",
    "    deck = create_deck()\n",
    "    # Get the number of cards to deal.\n",
    "    num_cards = int(input('How many cards should I deal? '))\n",
    "\n",
    "    # Deal the cards.\n",
    "    deal_cards(deck, num_cards)\n",
    "\n",
    "# The create_deck function returns a dictionary\n",
    "# representing a deck of cards.\n",
    "\n",
    "def create_deck():\n",
    "# Create a dictionary with each card and its value\n",
    "# stored as key-value pairs.\n",
    "    deck = {'Ace of Spades':1, '2 of Spades':2, '3 of Spades':3,\n",
    "            '4 of Spades':4, '5 of Spades':5, '6 of Spades':6,\n",
    "            '7 of Spades':7, '8 of Spades':8, '9 of Spades':9,\n",
    "            '10 of Spades':10, 'Jack of Spades':10,\n",
    "            'Queen of Spades':10, 'King of Spades': 10,\n",
    "            'Ace of Hearts':1, '2 of Hearts':2, '3 of Hearts':3,\n",
    "            '4 of Hearts':4, '5 of Hearts':5, '6 of Hearts':6,\n",
    "            '7 of Hearts':7, '8 of Hearts':8, '9 of Hearts':9,\n",
    "            '10 of Hearts':10, 'Jack of Hearts':10,\n",
    "            'Queen of Hearts':10, 'King of Hearts': 10,\n",
    "            'Ace of Clubs':1, '2 of Clubs':2, '3 of Clubs':3,\n",
    "            '4 of Clubs':4, '5 of Clubs':5, '6 of Clubs':6,\n",
    "            '7 of Clubs':7, '8 of Clubs':8, '9 of Clubs':9,\n",
    "            '10 of Clubs':10, 'Jack of Clubs':10,\n",
    "            'Queen of Clubs':10, 'King of Clubs': 10,\n",
    "            'Ace of Diamonds':1, '2 of Diamonds':2, '3 of Diamonds':3,\n",
    "            '4 of Diamonds':4, '5 of Diamonds':5, '6 of Diamonds':6,\n",
    "            '7 of Diamonds':7, '8 of Diamonds':8, '9 of Diamonds':9,\n",
    "            '10 of Diamonds':10, 'Jack of Diamonds':10,\n",
    "            'Queen of Diamonds':10, 'King of Diamonds': 10}\n",
    "\n",
    "    return deck\n",
    "\n",
    " # The deal_cards function deals a specified number of cards\n",
    " # from the deck.\n",
    "\n",
    "def deal_cards(deck, number):\n",
    "    # Initialize an accumulator for the hand value.\n",
    "    hand_value = 0\n",
    "\n",
    "    # Make sure the number of cards to deal is not\n",
    "    # greater than the number of cards in the deck.\n",
    "    if number > len(deck):\n",
    "        number = len(deck)\n",
    "\n",
    "    # Deal the cards and accumulate their values.\n",
    "    for count in range(number):\n",
    "        card = random.choice(list(deck))\n",
    "        print(card)\n",
    "        hand_value += deck[card]\n",
    "\n",
    "    # Display the value of the hand.\n",
    "    print(f'Value of this hand: {hand_value}')\n",
    "# Call the main function.\n",
    "if __name__ == '__main__':\n",
    "    main()\n",
    "\n"
   ]
  },
  {
   "cell_type": "code",
   "execution_count": 3,
   "metadata": {},
   "outputs": [
    {
     "name": "stdout",
     "output_type": "stream",
     "text": [
      "8 of Spades\n",
      "Ace of Hearts\n",
      "Queen of Diamonds\n",
      "10 of Clubs\n",
      "3 of Hearts\n",
      "2 of Hearts\n",
      "7 of Diamonds\n",
      "Value of this hand: 41\n"
     ]
    }
   ],
   "source": [
    "#first create the referenced program from the book and verify that calling\n",
    "#the functions of the module works \n",
    "import card_dealer\n",
    "card_dealer.main()\n"
   ]
  },
  {
   "cell_type": "code",
   "execution_count": null,
   "metadata": {},
   "outputs": [],
   "source": [
    "def main():\n",
    "    contVar = 'y'\n",
    "    userHand = {}\n",
    "    dealerHand = {}\n",
    "    deck = card_dealer.create_deck()\n",
    "    while contVar == 'y':\n",
    "        print(\"Let's play a hand of Blackjack.\")\n",
    "        "
   ]
  }
 ],
 "metadata": {
  "kernelspec": {
   "display_name": "Python 3",
   "language": "python",
   "name": "python3"
  },
  "language_info": {
   "codemirror_mode": {
    "name": "ipython",
    "version": 3
   },
   "file_extension": ".py",
   "mimetype": "text/x-python",
   "name": "python",
   "nbconvert_exporter": "python",
   "pygments_lexer": "ipython3",
   "version": "3.6.4"
  }
 },
 "nbformat": 4,
 "nbformat_minor": 2
}
