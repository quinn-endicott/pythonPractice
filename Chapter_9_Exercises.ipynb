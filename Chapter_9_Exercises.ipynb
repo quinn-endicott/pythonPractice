{
 "cells": [
  {
   "cell_type": "markdown",
   "metadata": {},
   "source": [
    "# Programming Exercise 9: Blackjack Simulation\n",
    "Previously in this chapter you saw the card_dealer.py program that simulates cards being dealt from a deck. Enhance the program so it simulates a simplified version of the game of Blackjack between two virtual players. The cards have the following values:\n",
    "\n",
    "• Numeric cards are assigned the value they have printed on them. For example, the value of the 2 of spades is 2, and the value of the 5 of diamonds is 5.\n",
    "\n",
    "• Jacks, queens, and kings are valued at 10.\n",
    "\n",
    "• Aces are valued at 1 or 11, depending on the player’s choice.\n",
    "\n",
    "The program should deal cards to each player until one player’s hand is worth more than 21 points. When that happens, the other player is the winner. (It is possible that both players’ hands will simultaneously exceed 21 points, in which case neither player wins.) The program should repeat until all the cards have been dealt from the deck. If a player is dealt an ace, the program should decide the value of the card according to the following rule: The ace will be worth 11 points, unless that makes the player’s hand exceed 21 points. In that case, the ace will be worth 1 point."
   ]
  },
  {
   "cell_type": "code",
   "execution_count": 12,
   "metadata": {},
   "outputs": [
    {
     "name": "stdout",
     "output_type": "stream",
     "text": [
      "Ace of Hearts\n",
      "Queen of Hearts\n",
      "Jack of Clubs\n",
      "7 of Diamonds\n",
      "King of Spades\n",
      "4 of Diamonds\n",
      "Value of this hand: 42\n"
     ]
    }
   ],
   "source": [
    "#first create the referenced program from the book and verify that calling\n",
    "#the functions of the module works \n",
    "import card_dealer\n",
    "card_dealer.main()\n"
   ]
  },
  {
   "cell_type": "code",
   "execution_count": 1,
   "metadata": {},
   "outputs": [
    {
     "name": "stdout",
     "output_type": "stream",
     "text": [
      "Let's play a hand of Blackjack.\n",
      "\n",
      "Your cards, turn 1: \n",
      "5 of Diamonds\n",
      "3 of Clubs\n",
      "Your Score is: 8\n",
      "\n",
      "Dealer's cards, turn 1: \n",
      "7 of Clubs\n",
      "Jack of Clubs\n",
      "Dealer score: 17\n",
      "\n"
     ]
    }
   ],
   "source": [
    "import card_dealer\n",
    "import random \n",
    "\n",
    "#this function determines if a win has occurred and passes a string value to indicate\n",
    "#how it happened, this is now in the card_dealer.py module\n",
    "#def turnResult(usrScore, dealerScore):\n",
    "    #if usrScore == 21:\n",
    "    #   return True, 'user win'\n",
    "    #elif dealerScore == 21:\n",
    "    #    return True, 'dealer win'\n",
    "    #elif usrScore > 21:\n",
    "    #    return True, 'user bust'\n",
    "    #elif dealerScore > 21:\n",
    "    #    return True, 'dealer bust'\n",
    "    #else:\n",
    "    #    return False, 'no win'\n",
    "#winPrinter function added to card_dealer.py\n",
    "#def winPrinter(winBool, state):\n",
    "        #    if winBool is True:\n",
    "        #        if state == 'user win':\n",
    "        #            print('You Win!')\n",
    "        #        elif state == 'dealer bust':\n",
    "        #            print('You Win! The dealer busted out.')\n",
    "        #        elif state == 'user bust':\n",
    "        #            print('The dealer won! You busted out.')\n",
    "        #        else:\n",
    "        #            print('The dealer won!')\n",
    "\n",
    "def main():\n",
    "    contVar = 'y'\n",
    "    userHand = {}\n",
    "    dealerHand = {}\n",
    "    aces = ['Ace of Spades', 'Ace of Hearts', 'Ace of Clubs', 'Ace of Diamonds']\n",
    "    \n",
    "    \n",
    "\n",
    "    while contVar == 'y':\n",
    "        userHand = {}\n",
    "        dealerHand = {}\n",
    "        \n",
    "        deck = card_dealer.create_deck()    \n",
    "        print(\"Let's play a hand of Blackjack.\\n\")\n",
    "        usrScore = 0\n",
    "        dealerScore = 0\n",
    "        userHand, dealerHand = card_dealer.deal(deck, 2, userHand, dealerHand)\n",
    "\n",
    "        usrScore, dealerScore = card_dealer.score(userHand, dealerHand)\n",
    "\n",
    "        print('Your cards, turn 1: ')\n",
    "        for uCard in userHand:\n",
    "            print(uCard)\n",
    "        print(f'Your Score is: {usrScore}\\n')\n",
    "\n",
    "        print(\"Dealer's cards, turn 1: \")\n",
    "        for dCard in dealerHand:\n",
    "            print(dCard)\n",
    "        print(f'Dealer score: {dealerScore}\\n')\n",
    "\n",
    "        winBool, state = card_dealer.turnResult(usrScore, dealerScore)\n",
    "        card_dealer.winPrinter(winBool, state)\n",
    "\n",
    "        if winBool is False:\n",
    "            \n",
    "        \n",
    "                \n",
    "        \n",
    "        hitVar = input(\"Enter 'y' to draw another card: \")\n",
    "        \n",
    "        \n",
    "        \n",
    "\n",
    "        \n",
    "\n",
    "\n",
    "        contVar = 'n'\n",
    "\n",
    "\n",
    "main()\n",
    "#I was not calling main, leading to no output, this took a long time to discover\n",
    "\n",
    "\n",
    "\n",
    "            \n",
    "        "
   ]
  },
  {
   "cell_type": "code",
   "execution_count": 4,
   "metadata": {},
   "outputs": [
    {
     "data": {
      "text/plain": [
       "(22, 21)"
      ]
     },
     "execution_count": 4,
     "metadata": {},
     "output_type": "execute_result"
    }
   ],
   "source": [
    "def score(userHand, dealerHand):\n",
    "    usrScore = 0\n",
    "    dealerScore = 0\n",
    "    uAceNum = 0\n",
    "    dAceNum = 0\n",
    "    aceList = []\n",
    "    nAceList = []\n",
    "    dAceList = []\n",
    "    dNAceList = []\n",
    "    aces = ['Ace of Spades', 'Ace of Hearts', 'Ace of Clubs', 'Ace of Diamonds']\n",
    "    for usrKey, cardNum in userHand.items():\n",
    "        usrScore += cardNum\n",
    "        if usrKey in aces:\n",
    "            uAceNum += 1\n",
    "            aceList.append(cardNum)\n",
    "        else:\n",
    "            nAceList.append(cardNum)\n",
    "    if uAceNum == 0:\n",
    "        pass\n",
    "    else:\n",
    "        uHiAce = sum(aceList) + 10\n",
    "        if (uHiAce + sum(nAceList)) <= 21:\n",
    "            usrScore += 10\n",
    "\n",
    "    for dlrKey, dCardNum in dealerHand.items():\n",
    "        dealerScore += dCardNum\n",
    "        if dlrKey in aces:\n",
    "            dAceNum += 1\n",
    "            dAceList.append(dCardNum)\n",
    "        else:\n",
    "            dNAceList.append(dCardNum)\n",
    "    if dAceNum == 0:\n",
    "        pass\n",
    "    else:\n",
    "        dHiAce = sum(dAceList) + 10\n",
    "        if (dHiAce + sum(dNAceList)) <= 21:\n",
    "            dealerScore += 10\n",
    "    return usrScore, dealerScore\n",
    "\n"
   ]
  },
  {
   "cell_type": "code",
   "execution_count": null,
   "metadata": {},
   "outputs": [],
   "source": [
    "def deal(deck, times, userHand, dealerHand):\n",
    "    for Ucard in range(times):\n",
    "        UrandKey = random.choice(list(deck.keys()))\n",
    "        UcardValue = deck.pop(UrandKey)\n",
    "        userHand[UrandKey] = UcardValue\n",
    "            \n",
    "\n",
    "    for Dcard in range(times):\n",
    "        DrandKey = random.choice(list(deck.keys()))\n",
    "        DcardValue = deck.pop(DrandKey)\n",
    "        dealerHand[DrandKey] = DcardValue\n",
    "    return userHand, dealerHand"
   ]
  }
 ],
 "metadata": {
  "kernelspec": {
   "display_name": "Python 3",
   "language": "python",
   "name": "python3"
  },
  "language_info": {
   "codemirror_mode": {
    "name": "ipython",
    "version": 3
   },
   "file_extension": ".py",
   "mimetype": "text/x-python",
   "name": "python",
   "nbconvert_exporter": "python",
   "pygments_lexer": "ipython3",
   "version": "3.6.4"
  }
 },
 "nbformat": 4,
 "nbformat_minor": 2
}
