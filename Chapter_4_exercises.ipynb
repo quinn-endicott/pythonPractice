{
 "cells": [
  {
   "cell_type": "markdown",
   "metadata": {},
   "source": [
    "# Algorithm Workbench 2\n",
    " Write a while loop that asks the user to enter two numbers. The numbers should be \n",
    "added and the sum displayed. The loop should ask the user if he or she wishes to perform the operation again. If so, the loop should repeat, otherwise it should terminate.\n",
    "\n"
   ]
  },
  {
   "cell_type": "code",
   "execution_count": 1,
   "metadata": {},
   "outputs": [
    {
     "name": "stdout",
     "output_type": "stream",
     "text": [
      "the sum of your entries is: 35.0\n",
      "the sum of your entries is: -22.0\n",
      "the sum of your entries is: 175740.86635\n",
      "Thanks for adding those numbers together!\n"
     ]
    }
   ],
   "source": [
    "# pretest loop, set to y initially so it runs\n",
    "proceedVar = \"y\"\n",
    "while proceedVar == \"y\":\n",
    "    #prompt input for valueA\n",
    "    valueA = float(input(\"Enter the first value to be summed:   \"))\n",
    "    #prompt input for valueB\n",
    "    valueB = float(input(\"Enter the second value to be summed:   \"))\n",
    "    #sum values and store product\n",
    "    valueSum = valueA + valueB\n",
    "    #print the sum\n",
    "    print(f\"the sum of your entries is: {valueSum}\")\n",
    "    #ask if the user wants to continue\n",
    "    proceedVar = input(\"Enter 'y' if you want to do more addition:   \")\n",
    "#do something on exit b/c why not\n",
    "print(\"Thanks for adding those numbers together!\")"
   ]
  },
  {
   "cell_type": "code",
   "execution_count": 3,
   "metadata": {},
   "outputs": [
    {
     "name": "stdout",
     "output_type": "stream",
     "text": [
      "567.45 + 56.0 = 623.45\n",
      "56749.0 + 76.323 = 56825.323\n",
      "56473.65 + -4657383658595.0 = -4657383602121.35\n",
      "57362548.0 + 46573.4345 = 57409121.4345\n",
      "Thanks for adding those numbers together!\n",
      "Your total was: -4657326135551.142\n"
     ]
    }
   ],
   "source": [
    "#looks like in vscode it doesn't display inputs when you run code\n",
    "#also why not show the total sum at the end too \n",
    "proceedVar = \"y\"\n",
    "totalSum = 0\n",
    "\n",
    "while proceedVar == \"y\":\n",
    "    #prompt input for valueA\n",
    "    valueA = float(input(\"Enter the first value to be summed:   \"))\n",
    "    #prompt input for valueB\n",
    "    valueB = float(input(\"Enter the second value to be summed:   \"))\n",
    "    #sum values and store product\n",
    "    valueSum = valueA + valueB\n",
    "    #accumulate that total\n",
    "    totalSum += valueSum\n",
    "    #print the sum better, so people can read it\n",
    "    print(f\"{valueA} + {valueB} = {valueSum}\")\n",
    "    #ask if the user wants to continue\n",
    "    proceedVar = input(\"Enter 'y' if you want to do more addition:   \")\n",
    "#do something on exit b/c why not\n",
    "print(\"Thanks for adding those numbers together!\")\n",
    "#print the total\n",
    "print(f\"Your total was: {totalSum}\")"
   ]
  },
  {
   "cell_type": "markdown",
   "metadata": {},
   "source": [
    "# Algorithm Workbench 5\n",
    "Write a loop that calculates the total of the following series of numbers:\n",
    "1/30 + 2/29 . . . 30/1\n"
   ]
  },
  {
   "cell_type": "code",
   "execution_count": 4,
   "metadata": {},
   "outputs": [
    {
     "name": "stdout",
     "output_type": "stream",
     "text": [
      "1 / 30\n",
      "2 / 29\n",
      "3 / 28\n",
      "4 / 27\n",
      "5 / 26\n",
      "6 / 25\n",
      "7 / 24\n",
      "8 / 23\n",
      "9 / 22\n",
      "10 / 21\n",
      "11 / 20\n",
      "12 / 19\n",
      "13 / 18\n",
      "14 / 17\n",
      "15 / 16\n",
      "16 / 15\n",
      "17 / 14\n",
      "18 / 13\n",
      "19 / 12\n",
      "20 / 11\n",
      "21 / 10\n",
      "22 / 9\n",
      "23 / 8\n",
      "24 / 7\n",
      "25 / 6\n",
      "26 / 5\n",
      "27 / 4\n",
      "28 / 3\n",
      "29 / 2\n",
      "30 / 1\n",
      "The total is: 93.84460105853213\n"
     ]
    }
   ],
   "source": [
    "#denominatior's going to be done like the accumulator above\n",
    "denom = 30\n",
    "#accumulator setup for total\n",
    "compSum = 0\n",
    "#declare for loop for numerator\n",
    "for num in range(1, 31):\n",
    "    #calulate fraction for this iteration\n",
    "    frac = num / denom\n",
    "    #display fraction so I can track what it's doing\n",
    "    print(f\"{num} / {denom}\")\n",
    "    #calculate next denominator and store\n",
    "    denom -= 1\n",
    "    #gather that sum\n",
    "    compSum += frac\n",
    "#print total when loop ends\n",
    "print(f\"The total is: {compSum}\")"
   ]
  },
  {
   "cell_type": "markdown",
   "metadata": {},
   "source": [
    "# Programming Exercise 1\n",
    "A bug collector collects bugs every day for five days. Write a program that keeps a running total of the number of bugs collected during the five days. The loop should ask for the number of bugs collected for each day, and when the loop is finished, the program should display the total number of bugs collected."
   ]
  },
  {
   "cell_type": "code",
   "execution_count": 5,
   "metadata": {},
   "outputs": [
    {
     "name": "stdout",
     "output_type": "stream",
     "text": [
      "You have collected 24 bugs. Congrats!\n"
     ]
    }
   ],
   "source": [
    "#bugTotal is 0 to start\n",
    "bugTotal = 0\n",
    "#this is the central for loop, days 1-5\n",
    "for day in range(1,6):\n",
    "    #gather bugInput for bugs collected\n",
    "    bugInput = int(input(f\"How many bugs did you collect on day {day}?   \"))\n",
    "    #add to total\n",
    "    bugTotal += bugInput\n",
    "#print total\n",
    "print(f\"You have collected {bugTotal} bugs. Congrats!\")\n",
    "\n",
    "    "
   ]
  },
  {
   "cell_type": "code",
   "execution_count": 6,
   "metadata": {},
   "outputs": [
    {
     "name": "stdout",
     "output_type": "stream",
     "text": [
      "Day 1: 4 bugs\n",
      "Day 2: 56 bugs\n",
      "Day 3: 74 bugs\n",
      "Day 4: 45 bugs\n",
      "Day 5: 7 bugs\n",
      "You have collected 186 bugs. Congrats!\n"
     ]
    }
   ],
   "source": [
    "#that output could be better, I like seeing the input that was entered\n",
    "bugTotal = 0\n",
    "#this is the central for loop, days 1-5\n",
    "for day in range(1,6):\n",
    "    #gather bugInput for bugs collected\n",
    "    bugInput = int(input(f\"How many bugs did you collect on day {day}?   \"))\n",
    "    #add to total\n",
    "    bugTotal += bugInput\n",
    "    #print daily inputs\n",
    "    print(f\"Day {day}: {bugInput} bugs\")\n",
    "#print total\n",
    "print(f\"You have collected {bugTotal} bugs. Congrats!\")"
   ]
  },
  {
   "cell_type": "code",
   "execution_count": 13,
   "metadata": {},
   "outputs": [
    {
     "name": "stdout",
     "output_type": "stream",
     "text": [
      "Day 1: -6 bugs\n",
      "Day 2: -6 bugs\n",
      "Day 3: -6 bugs\n",
      "Day 4: -6 bugs\n",
      "Day 5: -6 bugs\n",
      "You have collected -30 bugs. Congrats!\n"
     ]
    }
   ],
   "source": [
    "#as written this will just take negative input\n",
    "bugTotal = 0\n",
    "#this is the central for loop, days 1-5\n",
    "for day in range(1,6):\n",
    "    #gather bugInput for bugs collected\n",
    "    bugInput = int(input(f\"How many bugs did you collect on day {day}?   \"))\n",
    "    #add to total\n",
    "    bugTotal += bugInput\n",
    "    #print daily inputs\n",
    "    print(f\"Day {day}: {bugInput} bugs\")\n",
    "#print total\n",
    "print(f\"You have collected {bugTotal} bugs. Congrats!\")"
   ]
  },
  {
   "cell_type": "code",
   "execution_count": 14,
   "metadata": {},
   "outputs": [
    {
     "ename": "SyntaxError",
     "evalue": "invalid syntax (<ipython-input-14-5cfc1d572998>, line 8)",
     "output_type": "error",
     "traceback": [
      "\u001b[1;36m  File \u001b[1;32m\"<ipython-input-14-5cfc1d572998>\"\u001b[1;36m, line \u001b[1;32m8\u001b[0m\n\u001b[1;33m    if bugInput < 0\u001b[0m\n\u001b[1;37m                   ^\u001b[0m\n\u001b[1;31mSyntaxError\u001b[0m\u001b[1;31m:\u001b[0m invalid syntax\n"
     ]
    }
   ],
   "source": [
    "bugTotal = 0\n",
    "#this is the central for loop, days 1-5\n",
    "for day in range(1,6):\n",
    "#https://www.toolsqa.com/python/python-while-loop/ doing a while True loop \n",
    "#that will break out when the input is positive\n",
    "    while True:\n",
    "        bugInput = int(input(f\"How many bugs did you collect on day {day}?   \"))\n",
    "        if bugInput < 0\n",
    "            print(\"You cannot collect negative bugs, please try again.\")\n",
    "#break out of loop if input not negative\n",
    "        else:\n",
    "            break\n",
    "    #add to total\n",
    "    bugTotal += bugInput\n",
    "    #print daily inputs\n",
    "    print(f\"Day {day}: {bugInput} bugs\")\n",
    "#print total\n",
    "print(f\"You have collected {bugTotal} bugs. Congrats!\")"
   ]
  },
  {
   "cell_type": "code",
   "execution_count": 15,
   "metadata": {},
   "outputs": [
    {
     "name": "stdout",
     "output_type": "stream",
     "text": [
      "You cannot collect negative bugs, please try again.\n",
      "Day 1: 2 bugs\n"
     ]
    },
    {
     "ename": "ValueError",
     "evalue": "invalid literal for int() with base 10: ''",
     "output_type": "error",
     "traceback": [
      "\u001b[1;31m---------------------------------------------------------------------------\u001b[0m",
      "\u001b[1;31mValueError\u001b[0m                                Traceback (most recent call last)",
      "\u001b[1;32m<ipython-input-15-e58928cb0f6b>\u001b[0m in \u001b[0;36m<module>\u001b[1;34m\u001b[0m\n\u001b[0;32m      5\u001b[0m \u001b[1;31m#that will break out when the input is positive\u001b[0m\u001b[1;33m\u001b[0m\u001b[1;33m\u001b[0m\u001b[0m\n\u001b[0;32m      6\u001b[0m     \u001b[1;32mwhile\u001b[0m \u001b[1;32mTrue\u001b[0m\u001b[1;33m:\u001b[0m\u001b[1;33m\u001b[0m\u001b[0m\n\u001b[1;32m----> 7\u001b[1;33m         \u001b[0mbugInput\u001b[0m \u001b[1;33m=\u001b[0m \u001b[0mint\u001b[0m\u001b[1;33m(\u001b[0m\u001b[0minput\u001b[0m\u001b[1;33m(\u001b[0m\u001b[1;34mf\"How many bugs did you collect on day {day}?   \"\u001b[0m\u001b[1;33m)\u001b[0m\u001b[1;33m)\u001b[0m\u001b[1;33m\u001b[0m\u001b[0m\n\u001b[0m\u001b[0;32m      8\u001b[0m         \u001b[1;32mif\u001b[0m \u001b[0mbugInput\u001b[0m \u001b[1;33m<\u001b[0m \u001b[1;36m0\u001b[0m\u001b[1;33m:\u001b[0m\u001b[1;33m\u001b[0m\u001b[0m\n\u001b[0;32m      9\u001b[0m             \u001b[0mprint\u001b[0m\u001b[1;33m(\u001b[0m\u001b[1;34m\"You cannot collect negative bugs, please try again.\"\u001b[0m\u001b[1;33m)\u001b[0m\u001b[1;33m\u001b[0m\u001b[0m\n",
      "\u001b[1;31mValueError\u001b[0m: invalid literal for int() with base 10: ''"
     ]
    }
   ],
   "source": [
    "bugTotal = 0\n",
    "#this is the central for loop, days 1-5\n",
    "for day in range(1,6):\n",
    "#https://www.toolsqa.com/python/python-while-loop/ doing a while True loop \n",
    "#that will break out when the input is positive\n",
    "    while True:\n",
    "        bugInput = int(input(f\"How many bugs did you collect on day {day}?   \"))\n",
    "        if bugInput < 0:\n",
    "            print(\"You cannot collect negative bugs, please try again.\")\n",
    "#break out of loop if input not negative\n",
    "        else:\n",
    "            break\n",
    "    #add to total\n",
    "    bugTotal += bugInput\n",
    "    #print daily inputs\n",
    "    print(f\"Day {day}: {bugInput} bugs\")\n",
    "#print total\n",
    "print(f\"You have collected {bugTotal} bugs. Congrats!\")"
   ]
  },
  {
   "cell_type": "code",
   "execution_count": 16,
   "metadata": {},
   "outputs": [
    {
     "name": "stdout",
     "output_type": "stream",
     "text": [
      "Day 1: 5 bugs\n",
      "Day 2: 4 bugs\n",
      "You cannot collect negative bugs, please try again.\n",
      "Day 3: 7 bugs\n",
      "Day 4: 8 bugs\n",
      "Day 5: 9 bugs\n",
      "You have collected 33 bugs. Congrats!\n"
     ]
    }
   ],
   "source": [
    "#pressed enter without a value\n",
    "bugTotal = 0\n",
    "#this is the central for loop, days 1-5\n",
    "for day in range(1,6):\n",
    "#https://www.toolsqa.com/python/python-while-loop/ doing a while True loop \n",
    "#that will break out when the input is positive\n",
    "    while True:\n",
    "        bugInput = int(input(f\"How many bugs did you collect on day {day}?   \"))\n",
    "        if bugInput < 0:\n",
    "            print(\"You cannot collect negative bugs, please try again.\")\n",
    "#break out of loop if input not negative\n",
    "        else:\n",
    "            break\n",
    "    #add to total\n",
    "    bugTotal += bugInput\n",
    "    #print daily inputs\n",
    "    print(f\"Day {day}: {bugInput} bugs\")\n",
    "#print total\n",
    "print(f\"You have collected {bugTotal} bugs. Congrats!\")"
   ]
  },
  {
   "cell_type": "code",
   "execution_count": 17,
   "metadata": {},
   "outputs": [
    {
     "name": "stdout",
     "output_type": "stream",
     "text": [
      "Please try to enter a positive integer, Thanks\n",
      "Please try to enter a positive integer, Thanks\n",
      "You cannot collect negative bugs, please try again.\n",
      "Day 1: 3 bugs\n",
      "Day 2: 4 bugs\n",
      "Day 3: 5 bugs\n",
      "Day 4: 6 bugs\n",
      "Day 5: 7 bugs\n",
      "You have collected 25 bugs. Congrats!\n"
     ]
    }
   ],
   "source": [
    "#kind of outside the scope of this assignment, but I want to handle the \n",
    "#ValueError, so here's the source I used:\n",
    "#https://stackoverflow.com/questions/68553427/valueerror-in-python-except\\\n",
    "#ion-how-to-handle-while-user-input-is-nested-in-argu\n",
    "bugTotal = 0\n",
    "#this is the central for loop, days 1-5\n",
    "for day in range(1,6):\n",
    "#https://www.toolsqa.com/python/python-while-loop/ doing a while True loop \n",
    "#that will break out when the input is positive\n",
    "    while True:\n",
    "        try:\n",
    "            bugInput = int(input(f\"How many bugs did you collect on day {day}?   \"))\n",
    "            if bugInput < 0:\n",
    "                print(\"You cannot collect negative bugs, please try again.\")\n",
    "#break out of loop if input not negative\n",
    "            else:\n",
    "                break\n",
    "        except ValueError:\n",
    "            print(\"Please try to enter a positive integer, Thanks\")\n",
    "    #add to total\n",
    "    bugTotal += bugInput\n",
    "    #print daily inputs\n",
    "    print(f\"Day {day}: {bugInput} bugs\")\n",
    "#print total\n",
    "print(f\"You have collected {bugTotal} bugs. Congrats!\")"
   ]
  },
  {
   "cell_type": "markdown",
   "metadata": {},
   "source": [
    "# Programming Exercise 4\n",
    "The distance a vehicle travels can be calculated as follows: distance x speed = time\n",
    "\n",
    "For example, if a train travels 40 miles per hour for three hours, the distance traveled is 120 miles. Write a program that asks the user for the speed of a vehicle (in miles per hour) and the number of hours it has traveled. It should then use a loop to display the distance the vehicle has traveled for each hour of that time period."
   ]
  },
  {
   "cell_type": "code",
   "execution_count": 18,
   "metadata": {},
   "outputs": [
    {
     "name": "stdout",
     "output_type": "stream",
     "text": [
      "Hour         Distance Traveled\n"
     ]
    }
   ],
   "source": [
    "#take user input for speed and hours traveled\n",
    "speed = float(input(\"What is the speed of the vehicle in mph?   \"))\n",
    "hours = float(input(\"How many hours has it traveled?   \"))\n",
    "#print table header\n",
    "print(\"Hour         Distance Traveled\")\n",
    "#execute to see what header looks like\n"
   ]
  },
  {
   "cell_type": "code",
   "execution_count": 19,
   "metadata": {},
   "outputs": [
    {
     "name": "stdout",
     "output_type": "stream",
     "text": [
      "Hour         Distance Traveled\n",
      "1          46.0\n",
      "2          92.0\n",
      "3          138.0\n",
      "4          184.0\n",
      "5          230.0\n",
      "6          276.0\n",
      "7          322.0\n",
      "8          368.0\n",
      "9          414.0\n",
      "Your trip was 414.0 miles\n"
     ]
    }
   ],
   "source": [
    "#take user input for speed and hours traveled\n",
    "speed = float(input(\"What is the speed of the vehicle in mph?   \"))\n",
    "#taking hours as float becuase there can be partial hours\n",
    "hours = float(input(\"How many hours has it traveled?   \"))\n",
    "#counter for total distance, set to 0\n",
    "totDistance = 0\n",
    "#print table header\n",
    "#it isn't called for, but I also want total trip distance, not limited to integer\\\n",
    "#hours\n",
    "fullTotal = speed * hours\n",
    "print(\"Hour         Distance Traveled\")\n",
    "\n",
    "# going to use a for loop pretty sure, converting hours to int for hourly \\\n",
    "#distance table\n",
    "for hour in range(1, (int(hours)+1)):\n",
    "    # for each hour speed in mph added to totDistance\n",
    "    totDistance += speed \n",
    "    #hopefully prints in table\n",
    "    print(f\"{hour}          {totDistance}\")\n",
    "\n",
    "#print total trip distance \n",
    "print(f\"Your trip was {fullTotal} miles\")\n",
    "\n",
    "\n",
    "    "
   ]
  },
  {
   "cell_type": "code",
   "execution_count": 26,
   "metadata": {},
   "outputs": [],
   "source": [
    "#make this a function to test some things\n",
    "def speedLister():\n",
    "    #take user input for speed and hours traveled\n",
    "    speed = float(input(\"What is the speed of the vehicle in mph?   \"))\n",
    "    #taking hours as float becuase there can be partial hours\n",
    "    hours = float(input(\"How many hours has it traveled?   \"))\n",
    "    #counter for total distance, set to 0\n",
    "    totDistance = 0\n",
    "    #print table header\n",
    "    #it isn't called for, but I also want total trip distance, not limited to integer\\\n",
    "    #hours\n",
    "    fullTotal = speed * hours\n",
    "    print(\"Hour         Distance Traveled\")\n",
    "\n",
    "    # going to use a for loop pretty sure, converting hours to int for hourly \\\n",
    "    #distance table\n",
    "    for hour in range(1, (int(hours)+1)):\n",
    "        # for each hour speed in mph added to totDistance\n",
    "        totDistance += speed \n",
    "        #hopefully prints in table, try now again\n",
    "        print(f\"{hour}              {totDistance}\")\n",
    "\n",
    "    #print total trip distance and inputs so I can keep track \n",
    "    print(f\"You went {fullTotal} miles in {hours} hours going {speed} mph.\")"
   ]
  },
  {
   "cell_type": "code",
   "execution_count": 24,
   "metadata": {},
   "outputs": [
    {
     "name": "stdout",
     "output_type": "stream",
     "text": [
      "Hour         Distance Traveled\n",
      "1          10.0\n",
      "2          20.0\n",
      "3          30.0\n",
      "4          40.0\n",
      "You went 49.800000000000004 miles in 4.98 hours going 10.0 mph.\n"
     ]
    }
   ],
   "source": [
    "speedLister()"
   ]
  },
  {
   "cell_type": "code",
   "execution_count": 25,
   "metadata": {},
   "outputs": [
    {
     "name": "stdout",
     "output_type": "stream",
     "text": [
      "Hour         Distance Traveled\n",
      "1          578.46\n",
      "2          1156.92\n",
      "3          1735.38\n",
      "4          2313.84\n",
      "5          2892.3\n",
      "You went 2892.3 miles in 5.0 hours going 578.46 mph.\n"
     ]
    }
   ],
   "source": [
    "speedLister()"
   ]
  },
  {
   "cell_type": "code",
   "execution_count": 27,
   "metadata": {},
   "outputs": [
    {
     "name": "stdout",
     "output_type": "stream",
     "text": [
      "Hour         Distance Traveled\n",
      "1              4.0\n",
      "2              8.0\n",
      "3              12.0\n",
      "4              16.0\n",
      "5              20.0\n",
      "6              24.0\n",
      "7              28.0\n",
      "You went 30.4 miles in 7.6 hours going 4.0 mph.\n"
     ]
    }
   ],
   "source": [
    "#output looks real good now\n",
    "speedLister()"
   ]
  },
  {
   "cell_type": "markdown",
   "metadata": {},
   "source": [
    "# Programming Exercise 13\n",
    "Write a program that predicts the approximate size of a population of organisms. The application should use text boxes to allow the user to enter the starting number of organisms, the average daily population increase (as a percentage), and the number of days the organisms will be left to multiply"
   ]
  },
  {
   "cell_type": "code",
   "execution_count": 36,
   "metadata": {},
   "outputs": [
    {
     "name": "stdout",
     "output_type": "stream",
     "text": [
      "Day             Approximate Population\n",
      "1               11.0\n",
      "2               12.1\n",
      "3               13.309999999999999\n",
      "4               14.640999999999998\n",
      "5               16.105099999999997\n"
     ]
    }
   ],
   "source": [
    "#take user input for starting population, percentage increase, and days\n",
    "startPop = int(input(\"Enter the initial number of organisms.   \"))\n",
    "percentInc = float(input(\"Enter daily population growth percentage.\"))\n",
    "#actually want a decimal multiplier equivalent to the percentage entered, \n",
    "decPer = percentInc / 100\n",
    "days = int(input(\"Enter the duration of the experiment in days.   \"))\n",
    "#establish an accumulator for organism population, but start with the starting\\\n",
    "#population\n",
    "orgPop = startPop\n",
    "#print table header\n",
    "print(\"Day             Approximate Population\")\n",
    "\n",
    "#establish for loop\n",
    "#math was not quite right, retrying\n",
    "for day in range(1,(days + 1)):\n",
    "    orgPop += orgPop * decPer\n",
    "    print(f\"{day}               {orgPop}\")\n",
    "\n",
    "\n",
    "\n"
   ]
  },
  {
   "cell_type": "code",
   "execution_count": 39,
   "metadata": {},
   "outputs": [],
   "source": [
    "def popIncreaser():\n",
    "    #take user input for starting population, percentage increase, and days\n",
    "    startPop = int(input(\"Enter the initial number of organisms.   \"))\n",
    "    percentInc = float(input(\"Enter daily population growth percentage.\"))\n",
    "    #actually want a decimal multiplier equivalent to the percentage entered, \n",
    "    decPer = percentInc / 100\n",
    "    days = int(input(\"Enter the duration of the experiment in days.   \"))\n",
    "    #establish an accumulator for organism population, but start with the starting\\\n",
    "    #population\n",
    "    orgPop = startPop\n",
    "    #print table header\n",
    "    print(\"Day             Approximate Population\")\n",
    "\n",
    "    #establish for loop\n",
    "    #math was not quite right, retrying\n",
    "    for day in range(1,(days + 1)):\n",
    "        orgPop += orgPop * decPer\n",
    "        print(f\"{day}               {orgPop}\")\n"
   ]
  },
  {
   "cell_type": "code",
   "execution_count": 40,
   "metadata": {},
   "outputs": [
    {
     "name": "stdout",
     "output_type": "stream",
     "text": [
      "Day             Approximate Population\n",
      "1               21.0\n",
      "2               44.1\n",
      "3               92.61000000000001\n",
      "4               194.48100000000005\n",
      "5               408.4101000000001\n"
     ]
    }
   ],
   "source": [
    "popIncreaser()"
   ]
  },
  {
   "cell_type": "code",
   "execution_count": 47,
   "metadata": {},
   "outputs": [],
   "source": [
    "def popIncreaser():\n",
    "    #take user input for starting population, percentage increase, and days\n",
    "    startPop = int(input(\"Enter the initial number of organisms.   \"))\n",
    "    percentInc = float(input(\"Enter daily population growth percentage.\"))\n",
    "    #actually want a decimal multiplier equivalent to the percentage entered, \n",
    "    decPer = percentInc / 100\n",
    "    days = int(input(\"Enter the duration of the experiment in days.   \"))\n",
    "    #establish an accumulator for organism population, but start with the starting\\\n",
    "    #population\n",
    "    orgPop = startPop\n",
    "    #print table header\n",
    "    print(\"Day             Approximate Population\")\n",
    "    #added this print line so the initial population shows as day 0 in table\n",
    "    print(f\"{0}               {startPop}\")\n",
    "\n",
    "    #establish for loop\n",
    "    #math was not quite right, retrying\n",
    "    for day in range(1,(days + 1)):\n",
    "        orgPop += orgPop * decPer\n",
    "        print(f\"{day}               {orgPop}\")"
   ]
  },
  {
   "cell_type": "code",
   "execution_count": 48,
   "metadata": {},
   "outputs": [
    {
     "name": "stdout",
     "output_type": "stream",
     "text": [
      "Day             Approximate Population\n",
      "0               10\n",
      "1               20.0\n",
      "2               40.0\n",
      "3               80.0\n",
      "4               160.0\n"
     ]
    }
   ],
   "source": [
    "popIncreaser()"
   ]
  },
  {
   "cell_type": "markdown",
   "metadata": {},
   "source": [
    "# Programming Exercise 14\n",
    "Write a program that uses nested loops to draw this pattern:\n"
   ]
  },
  {
   "cell_type": "code",
   "execution_count": 55,
   "metadata": {},
   "outputs": [],
   "source": [
    "#7 asterisks on top row\n",
    "topRow = 7\n",
    "#taking the example in the book and reversing the range to turn upside down\\\n",
    "#I hope\n",
    "for row in range(topRow, 0):\n",
    "    for ast in range(space + 1):\n",
    "        print ('*', end='')\n",
    "    print()\n",
    "\n"
   ]
  },
  {
   "cell_type": "code",
   "execution_count": 56,
   "metadata": {},
   "outputs": [
    {
     "name": "stdout",
     "output_type": "stream",
     "text": [
      "*\n",
      "**\n",
      "***\n",
      "****\n",
      "*****\n",
      "******\n",
      "*******\n"
     ]
    }
   ],
   "source": [
    "#the syntax is valid but it doesn't show any output, normal range does give\\\n",
    "#output like in the text, but it needs to be upside down from this\n",
    "for row in range(topRow):\n",
    "    for ast in range(space + 1):\n",
    "        print ('*', end='')\n",
    "    print()"
   ]
  },
  {
   "cell_type": "code",
   "execution_count": 59,
   "metadata": {},
   "outputs": [
    {
     "name": "stdout",
     "output_type": "stream",
     "text": [
      "******\n",
      "*****\n",
      "****\n",
      "***\n",
      "**\n",
      "*\n",
      "\n"
     ]
    }
   ],
   "source": [
    "for row in range(topRow):\n",
    "    #the inner loop is where range should be reversed\n",
    "    for ast in range((row + 1), topRow):\n",
    "        print ('*', end='')\n",
    "    print()"
   ]
  },
  {
   "cell_type": "code",
   "execution_count": 60,
   "metadata": {},
   "outputs": [
    {
     "name": "stdout",
     "output_type": "stream",
     "text": [
      "******\n",
      "*****\n",
      "****\n",
      "***\n",
      "**\n",
      "*\n",
      "\n",
      "\n"
     ]
    }
   ],
   "source": [
    "#I think this change will add a row with 7\n",
    "for row in range(topRow + 1):\n",
    "    #the inner loop is where range should be reversed\n",
    "    for ast in range((row + 1), topRow):\n",
    "        print ('*', end='')\n",
    "    print()"
   ]
  },
  {
   "cell_type": "code",
   "execution_count": 61,
   "metadata": {},
   "outputs": [
    {
     "name": "stdout",
     "output_type": "stream",
     "text": [
      "*******\n",
      "******\n",
      "*****\n",
      "****\n",
      "***\n",
      "**\n",
      "*\n"
     ]
    }
   ],
   "source": [
    "#That didn't do it\n",
    "for row in range(topRow):\n",
    "    #so I'll play with the values here\n",
    "    for ast in range(row, topRow):\n",
    "        print ('*', end='')\n",
    "    print()"
   ]
  },
  {
   "cell_type": "code",
   "execution_count": 62,
   "metadata": {},
   "outputs": [],
   "source": [
    "#That worked, how about a user controlled downward right triangle drawer \n",
    "def triDrawer():\n",
    "    topRow = int(input(\"How long should the top row be?   \"))\n",
    "    for row in range(topRow):\n",
    "        #so I'll play with the values here\n",
    "        for ast in range(row, topRow):\n",
    "            print ('*', end='')\n",
    "        print()"
   ]
  },
  {
   "cell_type": "code",
   "execution_count": 63,
   "metadata": {},
   "outputs": [
    {
     "name": "stdout",
     "output_type": "stream",
     "text": [
      "**************\n",
      "*************\n",
      "************\n",
      "***********\n",
      "**********\n",
      "*********\n",
      "********\n",
      "*******\n",
      "******\n",
      "*****\n",
      "****\n",
      "***\n",
      "**\n",
      "*\n"
     ]
    }
   ],
   "source": [
    "triDrawer()"
   ]
  },
  {
   "cell_type": "code",
   "execution_count": 64,
   "metadata": {},
   "outputs": [
    {
     "name": "stdout",
     "output_type": "stream",
     "text": [
      "****************************************************************************************************\n",
      "***************************************************************************************************\n",
      "**************************************************************************************************\n",
      "*************************************************************************************************\n",
      "************************************************************************************************\n",
      "***********************************************************************************************\n",
      "**********************************************************************************************\n",
      "*********************************************************************************************\n",
      "********************************************************************************************\n",
      "*******************************************************************************************\n",
      "******************************************************************************************\n",
      "*****************************************************************************************\n",
      "****************************************************************************************\n",
      "***************************************************************************************\n",
      "**************************************************************************************\n",
      "*************************************************************************************\n",
      "************************************************************************************\n",
      "***********************************************************************************\n",
      "**********************************************************************************\n",
      "*********************************************************************************\n",
      "********************************************************************************\n",
      "*******************************************************************************\n",
      "******************************************************************************\n",
      "*****************************************************************************\n",
      "****************************************************************************\n",
      "***************************************************************************\n",
      "**************************************************************************\n",
      "*************************************************************************\n",
      "************************************************************************\n",
      "***********************************************************************\n",
      "**********************************************************************\n",
      "*********************************************************************\n",
      "********************************************************************\n",
      "*******************************************************************\n",
      "******************************************************************\n",
      "*****************************************************************\n",
      "****************************************************************\n",
      "***************************************************************\n",
      "**************************************************************\n",
      "*************************************************************\n",
      "************************************************************\n",
      "***********************************************************\n",
      "**********************************************************\n",
      "*********************************************************\n",
      "********************************************************\n",
      "*******************************************************\n",
      "******************************************************\n",
      "*****************************************************\n",
      "****************************************************\n",
      "***************************************************\n",
      "**************************************************\n",
      "*************************************************\n",
      "************************************************\n",
      "***********************************************\n",
      "**********************************************\n",
      "*********************************************\n",
      "********************************************\n",
      "*******************************************\n",
      "******************************************\n",
      "*****************************************\n",
      "****************************************\n",
      "***************************************\n",
      "**************************************\n",
      "*************************************\n",
      "************************************\n",
      "***********************************\n",
      "**********************************\n",
      "*********************************\n",
      "********************************\n",
      "*******************************\n",
      "******************************\n",
      "*****************************\n",
      "****************************\n",
      "***************************\n",
      "**************************\n",
      "*************************\n",
      "************************\n",
      "***********************\n",
      "**********************\n",
      "*********************\n",
      "********************\n",
      "*******************\n",
      "******************\n",
      "*****************\n",
      "****************\n",
      "***************\n",
      "**************\n",
      "*************\n",
      "************\n",
      "***********\n",
      "**********\n",
      "*********\n",
      "********\n",
      "*******\n",
      "******\n",
      "*****\n",
      "****\n",
      "***\n",
      "**\n",
      "*\n"
     ]
    }
   ],
   "source": [
    "triDrawer()"
   ]
  },
  {
   "cell_type": "code",
   "execution_count": 66,
   "metadata": {},
   "outputs": [
    {
     "name": "stdout",
     "output_type": "stream",
     "text": [
      "**************************************************\n",
      "*************************************************\n",
      "************************************************\n",
      "***********************************************\n",
      "**********************************************\n",
      "*********************************************\n",
      "********************************************\n",
      "*******************************************\n",
      "******************************************\n",
      "*****************************************\n",
      "****************************************\n",
      "***************************************\n",
      "**************************************\n",
      "*************************************\n",
      "************************************\n",
      "***********************************\n",
      "**********************************\n",
      "*********************************\n",
      "********************************\n",
      "*******************************\n",
      "******************************\n",
      "*****************************\n",
      "****************************\n",
      "***************************\n",
      "**************************\n",
      "*************************\n",
      "************************\n",
      "***********************\n",
      "**********************\n",
      "*********************\n",
      "********************\n",
      "*******************\n",
      "******************\n",
      "*****************\n",
      "****************\n",
      "***************\n",
      "**************\n",
      "*************\n",
      "************\n",
      "***********\n",
      "**********\n",
      "*********\n",
      "********\n",
      "*******\n",
      "******\n",
      "*****\n",
      "****\n",
      "***\n",
      "**\n",
      "*\n"
     ]
    }
   ],
   "source": [
    "triDrawer()"
   ]
  },
  {
   "cell_type": "code",
   "execution_count": null,
   "metadata": {},
   "outputs": [],
   "source": []
  }
 ],
 "metadata": {
  "kernelspec": {
   "display_name": "Python 3",
   "language": "python",
   "name": "python3"
  },
  "language_info": {
   "codemirror_mode": {
    "name": "ipython",
    "version": 3
   },
   "file_extension": ".py",
   "mimetype": "text/x-python",
   "name": "python",
   "nbconvert_exporter": "python",
   "pygments_lexer": "ipython3",
   "version": "3.6.4"
  },
  "orig_nbformat": 4
 },
 "nbformat": 4,
 "nbformat_minor": 2
}
