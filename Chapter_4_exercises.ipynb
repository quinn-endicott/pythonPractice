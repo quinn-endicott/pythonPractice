{
 "cells": [
  {
   "cell_type": "markdown",
   "metadata": {},
   "source": [
    "# Algorithm Workbench 2\n",
    " Write a while loop that asks the user to enter two numbers. The numbers should be \n",
    "added and the sum displayed. The loop should ask the user if he or she wishes to perform the operation again. If so, the loop should repeat, otherwise it should terminate.\n",
    "\n"
   ]
  },
  {
   "cell_type": "code",
   "execution_count": 1,
   "metadata": {},
   "outputs": [
    {
     "name": "stdout",
     "output_type": "stream",
     "text": [
      "the sum of your entries is: 35.0\n",
      "the sum of your entries is: -22.0\n",
      "the sum of your entries is: 175740.86635\n",
      "Thanks for adding those numbers together!\n"
     ]
    }
   ],
   "source": [
    "# pretest loop, set to y initially so it runs\n",
    "proceedVar = \"y\"\n",
    "while proceedVar == \"y\":\n",
    "    #prompt input for valueA\n",
    "    valueA = float(input(\"Enter the first value to be summed:   \"))\n",
    "    #prompt input for valueB\n",
    "    valueB = float(input(\"Enter the second value to be summed:   \"))\n",
    "    #sum values and store product\n",
    "    valueSum = valueA + valueB\n",
    "    #print the sum\n",
    "    print(f\"the sum of your entries is: {valueSum}\")\n",
    "    #ask if the user wants to continue\n",
    "    proceedVar = input(\"Enter 'y' if you want to do more addition:   \")\n",
    "#do something on exit b/c why not\n",
    "print(\"Thanks for adding those numbers together!\")"
   ]
  },
  {
   "cell_type": "code",
   "execution_count": 3,
   "metadata": {},
   "outputs": [
    {
     "name": "stdout",
     "output_type": "stream",
     "text": [
      "567.45 + 56.0 = 623.45\n",
      "56749.0 + 76.323 = 56825.323\n",
      "56473.65 + -4657383658595.0 = -4657383602121.35\n",
      "57362548.0 + 46573.4345 = 57409121.4345\n",
      "Thanks for adding those numbers together!\n",
      "Your total was: -4657326135551.142\n"
     ]
    }
   ],
   "source": [
    "#looks like in vscode it doesn't display inputs when you run code\n",
    "#also why not show the total sum at the end too \n",
    "proceedVar = \"y\"\n",
    "totalSum = 0\n",
    "\n",
    "while proceedVar == \"y\":\n",
    "    #prompt input for valueA\n",
    "    valueA = float(input(\"Enter the first value to be summed:   \"))\n",
    "    #prompt input for valueB\n",
    "    valueB = float(input(\"Enter the second value to be summed:   \"))\n",
    "    #sum values and store product\n",
    "    valueSum = valueA + valueB\n",
    "    #accumulate that total\n",
    "    totalSum += valueSum\n",
    "    #print the sum better, so people can read it\n",
    "    print(f\"{valueA} + {valueB} = {valueSum}\")\n",
    "    #ask if the user wants to continue\n",
    "    proceedVar = input(\"Enter 'y' if you want to do more addition:   \")\n",
    "#do something on exit b/c why not\n",
    "print(\"Thanks for adding those numbers together!\")\n",
    "#print the total\n",
    "print(f\"Your total was: {totalSum}\")"
   ]
  },
  {
   "cell_type": "markdown",
   "metadata": {},
   "source": [
    "# Algorithm Workbench 5\n",
    "Write a loop that calculates the total of the following series of numbers:\n",
    "1/30 + 2/29 . . . 30/1\n"
   ]
  },
  {
   "cell_type": "code",
   "execution_count": 4,
   "metadata": {},
   "outputs": [
    {
     "name": "stdout",
     "output_type": "stream",
     "text": [
      "1 / 30\n",
      "2 / 29\n",
      "3 / 28\n",
      "4 / 27\n",
      "5 / 26\n",
      "6 / 25\n",
      "7 / 24\n",
      "8 / 23\n",
      "9 / 22\n",
      "10 / 21\n",
      "11 / 20\n",
      "12 / 19\n",
      "13 / 18\n",
      "14 / 17\n",
      "15 / 16\n",
      "16 / 15\n",
      "17 / 14\n",
      "18 / 13\n",
      "19 / 12\n",
      "20 / 11\n",
      "21 / 10\n",
      "22 / 9\n",
      "23 / 8\n",
      "24 / 7\n",
      "25 / 6\n",
      "26 / 5\n",
      "27 / 4\n",
      "28 / 3\n",
      "29 / 2\n",
      "30 / 1\n",
      "The total is: 93.84460105853213\n"
     ]
    }
   ],
   "source": [
    "#denominatior's going to be done like the accumulator above\n",
    "denom = 30\n",
    "#accumulator setup for total\n",
    "compSum = 0\n",
    "#declare for loop for numerator\n",
    "for num in range(1, 31):\n",
    "    #calulate fraction for this iteration\n",
    "    frac = num / denom\n",
    "    #display fraction so I can track what it's doing\n",
    "    print(f\"{num} / {denom}\")\n",
    "    #calculate next denominator and store\n",
    "    denom -= 1\n",
    "    #gather that sum\n",
    "    compSum += frac\n",
    "#print total when loop ends\n",
    "print(f\"The total is: {compSum}\")"
   ]
  },
  {
   "cell_type": "code",
   "execution_count": null,
   "metadata": {},
   "outputs": [],
   "source": []
  }
 ],
 "metadata": {
  "kernelspec": {
   "display_name": "Python 3",
   "language": "python",
   "name": "python3"
  },
  "language_info": {
   "codemirror_mode": {
    "name": "ipython",
    "version": 3
   },
   "file_extension": ".py",
   "mimetype": "text/x-python",
   "name": "python",
   "nbconvert_exporter": "python",
   "pygments_lexer": "ipython3",
   "version": "3.6.4"
  },
  "orig_nbformat": 4
 },
 "nbformat": 4,
 "nbformat_minor": 2
}
