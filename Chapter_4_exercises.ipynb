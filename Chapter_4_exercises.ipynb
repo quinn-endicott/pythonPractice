{
 "cells": [
  {
   "cell_type": "markdown",
   "metadata": {},
   "source": [
    "# Algorithm Workbench 2\n",
    " Write a while loop that asks the user to enter two numbers. The numbers should be \n",
    "added and the sum displayed. The loop should ask the user if he or she wishes to perform the operation again. If so, the loop should repeat, otherwise it should terminate.\n",
    "\n"
   ]
  },
  {
   "cell_type": "code",
   "execution_count": 1,
   "metadata": {},
   "outputs": [
    {
     "name": "stdout",
     "output_type": "stream",
     "text": [
      "the sum of your entries is: 35.0\n",
      "the sum of your entries is: -22.0\n",
      "the sum of your entries is: 175740.86635\n",
      "Thanks for adding those numbers together!\n"
     ]
    }
   ],
   "source": [
    "# pretest loop, set to y initially so it runs\n",
    "proceedVar = \"y\"\n",
    "while proceedVar == \"y\":\n",
    "    #prompt input for valueA\n",
    "    valueA = float(input(\"Enter the first value to be summed:   \"))\n",
    "    #prompt input for valueB\n",
    "    valueB = float(input(\"Enter the second value to be summed:   \"))\n",
    "    #sum values and store product\n",
    "    valueSum = valueA + valueB\n",
    "    #print the sum\n",
    "    print(f\"the sum of your entries is: {valueSum}\")\n",
    "    #ask if the user wants to continue\n",
    "    proceedVar = input(\"Enter 'y' if you want to do more addition:   \")\n",
    "#do something on exit b/c why not\n",
    "print(\"Thanks for adding those numbers together!\")"
   ]
  },
  {
   "cell_type": "code",
   "execution_count": 3,
   "metadata": {},
   "outputs": [
    {
     "name": "stdout",
     "output_type": "stream",
     "text": [
      "567.45 + 56.0 = 623.45\n",
      "56749.0 + 76.323 = 56825.323\n",
      "56473.65 + -4657383658595.0 = -4657383602121.35\n",
      "57362548.0 + 46573.4345 = 57409121.4345\n",
      "Thanks for adding those numbers together!\n",
      "Your total was: -4657326135551.142\n"
     ]
    }
   ],
   "source": [
    "#looks like in vscode it doesn't display inputs when you run code\n",
    "#also why not show the total sum at the end too \n",
    "proceedVar = \"y\"\n",
    "totalSum = 0\n",
    "\n",
    "while proceedVar == \"y\":\n",
    "    #prompt input for valueA\n",
    "    valueA = float(input(\"Enter the first value to be summed:   \"))\n",
    "    #prompt input for valueB\n",
    "    valueB = float(input(\"Enter the second value to be summed:   \"))\n",
    "    #sum values and store product\n",
    "    valueSum = valueA + valueB\n",
    "    #accumulate that total\n",
    "    totalSum += valueSum\n",
    "    #print the sum better, so people can read it\n",
    "    print(f\"{valueA} + {valueB} = {valueSum}\")\n",
    "    #ask if the user wants to continue\n",
    "    proceedVar = input(\"Enter 'y' if you want to do more addition:   \")\n",
    "#do something on exit b/c why not\n",
    "print(\"Thanks for adding those numbers together!\")\n",
    "#print the total\n",
    "print(f\"Your total was: {totalSum}\")"
   ]
  },
  {
   "cell_type": "markdown",
   "metadata": {},
   "source": [
    "# Algorithm Workbench 5\n",
    "Write a loop that calculates the total of the following series of numbers:\n",
    "1/30 + 2/29 . . . 30/1\n"
   ]
  },
  {
   "cell_type": "code",
   "execution_count": 4,
   "metadata": {},
   "outputs": [
    {
     "name": "stdout",
     "output_type": "stream",
     "text": [
      "1 / 30\n",
      "2 / 29\n",
      "3 / 28\n",
      "4 / 27\n",
      "5 / 26\n",
      "6 / 25\n",
      "7 / 24\n",
      "8 / 23\n",
      "9 / 22\n",
      "10 / 21\n",
      "11 / 20\n",
      "12 / 19\n",
      "13 / 18\n",
      "14 / 17\n",
      "15 / 16\n",
      "16 / 15\n",
      "17 / 14\n",
      "18 / 13\n",
      "19 / 12\n",
      "20 / 11\n",
      "21 / 10\n",
      "22 / 9\n",
      "23 / 8\n",
      "24 / 7\n",
      "25 / 6\n",
      "26 / 5\n",
      "27 / 4\n",
      "28 / 3\n",
      "29 / 2\n",
      "30 / 1\n",
      "The total is: 93.84460105853213\n"
     ]
    }
   ],
   "source": [
    "#denominatior's going to be done like the accumulator above\n",
    "denom = 30\n",
    "#accumulator setup for total\n",
    "compSum = 0\n",
    "#declare for loop for numerator\n",
    "for num in range(1, 31):\n",
    "    #calulate fraction for this iteration\n",
    "    frac = num / denom\n",
    "    #display fraction so I can track what it's doing\n",
    "    print(f\"{num} / {denom}\")\n",
    "    #calculate next denominator and store\n",
    "    denom -= 1\n",
    "    #gather that sum\n",
    "    compSum += frac\n",
    "#print total when loop ends\n",
    "print(f\"The total is: {compSum}\")"
   ]
  },
  {
   "cell_type": "markdown",
   "metadata": {},
   "source": [
    "# Programming Exercise 1\n",
    "A bug collector collects bugs every day for five days. Write a program that keeps a running total of the number of bugs collected during the five days. The loop should ask for the number of bugs collected for each day, and when the loop is finished, the program should display the total number of bugs collected."
   ]
  },
  {
   "cell_type": "code",
   "execution_count": 5,
   "metadata": {},
   "outputs": [
    {
     "name": "stdout",
     "output_type": "stream",
     "text": [
      "You have collected 24 bugs. Congrats!\n"
     ]
    }
   ],
   "source": [
    "#bugTotal is 0 to start\n",
    "bugTotal = 0\n",
    "#this is the central for loop, days 1-5\n",
    "for day in range(1,6):\n",
    "    #gather bugInput for bugs collected\n",
    "    bugInput = int(input(f\"How many bugs did you collect on day {day}?   \"))\n",
    "    #add to total\n",
    "    bugTotal += bugInput\n",
    "#print total\n",
    "print(f\"You have collected {bugTotal} bugs. Congrats!\")\n",
    "\n",
    "    "
   ]
  },
  {
   "cell_type": "code",
   "execution_count": 6,
   "metadata": {},
   "outputs": [
    {
     "name": "stdout",
     "output_type": "stream",
     "text": [
      "Day 1: 4 bugs\n",
      "Day 2: 56 bugs\n",
      "Day 3: 74 bugs\n",
      "Day 4: 45 bugs\n",
      "Day 5: 7 bugs\n",
      "You have collected 186 bugs. Congrats!\n"
     ]
    }
   ],
   "source": [
    "#that output could be better, I like seeing the input that was entered\n",
    "bugTotal = 0\n",
    "#this is the central for loop, days 1-5\n",
    "for day in range(1,6):\n",
    "    #gather bugInput for bugs collected\n",
    "    bugInput = int(input(f\"How many bugs did you collect on day {day}?   \"))\n",
    "    #add to total\n",
    "    bugTotal += bugInput\n",
    "    #print daily inputs\n",
    "    print(f\"Day {day}: {bugInput} bugs\")\n",
    "#print total\n",
    "print(f\"You have collected {bugTotal} bugs. Congrats!\")"
   ]
  },
  {
   "cell_type": "code",
   "execution_count": 13,
   "metadata": {},
   "outputs": [
    {
     "name": "stdout",
     "output_type": "stream",
     "text": [
      "Day 1: -6 bugs\n",
      "Day 2: -6 bugs\n",
      "Day 3: -6 bugs\n",
      "Day 4: -6 bugs\n",
      "Day 5: -6 bugs\n",
      "You have collected -30 bugs. Congrats!\n"
     ]
    }
   ],
   "source": [
    "#as written this will just take negative input\n",
    "bugTotal = 0\n",
    "#this is the central for loop, days 1-5\n",
    "for day in range(1,6):\n",
    "    #gather bugInput for bugs collected\n",
    "    bugInput = int(input(f\"How many bugs did you collect on day {day}?   \"))\n",
    "    #add to total\n",
    "    bugTotal += bugInput\n",
    "    #print daily inputs\n",
    "    print(f\"Day {day}: {bugInput} bugs\")\n",
    "#print total\n",
    "print(f\"You have collected {bugTotal} bugs. Congrats!\")"
   ]
  },
  {
   "cell_type": "code",
   "execution_count": 14,
   "metadata": {},
   "outputs": [
    {
     "ename": "SyntaxError",
     "evalue": "invalid syntax (<ipython-input-14-5cfc1d572998>, line 8)",
     "output_type": "error",
     "traceback": [
      "\u001b[1;36m  File \u001b[1;32m\"<ipython-input-14-5cfc1d572998>\"\u001b[1;36m, line \u001b[1;32m8\u001b[0m\n\u001b[1;33m    if bugInput < 0\u001b[0m\n\u001b[1;37m                   ^\u001b[0m\n\u001b[1;31mSyntaxError\u001b[0m\u001b[1;31m:\u001b[0m invalid syntax\n"
     ]
    }
   ],
   "source": [
    "bugTotal = 0\n",
    "#this is the central for loop, days 1-5\n",
    "for day in range(1,6):\n",
    "#https://www.toolsqa.com/python/python-while-loop/ doing a while True loop \n",
    "#that will break out when the input is positive\n",
    "    while True:\n",
    "        bugInput = int(input(f\"How many bugs did you collect on day {day}?   \"))\n",
    "        if bugInput < 0\n",
    "            print(\"You cannot collect negative bugs, please try again.\")\n",
    "#break out of loop if input not negative\n",
    "        else:\n",
    "            break\n",
    "    #add to total\n",
    "    bugTotal += bugInput\n",
    "    #print daily inputs\n",
    "    print(f\"Day {day}: {bugInput} bugs\")\n",
    "#print total\n",
    "print(f\"You have collected {bugTotal} bugs. Congrats!\")"
   ]
  },
  {
   "cell_type": "code",
   "execution_count": 15,
   "metadata": {},
   "outputs": [
    {
     "name": "stdout",
     "output_type": "stream",
     "text": [
      "You cannot collect negative bugs, please try again.\n",
      "Day 1: 2 bugs\n"
     ]
    },
    {
     "ename": "ValueError",
     "evalue": "invalid literal for int() with base 10: ''",
     "output_type": "error",
     "traceback": [
      "\u001b[1;31m---------------------------------------------------------------------------\u001b[0m",
      "\u001b[1;31mValueError\u001b[0m                                Traceback (most recent call last)",
      "\u001b[1;32m<ipython-input-15-e58928cb0f6b>\u001b[0m in \u001b[0;36m<module>\u001b[1;34m\u001b[0m\n\u001b[0;32m      5\u001b[0m \u001b[1;31m#that will break out when the input is positive\u001b[0m\u001b[1;33m\u001b[0m\u001b[1;33m\u001b[0m\u001b[0m\n\u001b[0;32m      6\u001b[0m     \u001b[1;32mwhile\u001b[0m \u001b[1;32mTrue\u001b[0m\u001b[1;33m:\u001b[0m\u001b[1;33m\u001b[0m\u001b[0m\n\u001b[1;32m----> 7\u001b[1;33m         \u001b[0mbugInput\u001b[0m \u001b[1;33m=\u001b[0m \u001b[0mint\u001b[0m\u001b[1;33m(\u001b[0m\u001b[0minput\u001b[0m\u001b[1;33m(\u001b[0m\u001b[1;34mf\"How many bugs did you collect on day {day}?   \"\u001b[0m\u001b[1;33m)\u001b[0m\u001b[1;33m)\u001b[0m\u001b[1;33m\u001b[0m\u001b[0m\n\u001b[0m\u001b[0;32m      8\u001b[0m         \u001b[1;32mif\u001b[0m \u001b[0mbugInput\u001b[0m \u001b[1;33m<\u001b[0m \u001b[1;36m0\u001b[0m\u001b[1;33m:\u001b[0m\u001b[1;33m\u001b[0m\u001b[0m\n\u001b[0;32m      9\u001b[0m             \u001b[0mprint\u001b[0m\u001b[1;33m(\u001b[0m\u001b[1;34m\"You cannot collect negative bugs, please try again.\"\u001b[0m\u001b[1;33m)\u001b[0m\u001b[1;33m\u001b[0m\u001b[0m\n",
      "\u001b[1;31mValueError\u001b[0m: invalid literal for int() with base 10: ''"
     ]
    }
   ],
   "source": [
    "bugTotal = 0\n",
    "#this is the central for loop, days 1-5\n",
    "for day in range(1,6):\n",
    "#https://www.toolsqa.com/python/python-while-loop/ doing a while True loop \n",
    "#that will break out when the input is positive\n",
    "    while True:\n",
    "        bugInput = int(input(f\"How many bugs did you collect on day {day}?   \"))\n",
    "        if bugInput < 0:\n",
    "            print(\"You cannot collect negative bugs, please try again.\")\n",
    "#break out of loop if input not negative\n",
    "        else:\n",
    "            break\n",
    "    #add to total\n",
    "    bugTotal += bugInput\n",
    "    #print daily inputs\n",
    "    print(f\"Day {day}: {bugInput} bugs\")\n",
    "#print total\n",
    "print(f\"You have collected {bugTotal} bugs. Congrats!\")"
   ]
  },
  {
   "cell_type": "code",
   "execution_count": 16,
   "metadata": {},
   "outputs": [
    {
     "name": "stdout",
     "output_type": "stream",
     "text": [
      "Day 1: 5 bugs\n",
      "Day 2: 4 bugs\n",
      "You cannot collect negative bugs, please try again.\n",
      "Day 3: 7 bugs\n",
      "Day 4: 8 bugs\n",
      "Day 5: 9 bugs\n",
      "You have collected 33 bugs. Congrats!\n"
     ]
    }
   ],
   "source": [
    "#pressed enter without a value\n",
    "bugTotal = 0\n",
    "#this is the central for loop, days 1-5\n",
    "for day in range(1,6):\n",
    "#https://www.toolsqa.com/python/python-while-loop/ doing a while True loop \n",
    "#that will break out when the input is positive\n",
    "    while True:\n",
    "        bugInput = int(input(f\"How many bugs did you collect on day {day}?   \"))\n",
    "        if bugInput < 0:\n",
    "            print(\"You cannot collect negative bugs, please try again.\")\n",
    "#break out of loop if input not negative\n",
    "        else:\n",
    "            break\n",
    "    #add to total\n",
    "    bugTotal += bugInput\n",
    "    #print daily inputs\n",
    "    print(f\"Day {day}: {bugInput} bugs\")\n",
    "#print total\n",
    "print(f\"You have collected {bugTotal} bugs. Congrats!\")"
   ]
  },
  {
   "cell_type": "code",
   "execution_count": 17,
   "metadata": {},
   "outputs": [
    {
     "name": "stdout",
     "output_type": "stream",
     "text": [
      "Please try to enter a positive integer, Thanks\n",
      "Please try to enter a positive integer, Thanks\n",
      "You cannot collect negative bugs, please try again.\n",
      "Day 1: 3 bugs\n",
      "Day 2: 4 bugs\n",
      "Day 3: 5 bugs\n",
      "Day 4: 6 bugs\n",
      "Day 5: 7 bugs\n",
      "You have collected 25 bugs. Congrats!\n"
     ]
    }
   ],
   "source": [
    "#kind of outside the scope of this assignment, but I want to handle the \n",
    "#ValueError, so here's the source I used:\n",
    "#https://stackoverflow.com/questions/68553427/valueerror-in-python-except\\\n",
    "#ion-how-to-handle-while-user-input-is-nested-in-argu\n",
    "bugTotal = 0\n",
    "#this is the central for loop, days 1-5\n",
    "for day in range(1,6):\n",
    "#https://www.toolsqa.com/python/python-while-loop/ doing a while True loop \n",
    "#that will break out when the input is positive\n",
    "    while True:\n",
    "        try:\n",
    "            bugInput = int(input(f\"How many bugs did you collect on day {day}?   \"))\n",
    "            if bugInput < 0:\n",
    "                print(\"You cannot collect negative bugs, please try again.\")\n",
    "#break out of loop if input not negative\n",
    "            else:\n",
    "                break\n",
    "        except ValueError:\n",
    "            print(\"Please try to enter a positive integer, Thanks\")\n",
    "    #add to total\n",
    "    bugTotal += bugInput\n",
    "    #print daily inputs\n",
    "    print(f\"Day {day}: {bugInput} bugs\")\n",
    "#print total\n",
    "print(f\"You have collected {bugTotal} bugs. Congrats!\")"
   ]
  },
  {
   "cell_type": "markdown",
   "metadata": {},
   "source": [
    "# Programming Exercise 4\n",
    "The distance a vehicle travels can be calculated as follows: distance x speed = time\n",
    "\n",
    "For example, if a train travels 40 miles per hour for three hours, the distance traveled is 120 miles. Write a program that asks the user for the speed of a vehicle (in miles per hour) and the number of hours it has traveled. It should then use a loop to display the distance the vehicle has traveled for each hour of that time period."
   ]
  },
  {
   "cell_type": "code",
   "execution_count": 18,
   "metadata": {},
   "outputs": [
    {
     "name": "stdout",
     "output_type": "stream",
     "text": [
      "Hour         Distance Traveled\n"
     ]
    }
   ],
   "source": [
    "#take user input for speed and hours traveled\n",
    "speed = float(input(\"What is the speed of the vehicle in mph?   \"))\n",
    "hours = float(input(\"How many hours has it traveled?   \"))\n",
    "#print table header\n",
    "print(\"Hour         Distance Traveled\")\n",
    "#execute to see what header looks like\n"
   ]
  },
  {
   "cell_type": "code",
   "execution_count": null,
   "metadata": {},
   "outputs": [],
   "source": [
    "#take user input for speed and hours traveled\n",
    "speed = float(input(\"What is the speed of the vehicle in mph?   \"))\n",
    "hours = float(input(\"How many hours has it traveled?   \"))\n",
    "#print table header\n",
    "print(\"Hour         Distance Traveled\")"
   ]
  }
 ],
 "metadata": {
  "kernelspec": {
   "display_name": "Python 3",
   "language": "python",
   "name": "python3"
  },
  "language_info": {
   "codemirror_mode": {
    "name": "ipython",
    "version": 3
   },
   "file_extension": ".py",
   "mimetype": "text/x-python",
   "name": "python",
   "nbconvert_exporter": "python",
   "pygments_lexer": "ipython3",
   "version": "3.6.4"
  },
  "orig_nbformat": 4
 },
 "nbformat": 4,
 "nbformat_minor": 2
}
