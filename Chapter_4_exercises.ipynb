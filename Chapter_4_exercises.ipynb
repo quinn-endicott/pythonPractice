{
 "cells": [
  {
   "cell_type": "markdown",
   "metadata": {},
   "source": [
    "# Algorithm Workbench 2\n",
    " Write a while loop that asks the user to enter two numbers. The numbers should be \n",
    "added and the sum displayed. The loop should ask the user if he or she wishes to perform the operation again. If so, the loop should repeat, otherwise it should terminate.\n",
    "\n"
   ]
  },
  {
   "cell_type": "code",
   "execution_count": 1,
   "metadata": {},
   "outputs": [
    {
     "name": "stdout",
     "output_type": "stream",
     "text": [
      "the sum of your entries is: 35.0\n",
      "the sum of your entries is: -22.0\n",
      "the sum of your entries is: 175740.86635\n",
      "Thanks for adding those numbers together!\n"
     ]
    }
   ],
   "source": [
    "# pretest loop, set to y initially so it runs\n",
    "proceedVar = \"y\"\n",
    "while proceedVar == \"y\":\n",
    "    #prompt input for valueA\n",
    "    valueA = float(input(\"Enter the first value to be summed:   \"))\n",
    "    #prompt input for valueB\n",
    "    valueB = float(input(\"Enter the second value to be summed:   \"))\n",
    "    #sum values and store product\n",
    "    valueSum = valueA + valueB\n",
    "    #print the sum\n",
    "    print(f\"the sum of your entries is: {valueSum}\")\n",
    "    #ask if the user wants to continue\n",
    "    proceedVar = input(\"Enter 'y' if you want to do more addition:   \")\n",
    "#do something on exit b/c why not\n",
    "print(\"Thanks for adding those numbers together!\")"
   ]
  },
  {
   "cell_type": "code",
   "execution_count": 3,
   "metadata": {},
   "outputs": [
    {
     "name": "stdout",
     "output_type": "stream",
     "text": [
      "567.45 + 56.0 = 623.45\n",
      "56749.0 + 76.323 = 56825.323\n",
      "56473.65 + -4657383658595.0 = -4657383602121.35\n",
      "57362548.0 + 46573.4345 = 57409121.4345\n",
      "Thanks for adding those numbers together!\n",
      "Your total was: -4657326135551.142\n"
     ]
    }
   ],
   "source": [
    "#looks like in vscode it doesn't display inputs when you run code\n",
    "#also why not show the total sum at the end too \n",
    "proceedVar = \"y\"\n",
    "totalSum = 0\n",
    "\n",
    "while proceedVar == \"y\":\n",
    "    #prompt input for valueA\n",
    "    valueA = float(input(\"Enter the first value to be summed:   \"))\n",
    "    #prompt input for valueB\n",
    "    valueB = float(input(\"Enter the second value to be summed:   \"))\n",
    "    #sum values and store product\n",
    "    valueSum = valueA + valueB\n",
    "    #accumulate that total\n",
    "    totalSum += valueSum\n",
    "    #print the sum better, so people can read it\n",
    "    print(f\"{valueA} + {valueB} = {valueSum}\")\n",
    "    #ask if the user wants to continue\n",
    "    proceedVar = input(\"Enter 'y' if you want to do more addition:   \")\n",
    "#do something on exit b/c why not\n",
    "print(\"Thanks for adding those numbers together!\")\n",
    "#print the total\n",
    "print(f\"Your total was: {totalSum}\")"
   ]
  },
  {
   "cell_type": "code",
   "execution_count": null,
   "metadata": {},
   "outputs": [],
   "source": []
  }
 ],
 "metadata": {
  "kernelspec": {
   "display_name": "Python 3",
   "language": "python",
   "name": "python3"
  },
  "language_info": {
   "codemirror_mode": {
    "name": "ipython",
    "version": 3
   },
   "file_extension": ".py",
   "mimetype": "text/x-python",
   "name": "python",
   "nbconvert_exporter": "python",
   "pygments_lexer": "ipython3",
   "version": "3.6.4"
  },
  "orig_nbformat": 4
 },
 "nbformat": 4,
 "nbformat_minor": 2
}
