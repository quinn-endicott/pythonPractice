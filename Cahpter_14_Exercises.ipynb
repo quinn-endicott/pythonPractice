{
 "cells": [
  {
   "cell_type": "markdown",
   "metadata": {},
   "source": [
    "# 3. Relational Database Project\n",
    "In this assignment, you will create a database named student_info.db that holds the following information about students at a college:\n",
    "\n",
    "• The student’s name\n",
    "• The student’s major\n",
    "• The department in which the student is enrolled\n",
    "\n",
    "The database should have the following tables: Majors, Departments, and Students\n",
    "\n",
    "• Write a program that creates the database and the tables.\n",
    "• Write a program that performs CRUD operations on the Majors table. \n",
    "\n",
    "Specifically, the program should allow the user to do the following:\n",
    "\n",
    "___ Add a new major\n",
    "___ Search for an existing major\n",
    "___ Update an existing major\n",
    "___ Delete an existing major\n",
    "___ Show a list of all majors\n",
    "\n",
    "• Write a program that performs CRUD operations on the Departments table. \n",
    "\n",
    "Specifically, the program should allow the user to do the following:\n",
    "\n",
    "___ Add a new department\n",
    "___ Search for an existing department\n",
    "___ Update an existing department\n",
    "___ Delete an existing department\n",
    "___ Show a list of all departments\n",
    "\n",
    "• Write a program that performs CRUD operations on the Students table. \n",
    "\n",
    "Specifically, the program should allow the user to do the following:\n",
    "\n",
    "___ Add a new student\n",
    "___ Search for an existing student\n",
    "___ Update an existing student\n",
    "___ Delete an existing student\n",
    "___ Show a list of all students\n",
    "\n",
    "When adding, updating, and deleting rows, be sure to enable foreign key enforcement. When adding a new student to the Students table, the user should only be allowed to select an existing major from the Departments table, and an existing department from the Departments table"
   ]
  },
  {
   "cell_type": "code",
   "execution_count": null,
   "metadata": {},
   "outputs": [],
   "source": []
  }
 ],
 "metadata": {
  "language_info": {
   "name": "python"
  }
 },
 "nbformat": 4,
 "nbformat_minor": 2
}
