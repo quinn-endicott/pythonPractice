{
 "cells": [
  {
   "cell_type": "code",
   "execution_count": null,
   "id": "2a43a532",
   "metadata": {},
   "outputs": [],
   "source": [
    "def print_intermediates(Dec):\n",
    "    while Dec > 0:\n",
    "        nResult, remain = divmod(Dec, 2)\n",
    "        print(f\"nResult: {nResult}, Remain: {remain}\")\n",
    "        Dec = nResult\n",
    "\n",
    "# Get user input and call the function\n",
    "user_input = int(input(\"Enter a positive integer: \"))\n",
    "print_intermediates(user_input)"
   ]
  },
  {
   "cell_type": "code",
   "execution_count": null,
   "id": "6d4e806a",
   "metadata": {},
   "outputs": [],
   "source": [
    "print_intermediates(65)"
   ]
  },
  {
   "cell_type": "code",
   "execution_count": null,
   "id": "4e92dfd5",
   "metadata": {},
   "outputs": [],
   "source": [
    "def convert_bin(Dec):\n",
    "    binary_result = \"\"\n",
    "    while Dec > 0:\n",
    "        nResult, remain = divmod(Dec, 2)\n",
    "        binary_result = str(remain) + binary_result\n",
    "        print(f\"nResult: {nResult}, Remain: {remain}\")\n",
    "        Dec = nResult\n",
    "    return binary_result"
   ]
  },
  {
   "cell_type": "code",
   "execution_count": null,
   "id": "d0810b42",
   "metadata": {},
   "outputs": [],
   "source": [
    "convert_bin(11)"
   ]
  },
  {
   "cell_type": "code",
   "execution_count": null,
   "id": "798d0b4b",
   "metadata": {},
   "outputs": [],
   "source": [
    "print(butts)"
   ]
  },
  {
   "cell_type": "code",
   "execution_count": null,
   "id": "4285d9da",
   "metadata": {},
   "outputs": [],
   "source": [
    "print(\"butt\")"
   ]
  },
  {
   "cell_type": "code",
   "execution_count": null,
   "id": "7a41ca15",
   "metadata": {},
   "outputs": [],
   "source": [
    "a=\"dog\"\n",
    "print(a)"
   ]
  },
  {
   "cell_type": "code",
   "execution_count": 1,
   "id": "cba78c2d",
   "metadata": {},
   "outputs": [],
   "source": [
    "def convert_bin(Dec):\n",
    "    binary_result = \"\"\n",
    "    while Dec > 0:\n",
    "        nResult, remain = divmod(Dec, 2)\n",
    "        binary_result = str(remain) + binary_result\n",
    "        print(f\"nResult: {nResult}, Remain: {remain}\")\n",
    "        Dec = nResult\n",
    "    return binary_result"
   ]
  },
  {
   "cell_type": "code",
   "execution_count": 2,
   "id": "3c47f08e",
   "metadata": {},
   "outputs": [
    {
     "name": "stdout",
     "output_type": "stream",
     "text": [
      "nResult: 32, Remain: 1\n",
      "nResult: 16, Remain: 0\n",
      "nResult: 8, Remain: 0\n",
      "nResult: 4, Remain: 0\n",
      "nResult: 2, Remain: 0\n",
      "nResult: 1, Remain: 0\n",
      "nResult: 0, Remain: 1\n"
     ]
    },
    {
     "data": {
      "text/plain": [
       "'1000001'"
      ]
     },
     "execution_count": 2,
     "metadata": {},
     "output_type": "execute_result"
    }
   ],
   "source": [
    "convert_bin(65)"
   ]
  },
  {
   "cell_type": "code",
   "execution_count": 3,
   "id": "aa04d23e",
   "metadata": {},
   "outputs": [],
   "source": [
    "def convert_bin(Dec):\n",
    "    while Dec > 0:\n",
    "        nResult, remain = divmod(Dec, 2)\n",
    "        print(f\"nResult: {nResult}, Remain: {remain}\")\n",
    "        Dec = nResult\n",
    "   "
   ]
  },
  {
   "cell_type": "code",
   "execution_count": 4,
   "id": "c398b618",
   "metadata": {},
   "outputs": [
    {
     "name": "stdout",
     "output_type": "stream",
     "text": [
      "nResult: 32, Remain: 1\n",
      "nResult: 16, Remain: 0\n",
      "nResult: 8, Remain: 0\n",
      "nResult: 4, Remain: 0\n",
      "nResult: 2, Remain: 0\n",
      "nResult: 1, Remain: 0\n",
      "nResult: 0, Remain: 1\n"
     ]
    }
   ],
   "source": [
    "convert_bin(65)"
   ]
  },
  {
   "cell_type": "code",
   "execution_count": 7,
   "id": "9c84c35b",
   "metadata": {},
   "outputs": [],
   "source": [
    "def convert_bin(Dec):\n",
    "    while Dec > 0:\n",
    "        nResult, remain = divmod(Dec, 2)\n",
    "        print(\"nResult, remain\")\n",
    "        Dec = nResult"
   ]
  },
  {
   "cell_type": "code",
   "execution_count": 8,
   "id": "4652892c",
   "metadata": {},
   "outputs": [
    {
     "name": "stdout",
     "output_type": "stream",
     "text": [
      "nResult, remain\n",
      "nResult, remain\n",
      "nResult, remain\n",
      "nResult, remain\n"
     ]
    }
   ],
   "source": [
    "convert_bin(11)"
   ]
  },
  {
   "cell_type": "code",
   "execution_count": 9,
   "id": "3df40ed0",
   "metadata": {},
   "outputs": [],
   "source": [
    "a=3\n"
   ]
  },
  {
   "cell_type": "code",
   "execution_count": 10,
   "id": "579a4b2d",
   "metadata": {},
   "outputs": [
    {
     "name": "stdout",
     "output_type": "stream",
     "text": [
      "3\n"
     ]
    }
   ],
   "source": [
    "print(a)"
   ]
  },
  {
   "cell_type": "code",
   "execution_count": 11,
   "id": "19ad4776",
   "metadata": {},
   "outputs": [],
   "source": [
    "a=3+2"
   ]
  },
  {
   "cell_type": "code",
   "execution_count": 12,
   "id": "65b5f362",
   "metadata": {},
   "outputs": [
    {
     "name": "stdout",
     "output_type": "stream",
     "text": [
      "5\n"
     ]
    }
   ],
   "source": [
    "print(a)"
   ]
  },
  {
   "cell_type": "code",
   "execution_count": 13,
   "id": "941a2555",
   "metadata": {},
   "outputs": [
    {
     "ename": "NameError",
     "evalue": "name 'b' is not defined",
     "output_type": "error",
     "traceback": [
      "\u001b[1;31m---------------------------------------------------------------------------\u001b[0m",
      "\u001b[1;31mNameError\u001b[0m                                 Traceback (most recent call last)",
      "Cell \u001b[1;32mIn[13], line 1\u001b[0m\n\u001b[1;32m----> 1\u001b[0m a\u001b[38;5;241m=\u001b[39mb\u001b[38;5;241m+\u001b[39mc\n\u001b[0;32m      2\u001b[0m b\u001b[38;5;241m=\u001b[39m\u001b[38;5;241m1\u001b[39m\n\u001b[0;32m      3\u001b[0m c\u001b[38;5;241m=\u001b[39m\u001b[38;5;241m2\u001b[39m\n",
      "\u001b[1;31mNameError\u001b[0m: name 'b' is not defined"
     ]
    }
   ],
   "source": [
    "a=b+c\n",
    "b=1\n",
    "c=2"
   ]
  },
  {
   "cell_type": "code",
   "execution_count": 14,
   "id": "f68ce8f9",
   "metadata": {},
   "outputs": [],
   "source": [
    "b=1\n",
    "c=2\n",
    "a=b+c"
   ]
  },
  {
   "cell_type": "code",
   "execution_count": 15,
   "id": "17609b07",
   "metadata": {},
   "outputs": [
    {
     "name": "stdout",
     "output_type": "stream",
     "text": [
      "3\n"
     ]
    }
   ],
   "source": [
    "print(a)"
   ]
  },
  {
   "cell_type": "code",
   "execution_count": 20,
   "id": "860997d2",
   "metadata": {},
   "outputs": [],
   "source": [
    "def convert_bin(Dec):\n",
    "    while Dec > 0:\n",
    "        nResult, remain = divmod(Dec, 2)\n",
    "        Dec = nResult\n",
    "        print(f\"{nResult}, {remain}\")"
   ]
  },
  {
   "cell_type": "code",
   "execution_count": 21,
   "id": "b3bda171",
   "metadata": {},
   "outputs": [
    {
     "name": "stdout",
     "output_type": "stream",
     "text": [
      "5, 1\n",
      "2, 1\n",
      "1, 0\n",
      "0, 1\n"
     ]
    }
   ],
   "source": [
    "convert_bin(11)"
   ]
  },
  {
   "cell_type": "code",
   "execution_count": 37,
   "id": "563be3b2",
   "metadata": {},
   "outputs": [],
   "source": [
    "def convert_bin(Dec):\n",
    "    biResult = \"\"\n",
    "    while Dec > 0:\n",
    "        nResult, remain = divmod(Dec, 2)\n",
    "        Dec = nResult\n",
    "        biResult = str(remain)\n",
    "        print(f\"{nResult}, {remain}, {biResult}\")\n"
   ]
  },
  {
   "cell_type": "code",
   "execution_count": 38,
   "id": "0bc97caf",
   "metadata": {},
   "outputs": [
    {
     "name": "stdout",
     "output_type": "stream",
     "text": [
      "32, 1, 1\n",
      "16, 0, 0\n",
      "8, 0, 0\n",
      "4, 0, 0\n",
      "2, 0, 0\n",
      "1, 0, 0\n",
      "0, 1, 1\n"
     ]
    }
   ],
   "source": [
    "convert_bin(65)"
   ]
  },
  {
   "cell_type": "code",
   "execution_count": 30,
   "id": "e35c00ba",
   "metadata": {},
   "outputs": [
    {
     "name": "stdout",
     "output_type": "stream",
     "text": [
      "5, 1\n",
      "2, 1\n",
      "1, 0\n",
      "0, 1\n"
     ]
    },
    {
     "data": {
      "text/plain": [
       "'1011'"
      ]
     },
     "execution_count": 30,
     "metadata": {},
     "output_type": "execute_result"
    }
   ],
   "source": [
    "convert_bin(11)"
   ]
  },
  {
   "cell_type": "code",
   "execution_count": 41,
   "id": "abbe2c5a",
   "metadata": {},
   "outputs": [
    {
     "name": "stdout",
     "output_type": "stream",
     "text": [
      "enter a positive integer11\n",
      "1011\n"
     ]
    }
   ],
   "source": [
    "def convert_bin(Dec):\n",
    "    biResult = \"\"\n",
    "    while Dec > 0:\n",
    "        nResult, remain = divmod(Dec, 2)\n",
    "        Dec = nResult\n",
    "        biResult = str(remain) + biResult\n",
    "    return biResult\n",
    "initValue = int(input(\"enter a positive integer\"))\n",
    "output = convert_bin(initValue)\n",
    "print(f\"{output}\")\n",
    "\n"
   ]
  },
  {
   "cell_type": "code",
   "execution_count": 42,
   "id": "fb5cbf0f",
   "metadata": {},
   "outputs": [
    {
     "name": "stdout",
     "output_type": "stream",
     "text": [
      "Enter a binary number: 1000\n",
      "The decimal equivalent of 1000 is: 15\n"
     ]
    }
   ],
   "source": [
    "def binary_to_decimal(binary):\n",
    "    decimal = 0\n",
    "    power = 0\n",
    "\n",
    "    for digit in reversed(binary):\n",
    "        \n",
    "        decimal += 2 ** power\n",
    "        \n",
    "\n",
    "        power += 1\n",
    "\n",
    "    return decimal\n",
    "\n",
    "# Get user input for binary number\n",
    "binary_input = input(\"Enter a binary number: \")\n",
    "\n",
    "# Call the function and print the decimal equivalent\n",
    "decimal_output = binary_to_decimal(binary_input)\n",
    "print(f\"The decimal equivalent of {binary_input} is: {decimal_output}\")"
   ]
  },
  {
   "cell_type": "code",
   "execution_count": 43,
   "id": "73ecc45b",
   "metadata": {},
   "outputs": [
    {
     "name": "stdout",
     "output_type": "stream",
     "text": [
      "Enter a binary number: 1000\n",
      "The decimal equivalent of 1000 is: 8\n"
     ]
    }
   ],
   "source": [
    "def binary_to_decimal(binary):\n",
    "    decimal = 0\n",
    "    power = 0\n",
    "\n",
    "    for digit in reversed(binary):\n",
    "        if digit == '1':\n",
    "            decimal += 2 ** power\n",
    "        elif digit == '0':\n",
    "            pass  # No need to update decimal if digit is '0'\n",
    "        else:\n",
    "            raise ValueError(\"Invalid binary digit\")\n",
    "\n",
    "        power += 1\n",
    "\n",
    "    return decimal\n",
    "\n",
    "# Get user input for binary number\n",
    "binary_input = input(\"Enter a binary number: \")\n",
    "\n",
    "# Call the function and print the decimal equivalent\n",
    "decimal_output = binary_to_decimal(binary_input)\n",
    "print(f\"The decimal equivalent of {binary_input} is: {decimal_output}\")"
   ]
  },
  {
   "cell_type": "code",
   "execution_count": 44,
   "id": "f835ecae",
   "metadata": {},
   "outputs": [],
   "source": [
    "def b2d(bin):\n",
    "    decimal = 0\n",
    "    power = 0\n",
    "\n",
    "    for digit in reversed(bin):\n",
    "        if digit == '1':\n",
    "            decimal += 2 ** power\n",
    "        power += 1\n",
    "\n",
    "    return decimal"
   ]
  },
  {
   "cell_type": "code",
   "execution_count": 45,
   "id": "eddf933e",
   "metadata": {},
   "outputs": [
    {
     "ename": "TypeError",
     "evalue": "'int' object is not reversible",
     "output_type": "error",
     "traceback": [
      "\u001b[1;31m---------------------------------------------------------------------------\u001b[0m",
      "\u001b[1;31mTypeError\u001b[0m                                 Traceback (most recent call last)",
      "Cell \u001b[1;32mIn[45], line 1\u001b[0m\n\u001b[1;32m----> 1\u001b[0m b2d(\u001b[38;5;241m1000\u001b[39m)\n",
      "Cell \u001b[1;32mIn[44], line 5\u001b[0m, in \u001b[0;36mb2d\u001b[1;34m(bin)\u001b[0m\n\u001b[0;32m      2\u001b[0m decimal \u001b[38;5;241m=\u001b[39m \u001b[38;5;241m0\u001b[39m\n\u001b[0;32m      3\u001b[0m power \u001b[38;5;241m=\u001b[39m \u001b[38;5;241m0\u001b[39m\n\u001b[1;32m----> 5\u001b[0m \u001b[38;5;28;01mfor\u001b[39;00m digit \u001b[38;5;129;01min\u001b[39;00m \u001b[38;5;28mreversed\u001b[39m(\u001b[38;5;28mbin\u001b[39m):\n\u001b[0;32m      6\u001b[0m     \u001b[38;5;28;01mif\u001b[39;00m digit \u001b[38;5;241m==\u001b[39m \u001b[38;5;124m'\u001b[39m\u001b[38;5;124m1\u001b[39m\u001b[38;5;124m'\u001b[39m:\n\u001b[0;32m      7\u001b[0m         decimal \u001b[38;5;241m+\u001b[39m\u001b[38;5;241m=\u001b[39m \u001b[38;5;241m2\u001b[39m \u001b[38;5;241m*\u001b[39m\u001b[38;5;241m*\u001b[39m power\n",
      "\u001b[1;31mTypeError\u001b[0m: 'int' object is not reversible"
     ]
    }
   ],
   "source": [
    "b2d(1000)"
   ]
  },
  {
   "cell_type": "code",
   "execution_count": 46,
   "id": "5aef41c8",
   "metadata": {},
   "outputs": [
    {
     "data": {
      "text/plain": [
       "8"
      ]
     },
     "execution_count": 46,
     "metadata": {},
     "output_type": "execute_result"
    }
   ],
   "source": [
    "b2d(\"1000\")"
   ]
  },
  {
   "cell_type": "code",
   "execution_count": 48,
   "id": "c1a44e9a",
   "metadata": {},
   "outputs": [
    {
     "data": {
      "text/plain": [
       "['1', '3', '4', '6', 'y', 'g', 'r', 's']"
      ]
     },
     "execution_count": 48,
     "metadata": {},
     "output_type": "execute_result"
    }
   ],
   "source": [
    "list(\"1346ygrs\"\n",
    "    )"
   ]
  },
  {
   "cell_type": "code",
   "execution_count": null,
   "id": "e51791d6",
   "metadata": {},
   "outputs": [],
   "source": []
  }
 ],
 "metadata": {
  "language_info": {
   "codemirror_mode": {
    "name": "ipython",
    "version": 3
   },
   "file_extension": ".py",
   "mimetype": "text/x-python",
   "name": "python",
   "nbconvert_exporter": "python",
   "pygments_lexer": "ipython3",
   "version": "3.11.4"
  }
 },
 "nbformat": 4,
 "nbformat_minor": 5
}
