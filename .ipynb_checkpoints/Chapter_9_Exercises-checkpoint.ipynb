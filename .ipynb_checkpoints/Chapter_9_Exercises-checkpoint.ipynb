{
 "cells": [
  {
   "cell_type": "markdown",
   "metadata": {},
   "source": [
    "# Programming Exercise 9: Blackjack Simulation\n",
    "Previously in this chapter you saw the card_dealer.py program that simulates cards being dealt from a deck. Enhance the program so it simulates a simplified version of the game of Blackjack between two virtual players. The cards have the following values:\n",
    "\n",
    "• Numeric cards are assigned the value they have printed on them. For example, the value of the 2 of spades is 2, and the value of the 5 of diamonds is 5.\n",
    "\n",
    "• Jacks, queens, and kings are valued at 10.\n",
    "\n",
    "• Aces are valued at 1 or 11, depending on the player’s choice.\n",
    "\n",
    "The program should deal cards to each player until one player’s hand is worth more than 21 points. When that happens, the other player is the winner. (It is possible that both players’ hands will simultaneously exceed 21 points, in which case neither player wins.) The program should repeat until all the cards have been dealt from the deck. If a player is dealt an ace, the program should decide the value of the card according to the following rule: The ace will be worth 11 points, unless that makes the player’s hand exceed 21 points. In that case, the ace will be worth 1 point."
   ]
  },
  {
   "cell_type": "code",
   "execution_count": 12,
   "metadata": {},
   "outputs": [
    {
     "name": "stdout",
     "output_type": "stream",
     "text": [
      "Ace of Hearts\n",
      "Queen of Hearts\n",
      "Jack of Clubs\n",
      "7 of Diamonds\n",
      "King of Spades\n",
      "4 of Diamonds\n",
      "Value of this hand: 42\n"
     ]
    }
   ],
   "source": [
    "#first create the referenced program from the book and verify that calling\n",
    "#the functions of the module works \n",
    "import card_dealer\n",
    "card_dealer.main()\n"
   ]
  },
  {
   "cell_type": "code",
   "execution_count": 2,
   "metadata": {},
   "outputs": [],
   "source": [
    "import card_dealer\n",
    "import random \n",
    "\n",
    "def main():\n",
    "    contVar = 'y'\n",
    "    userHand = {}\n",
    "    dealerHand = {}\n",
    "    aces = ['Ace of Spades', 'Ace of Hearts', 'Ace of Clubs', 'Ace of Diamonds']\n",
    "    deck = card_dealer.create_deck()\n",
    "    \n",
    "\n",
    "    while contVar == 'y':\n",
    "        print(\"Let's play a hand of Blackjack.\")\n",
    "        usrScore = 0\n",
    "        dealerScore = 0\n",
    "        for card in range(2):\n",
    "            UrandKey = random.choice(list(deck.keys()))\n",
    "            UcardValue = deck.pop(UrandKey)\n",
    "            userHand[UrandKey] = UcardValue\n",
    "            if UrandKey in aces:\n",
    "                if usrScore <= 10:\n",
    "                    usrScore += 11\n",
    "                else:\n",
    "                    usrScore += 1\n",
    "            else:\n",
    "                usrScore += UcardValue\n",
    "            \n",
    "        #Print users first 2 cards and value to see if it works\n",
    "        for key in deck:\n",
    "            print(key)\n",
    "            print(deck[key])\n",
    "        print(usrScore)\n",
    "        contVar = 'n'\n",
    "\n",
    "\n",
    "            \n",
    "        "
   ]
  },
  {
   "cell_type": "code",
   "execution_count": 1,
   "metadata": {},
   "outputs": [],
   "source": [
    "import card_dealer\n",
    "import random \n",
    "\n",
    "def main():\n",
    "    contVar = 'y'\n",
    "    userHand = {}\n",
    "    dealerHand = {}\n",
    "    aces = ['Ace of Spades', 'Ace of Hearts', 'Ace of Clubs', 'Ace of Diamonds']\n",
    "    deck = card_dealer.create_deck()\n",
    "    \n",
    "\n",
    "   \n",
    "    print(deck.items())\n",
    "    "
   ]
  },
  {
   "cell_type": "code",
   "execution_count": null,
   "metadata": {},
   "outputs": [],
   "source": []
  }
 ],
 "metadata": {
  "kernelspec": {
   "display_name": "Python 3",
   "language": "python",
   "name": "python3"
  },
  "language_info": {
   "codemirror_mode": {
    "name": "ipython",
    "version": 3
   },
   "file_extension": ".py",
   "mimetype": "text/x-python",
   "name": "python",
   "nbconvert_exporter": "python",
   "pygments_lexer": "ipython3",
   "version": "3.11.4"
  }
 },
 "nbformat": 4,
 "nbformat_minor": 2
}
