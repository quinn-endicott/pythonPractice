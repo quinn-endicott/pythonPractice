{
 "cells": [
  {
   "cell_type": "markdown",
   "metadata": {},
   "source": [
    "# Algorithm Workbench 8\n",
    "Assume list1 is a list of integers. Write a statement that uses a list comprehension to create a second list containing the squares of the elements of list1."
   ]
  },
  {
   "cell_type": "code",
   "execution_count": 2,
   "metadata": {},
   "outputs": [
    {
     "name": "stdout",
     "output_type": "stream",
     "text": [
      "[11, 16, 14, 3, 16, 9, 16, 14, 17, 8]\n"
     ]
    }
   ],
   "source": [
    "#first create list1\n",
    "import random\n",
    "#create list to fill\n",
    "list1 = []\n",
    "#10 items in list, each is a random integer 1-20\n",
    "for num in range(10):\n",
    "    list1.append(random.randint(1,20))\n",
    "#print to make sure it's what's expected\n",
    "print(list1)"
   ]
  },
  {
   "cell_type": "code",
   "execution_count": 3,
   "metadata": {},
   "outputs": [
    {
     "name": "stdout",
     "output_type": "stream",
     "text": [
      "[121, 256, 196, 9, 256, 81, 256, 196, 289, 64]\n"
     ]
    }
   ],
   "source": [
    "#this function will make a list2 and populate it with the squares of list1\n",
    "def main():\n",
    "    #list comprehension, for each item item ** 2\n",
    "    list2 = [item ** 2 for item in list1]\n",
    "    #print list2 to see that it has worked\n",
    "    print(list2)\n",
    "#call the main() function\n",
    "if __name__ == \"__main__\":\n",
    "    main()\n",
    "\n",
    "\n"
   ]
  },
  {
   "cell_type": "markdown",
   "metadata": {},
   "source": [
    "# Algorithm Workbench 11\n",
    "Write a statement that creates a two-dimensional list with 5 rows and 3 columns. Then write nested loops that get an integer value from the user for each element in the list.\n"
   ]
  },
  {
   "cell_type": "code",
   "execution_count": 4,
   "metadata": {},
   "outputs": [
    {
     "name": "stdout",
     "output_type": "stream",
     "text": [
      "[[0, 0, 0], [0, 0, 0], [0, 0, 0], [0, 0, 0], [0, 0, 0]]\n"
     ]
    }
   ],
   "source": [
    "#first step is to create the 2 dimensional list, all values 0 to start\n",
    "#found a cool form for list comprehension to make it at \n",
    "#https://stackoverflow.com/questions/17636567/how-to-create-a-multi-dimensional-list\n",
    "list2d = [[0] * 3 for row in range(5)]\n",
    "#chech that this created what I want\n",
    "print(list2d)\n",
    "#has 3 columns and 5 rows so looks good"
   ]
  },
  {
   "cell_type": "code",
   "execution_count": 5,
   "metadata": {},
   "outputs": [
    {
     "name": "stdout",
     "output_type": "stream",
     "text": [
      "invalid literal for int() with base 10: ''\n",
      "[[2, 3, 4], [5, 6], [7, 78, 6], [6, 6, 6], [5, 5, 5]]\n"
     ]
    }
   ],
   "source": [
    "\n",
    "#this function will allow the user the enter an integer value for each space in list\n",
    "def main():\n",
    "    #making a local variable for the list\n",
    "    listVals = list2d\n",
    "    \n",
    "    for row in listVals:\n",
    "        newVals = []\n",
    "        for num in row:\n",
    "            #putting in try/except block to catch input errors\n",
    "            try:\n",
    "                #enter a value to replace val in column\n",
    "                val = int(input('enter an integer into the list: '))\n",
    "                #append to newVals list\n",
    "                newVals.append(val)\n",
    "            #handle exceptions and print to user what they are\n",
    "            except Exception as e: \n",
    "                print(e)\n",
    "        #replace values in each row with newVals\n",
    "        listVals[listVals.index(row)] = newVals\n",
    "    #print list\n",
    "    print(listVals)\n",
    "\n",
    "if __name__ == \"__main__\":\n",
    "    main()\n",
    "    \n",
    "\n"
   ]
  },
  {
   "cell_type": "code",
   "execution_count": 7,
   "metadata": {},
   "outputs": [
    {
     "name": "stdout",
     "output_type": "stream",
     "text": [
      "[[3, 4, 4], [4, 4], [4, 4, 4], [4, 4, 4], [4, 4, 4]]\n"
     ]
    }
   ],
   "source": [
    "#I pressed enter without entering a number, runtime error showed and program \n",
    "#continued taking values leaving out error value in row 2\n",
    "main()\n",
    "#that doesn't explain why the same thing happens again, need to ensure 3\n",
    "#values per row"
   ]
  },
  {
   "cell_type": "code",
   "execution_count": 8,
   "metadata": {},
   "outputs": [
    {
     "name": "stdout",
     "output_type": "stream",
     "text": [
      "[[4, 4, 4], [4, 4], [4, 4, 4], [4, 4, 4], [4, 4, 4]]\n"
     ]
    }
   ],
   "source": [
    "\n",
    "#this function will allow the user the enter an integer value for each space in list\n",
    "def main():\n",
    "    #making a local variable for the list\n",
    "    listVals = list2d\n",
    "    \n",
    "    for index, row in enumerate(listVals):\n",
    "        newVals = []\n",
    "        for num in row:\n",
    "            #putting in try/except block to catch input errors\n",
    "            try:\n",
    "                #enter a value to replace val in column\n",
    "                val = int(input('enter an integer into the list: '))\n",
    "                #append to newVals list\n",
    "                newVals.append(val)\n",
    "            #handle exceptions and print to user what they are\n",
    "            except Exception as e: \n",
    "                print(e)\n",
    "        #replace values in each row with newVals\n",
    "        listVals[index] = newVals\n",
    "    #print list\n",
    "    print(listVals)\n",
    "\n",
    "if __name__ == \"__main__\":\n",
    "    main()\n",
    "    \n",
    "\n"
   ]
  },
  {
   "cell_type": "code",
   "execution_count": 11,
   "metadata": {},
   "outputs": [
    {
     "name": "stdout",
     "output_type": "stream",
     "text": [
      "[[4, 4, 4], [4, 4, 4], [4, 4, 4], [4, 4, 4], [4, 4, 4]]\n"
     ]
    }
   ],
   "source": [
    "#still getting same output issue\n",
    "def main():\n",
    "    #making a local variable for the list\n",
    "    listVals = list2d\n",
    "    \n",
    "    #keep track of index and row position\n",
    "    for index, row in enumerate(listVals):\n",
    "        #empty list for user values\n",
    "        newVals = []\n",
    "        #explicitly setting range so there must be 3 entries per row\n",
    "        for num in range(3):\n",
    "            #putting in try/except block to catch input errors\n",
    "            try:\n",
    "                #enter a value to replace val in column\n",
    "                val = int(input('enter an integer into the list: '))\n",
    "                #append to newVals list\n",
    "                newVals.append(val)\n",
    "            #handle exceptions and print to user what they are\n",
    "            except Exception as e: \n",
    "                print(e)\n",
    "        #replace values in each row with newVals\n",
    "        listVals[index] = newVals\n",
    "    #print list\n",
    "    print(listVals)\n",
    "#this fixed it, finally\n",
    "\n",
    "if __name__ == \"__main__\":\n",
    "    main()\n"
   ]
  },
  {
   "cell_type": "markdown",
   "metadata": {},
   "source": [
    "# Programming Exercise 1: Total Sales\n",
    "Design a program that asks the user to enter a store’s sales for each day of the week. The amounts should be stored in a list. Use a loop to calculate the total sales for the week and display the result."
   ]
  },
  {
   "cell_type": "code",
   "execution_count": 13,
   "metadata": {},
   "outputs": [
    {
     "ename": "TypeError",
     "evalue": "'float' object is not iterable",
     "output_type": "error",
     "traceback": [
      "\u001b[1;31m---------------------------------------------------------------------------\u001b[0m",
      "\u001b[1;31mTypeError\u001b[0m                                 Traceback (most recent call last)",
      "\u001b[1;32m<ipython-input-13-c63aa0a6fd3d>\u001b[0m in \u001b[0;36m<module>\u001b[1;34m\u001b[0m\n\u001b[0;32m     13\u001b[0m \u001b[1;33m\u001b[0m\u001b[0m\n\u001b[0;32m     14\u001b[0m \u001b[1;32mif\u001b[0m \u001b[0m__name__\u001b[0m \u001b[1;33m==\u001b[0m \u001b[1;34m\"__main__\"\u001b[0m\u001b[1;33m:\u001b[0m\u001b[1;33m\u001b[0m\u001b[0m\n\u001b[1;32m---> 15\u001b[1;33m     \u001b[0mmain\u001b[0m\u001b[1;33m(\u001b[0m\u001b[1;33m)\u001b[0m\u001b[1;33m\u001b[0m\u001b[0m\n\u001b[0m",
      "\u001b[1;32m<ipython-input-13-c63aa0a6fd3d>\u001b[0m in \u001b[0;36mmain\u001b[1;34m()\u001b[0m\n\u001b[0;32m      8\u001b[0m     \u001b[1;32mfor\u001b[0m \u001b[0mday\u001b[0m \u001b[1;32min\u001b[0m \u001b[0mdaysList\u001b[0m\u001b[1;33m:\u001b[0m\u001b[1;33m\u001b[0m\u001b[0m\n\u001b[0;32m      9\u001b[0m         \u001b[0mdaySales\u001b[0m \u001b[1;33m=\u001b[0m \u001b[0mfloat\u001b[0m\u001b[1;33m(\u001b[0m\u001b[0minput\u001b[0m\u001b[1;33m(\u001b[0m\u001b[1;34mf'Enter the sales for {day}: '\u001b[0m\u001b[1;33m)\u001b[0m\u001b[1;33m)\u001b[0m\u001b[1;33m\u001b[0m\u001b[0m\n\u001b[1;32m---> 10\u001b[1;33m         \u001b[0msalesList\u001b[0m \u001b[1;33m+=\u001b[0m \u001b[0mdaySales\u001b[0m\u001b[1;33m\u001b[0m\u001b[0m\n\u001b[0m\u001b[0;32m     11\u001b[0m     \u001b[0mweekSum\u001b[0m \u001b[1;33m=\u001b[0m \u001b[0msum\u001b[0m\u001b[1;33m(\u001b[0m\u001b[0msalesList\u001b[0m\u001b[1;33m)\u001b[0m\u001b[1;33m\u001b[0m\u001b[0m\n\u001b[0;32m     12\u001b[0m     \u001b[0mprint\u001b[0m\u001b[1;33m(\u001b[0m\u001b[1;34mf'The total sales for the week is {weekSum:.2f}.'\u001b[0m\u001b[1;33m)\u001b[0m\u001b[1;33m\u001b[0m\u001b[0m\n",
      "\u001b[1;31mTypeError\u001b[0m: 'float' object is not iterable"
     ]
    }
   ],
   "source": [
    "#this program will prompt a user to enter daily sales data until all data is \n",
    "#entered, then it will sum the entered values and print the total for the user\n",
    "def main():\n",
    "    #make an empty list to store the sales data\n",
    "    salesList = []\n",
    "    daysList = ['Monday', 'Tuesday', 'Wednesday', 'Thursday', 'Friday', 'Saturday', 'Sunday']\n",
    "    contVar = 'y'\n",
    "    for day in daysList:\n",
    "        daySales = float(input(f'Enter the sales for {day}: '))\n",
    "        salesList += daySales\n",
    "    weekSum = sum(salesList)\n",
    "    print(f'The total sales for the week is {weekSum:.2f}.')\n",
    "\n",
    "if __name__ == \"__main__\":\n",
    "    main()"
   ]
  },
  {
   "cell_type": "code",
   "execution_count": 16,
   "metadata": {},
   "outputs": [
    {
     "ename": "TypeError",
     "evalue": "float() argument must be a string or a number, not 'list'",
     "output_type": "error",
     "traceback": [
      "\u001b[1;31m---------------------------------------------------------------------------\u001b[0m",
      "\u001b[1;31mTypeError\u001b[0m                                 Traceback (most recent call last)",
      "\u001b[1;32m<ipython-input-16-de631a00727f>\u001b[0m in \u001b[0;36m<module>\u001b[1;34m\u001b[0m\n\u001b[0;32m     14\u001b[0m \u001b[1;33m\u001b[0m\u001b[0m\n\u001b[0;32m     15\u001b[0m \u001b[1;32mif\u001b[0m \u001b[0m__name__\u001b[0m \u001b[1;33m==\u001b[0m \u001b[1;34m\"__main__\"\u001b[0m\u001b[1;33m:\u001b[0m\u001b[1;33m\u001b[0m\u001b[0m\n\u001b[1;32m---> 16\u001b[1;33m     \u001b[0mmain\u001b[0m\u001b[1;33m(\u001b[0m\u001b[1;33m)\u001b[0m\u001b[1;33m\u001b[0m\u001b[0m\n\u001b[0m",
      "\u001b[1;32m<ipython-input-16-de631a00727f>\u001b[0m in \u001b[0;36mmain\u001b[1;34m()\u001b[0m\n\u001b[0;32m     10\u001b[0m         \u001b[1;31m#salesList needs to take string data\u001b[0m\u001b[1;33m\u001b[0m\u001b[1;33m\u001b[0m\u001b[0m\n\u001b[0;32m     11\u001b[0m         \u001b[0msalesList\u001b[0m \u001b[1;33m+=\u001b[0m \u001b[0mstr\u001b[0m\u001b[1;33m(\u001b[0m\u001b[0mdaySales\u001b[0m\u001b[1;33m)\u001b[0m\u001b[1;33m\u001b[0m\u001b[0m\n\u001b[1;32m---> 12\u001b[1;33m     \u001b[0mweekSum\u001b[0m \u001b[1;33m=\u001b[0m \u001b[0msum\u001b[0m\u001b[1;33m(\u001b[0m\u001b[0mfloat\u001b[0m\u001b[1;33m(\u001b[0m\u001b[0msalesList\u001b[0m\u001b[1;33m)\u001b[0m\u001b[1;33m)\u001b[0m\u001b[1;33m\u001b[0m\u001b[0m\n\u001b[0m\u001b[0;32m     13\u001b[0m     \u001b[0mprint\u001b[0m\u001b[1;33m(\u001b[0m\u001b[1;34mf'The total sales for the week is {weekSum:.2f}.'\u001b[0m\u001b[1;33m)\u001b[0m\u001b[1;33m\u001b[0m\u001b[0m\n\u001b[0;32m     14\u001b[0m \u001b[1;33m\u001b[0m\u001b[0m\n",
      "\u001b[1;31mTypeError\u001b[0m: float() argument must be a string or a number, not 'list'"
     ]
    }
   ],
   "source": [
    "#this program will prompt a user to enter daily sales data until all data is \n",
    "#entered, then it will sum the entered values and print the total for the user\n",
    "def main():\n",
    "    #make an empty list to store the sales data\n",
    "    salesList = []\n",
    "    daysList = ['Monday', 'Tuesday', 'Wednesday', 'Thursday', 'Friday', 'Saturday', 'Sunday']\n",
    "    contVar = 'y'\n",
    "    for day in daysList:\n",
    "        daySales = float(input(f'Enter the sales for {day}: '))\n",
    "        #salesList needs to take string data\n",
    "        salesList += str(daySales)\n",
    "    weekSum = sum(float(salesList))\n",
    "    print(f'The total sales for the week is {weekSum:.2f}.')\n",
    "\n",
    "if __name__ == \"__main__\":\n",
    "    main()"
   ]
  },
  {
   "cell_type": "code",
   "execution_count": 23,
   "metadata": {},
   "outputs": [
    {
     "name": "stdout",
     "output_type": "stream",
     "text": [
      "Error could not convert string to float: 'g', entry needs to be a number. Try again.\n",
      "Monday sales: $34.50\n",
      "Tuesday sales: $789576.45\n",
      "Wednesday sales: $5647234.45\n",
      "Error could not convert string to float: 'g', entry needs to be a number. Try again.\n",
      "Thursday sales: $346.00\n",
      "Friday sales: $57234435.64\n",
      "Saturday sales: $34875235345.65\n",
      "Sunday sales: $1.00\n",
      "The total sales for the week is $34938906973.69\n"
     ]
    }
   ],
   "source": [
    "#this program will prompt a user to enter daily sales data until all data is \n",
    "#entered, then it will sum the entered values and print the total for the user\n",
    "def main():\n",
    "    #make an empty list to store the sales data\n",
    "    salesList = []\n",
    "    daysList = ['Monday', 'Tuesday', 'Wednesday', 'Thursday', 'Friday', 'Saturday', 'Sunday']\n",
    "    #contVar did not need to exist, make accumulator for weekly total\n",
    "    weekSum = 0\n",
    "    #for each day in the list of days\n",
    "    for day in daysList:\n",
    "        #this makes the user keep trying entries until the data is valid and the loop\n",
    "        #breals\n",
    "        while True:\n",
    "            #adding error handling\n",
    "            try:\n",
    "                #user enters the sales data for the day taken as float\n",
    "                daySales = float(input(f'Enter the sales for {day}: '))\n",
    "                #salesList needs to take string data\n",
    "                salesList.append(daySales)\n",
    "                #adding day totals to output for more context\n",
    "                print(f'{day} sales: ${daySales:.2f}')\n",
    "                #break the loop if it works\n",
    "                break\n",
    "            except Exception as e:\n",
    "                print(f'Error {e}, entry needs to be a number. Try again.')\n",
    "                \n",
    "    #salesList needs to be here not daySales, this is why it was not working\n",
    "    for daySale in salesList:\n",
    "        #add each day's sales to weekSum\n",
    "        weekSum += daySale\n",
    "    #print weekSum .2f\n",
    "    print(f'The total sales for the week is ${weekSum:.2f}')\n",
    "\n",
    "\n",
    "if __name__ == \"__main__\":\n",
    "    main()\n"
   ]
  },
  {
   "cell_type": "markdown",
   "metadata": {},
   "source": [
    "# Programming Execise 6: Larger than n\n",
    "In a program, write a function that accepts two arguments: a list, and a number n. Assume that the list contains numbers. The function should display all of the numbers in the list that are greater than the number n."
   ]
  },
  {
   "cell_type": "code",
   "execution_count": 26,
   "metadata": {},
   "outputs": [
    {
     "name": "stdout",
     "output_type": "stream",
     "text": [
      "This program will evaluate which numbers you entered are greater than n.\n",
      "Please create a list of numbers.\n",
      "Your numbers are: [5.0, 9.0, 48573.0, -6.0, 67.0, 2.0, 666.0]\n",
      "The values greater than 8.0 are: [9.0, 48573.0, 67.0, 666.0]\n"
     ]
    }
   ],
   "source": [
    "#the largerThan function will evaluate the numbers in numList for being > user \n",
    "#value n\n",
    "def largerThan(numList, usrN):\n",
    "    #list to store larger numbers\n",
    "    largeList = []\n",
    "    #for each numberin the numList\n",
    "    for num in numList:\n",
    "        #is num > than user n value\n",
    "        if num > usrN:\n",
    "            #if it is, append to large numbers list\n",
    "            largeList.append(num)\n",
    "    #return filled larger list to main\n",
    "    return largeList\n",
    "\n",
    "#my main function will prompt user for their n value and the values for the list,\n",
    "#it will then run largerThan to determine which numbers are larger and print them\n",
    "#for the user\n",
    "def main():\n",
    "    #opening screen to explain what user is doing\n",
    "    print('This program will evaluate which numbers you entered are greater than n.')\n",
    "    #user enters the value n\n",
    "    usrLimit = float(input('Enter your value for n: '))\n",
    "    #continue variable for while loop, set to y\n",
    "    contVar = 'y'\n",
    "    #empty list for user values\n",
    "    usrList = []\n",
    "    #explain step to user\n",
    "    print('Please create a list of numbers.')\n",
    "    #while user enters y for continue\n",
    "    while contVar == 'y':\n",
    "        #take input for iteration\n",
    "        listVal = float(input('Add a value to the list: '))\n",
    "        #add value to list\n",
    "        usrList.append(listVal)\n",
    "        #keep entering numbers?\n",
    "        contVar = input('Would you like to add another value (y/n): ').lower()\n",
    "    #largerThan for usrList and usrLimit\n",
    "    returnList = largerThan(usrList, usrLimit)\n",
    "    #print the number list too \n",
    "    print(f'Your numbers are: {usrList}')\n",
    "    #print list of grater values\n",
    "    print(f'The values greater than {usrLimit} are: {returnList}')\n",
    "\n",
    "if __name__ == \"__main__\":\n",
    "    main()\n",
    "    "
   ]
  },
  {
   "cell_type": "markdown",
   "metadata": {},
   "source": [
    "# Programming Exercise 13: Magic 8 Ball\n",
    "Write a program that simulates a Magic 8 Ball, which is a fortune-telling toy that displays a random response to a yes or no question. In the student sample programs for this book, you will find a text file named 8_ball_responses.txt. The file contains 12 responses, such as “I don’t think so”, “Yes, of course!”, “I’m not sure”, and so forth. The program should read the responses from the file into a list. It should prompt the user to ask a question, then display one of the responses, randomly selected from the list. The program should repeat until the user is ready to quit."
   ]
  },
  {
   "cell_type": "code",
   "execution_count": 28,
   "metadata": {},
   "outputs": [],
   "source": [
    "#I do not have the 8 ball response file so I need to make that first\n",
    "with open('8BallResp.txt', 'w') as ballResp:\n",
    "    ballResp.write('Yes, of course!\\n')\n",
    "    ballResp.write('Without a doubt, yes.\\n')\n",
    "    ballResp.write('You can count on it.\\n')\n",
    "    ballResp.write('For sure!\\n')\n",
    "    ballResp.write('Ask me later.\\n')\n",
    "    ballResp.write(\"I'm not sure.\\n\")\n",
    "    ballResp.write(\"I can't tell you right now.\\n\")\n",
    "    ballResp.write(\"I'll tell you after my nap.\\n\")\n",
    "    ballResp.write(\"No way!\\n\")\n",
    "    ballResp.write(\"I don't think so.\\n\")\n",
    "    ballResp.write(\"Without a doubt, no.\\n\")\n",
    "    ballResp.write(\"The answer is clearly NO.\\n\")\n"
   ]
  },
  {
   "cell_type": "code",
   "execution_count": 30,
   "metadata": {},
   "outputs": [
    {
     "name": "stdout",
     "output_type": "stream",
     "text": [
      "Without a doubt, no.\n",
      "\n"
     ]
    }
   ],
   "source": [
    "import random\n",
    "#this is the function that will pick the 8 ball's response, it picks a random\n",
    "#number, returns the corresponding line from the file, and returns that line\n",
    "def ballPicker():\n",
    "    #random integer for lines in file\n",
    "    choice = random.randint(1,12)\n",
    "    #open file in read mode\n",
    "    with open('8BallResp.txt', 'r') as ballFile:\n",
    "        #read line from file\n",
    "        ballChoice = ballFile.readlines()[choice]\n",
    "        #return choice\n",
    "        return ballChoice\n",
    "#this is to test that it works\n",
    "ballPrint = ballPicker()\n",
    "print(ballPrint)\n",
    "\n",
    "def main():\n",
    "    pass"
   ]
  },
  {
   "cell_type": "code",
   "execution_count": 38,
   "metadata": {},
   "outputs": [
    {
     "name": "stdout",
     "output_type": "stream",
     "text": [
      "Ask the Magic 8 Ball something\n",
      "You asked: Am I a good person?\n",
      "The answer is clearly NO.\n",
      "\n",
      "You asked: Is humanity capable of goodness\n",
      "For sure!\n",
      "\n",
      "You asked: So it's just me?\n",
      "The answer is clearly NO.\n",
      "\n",
      "You asked: Is there water on the bottom of the ocean?\n",
      "I don't think so.\n",
      "\n"
     ]
    }
   ],
   "source": [
    "import random\n",
    "#this is the function that will pick the 8 ball's response, it picks a random\n",
    "#number, returns the corresponding line from the file, and returns that line\n",
    "def ballPicker():\n",
    "    #random integer for lines in file\n",
    "    choice = random.randint(1,12)\n",
    "    #open file in read mode\n",
    "    with open('8BallResp.txt', 'r') as ballFile:\n",
    "        #been getting out of range errors as it iterates, reset start point for read\n",
    "        ballFile.seek(0)\n",
    "        #read line from file\n",
    "        ballChoice = ballFile.readlines()[choice]\n",
    "        #return choice\n",
    "        return ballChoice\n",
    "\n",
    "\n",
    "#the main program logic will prompt the user for a question they want to ask and \n",
    "#show them what the ballPicker picked, then it will ask if the user wants to ask\n",
    "#another question\n",
    "def main():\n",
    "    #explain program to user\n",
    "    print('Ask the Magic 8 Ball something')\n",
    "    #continue variable\n",
    "    contVar = 'y'\n",
    "    #while yes is selected\n",
    "    while contVar == 'y':\n",
    "        #user enters question\n",
    "        userQ = input('Enter your question: ')\n",
    "        #print the question\n",
    "        print(f'You asked: {userQ}')\n",
    "        #return and assign 8 ball response\n",
    "        ballReturn = ballPicker()\n",
    "        #print response\n",
    "        print(ballReturn)\n",
    "        #ask if user wants to continue\n",
    "        contVar = input('Would you like to ask another question(y/n): ').lower()\n",
    "\n",
    "if __name__ == \"__main__\":\n",
    "    main()\n",
    "    \n"
   ]
  },
  {
   "cell_type": "markdown",
   "metadata": {},
   "source": [
    "# Programming Exercise 14: Expense Pie Chart\n",
    "Create a text file that contains your expenses for last month in the following categories:\n",
    "• Rent\n",
    "• Gas\n",
    "• Food\n",
    "• Clothing\n",
    "• Car payment\n",
    "• Misc\n",
    "Write a Python program that reads the data from the file and uses matplotlib to plot a pie chart showing how you spend your money."
   ]
  },
  {
   "cell_type": "code",
   "execution_count": 43,
   "metadata": {},
   "outputs": [],
   "source": [
    "#this program will create the expense file and a file for the labels can be called\n",
    "#in main logic of program\n",
    "def fileCreator():\n",
    "    #list of labels\n",
    "    expCats = ['Rent', 'Gas', 'Food', 'Clothing', 'Car Payment', 'Misc']\n",
    "    #create expenseList.txt and labels.txt\n",
    "    with open('expenseList.txt', 'w') as exFile, open('labels.txt', 'w') as labFile:\n",
    "        #for each iten in expCats\n",
    "        for cat in expCats:\n",
    "            #user inputs expense for each category\n",
    "            usrSpent = float(input(f'How much did you spend on {cat}'))\n",
    "            #write expense to expense list\n",
    "            exFile.write(f'{usrSpent}' + '\\n')\n",
    "            #write label to labels file\n",
    "            labFile.write(f'{cat}' + '\\n')\n",
    "#run it and check if files are there and as expected\n",
    "fileCreator()\n",
    "#it did\n"
   ]
  },
  {
   "cell_type": "code",
   "execution_count": 1,
   "metadata": {},
   "outputs": [],
   "source": [
    "#this program will create the expense file and a file for the labels can be called\n",
    "#in main logic of program\n",
    "def fileCreator():\n",
    "    #list of labels\n",
    "    expCats = ['Rent', 'Gas', 'Food', 'Clothing', 'Car Payment', 'Misc']\n",
    "    #create expenseList.txt and labels.txt\n",
    "    with open('expenseList.txt', 'w') as exFile, open('labels.txt', 'w') as labFile:\n",
    "        #for each iten in expCats\n",
    "        for cat in expCats:\n",
    "            #user inputs expense for each category\n",
    "            usrSpent = float(input(f'How much did you spend on {cat}'))\n",
    "            #write expense to expense list\n",
    "            exFile.write(f'{usrSpent}' + '\\n')\n",
    "            #write label to labels file\n",
    "            labFile.write(f'{cat}' + '\\n')\n",
    "\n",
    "#it did\n",
    "#ran to make sure matplotlab was finally installed, it is!\n",
    "import matplotlib.pyplot as plt\n"
   ]
  },
  {
   "cell_type": "code",
   "execution_count": 4,
   "metadata": {},
   "outputs": [
    {
     "ename": "ValueError",
     "evalue": "could not convert string to float: '.'",
     "output_type": "error",
     "traceback": [
      "\u001b[1;31m---------------------------------------------------------------------------\u001b[0m",
      "\u001b[1;31mValueError\u001b[0m                                Traceback (most recent call last)",
      "\u001b[1;32m<ipython-input-4-0451eb777b29>\u001b[0m in \u001b[0;36m<module>\u001b[1;34m\u001b[0m\n\u001b[0;32m     35\u001b[0m \u001b[1;33m\u001b[0m\u001b[0m\n\u001b[0;32m     36\u001b[0m \u001b[1;32mif\u001b[0m \u001b[0m__name__\u001b[0m \u001b[1;33m==\u001b[0m \u001b[1;34m\"__main__\"\u001b[0m\u001b[1;33m:\u001b[0m\u001b[1;33m\u001b[0m\u001b[0m\n\u001b[1;32m---> 37\u001b[1;33m     \u001b[0mmain\u001b[0m\u001b[1;33m(\u001b[0m\u001b[1;33m)\u001b[0m\u001b[1;33m\u001b[0m\u001b[0m\n\u001b[0m",
      "\u001b[1;32m<ipython-input-4-0451eb777b29>\u001b[0m in \u001b[0;36mmain\u001b[1;34m()\u001b[0m\n\u001b[0;32m     32\u001b[0m             \u001b[0mexpList\u001b[0m \u001b[1;33m+=\u001b[0m \u001b[0mline\u001b[0m\u001b[1;33m.\u001b[0m\u001b[0mrstrip\u001b[0m\u001b[1;33m(\u001b[0m\u001b[1;34m'\\n'\u001b[0m\u001b[1;33m)\u001b[0m\u001b[1;33m\u001b[0m\u001b[0m\n\u001b[0;32m     33\u001b[0m     \u001b[1;31m#create pie chart with expense list and labels list\u001b[0m\u001b[1;33m\u001b[0m\u001b[1;33m\u001b[0m\u001b[0m\n\u001b[1;32m---> 34\u001b[1;33m     \u001b[0mplt\u001b[0m\u001b[1;33m.\u001b[0m\u001b[0mpie\u001b[0m\u001b[1;33m(\u001b[0m\u001b[0mexpList\u001b[0m\u001b[1;33m,\u001b[0m \u001b[0mlabels\u001b[0m\u001b[1;33m=\u001b[0m\u001b[0mcatList\u001b[0m\u001b[1;33m)\u001b[0m\u001b[1;33m\u001b[0m\u001b[0m\n\u001b[0m\u001b[0;32m     35\u001b[0m \u001b[1;33m\u001b[0m\u001b[0m\n\u001b[0;32m     36\u001b[0m \u001b[1;32mif\u001b[0m \u001b[0m__name__\u001b[0m \u001b[1;33m==\u001b[0m \u001b[1;34m\"__main__\"\u001b[0m\u001b[1;33m:\u001b[0m\u001b[1;33m\u001b[0m\u001b[0m\n",
      "\u001b[1;32mc:\\Users\\tande\\AppData\\Local\\Programs\\Python\\Python36-32\\lib\\site-packages\\matplotlib\\pyplot.py\u001b[0m in \u001b[0;36mpie\u001b[1;34m(x, explode, labels, colors, autopct, pctdistance, shadow, labeldistance, startangle, radius, counterclock, wedgeprops, textprops, center, frame, rotatelabels, normalize, data)\u001b[0m\n\u001b[0;32m   2832\u001b[0m         \u001b[0mwedgeprops\u001b[0m\u001b[1;33m=\u001b[0m\u001b[0mwedgeprops\u001b[0m\u001b[1;33m,\u001b[0m \u001b[0mtextprops\u001b[0m\u001b[1;33m=\u001b[0m\u001b[0mtextprops\u001b[0m\u001b[1;33m,\u001b[0m \u001b[0mcenter\u001b[0m\u001b[1;33m=\u001b[0m\u001b[0mcenter\u001b[0m\u001b[1;33m,\u001b[0m\u001b[1;33m\u001b[0m\u001b[0m\n\u001b[0;32m   2833\u001b[0m         \u001b[0mframe\u001b[0m\u001b[1;33m=\u001b[0m\u001b[0mframe\u001b[0m\u001b[1;33m,\u001b[0m \u001b[0mrotatelabels\u001b[0m\u001b[1;33m=\u001b[0m\u001b[0mrotatelabels\u001b[0m\u001b[1;33m,\u001b[0m \u001b[0mnormalize\u001b[0m\u001b[1;33m=\u001b[0m\u001b[0mnormalize\u001b[0m\u001b[1;33m,\u001b[0m\u001b[1;33m\u001b[0m\u001b[0m\n\u001b[1;32m-> 2834\u001b[1;33m         **({\"data\": data} if data is not None else {}))\n\u001b[0m\u001b[0;32m   2835\u001b[0m \u001b[1;33m\u001b[0m\u001b[0m\n\u001b[0;32m   2836\u001b[0m \u001b[1;33m\u001b[0m\u001b[0m\n",
      "\u001b[1;32mc:\\Users\\tande\\AppData\\Local\\Programs\\Python\\Python36-32\\lib\\site-packages\\matplotlib\\__init__.py\u001b[0m in \u001b[0;36minner\u001b[1;34m(ax, data, *args, **kwargs)\u001b[0m\n\u001b[0;32m   1445\u001b[0m     \u001b[1;32mdef\u001b[0m \u001b[0minner\u001b[0m\u001b[1;33m(\u001b[0m\u001b[0max\u001b[0m\u001b[1;33m,\u001b[0m \u001b[1;33m*\u001b[0m\u001b[0margs\u001b[0m\u001b[1;33m,\u001b[0m \u001b[0mdata\u001b[0m\u001b[1;33m=\u001b[0m\u001b[1;32mNone\u001b[0m\u001b[1;33m,\u001b[0m \u001b[1;33m**\u001b[0m\u001b[0mkwargs\u001b[0m\u001b[1;33m)\u001b[0m\u001b[1;33m:\u001b[0m\u001b[1;33m\u001b[0m\u001b[0m\n\u001b[0;32m   1446\u001b[0m         \u001b[1;32mif\u001b[0m \u001b[0mdata\u001b[0m \u001b[1;32mis\u001b[0m \u001b[1;32mNone\u001b[0m\u001b[1;33m:\u001b[0m\u001b[1;33m\u001b[0m\u001b[0m\n\u001b[1;32m-> 1447\u001b[1;33m             \u001b[1;32mreturn\u001b[0m \u001b[0mfunc\u001b[0m\u001b[1;33m(\u001b[0m\u001b[0max\u001b[0m\u001b[1;33m,\u001b[0m \u001b[1;33m*\u001b[0m\u001b[0mmap\u001b[0m\u001b[1;33m(\u001b[0m\u001b[0msanitize_sequence\u001b[0m\u001b[1;33m,\u001b[0m \u001b[0margs\u001b[0m\u001b[1;33m)\u001b[0m\u001b[1;33m,\u001b[0m \u001b[1;33m**\u001b[0m\u001b[0mkwargs\u001b[0m\u001b[1;33m)\u001b[0m\u001b[1;33m\u001b[0m\u001b[0m\n\u001b[0m\u001b[0;32m   1448\u001b[0m \u001b[1;33m\u001b[0m\u001b[0m\n\u001b[0;32m   1449\u001b[0m         \u001b[0mbound\u001b[0m \u001b[1;33m=\u001b[0m \u001b[0mnew_sig\u001b[0m\u001b[1;33m.\u001b[0m\u001b[0mbind\u001b[0m\u001b[1;33m(\u001b[0m\u001b[0max\u001b[0m\u001b[1;33m,\u001b[0m \u001b[1;33m*\u001b[0m\u001b[0margs\u001b[0m\u001b[1;33m,\u001b[0m \u001b[1;33m**\u001b[0m\u001b[0mkwargs\u001b[0m\u001b[1;33m)\u001b[0m\u001b[1;33m\u001b[0m\u001b[0m\n",
      "\u001b[1;32mc:\\Users\\tande\\AppData\\Local\\Programs\\Python\\Python36-32\\lib\\site-packages\\matplotlib\\axes\\_axes.py\u001b[0m in \u001b[0;36mpie\u001b[1;34m(self, x, explode, labels, colors, autopct, pctdistance, shadow, labeldistance, startangle, radius, counterclock, wedgeprops, textprops, center, frame, rotatelabels, normalize)\u001b[0m\n\u001b[0;32m   2993\u001b[0m         \u001b[1;31m# The use of float32 is \"historical\", but can't be changed without\u001b[0m\u001b[1;33m\u001b[0m\u001b[1;33m\u001b[0m\u001b[0m\n\u001b[0;32m   2994\u001b[0m         \u001b[1;31m# regenerating the test baselines.\u001b[0m\u001b[1;33m\u001b[0m\u001b[1;33m\u001b[0m\u001b[0m\n\u001b[1;32m-> 2995\u001b[1;33m         \u001b[0mx\u001b[0m \u001b[1;33m=\u001b[0m \u001b[0mnp\u001b[0m\u001b[1;33m.\u001b[0m\u001b[0masarray\u001b[0m\u001b[1;33m(\u001b[0m\u001b[0mx\u001b[0m\u001b[1;33m,\u001b[0m \u001b[0mnp\u001b[0m\u001b[1;33m.\u001b[0m\u001b[0mfloat32\u001b[0m\u001b[1;33m)\u001b[0m\u001b[1;33m\u001b[0m\u001b[0m\n\u001b[0m\u001b[0;32m   2996\u001b[0m         \u001b[1;32mif\u001b[0m \u001b[0mx\u001b[0m\u001b[1;33m.\u001b[0m\u001b[0mndim\u001b[0m \u001b[1;33m>\u001b[0m \u001b[1;36m1\u001b[0m\u001b[1;33m:\u001b[0m\u001b[1;33m\u001b[0m\u001b[0m\n\u001b[0;32m   2997\u001b[0m             \u001b[1;32mraise\u001b[0m \u001b[0mValueError\u001b[0m\u001b[1;33m(\u001b[0m\u001b[1;34m\"x must be 1D\"\u001b[0m\u001b[1;33m)\u001b[0m\u001b[1;33m\u001b[0m\u001b[0m\n",
      "\u001b[1;32mc:\\Users\\tande\\AppData\\Local\\Programs\\Python\\Python36-32\\lib\\site-packages\\numpy\\core\\_asarray.py\u001b[0m in \u001b[0;36masarray\u001b[1;34m(a, dtype, order)\u001b[0m\n\u001b[0;32m     81\u001b[0m \u001b[1;33m\u001b[0m\u001b[0m\n\u001b[0;32m     82\u001b[0m     \"\"\"\n\u001b[1;32m---> 83\u001b[1;33m     \u001b[1;32mreturn\u001b[0m \u001b[0marray\u001b[0m\u001b[1;33m(\u001b[0m\u001b[0ma\u001b[0m\u001b[1;33m,\u001b[0m \u001b[0mdtype\u001b[0m\u001b[1;33m,\u001b[0m \u001b[0mcopy\u001b[0m\u001b[1;33m=\u001b[0m\u001b[1;32mFalse\u001b[0m\u001b[1;33m,\u001b[0m \u001b[0morder\u001b[0m\u001b[1;33m=\u001b[0m\u001b[0morder\u001b[0m\u001b[1;33m)\u001b[0m\u001b[1;33m\u001b[0m\u001b[0m\n\u001b[0m\u001b[0;32m     84\u001b[0m \u001b[1;33m\u001b[0m\u001b[0m\n\u001b[0;32m     85\u001b[0m \u001b[1;33m\u001b[0m\u001b[0m\n",
      "\u001b[1;31mValueError\u001b[0m: could not convert string to float: '.'"
     ]
    },
    {
     "data": {
      "image/png": "[encoded data removed]",
      "text/plain": [
       "<Figure size 432x288 with 1 Axes>"
      ]
     },
     "metadata": {
      "needs_background": "light"
     },
     "output_type": "display_data"
    }
   ],
   "source": [
    "#this program will create the expense file and a file for the labels can be called\n",
    "#in main logic of program\n",
    "def fileCreator(catList):\n",
    "    #create expenseList.txt and labels.txt\n",
    "    with open('expenseList.txt', 'w') as exFile:\n",
    "        for cat in catList:\n",
    "            #user inputs expense for each category\n",
    "            usrSpent = float(input(f'How much did you spend on {cat}'))\n",
    "            #write expense to expense list\n",
    "            exFile.write(f'{usrSpent}' + '\\n')\n",
    "            \n",
    "           \n",
    "#import matplotlib as plt\n",
    "import matplotlib.pyplot as plt\n",
    "\n",
    "#main program will run fileCreator function to create expense file and fill with\n",
    "#expense information, then it will make a pie chart using matplotlib\n",
    "def main():\n",
    "    #ended up being more compact overall with the catList here\n",
    "    catList = ['Rent', 'Gas', 'Food', 'Clothing', 'Car Payment', 'Misc']\n",
    "    #empty list for expense data\n",
    "    expList = []\n",
    "    #fun fileCreator for catList\n",
    "    fileCreator(catList)\n",
    "    #open the expense list in read mode\n",
    "    with open('expenseList.txt', 'r') as exOb:\n",
    "        #read lines from file assign to variable\n",
    "        expLines = exOb.readlines()\n",
    "        #for each line\n",
    "        for line in expLines:\n",
    "            #add float value to expList\n",
    "            expList += line.rstrip('\\n')\n",
    "    #create pie chart with expense list and labels list\n",
    "    plt.pie(expList, labels=catList)\n",
    "\n",
    "if __name__ == \"__main__\":\n",
    "    main()\n"
   ]
  },
  {
   "cell_type": "code",
   "execution_count": 2,
   "metadata": {},
   "outputs": [],
   "source": [
    "#import matplotlib as plt\n",
    "import matplotlib.pyplot as plt"
   ]
  },
  {
   "cell_type": "code",
   "execution_count": 2,
   "metadata": {},
   "outputs": [
    {
     "data": {
      "image/png": "[encoded data removed]",
      "text/plain": [
       "<Figure size 432x288 with 1 Axes>"
      ]
     },
     "metadata": {},
     "output_type": "display_data"
    }
   ],
   "source": [
    "#this program will create the expense file and a file for the labels can be called\n",
    "#in main logic of program\n",
    "def fileCreator(catList):\n",
    "    #create expenseList.txt and labels.txt\n",
    "    with open('expenseList.txt', 'w') as exFile:\n",
    "        for cat in catList:\n",
    "            #user inputs expense for each category\n",
    "            usrSpent = float(input(f'How much did you spend on {cat}'))\n",
    "            #write expense to expense list\n",
    "            exFile.write(f'{usrSpent}' + '\\n')\n",
    "            \n",
    "           \n",
    "\n",
    "import matplotlib.pyplot as plt\n",
    "\n",
    "#main program will run fileCreator function to create expense file and fill with\n",
    "#expense information, then it will make a pie chart using matplotlib\n",
    "def main():\n",
    "    #ended up being more compact overall with the catList here\n",
    "    catList = ['Rent', 'Gas', 'Food', 'Clothing', 'Car Payment', 'Misc']\n",
    "    #empty list for expense data\n",
    "    expList = []\n",
    "    #fun fileCreator for catList\n",
    "    fileCreator(catList)\n",
    "    #open the expense list in read mode\n",
    "    with open('expenseList.txt', 'r') as exOb:\n",
    "        #read lines from file assign to variable\n",
    "        expLines = exOb.readlines()\n",
    "        #for each line\n",
    "        for line in expLines:\n",
    "            #append to list instead, needs another )\n",
    "            expList.append(float(line.rstrip('\\n')))\n",
    "    \n",
    "    #create pie chart with expense list and labels list\n",
    "    \n",
    "    plt.pie(expLines, labels=catList)\n",
    "    #show pie chart\n",
    "    plt.show()\n",
    "if __name__ == \"__main__\":\n",
    "    main()\n"
   ]
  }
 ],
 "metadata": {
  "kernelspec": {
   "display_name": "Python 3",
   "language": "python",
   "name": "python3"
  },
  "language_info": {
   "codemirror_mode": {
    "name": "ipython",
    "version": 3
   },
   "file_extension": ".py",
   "mimetype": "text/x-python",
   "name": "python",
   "nbconvert_exporter": "python",
   "pygments_lexer": "ipython3",
   "version": "3.6.4"
  },
  "orig_nbformat": 4
 },
 "nbformat": 4,
 "nbformat_minor": 2
}
