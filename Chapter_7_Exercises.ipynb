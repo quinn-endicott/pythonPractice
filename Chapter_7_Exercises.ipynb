{
 "cells": [
  {
   "cell_type": "markdown",
   "metadata": {},
   "source": [
    "# Algorithm Workbench 8\n",
    "Assume list1 is a list of integers. Write a statement that uses a list comprehension to create a second list containing the squares of the elements of list1."
   ]
  },
  {
   "cell_type": "code",
   "execution_count": 2,
   "metadata": {},
   "outputs": [
    {
     "name": "stdout",
     "output_type": "stream",
     "text": [
      "[11, 16, 14, 3, 16, 9, 16, 14, 17, 8]\n"
     ]
    }
   ],
   "source": [
    "#first create list1\n",
    "import random\n",
    "#create list to fill\n",
    "list1 = []\n",
    "#10 items in list, each is a random integer 1-20\n",
    "for num in range(10):\n",
    "    list1.append(random.randint(1,20))\n",
    "#print to make sure it's what's expected\n",
    "print(list1)"
   ]
  },
  {
   "cell_type": "code",
   "execution_count": 3,
   "metadata": {},
   "outputs": [
    {
     "name": "stdout",
     "output_type": "stream",
     "text": [
      "[121, 256, 196, 9, 256, 81, 256, 196, 289, 64]\n"
     ]
    }
   ],
   "source": [
    "#this function will make a list2 and populate it with the squares of list1\n",
    "def main():\n",
    "    #list comprehension, for each item item ** 2\n",
    "    list2 = [item ** 2 for item in list1]\n",
    "    #print list2 to see that it has worked\n",
    "    print(list2)\n",
    "#call the main() function\n",
    "if __name__ == \"__main__\":\n",
    "    main()\n",
    "\n",
    "\n"
   ]
  },
  {
   "cell_type": "markdown",
   "metadata": {},
   "source": [
    "# Algorithm Workbench 11\n",
    "Write a statement that creates a two-dimensional list with 5 rows and 3 columns. Then write nested loops that get an integer value from the user for each element in the list.\n"
   ]
  },
  {
   "cell_type": "code",
   "execution_count": 4,
   "metadata": {},
   "outputs": [
    {
     "name": "stdout",
     "output_type": "stream",
     "text": [
      "[[0, 0, 0], [0, 0, 0], [0, 0, 0], [0, 0, 0], [0, 0, 0]]\n"
     ]
    }
   ],
   "source": [
    "#first step is to create the 2 dimensional list, all values 0 to start\n",
    "#found a cool form for list comprehension to make it at \n",
    "#https://stackoverflow.com/questions/17636567/how-to-create-a-multi-dimensional-list\n",
    "list2d = [[0] * 3 for row in range(5)]\n",
    "#chech that this created what I want\n",
    "print(list2d)\n",
    "#has 3 columns and 5 rows so looks good"
   ]
  },
  {
   "cell_type": "code",
   "execution_count": 5,
   "metadata": {},
   "outputs": [
    {
     "name": "stdout",
     "output_type": "stream",
     "text": [
      "invalid literal for int() with base 10: ''\n",
      "[[2, 3, 4], [5, 6], [7, 78, 6], [6, 6, 6], [5, 5, 5]]\n"
     ]
    }
   ],
   "source": [
    "\n",
    "#this function will allow the user the enter an integer value for each space in list\n",
    "def main():\n",
    "    #making a local variable for the list\n",
    "    listVals = list2d\n",
    "    \n",
    "    for row in listVals:\n",
    "        newVals = []\n",
    "        for num in row:\n",
    "            #putting in try/except block to catch input errors\n",
    "            try:\n",
    "                #enter a value to replace val in column\n",
    "                val = int(input('enter an integer into the list: '))\n",
    "                #append to newVals list\n",
    "                newVals.append(val)\n",
    "            #handle exceptions and print to user what they are\n",
    "            except Exception as e: \n",
    "                print(e)\n",
    "        #replace values in each row with newVals\n",
    "        listVals[listVals.index(row)] = newVals\n",
    "    #print list\n",
    "    print(listVals)\n",
    "\n",
    "if __name__ == \"__main__\":\n",
    "    main()\n",
    "    \n",
    "\n"
   ]
  },
  {
   "cell_type": "code",
   "execution_count": 7,
   "metadata": {},
   "outputs": [
    {
     "name": "stdout",
     "output_type": "stream",
     "text": [
      "[[3, 4, 4], [4, 4], [4, 4, 4], [4, 4, 4], [4, 4, 4]]\n"
     ]
    }
   ],
   "source": [
    "#I pressed enter without entering a number, runtime error showed and program \n",
    "#continued taking values leaving out error value in row 2\n",
    "main()\n",
    "#that doesn't explain why the same thing happens again, need to ensure 3\n",
    "#values per row"
   ]
  },
  {
   "cell_type": "code",
   "execution_count": 8,
   "metadata": {},
   "outputs": [
    {
     "name": "stdout",
     "output_type": "stream",
     "text": [
      "[[4, 4, 4], [4, 4], [4, 4, 4], [4, 4, 4], [4, 4, 4]]\n"
     ]
    }
   ],
   "source": [
    "\n",
    "#this function will allow the user the enter an integer value for each space in list\n",
    "def main():\n",
    "    #making a local variable for the list\n",
    "    listVals = list2d\n",
    "    \n",
    "    for index, row in enumerate(listVals):\n",
    "        newVals = []\n",
    "        for num in row:\n",
    "            #putting in try/except block to catch input errors\n",
    "            try:\n",
    "                #enter a value to replace val in column\n",
    "                val = int(input('enter an integer into the list: '))\n",
    "                #append to newVals list\n",
    "                newVals.append(val)\n",
    "            #handle exceptions and print to user what they are\n",
    "            except Exception as e: \n",
    "                print(e)\n",
    "        #replace values in each row with newVals\n",
    "        listVals[index] = newVals\n",
    "    #print list\n",
    "    print(listVals)\n",
    "\n",
    "if __name__ == \"__main__\":\n",
    "    main()\n",
    "    \n",
    "\n"
   ]
  },
  {
   "cell_type": "code",
   "execution_count": 11,
   "metadata": {},
   "outputs": [
    {
     "name": "stdout",
     "output_type": "stream",
     "text": [
      "[[4, 4, 4], [4, 4, 4], [4, 4, 4], [4, 4, 4], [4, 4, 4]]\n"
     ]
    }
   ],
   "source": [
    "#still getting same output issue\n",
    "def main():\n",
    "    #making a local variable for the list\n",
    "    listVals = list2d\n",
    "    \n",
    "    #keep track of index and row position\n",
    "    for index, row in enumerate(listVals):\n",
    "        #empty list for user values\n",
    "        newVals = []\n",
    "        #explicitly setting range so there must be 3 entries per row\n",
    "        for num in range(3):\n",
    "            #putting in try/except block to catch input errors\n",
    "            try:\n",
    "                #enter a value to replace val in column\n",
    "                val = int(input('enter an integer into the list: '))\n",
    "                #append to newVals list\n",
    "                newVals.append(val)\n",
    "            #handle exceptions and print to user what they are\n",
    "            except Exception as e: \n",
    "                print(e)\n",
    "        #replace values in each row with newVals\n",
    "        listVals[index] = newVals\n",
    "    #print list\n",
    "    print(listVals)\n",
    "#this fixed it, finally\n",
    "\n",
    "if __name__ == \"__main__\":\n",
    "    main()\n"
   ]
  },
  {
   "cell_type": "markdown",
   "metadata": {},
   "source": [
    "# Programming Exercise 1: Total Sales\n",
    "Design a program that asks the user to enter a store’s sales for each day of the week. The amounts should be stored in a list. Use a loop to calculate the total sales for the week and display the result."
   ]
  },
  {
   "cell_type": "code",
   "execution_count": 13,
   "metadata": {},
   "outputs": [
    {
     "ename": "TypeError",
     "evalue": "'float' object is not iterable",
     "output_type": "error",
     "traceback": [
      "\u001b[1;31m---------------------------------------------------------------------------\u001b[0m",
      "\u001b[1;31mTypeError\u001b[0m                                 Traceback (most recent call last)",
      "\u001b[1;32m<ipython-input-13-c63aa0a6fd3d>\u001b[0m in \u001b[0;36m<module>\u001b[1;34m\u001b[0m\n\u001b[0;32m     13\u001b[0m \u001b[1;33m\u001b[0m\u001b[0m\n\u001b[0;32m     14\u001b[0m \u001b[1;32mif\u001b[0m \u001b[0m__name__\u001b[0m \u001b[1;33m==\u001b[0m \u001b[1;34m\"__main__\"\u001b[0m\u001b[1;33m:\u001b[0m\u001b[1;33m\u001b[0m\u001b[0m\n\u001b[1;32m---> 15\u001b[1;33m     \u001b[0mmain\u001b[0m\u001b[1;33m(\u001b[0m\u001b[1;33m)\u001b[0m\u001b[1;33m\u001b[0m\u001b[0m\n\u001b[0m",
      "\u001b[1;32m<ipython-input-13-c63aa0a6fd3d>\u001b[0m in \u001b[0;36mmain\u001b[1;34m()\u001b[0m\n\u001b[0;32m      8\u001b[0m     \u001b[1;32mfor\u001b[0m \u001b[0mday\u001b[0m \u001b[1;32min\u001b[0m \u001b[0mdaysList\u001b[0m\u001b[1;33m:\u001b[0m\u001b[1;33m\u001b[0m\u001b[0m\n\u001b[0;32m      9\u001b[0m         \u001b[0mdaySales\u001b[0m \u001b[1;33m=\u001b[0m \u001b[0mfloat\u001b[0m\u001b[1;33m(\u001b[0m\u001b[0minput\u001b[0m\u001b[1;33m(\u001b[0m\u001b[1;34mf'Enter the sales for {day}: '\u001b[0m\u001b[1;33m)\u001b[0m\u001b[1;33m)\u001b[0m\u001b[1;33m\u001b[0m\u001b[0m\n\u001b[1;32m---> 10\u001b[1;33m         \u001b[0msalesList\u001b[0m \u001b[1;33m+=\u001b[0m \u001b[0mdaySales\u001b[0m\u001b[1;33m\u001b[0m\u001b[0m\n\u001b[0m\u001b[0;32m     11\u001b[0m     \u001b[0mweekSum\u001b[0m \u001b[1;33m=\u001b[0m \u001b[0msum\u001b[0m\u001b[1;33m(\u001b[0m\u001b[0msalesList\u001b[0m\u001b[1;33m)\u001b[0m\u001b[1;33m\u001b[0m\u001b[0m\n\u001b[0;32m     12\u001b[0m     \u001b[0mprint\u001b[0m\u001b[1;33m(\u001b[0m\u001b[1;34mf'The total sales for the week is {weekSum:.2f}.'\u001b[0m\u001b[1;33m)\u001b[0m\u001b[1;33m\u001b[0m\u001b[0m\n",
      "\u001b[1;31mTypeError\u001b[0m: 'float' object is not iterable"
     ]
    }
   ],
   "source": [
    "#this program will prompt a user to enter daily sales data until all data is \n",
    "#entered, then it will sum the entered values and print the total for the user\n",
    "def main():\n",
    "    #make an empty list to store the sales data\n",
    "    salesList = []\n",
    "    daysList = ['Monday', 'Tuesday', 'Wednesday', 'Thursday', 'Friday', 'Saturday', 'Sunday']\n",
    "    contVar = 'y'\n",
    "    for day in daysList:\n",
    "        daySales = float(input(f'Enter the sales for {day}: '))\n",
    "        salesList += daySales\n",
    "    weekSum = sum(salesList)\n",
    "    print(f'The total sales for the week is {weekSum:.2f}.')\n",
    "\n",
    "if __name__ == \"__main__\":\n",
    "    main()"
   ]
  },
  {
   "cell_type": "code",
   "execution_count": 16,
   "metadata": {},
   "outputs": [
    {
     "ename": "TypeError",
     "evalue": "float() argument must be a string or a number, not 'list'",
     "output_type": "error",
     "traceback": [
      "\u001b[1;31m---------------------------------------------------------------------------\u001b[0m",
      "\u001b[1;31mTypeError\u001b[0m                                 Traceback (most recent call last)",
      "\u001b[1;32m<ipython-input-16-de631a00727f>\u001b[0m in \u001b[0;36m<module>\u001b[1;34m\u001b[0m\n\u001b[0;32m     14\u001b[0m \u001b[1;33m\u001b[0m\u001b[0m\n\u001b[0;32m     15\u001b[0m \u001b[1;32mif\u001b[0m \u001b[0m__name__\u001b[0m \u001b[1;33m==\u001b[0m \u001b[1;34m\"__main__\"\u001b[0m\u001b[1;33m:\u001b[0m\u001b[1;33m\u001b[0m\u001b[0m\n\u001b[1;32m---> 16\u001b[1;33m     \u001b[0mmain\u001b[0m\u001b[1;33m(\u001b[0m\u001b[1;33m)\u001b[0m\u001b[1;33m\u001b[0m\u001b[0m\n\u001b[0m",
      "\u001b[1;32m<ipython-input-16-de631a00727f>\u001b[0m in \u001b[0;36mmain\u001b[1;34m()\u001b[0m\n\u001b[0;32m     10\u001b[0m         \u001b[1;31m#salesList needs to take string data\u001b[0m\u001b[1;33m\u001b[0m\u001b[1;33m\u001b[0m\u001b[0m\n\u001b[0;32m     11\u001b[0m         \u001b[0msalesList\u001b[0m \u001b[1;33m+=\u001b[0m \u001b[0mstr\u001b[0m\u001b[1;33m(\u001b[0m\u001b[0mdaySales\u001b[0m\u001b[1;33m)\u001b[0m\u001b[1;33m\u001b[0m\u001b[0m\n\u001b[1;32m---> 12\u001b[1;33m     \u001b[0mweekSum\u001b[0m \u001b[1;33m=\u001b[0m \u001b[0msum\u001b[0m\u001b[1;33m(\u001b[0m\u001b[0mfloat\u001b[0m\u001b[1;33m(\u001b[0m\u001b[0msalesList\u001b[0m\u001b[1;33m)\u001b[0m\u001b[1;33m)\u001b[0m\u001b[1;33m\u001b[0m\u001b[0m\n\u001b[0m\u001b[0;32m     13\u001b[0m     \u001b[0mprint\u001b[0m\u001b[1;33m(\u001b[0m\u001b[1;34mf'The total sales for the week is {weekSum:.2f}.'\u001b[0m\u001b[1;33m)\u001b[0m\u001b[1;33m\u001b[0m\u001b[0m\n\u001b[0;32m     14\u001b[0m \u001b[1;33m\u001b[0m\u001b[0m\n",
      "\u001b[1;31mTypeError\u001b[0m: float() argument must be a string or a number, not 'list'"
     ]
    }
   ],
   "source": [
    "#this program will prompt a user to enter daily sales data until all data is \n",
    "#entered, then it will sum the entered values and print the total for the user\n",
    "def main():\n",
    "    #make an empty list to store the sales data\n",
    "    salesList = []\n",
    "    daysList = ['Monday', 'Tuesday', 'Wednesday', 'Thursday', 'Friday', 'Saturday', 'Sunday']\n",
    "    contVar = 'y'\n",
    "    for day in daysList:\n",
    "        daySales = float(input(f'Enter the sales for {day}: '))\n",
    "        #salesList needs to take string data\n",
    "        salesList += str(daySales)\n",
    "    weekSum = sum(float(salesList))\n",
    "    print(f'The total sales for the week is {weekSum:.2f}.')\n",
    "\n",
    "if __name__ == \"__main__\":\n",
    "    main()"
   ]
  },
  {
   "cell_type": "code",
   "execution_count": 23,
   "metadata": {},
   "outputs": [
    {
     "name": "stdout",
     "output_type": "stream",
     "text": [
      "Error could not convert string to float: 'g', entry needs to be a number. Try again.\n",
      "Monday sales: $34.50\n",
      "Tuesday sales: $789576.45\n",
      "Wednesday sales: $5647234.45\n",
      "Error could not convert string to float: 'g', entry needs to be a number. Try again.\n",
      "Thursday sales: $346.00\n",
      "Friday sales: $57234435.64\n",
      "Saturday sales: $34875235345.65\n",
      "Sunday sales: $1.00\n",
      "The total sales for the week is $34938906973.69\n"
     ]
    }
   ],
   "source": [
    "#this program will prompt a user to enter daily sales data until all data is \n",
    "#entered, then it will sum the entered values and print the total for the user\n",
    "def main():\n",
    "    #make an empty list to store the sales data\n",
    "    salesList = []\n",
    "    daysList = ['Monday', 'Tuesday', 'Wednesday', 'Thursday', 'Friday', 'Saturday', 'Sunday']\n",
    "    #contVar did not need to exist, make accumulator for weekly total\n",
    "    weekSum = 0\n",
    "    #for each day in the list of days\n",
    "    for day in daysList:\n",
    "        #this makes the user keep trying entries until the data is valid and the loop\n",
    "        #breals\n",
    "        while True:\n",
    "            #adding error handling\n",
    "            try:\n",
    "                #user enters the sales data for the day taken as float\n",
    "                daySales = float(input(f'Enter the sales for {day}: '))\n",
    "                #salesList needs to take string data\n",
    "                salesList.append(daySales)\n",
    "                #adding day totals to output for more context\n",
    "                print(f'{day} sales: ${daySales:.2f}')\n",
    "                #break the loop if it works\n",
    "                break\n",
    "            except Exception as e:\n",
    "                print(f'Error {e}, entry needs to be a number. Try again.')\n",
    "                \n",
    "    #salesList needs to be here not daySales, this is why it was not working\n",
    "    for daySale in salesList:\n",
    "        #add each day's sales to weekSum\n",
    "        weekSum += daySale\n",
    "    #print weekSum .2f\n",
    "    print(f'The total sales for the week is ${weekSum:.2f}')\n",
    "\n",
    "\n",
    "if __name__ == \"__main__\":\n",
    "    main()\n"
   ]
  },
  {
   "cell_type": "markdown",
   "metadata": {},
   "source": [
    "# Programming Execise 6: Larger than n\n",
    "In a program, write a function that accepts two arguments: a list, and a number n. Assume that the list contains numbers. The function should display all of the numbers in the list that are greater than the number n."
   ]
  },
  {
   "cell_type": "code",
   "execution_count": 25,
   "metadata": {},
   "outputs": [
    {
     "name": "stdout",
     "output_type": "stream",
     "text": [
      "This program will evaluate which numbers you entered are greater than n.\n",
      "Please create a list of numbers.\n",
      "The values greater than 6.0 are: [7.0, 34.0, 4639534593465.54]\n"
     ]
    }
   ],
   "source": [
    "#the largerThan function will evaluate the numbers in numList for being > user \n",
    "#value n\n",
    "def largerThan(numList, usrN):\n",
    "    #list to store larger numbers\n",
    "    largeList = []\n",
    "    #for each numberin the numList\n",
    "    for num in numList:\n",
    "        #is num > than user n value\n",
    "        if num > usrN:\n",
    "            #if it is, append to large numbers list\n",
    "            largeList.append(num)\n",
    "    #return filled larger list to main\n",
    "    return largeList\n",
    "\n",
    "#my main function will prompt user for their n value and the values for the list\n",
    "def main():\n",
    "    #opening screen to explain what user is doing\n",
    "    print('This program will evaluate which numbers you entered are greater than n.')\n",
    "    #user enters the value n\n",
    "    usrLimit = float(input('Enter your value for n: '))\n",
    "    #continue variable for while loop, set to y\n",
    "    contVar = 'y'\n",
    "    #empty list for user values\n",
    "    usrList = []\n",
    "    #explain step to user\n",
    "    print('Please create a list of numbers.')\n",
    "    #while user enters y for continue\n",
    "    while contVar == 'y':\n",
    "        #take input for iteration\n",
    "        listVal = float(input('Add a value to the list: '))\n",
    "        #add value to list\n",
    "        usrList.append(listVal)\n",
    "        #keep entering numbers?\n",
    "        contVar = input('Would you like to add another value (y/n): ').lower()\n",
    "    #largerThan for usrList and usrLimit\n",
    "    returnList = largerThan(usrList, usrLimit)\n",
    "    #print list of grater values\n",
    "    print(f'The values greater than {usrLimit} are: {returnList}')\n",
    "\n",
    "if __name__ == \"__main__\":\n",
    "    main()\n",
    "    "
   ]
  },
  {
   "cell_type": "code",
   "execution_count": null,
   "metadata": {},
   "outputs": [],
   "source": []
  }
 ],
 "metadata": {
  "kernelspec": {
   "display_name": "Python 3",
   "language": "python",
   "name": "python3"
  },
  "language_info": {
   "codemirror_mode": {
    "name": "ipython",
    "version": 3
   },
   "file_extension": ".py",
   "mimetype": "text/x-python",
   "name": "python",
   "nbconvert_exporter": "python",
   "pygments_lexer": "ipython3",
   "version": "3.6.4"
  },
  "orig_nbformat": 4
 },
 "nbformat": 4,
 "nbformat_minor": 2
}
