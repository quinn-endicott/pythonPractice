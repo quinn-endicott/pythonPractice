{
 "cells": [
  {
   "cell_type": "markdown",
   "metadata": {},
   "source": [
    "# Algorithm Workbench 8\n",
    "Assume list1 is a list of integers. Write a statement that uses a list comprehension to create a second list containing the squares of the elements of list1."
   ]
  },
  {
   "cell_type": "code",
   "execution_count": 2,
   "metadata": {},
   "outputs": [
    {
     "name": "stdout",
     "output_type": "stream",
     "text": [
      "[11, 16, 14, 3, 16, 9, 16, 14, 17, 8]\n"
     ]
    }
   ],
   "source": [
    "#first create list1\n",
    "import random\n",
    "#create list to fill\n",
    "list1 = []\n",
    "#10 items in list, each is a random integer 1-20\n",
    "for num in range(10):\n",
    "    list1.append(random.randint(1,20))\n",
    "#print to make sure it's what's expected\n",
    "print(list1)"
   ]
  },
  {
   "cell_type": "code",
   "execution_count": 3,
   "metadata": {},
   "outputs": [
    {
     "name": "stdout",
     "output_type": "stream",
     "text": [
      "[121, 256, 196, 9, 256, 81, 256, 196, 289, 64]\n"
     ]
    }
   ],
   "source": [
    "#this function will make a list2 and populate it with the squares of list1\n",
    "def main():\n",
    "    #list comprehension, for each item item ** 2\n",
    "    list2 = [item ** 2 for item in list1]\n",
    "    #print list2 to see that it has worked\n",
    "    print(list2)\n",
    "#call the main() function\n",
    "if __name__ == \"__main__\":\n",
    "    main()\n",
    "\n",
    "\n"
   ]
  },
  {
   "cell_type": "markdown",
   "metadata": {},
   "source": [
    "# Algorithm Workbench 11\n",
    "Write a statement that creates a two-dimensional list with 5 rows and 3 columns. Then write nested loops that get an integer value from the user for each element in the list.\n"
   ]
  },
  {
   "cell_type": "code",
   "execution_count": 4,
   "metadata": {},
   "outputs": [
    {
     "name": "stdout",
     "output_type": "stream",
     "text": [
      "[[0, 0, 0], [0, 0, 0], [0, 0, 0], [0, 0, 0], [0, 0, 0]]\n"
     ]
    }
   ],
   "source": [
    "#first step is to create the 2 dimensional list, all values 0 to start\n",
    "#found a cool form for list comprehension to make it at \n",
    "#https://stackoverflow.com/questions/17636567/how-to-create-a-multi-dimensional-list\n",
    "list2d = [[0] * 3 for row in range(5)]\n",
    "#chech that this created what I want\n",
    "print(list2d)\n",
    "#has 3 columns and 5 rows so looks good"
   ]
  },
  {
   "cell_type": "code",
   "execution_count": 5,
   "metadata": {},
   "outputs": [
    {
     "name": "stdout",
     "output_type": "stream",
     "text": [
      "invalid literal for int() with base 10: ''\n",
      "[[2, 3, 4], [5, 6], [7, 78, 6], [6, 6, 6], [5, 5, 5]]\n"
     ]
    }
   ],
   "source": [
    "\n",
    "#this function will allow the user the enter an integer value for each space in list\n",
    "def main():\n",
    "    #making a local variable for the list\n",
    "    listVals = list2d\n",
    "    \n",
    "    for row in listVals:\n",
    "        newVals = []\n",
    "        for num in row:\n",
    "            #putting in try/except block to catch input errors\n",
    "            try:\n",
    "                #enter a value to replace val in column\n",
    "                val = int(input('enter an integer into the list: '))\n",
    "                #append to newVals list\n",
    "                newVals.append(val)\n",
    "            #handle exceptions and print to user what they are\n",
    "            except Exception as e: \n",
    "                print(e)\n",
    "        #replace values in each row with newVals\n",
    "        listVals[listVals.index(row)] = newVals\n",
    "    #print list\n",
    "    print(listVals)\n",
    "\n",
    "if __name__ == \"__main__\":\n",
    "    main()\n",
    "    \n",
    "\n"
   ]
  },
  {
   "cell_type": "code",
   "execution_count": 7,
   "metadata": {},
   "outputs": [
    {
     "name": "stdout",
     "output_type": "stream",
     "text": [
      "[[3, 4, 4], [4, 4], [4, 4, 4], [4, 4, 4], [4, 4, 4]]\n"
     ]
    }
   ],
   "source": [
    "#I pressed enter without entering a number, runtime error showed and program \n",
    "#continued taking values leaving out error value in row 2\n",
    "main()\n",
    "#that doesn't explain why the same thing happens again, need to exsure 3\n",
    "#values per row"
   ]
  },
  {
   "cell_type": "code",
   "execution_count": null,
   "metadata": {},
   "outputs": [],
   "source": [
    "\n",
    "#this function will allow the user the enter an integer value for each space in list\n",
    "def main():\n",
    "    #making a local variable for the list\n",
    "    listVals = list2d\n",
    "    \n",
    "    for row in listVals:\n",
    "        newVals = []\n",
    "        for num in row:\n",
    "            #putting in try/except block to catch input errors\n",
    "            try:\n",
    "                #enter a value to replace val in column\n",
    "                val = int(input('enter an integer into the list: '))\n",
    "                #append to newVals list\n",
    "                newVals.append(val)\n",
    "            #handle exceptions and print to user what they are\n",
    "            except Exception as e: \n",
    "                print(e)\n",
    "        #replace values in each row with newVals\n",
    "        listVals[listVals.index(row)] = newVals\n",
    "    #print list\n",
    "    print(listVals)\n",
    "\n",
    "if __name__ == \"__main__\":\n",
    "    main()\n",
    "    \n",
    "\n"
   ]
  },
  {
   "cell_type": "code",
   "execution_count": null,
   "metadata": {},
   "outputs": [],
   "source": []
  }
 ],
 "metadata": {
  "kernelspec": {
   "display_name": "Python 3",
   "language": "python",
   "name": "python3"
  },
  "language_info": {
   "codemirror_mode": {
    "name": "ipython",
    "version": 3
   },
   "file_extension": ".py",
   "mimetype": "text/x-python",
   "name": "python",
   "nbconvert_exporter": "python",
   "pygments_lexer": "ipython3",
   "version": "3.6.4"
  },
  "orig_nbformat": 4
 },
 "nbformat": 4,
 "nbformat_minor": 2
}
