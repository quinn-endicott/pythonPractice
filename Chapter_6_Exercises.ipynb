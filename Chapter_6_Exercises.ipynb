{
 "cells": [
  {
   "cell_type": "markdown",
   "metadata": {},
   "source": [
    "# Algorithm Workbench 4\n",
    "Write code that does the following: opens the number_list.txt file that was created by the code you wrote in question 3, reads all of the numbers from the file and displays them, then closes the file."
   ]
  },
  {
   "cell_type": "code",
   "execution_count": 1,
   "metadata": {},
   "outputs": [
    {
     "ename": "TypeError",
     "evalue": "unsupported operand type(s) for +: 'int' and 'str'",
     "output_type": "error",
     "traceback": [
      "\u001b[1;31m---------------------------------------------------------------------------\u001b[0m",
      "\u001b[1;31mTypeError\u001b[0m                                 Traceback (most recent call last)",
      "\u001b[1;32m<ipython-input-1-99180546dc24>\u001b[0m in \u001b[0;36m<module>\u001b[1;34m\u001b[0m\n\u001b[0;32m      4\u001b[0m     \u001b[1;32mfor\u001b[0m \u001b[0mlister\u001b[0m \u001b[1;32min\u001b[0m \u001b[0mrange\u001b[0m\u001b[1;33m(\u001b[0m\u001b[1;36m1\u001b[0m\u001b[1;33m,\u001b[0m\u001b[1;36m101\u001b[0m\u001b[1;33m)\u001b[0m\u001b[1;33m:\u001b[0m\u001b[1;33m\u001b[0m\u001b[0m\n\u001b[0;32m      5\u001b[0m         \u001b[1;31m#write each list number to the file\u001b[0m\u001b[1;33m\u001b[0m\u001b[1;33m\u001b[0m\u001b[0m\n\u001b[1;32m----> 6\u001b[1;33m         \u001b[0mnumFile\u001b[0m\u001b[1;33m.\u001b[0m\u001b[0mwrite\u001b[0m\u001b[1;33m(\u001b[0m\u001b[0mlister\u001b[0m \u001b[1;33m+\u001b[0m \u001b[1;34m'\\n'\u001b[0m\u001b[1;33m)\u001b[0m\u001b[1;33m\u001b[0m\u001b[0m\n\u001b[0m",
      "\u001b[1;31mTypeError\u001b[0m: unsupported operand type(s) for +: 'int' and 'str'"
     ]
    }
   ],
   "source": [
    "#first we need to create the necessary file\n",
    "with open('number_list', 'w') as numFile:\n",
    "    #number_list should have numbers 1-100 in it\n",
    "    for lister in range(1,101):\n",
    "        #write each list number to the file\n",
    "        numFile.write('lister' + '\\n')"
   ]
  },
  {
   "cell_type": "code",
   "execution_count": 3,
   "metadata": {},
   "outputs": [],
   "source": [
    "#first we need to create the necessary file, put file extension in\n",
    "#I've left the no extension file in the repo, check out how not right it is\n",
    "with open('number_list.txt', 'w') as numFile:\n",
    "    #number_list should have numbers 1-100 in it\n",
    "    for lister in range(1,101):\n",
    "        #write each list number to the file, number needs to be a string\n",
    "        #needs also to be an f string and not just write lister 100 times\n",
    "        numFile.write(f'{lister}' + '\\n')\n"
   ]
  },
  {
   "cell_type": "code",
   "execution_count": 4,
   "metadata": {},
   "outputs": [
    {
     "name": "stdout",
     "output_type": "stream",
     "text": [
      "1\n",
      "2\n",
      "3\n",
      "4\n",
      "5\n",
      "6\n",
      "7\n",
      "8\n",
      "9\n",
      "10\n",
      "11\n",
      "12\n",
      "13\n",
      "14\n",
      "15\n",
      "16\n",
      "17\n",
      "18\n",
      "19\n",
      "20\n",
      "21\n",
      "22\n",
      "23\n",
      "24\n",
      "25\n",
      "26\n",
      "27\n",
      "28\n",
      "29\n",
      "30\n",
      "31\n",
      "32\n",
      "33\n",
      "34\n",
      "35\n",
      "36\n",
      "37\n",
      "38\n",
      "39\n",
      "40\n",
      "41\n",
      "42\n",
      "43\n",
      "44\n",
      "45\n",
      "46\n",
      "47\n",
      "48\n",
      "49\n",
      "50\n",
      "51\n",
      "52\n",
      "53\n",
      "54\n",
      "55\n",
      "56\n",
      "57\n",
      "58\n",
      "59\n",
      "60\n",
      "61\n",
      "62\n",
      "63\n",
      "64\n",
      "65\n",
      "66\n",
      "67\n",
      "68\n",
      "69\n",
      "70\n",
      "71\n",
      "72\n",
      "73\n",
      "74\n",
      "75\n",
      "76\n",
      "77\n",
      "78\n",
      "79\n",
      "80\n",
      "81\n",
      "82\n",
      "83\n",
      "84\n",
      "85\n",
      "86\n",
      "87\n",
      "88\n",
      "89\n",
      "90\n",
      "91\n",
      "92\n",
      "93\n",
      "94\n",
      "95\n",
      "96\n",
      "97\n",
      "98\n",
      "99\n",
      "100\n",
      "\n"
     ]
    }
   ],
   "source": [
    "#now I want to read and display the number list, this is a common task, so \n",
    "#why not have a function that can read and print files\n",
    "def numPrinter(fileName):\n",
    "    #open the file in read mode\n",
    "    with open(f'{fileName}', 'r') as printFile:\n",
    "        #read file contents and assign to a variable\n",
    "        printContent =  printFile.read()\n",
    "        print(printContent)\n",
    "#after the with block is finished the file will close automatically\n",
    "\n",
    "numPrinter('number_list.txt')"
   ]
  },
  {
   "cell_type": "code",
   "execution_count": 5,
   "metadata": {},
   "outputs": [
    {
     "name": "stdout",
     "output_type": "stream",
     "text": [
      "1, , 2, , 3, , 4, , 5, , 6, , 7, , 8, , 9, , 1, 0, , 1, 1, , 1, 2, , 1, 3, , 1, 4, , 1, 5, , 1, 6, , 1, 7, , 1, 8, , 1, 9, , 2, 0, , 2, 1, , 2, 2, , 2, 3, , 2, 4, , 2, 5, , 2, 6, , 2, 7, , 2, 8, , 2, 9, , 3, 0, , 3, 1, , 3, 2, , 3, 3, , 3, 4, , 3, 5, , 3, 6, , 3, 7, , 3, 8, , 3, 9, , 4, 0, , 4, 1, , 4, 2, , 4, 3, , 4, 4, , 4, 5, , 4, 6, , 4, 7, , 4, 8, , 4, 9, , 5, 0, , 5, 1, , 5, 2, , 5, 3, , 5, 4, , 5, 5, , 5, 6, , 5, 7, , 5, 8, , 5, 9, , 6, 0, , 6, 1, , 6, 2, , 6, 3, , 6, 4, , 6, 5, , 6, 6, , 6, 7, , 6, 8, , 6, 9, , 7, 0, , 7, 1, , 7, 2, , 7, 3, , 7, 4, , 7, 5, , 7, 6, , 7, 7, , 7, 8, , 7, 9, , 8, 0, , 8, 1, , 8, 2, , 8, 3, , 8, 4, , 8, 5, , 8, 6, , 8, 7, , 8, 8, , 8, 9, , 9, 0, , 9, 1, , 9, 2, , 9, 3, , 9, 4, , 9, 5, , 9, 6, , 9, 7, , 9, 8, , 9, 9, , 1, 0, 0, , \n"
     ]
    }
   ],
   "source": [
    "#that worked, but produced an obnoxious scrollable element, I want to strip the \n",
    "#\\n and make this a comma separated list\n",
    "def numPrinter(fileName):\n",
    "    #open the file in read mode\n",
    "    with open(f'{fileName}', 'r') as printFile:\n",
    "        #read file contents and assign to a variable\n",
    "        printContent =  printFile.read()\n",
    "        #pString is a blank string I will add content to accumulator style\n",
    "        pString = ''\n",
    "        #for each line strip the \\n and add to pString\n",
    "        for line in printContent:\n",
    "            cleanLine = line.rstrip('\\n')\n",
    "            pString += cleanLine + ', '\n",
    "        print(pString)\n",
    "\n",
    "        \n",
    "#after the with block is finished the file will close automatically\n",
    "\n",
    "numPrinter('number_list.txt')"
   ]
  },
  {
   "cell_type": "code",
   "execution_count": 6,
   "metadata": {},
   "outputs": [
    {
     "name": "stdout",
     "output_type": "stream",
     "text": [
      "1, 2, 3, 4, 5, 6, 7, 8, 9, 10, 11, 12, 13, 14, 15, 16, 17, 18, 19, 20, 21, 22, 23, 24, 25, 26, 27, 28, 29, 30, 31, 32, 33, 34, 35, 36, 37, 38, 39, 40, 41, 42, 43, 44, 45, 46, 47, 48, 49, 50, 51, 52, 53, 54, 55, 56, 57, 58, 59, 60, 61, 62, 63, 64, 65, 66, 67, 68, 69, 70, 71, 72, 73, 74, 75, 76, 77, 78, 79, 80, 81, 82, 83, 84, 85, 86, 87, 88, 89, 90, 91, 92, 93, 94, 95, 96, 97, 98, 99, 100, \n"
     ]
    }
   ],
   "source": [
    "#that was not what I was looking for\n",
    "def numPrinter(fileName):\n",
    "    #open the file in read mode\n",
    "    with open(f'{fileName}', 'r') as printFile:\n",
    "        #read file contents and assign to a variable, using readlines \n",
    "        printContent =  printFile.readlines()\n",
    "        #pString is a blank string I will add content to accumulator style\n",
    "        pString = ''\n",
    "        #for each line strip the \\n and add to pString\n",
    "        for line in printContent:\n",
    "            cleanLine = line.rstrip('\\n')\n",
    "            pString += cleanLine + ', '\n",
    "        print(pString)\n",
    "\n",
    "        \n",
    "#after the with block is finished the file will close automatically\n",
    "\n",
    "numPrinter('number_list.txt')\n",
    "#obviously still too long to not scroll, but at least isn't vertical"
   ]
  },
  {
   "cell_type": "markdown",
   "metadata": {},
   "source": [
    "# Algorithim Workbench 5\n",
    "Modify the code that you wrote in problem 4 so it adds all of the numbers read from the file and displays their total.\n"
   ]
  },
  {
   "cell_type": "code",
   "execution_count": 8,
   "metadata": {},
   "outputs": [
    {
     "name": "stdout",
     "output_type": "stream",
     "text": [
      "The sum of the numbers in number_list.txt is 5050\n"
     ]
    }
   ],
   "source": [
    "#I should be able to modify my numPrinter function to do summing and printing\n",
    "#just c/ping to start\n",
    "#change function name \n",
    "def numSummer(fileName):\n",
    "    #open the file in read mode\n",
    "    with open(f'{fileName}', 'r') as printFile:\n",
    "        #read file contents and assign to a variable, using readlines \n",
    "        numContent =  printFile.readlines()\n",
    "        #accumulator for total value\n",
    "        pTotal = 0\n",
    "        #for each line strip the \\n \n",
    "        for line in numContent:\n",
    "            cleanLine = line.rstrip('\\n')\n",
    "            #convert string to int\n",
    "            numOut= int(cleanLine)\n",
    "            #accumulate\n",
    "            pTotal += numOut\n",
    "        print(f'The sum of the numbers in {fileName} is {pTotal}')\n",
    "\n",
    "#call function for number list file\n",
    "numSummer('number_list.txt')"
   ]
  },
  {
   "cell_type": "markdown",
   "metadata": {},
   "source": [
    "# Programming Exercise 1, File Display\n",
    "ssume a file containing a series of integers is named numbers.txt and exists on the computer’s disk. Write a program that displays all of the numbers in the file.\n"
   ]
  },
  {
   "cell_type": "code",
   "execution_count": 11,
   "metadata": {},
   "outputs": [],
   "source": [
    "#Instead of pretending the file exists I'll make one with, say, 30 lines of\n",
    "#random numbers\n",
    "import random\n",
    "#open numbers.txt file, write mode\n",
    "with open('numbers.txt', 'w') as numFile:\n",
    "    #generate 30 random numbers\n",
    "    for line in range(1, 31):\n",
    "        randNum = random.randint(1, 100)\n",
    "        #write numbers to file, 1 per line\n",
    "        numFile.write(f'{randNum}' + '\\n')\n"
   ]
  },
  {
   "cell_type": "code",
   "execution_count": 12,
   "metadata": {},
   "outputs": [
    {
     "name": "stdout",
     "output_type": "stream",
     "text": [
      "41\n",
      "15\n",
      "80\n",
      "36\n",
      "29\n",
      "58\n",
      "17\n",
      "17\n",
      "30\n",
      "5\n",
      "41\n",
      "5\n",
      "91\n",
      "40\n",
      "57\n",
      "74\n",
      "47\n",
      "24\n",
      "16\n",
      "63\n",
      "99\n",
      "46\n",
      "45\n",
      "3\n",
      "87\n",
      "37\n",
      "47\n",
      "25\n",
      "29\n",
      "84\n",
      "\n"
     ]
    }
   ],
   "source": [
    "#now I need to write a function that reads the numbers from the file and\n",
    "#prints them out\n",
    "def filePrinter(fileName):\n",
    "    #open the file using with statement\n",
    "    with open('numbers.txt', 'r') as readFile:\n",
    "        #read contents of file into a variable\n",
    "        fileConts = readFile.read()\n",
    "        #print variable\n",
    "        print(fileConts)\n",
    "        #file will close automatically with with \n",
    "\n",
    "#call for numbers.txt\n",
    "filePrinter('numbers.txt')\n"
   ]
  },
  {
   "cell_type": "markdown",
   "metadata": {},
   "source": [
    "# Programming Exercise 6, Average of Numbers\n",
    "Assume a file containing a series of integers is named numbers.txt and exists on the computer’s disk. Write a program that calculates the average of all the numbers stored in \n",
    "the file."
   ]
  },
  {
   "cell_type": "code",
   "execution_count": 15,
   "metadata": {},
   "outputs": [],
   "source": [
    "#numbers.txt does exist in directory\n",
    "#this program will find the number of lines and the sum of the numbers and divide\n",
    "#the number of lines into the sum to find the average\n",
    "def findMean(fileName):\n",
    "    #line number accumulator\n",
    "    numLines = 0\n",
    "    #sum accumulator\n",
    "    fileSum = 0\n",
    "    #open the file in read mode\n",
    "    with open(fileName, 'r') as sumFile:\n",
    "        #read lines into variable\n",
    "        numLine =  sumFile.readlines()\n",
    "        #for each line numLines += 1 and fileSum += number from file\n",
    "        for numStr in numLine:\n",
    "            #strip new line character\n",
    "            cleanStr = numStr.rstrip('\\n')\n",
    "            #convert string to int\n",
    "            numOut= int(cleanStr)\n",
    "            #accumulate\n",
    "            numLines += 1\n",
    "            fileSum += numOut\n",
    "    #calculate mean and assign to variable\n",
    "    fileAv = fileSum / numLines\n",
    "    #print sum\n",
    "    print(f'The Sum of the numbers in {fileName} is {fileSum}')\n",
    "    #print number of values\n",
    "    print(f'There are {numLines} values stored in {fileName}')\n",
    "    #print average\n",
    "    print(f'The mean value in {fileName} is {fileAv}')\n",
    "    "
   ]
  },
  {
   "cell_type": "code",
   "execution_count": 16,
   "metadata": {},
   "outputs": [
    {
     "name": "stdout",
     "output_type": "stream",
     "text": [
      "The Sum of the numbers in numbers.txt is 1288\n",
      "There are 30 values stored in numbers.txt\n",
      "The mean value in numbers.txt is 42.93333333333333\n"
     ]
    }
   ],
   "source": [
    "#call the function for the file\n",
    "findMean('numbers.txt')"
   ]
  },
  {
   "cell_type": "code",
   "execution_count": null,
   "metadata": {},
   "outputs": [],
   "source": []
  }
 ],
 "metadata": {
  "kernelspec": {
   "display_name": "Python 3",
   "language": "python",
   "name": "python3"
  },
  "language_info": {
   "codemirror_mode": {
    "name": "ipython",
    "version": 3
   },
   "file_extension": ".py",
   "mimetype": "text/x-python",
   "name": "python",
   "nbconvert_exporter": "python",
   "pygments_lexer": "ipython3",
   "version": "3.6.4"
  },
  "orig_nbformat": 4
 },
 "nbformat": 4,
 "nbformat_minor": 2
}
