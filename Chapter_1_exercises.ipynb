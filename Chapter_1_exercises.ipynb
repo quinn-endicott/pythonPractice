{
 "cells": [
  {
   "cell_type": "markdown",
   "id": "632d0cff",
   "metadata": {},
   "source": [
    "# Exercise 1\n",
    "To make sure that you can interact with the Python interpreter, try the following steps \n",
    "on your computer"
   ]
  },
  {
   "cell_type": "code",
   "execution_count": 1,
   "id": "8ef58149",
   "metadata": {},
   "outputs": [
    {
     "name": "stdout",
     "output_type": "stream",
     "text": [
      "This is a test of the Python interpreter.\n"
     ]
    }
   ],
   "source": [
    "print('This is a test of the Python interpreter.')"
   ]
  },
  {
   "cell_type": "code",
   "execution_count": 2,
   "id": "95a93c37",
   "metadata": {},
   "outputs": [
    {
     "name": "stdout",
     "output_type": "stream",
     "text": [
      "nascar\n"
     ]
    }
   ],
   "source": [
    "#this code combines 2 variables to make one word\n",
    "a=\"nas\"\n",
    "b=\"car\"\n",
    "print(a+b)\n"
   ]
  },
  {
   "cell_type": "code",
   "execution_count": 3,
   "id": "0e35d5b2",
   "metadata": {},
   "outputs": [
    {
     "data": {
      "text/plain": [
       "'racsan'"
      ]
     },
     "execution_count": 3,
     "metadata": {},
     "output_type": "execute_result"
    }
   ],
   "source": [
    "#wanted to reverse it because as everyone knows nascar backwards is nascar, \n",
    "#chatGPT suggested a slicing operation with -1 for steps\n",
    "\"nascar\"[::-1]\n"
   ]
  },
  {
   "cell_type": "code",
   "execution_count": 4,
   "id": "944d2142",
   "metadata": {},
   "outputs": [],
   "source": [
    "#Whaaaaaat, doesn't even spell racecar"
   ]
  },
  {
   "cell_type": "markdown",
   "id": "d1f0320d",
   "metadata": {},
   "source": [
    "# Exercise 3\n",
    " Use what you’ve learned about the binary numbering system in this chapter to convert \n",
    "the following decimal numbers to binary: 11, 65, 100, 255"
   ]
  },
  {
   "cell_type": "code",
   "execution_count": 5,
   "id": "716874c2",
   "metadata": {},
   "outputs": [
    {
     "data": {
      "text/plain": [
       "(5, 1)"
      ]
     },
     "execution_count": 5,
     "metadata": {},
     "output_type": "execute_result"
    }
   ],
   "source": [
    "#found the divmod function which returns both a dividend and a remainder, so I started just using it to do the division steps\n",
    "#so for 11 to start\n",
    "divmod(11,2)"
   ]
  },
  {
   "cell_type": "code",
   "execution_count": 6,
   "id": "1df53b05",
   "metadata": {},
   "outputs": [
    {
     "data": {
      "text/plain": [
       "(2, 1)"
      ]
     },
     "execution_count": 6,
     "metadata": {},
     "output_type": "execute_result"
    }
   ],
   "source": [
    "divmod(5,2)"
   ]
  },
  {
   "cell_type": "code",
   "execution_count": 7,
   "id": "f05d188b",
   "metadata": {},
   "outputs": [
    {
     "data": {
      "text/plain": [
       "(1, 0)"
      ]
     },
     "execution_count": 7,
     "metadata": {},
     "output_type": "execute_result"
    }
   ],
   "source": [
    "divmod(2,2)"
   ]
  },
  {
   "cell_type": "code",
   "execution_count": 8,
   "id": "3b8d69b3",
   "metadata": {},
   "outputs": [
    {
     "data": {
      "text/plain": [
       "(0, 1)"
      ]
     },
     "execution_count": 8,
     "metadata": {},
     "output_type": "execute_result"
    }
   ],
   "source": [
    "divmod(1,2)\n",
    "#once the dividend is 0 then then remainders read last to first are the binary representation of 11, \"1011\" \n",
    "#this would be much better if it executed in one step, so. . ."
   ]
  },
  {
   "cell_type": "code",
   "execution_count": 12,
   "id": "0e5723f1",
   "metadata": {},
   "outputs": [],
   "source": [
    "#originally wrote it like\n",
    "#def convert_bin(Dec)\n",
    "#while Dec >= 0:\n",
    "#nResult, remain = divmod(Dec, 2)\n",
    "#print(nResult, remain)\n",
    "#with the idea that this would output all dividends and remainders, this just kept repeating dividing the decimal value\n",
    "#Dec by 2 and printing until I didn't have enough memory to load the page anymore. Dec needs to update to the \n",
    "# last value of nResult in each iteration and can't be >=0 because it will keep looping, so\n",
    "def convert_bin(Dec):\n",
    "    while Dec > 0:\n",
    "        nResult, remain = divmod(Dec, 2)\n",
    "        Dec = nResult\n",
    "        print(f\"{nResult}, {remain}\")\n",
    "#apparently it needs to be an f-string or the variables won't print, I've read several sources \n",
    "#(ex: https://www.digitalocean.com/community/tutorials/python-f-strings-literal-string-interpolation) and asked chatGPT\n",
    "#seems like it becomes neccesarry to print the results of a function, so that's how it's in there"
   ]
  },
  {
   "cell_type": "code",
   "execution_count": 13,
   "id": "958a7294",
   "metadata": {},
   "outputs": [
    {
     "name": "stdout",
     "output_type": "stream",
     "text": [
      "5, 1\n",
      "2, 1\n",
      "1, 0\n",
      "0, 1\n"
     ]
    }
   ],
   "source": [
    "convert_bin(11)\n",
    "#the resulting binary number can be read from bottom to top, but I want it presented as a string"
   ]
  },
  {
   "cell_type": "code",
   "execution_count": 14,
   "id": "a2bca27b",
   "metadata": {},
   "outputs": [],
   "source": [
    "def convert_bin(Dec):\n",
    "    biResult = \"\"\n",
    "    #this will be the name of the result string\n",
    "    while Dec > 0:\n",
    "        nResult, remain = divmod(Dec, 2)\n",
    "        Dec = nResult\n",
    "        biResult = str(remain)\n",
    "        #gather the remainders together per https://www.digitalocean.com/community/tutorials/python-string-concatenation\n",
    "        print(f\"{nResult}, {remain}, {biResult}\")\n",
    "        #also print biResult"
   ]
  },
  {
   "cell_type": "code",
   "execution_count": 15,
   "id": "2557bf1c",
   "metadata": {},
   "outputs": [
    {
     "name": "stdout",
     "output_type": "stream",
     "text": [
      "5, 1, 1\n",
      "2, 1, 1\n",
      "1, 0, 0\n",
      "0, 1, 1\n"
     ]
    }
   ],
   "source": [
    "convert_bin(11)"
   ]
  },
  {
   "cell_type": "code",
   "execution_count": 16,
   "id": "5bfcd566",
   "metadata": {},
   "outputs": [],
   "source": [
    "#still not getting what I want\n",
    "def convert_bin(Dec):\n",
    "    biResult = \"\"\n",
    "    while Dec > 0:\n",
    "        nResult, remain = divmod(Dec, 2)\n",
    "        Dec = nResult\n",
    "        biResult = str(remain) + biResult\n",
    "        #gathers remainders together instead of overwriting, https://www.digitalocean.com/community/tutorials/python-string-concatenation\n",
    "        print(f\"{nResult}, {remain}, {biResult}\")"
   ]
  },
  {
   "cell_type": "code",
   "execution_count": 17,
   "id": "49a0ab8b",
   "metadata": {},
   "outputs": [
    {
     "name": "stdout",
     "output_type": "stream",
     "text": [
      "5, 1, 1\n",
      "2, 1, 11\n",
      "1, 0, 011\n",
      "0, 1, 1011\n"
     ]
    }
   ],
   "source": [
    "convert_bin(11)"
   ]
  },
  {
   "cell_type": "code",
   "execution_count": 19,
   "id": "8cf1a1b6",
   "metadata": {},
   "outputs": [],
   "source": [
    "#cool, I only need the end result\n",
    "def convert_bin(Dec):\n",
    "    biResult = \"\"\n",
    "    while Dec > 0:\n",
    "        nResult, remain = divmod(Dec, 2)\n",
    "        Dec = nResult\n",
    "        biResult = str(remain) + biResult\n",
    "        print(f\"{biResult}\")"
   ]
  },
  {
   "cell_type": "code",
   "execution_count": 20,
   "id": "4e2ec834",
   "metadata": {},
   "outputs": [
    {
     "name": "stdout",
     "output_type": "stream",
     "text": [
      "1\n",
      "11\n",
      "011\n",
      "1011\n"
     ]
    }
   ],
   "source": [
    "convert_bin(11)\n"
   ]
  },
  {
   "cell_type": "code",
   "execution_count": 26,
   "id": "cef6005b",
   "metadata": {},
   "outputs": [],
   "source": [
    "#Still not it\n",
    "def convert_bin(Dec):\n",
    "    biResult = \"\"\n",
    "    while Dec > 0:\n",
    "        nResult, remain = divmod(Dec, 2)\n",
    "        Dec = nResult\n",
    "        biResult = str(remain) + biResult\n",
    "    return biResult\n"
   ]
  },
  {
   "cell_type": "code",
   "execution_count": 22,
   "id": "1f2cc1d7",
   "metadata": {},
   "outputs": [
    {
     "data": {
      "text/plain": [
       "'1011'"
      ]
     },
     "execution_count": 22,
     "metadata": {},
     "output_type": "execute_result"
    }
   ],
   "source": [
    "convert_bin(11)"
   ]
  },
  {
   "cell_type": "code",
   "execution_count": 27,
   "id": "91213410",
   "metadata": {},
   "outputs": [
    {
     "name": "stdout",
     "output_type": "stream",
     "text": [
      "enter a positive integer11\n",
      "1011\n"
     ]
    }
   ],
   "source": [
    "#it is returning the right value, but https://www.codecademy.com/forum_questions/518ffbfeb3f05c44fe001395\n",
    "#suggests that results for humans should come as print statements, I want to take user input and send output back\n",
    "#to user, used https://www.codecademy.com/forum_questions/518ffbfeb3f05c44fe001395 for syntax help\n",
    "def convert_bin(Dec):\n",
    "    biResult = \"\"\n",
    "    while Dec > 0:\n",
    "        nResult, remain = divmod(Dec, 2)\n",
    "        Dec = nResult\n",
    "        biResult = str(remain) + biResult\n",
    "    return biResult\n",
    "#take user input for initial value, must be a positive integer for it to work\n",
    "initValue = int(input(\"enter a positive integer\"))\n",
    "#save returned output in variable\n",
    "output = convert_bin(initValue)\n",
    "#print variable\n",
    "print(f\"{output}\")"
   ]
  },
  {
   "cell_type": "code",
   "execution_count": 28,
   "id": "87dd5f05",
   "metadata": {},
   "outputs": [],
   "source": [
    "#almost right, I want to be able to run this repeatedly\n",
    "def convert_bin(Dec):\n",
    "    biResult = \"\"\n",
    "    while Dec > 0:\n",
    "        nResult, remain = divmod(Dec, 2)\n",
    "        Dec = nResult\n",
    "        biResult = str(remain) + biResult\n",
    "    return biResult\n",
    "#so make this a function as well\n",
    "def converter():\n",
    "    initValue = int(input(\"enter a positive integer\"))\n",
    "    output = convert_bin(initValue)\n",
    "    print(f\"{output}\")"
   ]
  },
  {
   "cell_type": "code",
   "execution_count": 29,
   "id": "6cd3d68e",
   "metadata": {},
   "outputs": [
    {
     "name": "stdout",
     "output_type": "stream",
     "text": [
      "enter a positive integer11\n",
      "1011\n"
     ]
    }
   ],
   "source": [
    "converter()\n",
    "#solving for 11"
   ]
  },
  {
   "cell_type": "code",
   "execution_count": 30,
   "id": "04db3e94",
   "metadata": {},
   "outputs": [
    {
     "name": "stdout",
     "output_type": "stream",
     "text": [
      "enter a positive integer65\n",
      "1000001\n"
     ]
    }
   ],
   "source": [
    "converter()\n",
    "#solving for 65"
   ]
  },
  {
   "cell_type": "code",
   "execution_count": 31,
   "id": "baba71c1",
   "metadata": {},
   "outputs": [
    {
     "name": "stdout",
     "output_type": "stream",
     "text": [
      "enter a positive integer100\n",
      "1100100\n"
     ]
    }
   ],
   "source": [
    "converter()\n",
    "#solving for 100"
   ]
  },
  {
   "cell_type": "code",
   "execution_count": 32,
   "id": "d2d32320",
   "metadata": {},
   "outputs": [
    {
     "name": "stdout",
     "output_type": "stream",
     "text": [
      "enter a positive integer255\n",
      "11111111\n"
     ]
    }
   ],
   "source": [
    "converter()\n",
    "#solving for 255"
   ]
  },
  {
   "cell_type": "markdown",
   "id": "1580699c",
   "metadata": {},
   "source": [
    "# Exercise 4\n",
    "Use what you’ve learned about the binary numbering system in this chapter to convert the following binary numbers to decimal:\n",
    "1101, 1000, 101011"
   ]
  },
  {
   "cell_type": "markdown",
   "id": "8365b05d",
   "metadata": {},
   "source": [
    "to convert 1101 to decimal: (1(2^3))+(1(2^2))+(0(2^1))+(1(2^0)) = 13\n",
    "\n",
    "to convert 1000 to decimal: (1(2^3))+(0(2^2))+(0(2^1))+(0(2^0)) = 8\n",
    "\n",
    "to convert 101011 to decimal : (1(2^5))+(0(2^4))+(1(2^3))+(0(2^2))+(1(2^1))+(1(2^0)) = 43"
   ]
  },
  {
   "cell_type": "code",
   "execution_count": 41,
   "id": "80f94d31",
   "metadata": {},
   "outputs": [
    {
     "name": "stderr",
     "output_type": "stream",
     "text": [
      "<>:2: SyntaxWarning: 'int' object is not callable; perhaps you missed a comma?\n",
      "<>:2: SyntaxWarning: 'int' object is not callable; perhaps you missed a comma?\n",
      "<>:2: SyntaxWarning: 'int' object is not callable; perhaps you missed a comma?\n",
      "<>:2: SyntaxWarning: 'int' object is not callable; perhaps you missed a comma?\n",
      "<>:2: SyntaxWarning: 'int' object is not callable; perhaps you missed a comma?\n",
      "<>:2: SyntaxWarning: 'int' object is not callable; perhaps you missed a comma?\n",
      "<>:2: SyntaxWarning: 'int' object is not callable; perhaps you missed a comma?\n",
      "<>:2: SyntaxWarning: 'int' object is not callable; perhaps you missed a comma?\n",
      "C:\\Users\\tande\\AppData\\Local\\Temp\\ipykernel_16428\\3146244605.py:2: SyntaxWarning: 'int' object is not callable; perhaps you missed a comma?\n",
      "  (1(2**3))+(1(2**2))+(0(2**1))+(1(2**0))\n",
      "C:\\Users\\tande\\AppData\\Local\\Temp\\ipykernel_16428\\3146244605.py:2: SyntaxWarning: 'int' object is not callable; perhaps you missed a comma?\n",
      "  (1(2**3))+(1(2**2))+(0(2**1))+(1(2**0))\n",
      "C:\\Users\\tande\\AppData\\Local\\Temp\\ipykernel_16428\\3146244605.py:2: SyntaxWarning: 'int' object is not callable; perhaps you missed a comma?\n",
      "  (1(2**3))+(1(2**2))+(0(2**1))+(1(2**0))\n",
      "C:\\Users\\tande\\AppData\\Local\\Temp\\ipykernel_16428\\3146244605.py:2: SyntaxWarning: 'int' object is not callable; perhaps you missed a comma?\n",
      "  (1(2**3))+(1(2**2))+(0(2**1))+(1(2**0))\n"
     ]
    },
    {
     "ename": "TypeError",
     "evalue": "'int' object is not callable",
     "output_type": "error",
     "traceback": [
      "\u001b[1;31m---------------------------------------------------------------------------\u001b[0m",
      "\u001b[1;31mTypeError\u001b[0m                                 Traceback (most recent call last)",
      "Cell \u001b[1;32mIn[41], line 2\u001b[0m\n\u001b[0;32m      1\u001b[0m \u001b[38;5;66;03m#to convert 1101 to decimal (^ is ** in python)\u001b[39;00m\n\u001b[1;32m----> 2\u001b[0m (\u001b[38;5;241m1\u001b[39m(\u001b[38;5;241m2\u001b[39m\u001b[38;5;241m*\u001b[39m\u001b[38;5;241m*\u001b[39m\u001b[38;5;241m3\u001b[39m))\u001b[38;5;241m+\u001b[39m(\u001b[38;5;241m1\u001b[39m(\u001b[38;5;241m2\u001b[39m\u001b[38;5;241m*\u001b[39m\u001b[38;5;241m*\u001b[39m\u001b[38;5;241m2\u001b[39m))\u001b[38;5;241m+\u001b[39m(\u001b[38;5;241m0\u001b[39m(\u001b[38;5;241m2\u001b[39m\u001b[38;5;241m*\u001b[39m\u001b[38;5;241m*\u001b[39m\u001b[38;5;241m1\u001b[39m))\u001b[38;5;241m+\u001b[39m(\u001b[38;5;241m1\u001b[39m(\u001b[38;5;241m2\u001b[39m\u001b[38;5;241m*\u001b[39m\u001b[38;5;241m*\u001b[39m\u001b[38;5;241m0\u001b[39m))\n",
      "\u001b[1;31mTypeError\u001b[0m: 'int' object is not callable"
     ]
    }
   ],
   "source": [
    "#to convert 1101 to decimal (^ is ** in python)\n",
    "(1(2**3))+(1(2**2))+(0(2**1))+(1(2**0))\n"
   ]
  },
  {
   "cell_type": "code",
   "execution_count": 43,
   "id": "29a34522",
   "metadata": {},
   "outputs": [
    {
     "data": {
      "text/plain": [
       "13"
      ]
     },
     "execution_count": 43,
     "metadata": {},
     "output_type": "execute_result"
    }
   ],
   "source": [
    "#evaluate for 1101\n",
    "#multiplication has to be done explicitly\n",
    "(1*(2**3))+(1*(2**2))+(0*(2**1))+(1*(2**0))"
   ]
  },
  {
   "cell_type": "code",
   "execution_count": 44,
   "id": "ec6d17fc",
   "metadata": {},
   "outputs": [
    {
     "data": {
      "text/plain": [
       "8"
      ]
     },
     "execution_count": 44,
     "metadata": {},
     "output_type": "execute_result"
    }
   ],
   "source": [
    "#evaluate for 1000\n",
    "(1*(2**3))+(0*(2**2))+(0*(2**1))+(0*(2**0))"
   ]
  },
  {
   "cell_type": "code",
   "execution_count": 45,
   "id": "67bb6246",
   "metadata": {},
   "outputs": [
    {
     "data": {
      "text/plain": [
       "43"
      ]
     },
     "execution_count": 45,
     "metadata": {},
     "output_type": "execute_result"
    }
   ],
   "source": [
    "#evaluate for 101011\n",
    "(1*(2**5))+(0*(2**4))+(1*(2**3))+(0*(2**2))+(1*(2**1))+(1*(2**0))"
   ]
  },
  {
   "cell_type": "code",
   "execution_count": null,
   "id": "2918302b",
   "metadata": {},
   "outputs": [],
   "source": []
  }
 ],
 "metadata": {
  "kernelspec": {
   "display_name": "Python 3 (ipykernel)",
   "language": "python",
   "name": "python3"
  },
  "language_info": {
   "codemirror_mode": {
    "name": "ipython",
    "version": 3
   },
   "file_extension": ".py",
   "mimetype": "text/x-python",
   "name": "python",
   "nbconvert_exporter": "python",
   "pygments_lexer": "ipython3",
   "version": "3.11.4"
  }
 },
 "nbformat": 4,
 "nbformat_minor": 5
}
