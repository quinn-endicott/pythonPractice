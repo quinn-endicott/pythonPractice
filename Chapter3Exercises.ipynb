{
 "cells": [
  {
   "cell_type": "markdown",
   "id": "899b543e",
   "metadata": {},
   "source": [
    "# Algorithm Workbench 4 \n",
    "The following code contains several nested if-else statements. Unfortunately, it was written without proper alignment and indentation. Rewrite the code and use the proper conventions of alignment and indentation."
   ]
  },
  {
   "cell_type": "code",
   "execution_count": null,
   "id": "b730f402",
   "metadata": {},
   "outputs": [],
   "source": []
  },
  {
   "cell_type": "code",
   "execution_count": 1,
   "id": "efe0ac45",
   "metadata": {},
   "outputs": [
    {
     "ename": "IndentationError",
     "evalue": "expected an indented block after 'if' statement on line 1 (3079014608.py, line 2)",
     "output_type": "error",
     "traceback": [
      "\u001b[1;36m  Cell \u001b[1;32mIn[1], line 2\u001b[1;36m\u001b[0m\n\u001b[1;33m    print('Your grade is A.')\u001b[0m\n\u001b[1;37m    ^\u001b[0m\n\u001b[1;31mIndentationError\u001b[0m\u001b[1;31m:\u001b[0m expected an indented block after 'if' statement on line 1\n"
     ]
    }
   ],
   "source": [
    "# code verbatim from book\n",
    "if score >= A_score:\n",
    "print('Your grade is A.')\n",
    "else:\n",
    "if score >= B_score:\n",
    "print('Your grade is B.')\n",
    "else:\n",
    "if score >= C_score:\n",
    "print('Your grade is C.')\n",
    "else:\n",
    "if score >= D_score:\n",
    "print('Your grade is D.')\n",
    "else:\n",
    "print('Your grade is F.')"
   ]
  },
  {
   "cell_type": "code",
   "execution_count": 2,
   "id": "88babc18",
   "metadata": {},
   "outputs": [
    {
     "ename": "IndentationError",
     "evalue": "expected an indented block after 'if' statement on line 1 (3542416319.py, line 2)",
     "output_type": "error",
     "traceback": [
      "\u001b[1;36m  Cell \u001b[1;32mIn[2], line 2\u001b[1;36m\u001b[0m\n\u001b[1;33m    print('Your grade is A.')\u001b[0m\n\u001b[1;37m    ^\u001b[0m\n\u001b[1;31mIndentationError\u001b[0m\u001b[1;31m:\u001b[0m expected an indented block after 'if' statement on line 1\n"
     ]
    }
   ],
   "source": [
    "# 1st attempt at indentation\n",
    "if score >= A_score:\n",
    "print('Your grade is A.')\n",
    "else:\n",
    "    if score >= B_score:\n",
    "    print('Your grade is B.')\n",
    "    else:\n",
    "        if score >= C_score:\n",
    "        print('Your grade is C.')\n",
    "        else:\n",
    "            if score >= D_score:\n",
    "            print('Your grade is D.')\n",
    "            else:\n",
    "                print('Your grade is F.')"
   ]
  },
  {
   "cell_type": "code",
   "execution_count": 3,
   "id": "7c1f8158",
   "metadata": {},
   "outputs": [
    {
     "ename": "NameError",
     "evalue": "name 'score' is not defined",
     "output_type": "error",
     "traceback": [
      "\u001b[1;31m---------------------------------------------------------------------------\u001b[0m",
      "\u001b[1;31mNameError\u001b[0m                                 Traceback (most recent call last)",
      "Cell \u001b[1;32mIn[3], line 1\u001b[0m\n\u001b[1;32m----> 1\u001b[0m \u001b[38;5;28;01mif\u001b[39;00m score \u001b[38;5;241m>\u001b[39m\u001b[38;5;241m=\u001b[39m A_score:\n\u001b[0;32m      2\u001b[0m     \u001b[38;5;28mprint\u001b[39m(\u001b[38;5;124m'\u001b[39m\u001b[38;5;124mYour grade is A.\u001b[39m\u001b[38;5;124m'\u001b[39m)\n\u001b[0;32m      3\u001b[0m \u001b[38;5;28;01melse\u001b[39;00m:\n",
      "\u001b[1;31mNameError\u001b[0m: name 'score' is not defined"
     ]
    }
   ],
   "source": [
    "# code in book does not take a score\n",
    "if score >= A_score:\n",
    "    print('Your grade is A.')\n",
    "else:\n",
    "    if score >= B_score:\n",
    "        print('Your grade is B.')\n",
    "    else:\n",
    "        if score >= C_score:\n",
    "            print('Your grade is C.')\n",
    "        else:\n",
    "            if score >= D_score:\n",
    "                print('Your grade is D.')\n",
    "            else:\n",
    "                print('Your grade is F.')"
   ]
  },
  {
   "cell_type": "code",
   "execution_count": 4,
   "id": "eab42bd4",
   "metadata": {},
   "outputs": [
    {
     "ename": "IndentationError",
     "evalue": "expected an indented block after 'if' statement on line 3 (1843556854.py, line 4)",
     "output_type": "error",
     "traceback": [
      "\u001b[1;36m  Cell \u001b[1;32mIn[4], line 4\u001b[1;36m\u001b[0m\n\u001b[1;33m    print('Your grade is A.')\u001b[0m\n\u001b[1;37m    ^\u001b[0m\n\u001b[1;31mIndentationError\u001b[0m\u001b[1;31m:\u001b[0m expected an indented block after 'if' statement on line 3\n"
     ]
    }
   ],
   "source": [
    "score = float(input(\"enter your score:   \"))\n",
    "# for some reason I pasted in the older version\n",
    "if score >= A_score:\n",
    "print('Your grade is A.')\n",
    "else:\n",
    "    if score >= B_score:\n",
    "    print('Your grade is B.')\n",
    "    else:\n",
    "        if score >= C_score:\n",
    "        print('Your grade is C.')\n",
    "        else:\n",
    "            if score >= D_score:\n",
    "            print('Your grade is D.')\n",
    "            else:\n",
    "                print('Your grade is F.')"
   ]
  },
  {
   "cell_type": "code",
   "execution_count": 5,
   "id": "a2caf9ad",
   "metadata": {},
   "outputs": [
    {
     "name": "stdout",
     "output_type": "stream",
     "text": [
      "enter your score:   95\n"
     ]
    },
    {
     "ename": "NameError",
     "evalue": "name 'A_score' is not defined",
     "output_type": "error",
     "traceback": [
      "\u001b[1;31m---------------------------------------------------------------------------\u001b[0m",
      "\u001b[1;31mNameError\u001b[0m                                 Traceback (most recent call last)",
      "Cell \u001b[1;32mIn[5], line 3\u001b[0m\n\u001b[0;32m      1\u001b[0m score \u001b[38;5;241m=\u001b[39m \u001b[38;5;28mfloat\u001b[39m(\u001b[38;5;28minput\u001b[39m(\u001b[38;5;124m\"\u001b[39m\u001b[38;5;124menter your score:   \u001b[39m\u001b[38;5;124m\"\u001b[39m))\n\u001b[1;32m----> 3\u001b[0m \u001b[38;5;28;01mif\u001b[39;00m score \u001b[38;5;241m>\u001b[39m\u001b[38;5;241m=\u001b[39m A_score:\n\u001b[0;32m      4\u001b[0m     \u001b[38;5;28mprint\u001b[39m(\u001b[38;5;124m'\u001b[39m\u001b[38;5;124mYour grade is A.\u001b[39m\u001b[38;5;124m'\u001b[39m)\n\u001b[0;32m      5\u001b[0m \u001b[38;5;28;01melse\u001b[39;00m:\n",
      "\u001b[1;31mNameError\u001b[0m: name 'A_score' is not defined"
     ]
    }
   ],
   "source": [
    "score = float(input(\"enter your score:   \"))\n",
    "\n",
    "if score >= A_score:\n",
    "    print('Your grade is A.')\n",
    "else:\n",
    "    if score >= B_score:\n",
    "        print('Your grade is B.')\n",
    "    else:\n",
    "        if score >= C_score:\n",
    "            print('Your grade is C.')\n",
    "        else:\n",
    "            if score >= D_score:\n",
    "                print('Your grade is D.')\n",
    "            else:\n",
    "                print('Your grade is F.')"
   ]
  },
  {
   "cell_type": "code",
   "execution_count": 6,
   "id": "dd23b44a",
   "metadata": {},
   "outputs": [
    {
     "name": "stdout",
     "output_type": "stream",
     "text": [
      "enter your score:   87\n",
      "Your grade is B.\n"
     ]
    }
   ],
   "source": [
    "# score variables need definition\n",
    "score = float(input(\"enter your score:   \"))\n",
    "A_score = 90\n",
    "B_score = 80\n",
    "C_score = 70\n",
    "D_score = 60\n",
    "\n",
    "if score >= A_score:\n",
    "    print('Your grade is A.')\n",
    "else:\n",
    "    if score >= B_score:\n",
    "        print('Your grade is B.')\n",
    "    else:\n",
    "        if score >= C_score:\n",
    "            print('Your grade is C.')\n",
    "        else:\n",
    "            if score >= D_score:\n",
    "                print('Your grade is D.')\n",
    "            else:\n",
    "                print('Your grade is F.')"
   ]
  },
  {
   "cell_type": "markdown",
   "id": "c188f62a",
   "metadata": {},
   "source": [
    "# Alogorithm Workbench 5 \n",
    "Write nested decision structures that perform the following: If amount1 is greater than 10 and amount2 is less than 100, display the greater of amount1 and amount2."
   ]
  },
  {
   "cell_type": "code",
   "execution_count": 7,
   "id": "79f44430",
   "metadata": {},
   "outputs": [
    {
     "name": "stdout",
     "output_type": "stream",
     "text": [
      "enter amount 1    56\n",
      "enter amount 2    54\n",
      "56.0\n"
     ]
    }
   ],
   "source": [
    "# take value of amount1 and amount2\n",
    "amount1 = float(input(\"enter amount 1    \"))\n",
    "amount2 = float(input(\"enter amount 2    \"))\n",
    "\n",
    "# compare and output the higher value\n",
    "if amount1 > 10 and amount2 < 100:\n",
    "    if amount1>amount2:\n",
    "        print(amount1)\n",
    "    else:\n",
    "        print(amount2)\n",
    "else:\n",
    "    print(\"bad input\")"
   ]
  },
  {
   "cell_type": "code",
   "execution_count": 8,
   "id": "e4ee50e3",
   "metadata": {},
   "outputs": [
    {
     "name": "stdout",
     "output_type": "stream",
     "text": [
      "enter amount 1    2\n",
      "enter amount 2    987\n",
      "bad input\n"
     ]
    }
   ],
   "source": [
    "# take value of amount1 and amount2\n",
    "amount1 = float(input(\"enter amount 1    \"))\n",
    "amount2 = float(input(\"enter amount 2    \"))\n",
    "\n",
    "# compare and output the higher value\n",
    "if amount1 > 10 and amount2 < 100:\n",
    "    if amount1>amount2:\n",
    "        print(amount1)\n",
    "    else:\n",
    "        print(amount2)\n",
    "else:\n",
    "    print(\"bad input\")"
   ]
  },
  {
   "cell_type": "markdown",
   "id": "28088a9e",
   "metadata": {},
   "source": [
    "# Programming Exercise 1\n",
    "Write a program that asks the user for a number in the range of 1 through 7. The pro\u0002gram should display the corresponding day of the week, where 1 = Monday, 2 = Tuesday, 3 = Wednesday, 4 = Thursday, 5 = Friday, 6 = Saturday, and 7 = Sunday. The program should display an error message if the user enters a number that is outside the range of 1 through 7."
   ]
  },
  {
   "cell_type": "code",
   "execution_count": 9,
   "id": "a7703d0b",
   "metadata": {},
   "outputs": [
    {
     "name": "stdout",
     "output_type": "stream",
     "text": [
      "Enter an interger, 1-7   2\n",
      "Tuesday\n"
     ]
    }
   ],
   "source": [
    "# take input from user\n",
    "userNum = int(input(\"Enter an interger, 1-7   \"))\n",
    "# decide if input is in appropriate range\n",
    "if userNum >= 1 and userNum <= 7:\n",
    "    #print day of the week based on input\n",
    "    if userNum == 1:\n",
    "        print(\"Monday\")\n",
    "    elif userNum == 2:\n",
    "        print(\"Tuesday\")\n",
    "    elif userNum == 3:\n",
    "        print(\"Wednesday\")\n",
    "    elif userNum == 4:\n",
    "        print(\"Thursday\")\n",
    "    elif userNum == 5:\n",
    "        print(\"Friday\")\n",
    "    elif userNum == 6:\n",
    "        print(\"Saturday\")\n",
    "    elif userNum == 7:\n",
    "        print(\"Sunday\")\n",
    "#otherwise input is bad\n",
    "else:\n",
    "    print(\"bad input\")"
   ]
  },
  {
   "cell_type": "code",
   "execution_count": 10,
   "id": "a52108a5",
   "metadata": {},
   "outputs": [
    {
     "name": "stdout",
     "output_type": "stream",
     "text": [
      "Enter an interger, 1-7   8\n",
      "bad input\n"
     ]
    }
   ],
   "source": [
    "# take input from user\n",
    "userNum = int(input(\"Enter an interger, 1-7   \"))\n",
    "# decide if input is in appropriate range\n",
    "if userNum >= 1 and userNum <= 7:\n",
    "    #print day of the week based on input\n",
    "    if userNum == 1:\n",
    "        print(\"Monday\")\n",
    "    elif userNum == 2:\n",
    "        print(\"Tuesday\")\n",
    "    elif userNum == 3:\n",
    "        print(\"Wednesday\")\n",
    "    elif userNum == 4:\n",
    "        print(\"Thursday\")\n",
    "    elif userNum == 5:\n",
    "        print(\"Friday\")\n",
    "    elif userNum == 6:\n",
    "        print(\"Saturday\")\n",
    "    elif userNum == 7:\n",
    "        print(\"Sunday\")\n",
    "#otherwise input is bad\n",
    "else:\n",
    "    print(\"bad input\")"
   ]
  },
  {
   "cell_type": "code",
   "execution_count": 11,
   "id": "59554adb",
   "metadata": {},
   "outputs": [],
   "source": [
    "# I want it to call itself again when input is bad, so make it a function\n",
    "def dayPrinter():\n",
    "    userNum = int(input(\"Enter an interger, 1-7   \"))\n",
    "    if userNum >= 1 and userNum <= 7:\n",
    "        if userNum == 1:\n",
    "            print(\"Monday\")\n",
    "        elif userNum == 2:\n",
    "            print(\"Tuesday\")\n",
    "        elif userNum == 3:\n",
    "            print(\"Wednesday\")\n",
    "        elif userNum == 4:\n",
    "            print(\"Thursday\")\n",
    "        elif userNum == 5:\n",
    "            print(\"Friday\")\n",
    "        elif userNum == 6:\n",
    "            print(\"Saturday\")\n",
    "        elif userNum == 7:\n",
    "            print(\"Sunday\")\n",
    "    else:\n",
    "        print(\"bad input\")\n",
    "        #call function again\n",
    "        dayPrinter()\n",
    "        "
   ]
  },
  {
   "cell_type": "code",
   "execution_count": 12,
   "id": "8bb3875a",
   "metadata": {},
   "outputs": [
    {
     "name": "stdout",
     "output_type": "stream",
     "text": [
      "Enter an interger, 1-7   9\n",
      "bad input\n",
      "Enter an interger, 1-7   3\n",
      "Wednesday\n"
     ]
    }
   ],
   "source": [
    "dayPrinter()"
   ]
  },
  {
   "cell_type": "markdown",
   "id": "32cc86f5",
   "metadata": {},
   "source": [
    "# Programming Exercise 5\n",
    "Scientists measure an object’s mass in kilograms and its weight in newtons. If you know the amount of mass of an object in kilograms, you can calculate its weight in newtons with the following formula:\n",
    "weight = mass x 9.8\n",
    "Write a program that asks the user to enter an object’s mass, then calculates its weight. If the object weighs more than 500 newtons, display a message indicating that it is too heavy. If the object weighs less than 100 newtons, display a message indicating that it is too light."
   ]
  },
  {
   "cell_type": "code",
   "execution_count": 13,
   "id": "996f3cb1",
   "metadata": {},
   "outputs": [
    {
     "name": "stdout",
     "output_type": "stream",
     "text": [
      "enter the mass   600\n",
      "this is too heavy\n"
     ]
    }
   ],
   "source": [
    "#take input for mass\n",
    "mass = float(input(\"enter the mass   \"))\n",
    "#define weight\n",
    "weight = mass * 9.8\n",
    "#weight needs to be positive or zero\n",
    "if weight >= 0:\n",
    "    #too heavy output\n",
    "    if weight > 500:\n",
    "        print(\"this is too heavy\")\n",
    "    #too light output\n",
    "    elif weight < 100:\n",
    "        print(\"this is too light\")\n",
    "else:\n",
    "    print(\"this is impossible\")"
   ]
  },
  {
   "cell_type": "code",
   "execution_count": 14,
   "id": "d8a821f5",
   "metadata": {},
   "outputs": [],
   "source": [
    "#make this a function so it can be called again\n",
    "def massConverter():\n",
    "    mass = float(input(\"enter the mass   \"))\n",
    "    weight = mass * 9.8\n",
    "    #why not print the weight\n",
    "    print(f\"the weight is {weight}\")\n",
    "    if weight >= 0:\n",
    "        if weight > 500:\n",
    "            print(\"this is too heavy\")\n",
    "        elif weight < 100:\n",
    "            print(\"this is too light\")\n",
    "    else:\n",
    "        print(\"this is impossible   \")\n",
    "        massConverter()"
   ]
  },
  {
   "cell_type": "code",
   "execution_count": 15,
   "id": "8aaaf0d8",
   "metadata": {},
   "outputs": [
    {
     "name": "stdout",
     "output_type": "stream",
     "text": [
      "enter the mass   -999\n",
      "the weight is -9790.2\n",
      "this is impossible   \n",
      "enter the mass   789\n",
      "the weight is 7732.200000000001\n",
      "this is too heavy\n"
     ]
    }
   ],
   "source": [
    "massConverter()"
   ]
  },
  {
   "cell_type": "code",
   "execution_count": 16,
   "id": "b76bfebc",
   "metadata": {},
   "outputs": [],
   "source": [
    "def massConverter():\n",
    "    mass = float(input(\"enter the mass   \"))\n",
    "    weight = mass * 9.8\n",
    "    #why not print the weight with units\n",
    "    print(f\"the weight is {weight} newtons\")\n",
    "    if weight >= 0:\n",
    "        if weight > 500:\n",
    "            print(\"this is too heavy\")\n",
    "        elif weight < 100:\n",
    "            print(\"this is too light\")\n",
    "    else:\n",
    "        print(\"this is impossible   \")\n",
    "        massConverter()"
   ]
  },
  {
   "cell_type": "code",
   "execution_count": 17,
   "id": "6480952a",
   "metadata": {},
   "outputs": [
    {
     "name": "stdout",
     "output_type": "stream",
     "text": [
      "enter the mass   -3456\n",
      "the weight is -33868.8 newtons\n",
      "this is impossible   \n",
      "enter the mass   3\n",
      "the weight is 29.400000000000002 newtons\n",
      "this is too light\n"
     ]
    }
   ],
   "source": [
    "massConverter()"
   ]
  },
  {
   "cell_type": "code",
   "execution_count": null,
   "id": "0168efdf",
   "metadata": {},
   "outputs": [],
   "source": []
  }
 ],
 "metadata": {
  "kernelspec": {
   "display_name": "Python 3 (ipykernel)",
   "language": "python",
   "name": "python3"
  },
  "language_info": {
   "codemirror_mode": {
    "name": "ipython",
    "version": 3
   },
   "file_extension": ".py",
   "mimetype": "text/x-python",
   "name": "python",
   "nbconvert_exporter": "python",
   "pygments_lexer": "ipython3",
   "version": "3.11.4"
  }
 },
 "nbformat": 4,
 "nbformat_minor": 5
}
