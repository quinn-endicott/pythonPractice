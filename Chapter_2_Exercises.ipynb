{
 "cells": [
  {
   "cell_type": "markdown",
   "id": "12344f2e",
   "metadata": {},
   "source": [
    "# Algorithm Workbench \n",
    "3. Write assignment statements that perform the following operations with the variables \n",
    "a, b, and c:\n",
    "a. Adds 2 to a and assigns the result to b\n",
    "b. Multiplies b times 4 and assigns the result to a\n",
    "c. Divides a by 3.14 and assigns the result to b\n",
    "d. Subtracts 8 from b and assigns the result to a"
   ]
  },
  {
   "cell_type": "code",
   "execution_count": 1,
   "id": "d6c7ba3c",
   "metadata": {},
   "outputs": [
    {
     "name": "stdout",
     "output_type": "stream",
     "text": [
      "enter value of a2.5\n",
      "enter value of b6.7\n",
      "enter value of c8.9\n",
      "-7.203821656050955\n",
      "0.7961783439490445\n",
      "18.0\n"
     ]
    }
   ],
   "source": [
    "#assign a b and c\n",
    "a = float(input(\"enter value of a\"))\n",
    "b = float(input(\"enter value of b\"))\n",
    "c = float(input(\"enter value of c\"))\n",
    "\n",
    "# add 2 to a, assign the results to b\n",
    "b = a + 2\n",
    "# multiply b by 4, assign results to c\n",
    "c = b * 4\n",
    "# divide a by 3.14, assign results to b\n",
    "b = a / 3.14\n",
    "# subtract 8 from b and assign results to a \n",
    "a = b - 8\n",
    "\n",
    "# print results\n",
    "print(a)\n",
    "print(b)\n",
    "print(c)\n"
   ]
  },
  {
   "cell_type": "code",
   "execution_count": 2,
   "id": "b6e2a865",
   "metadata": {},
   "outputs": [
    {
     "ename": "SyntaxError",
     "evalue": "invalid syntax (149993057.py, line 18)",
     "output_type": "error",
     "traceback": [
      "\u001b[1;36m  Cell \u001b[1;32mIn[2], line 18\u001b[1;36m\u001b[0m\n\u001b[1;33m    print(f \"a = {a}\" )\u001b[0m\n\u001b[1;37m            ^\u001b[0m\n\u001b[1;31mSyntaxError\u001b[0m\u001b[1;31m:\u001b[0m invalid syntax\n"
     ]
    }
   ],
   "source": [
    "#assign a b and c\n",
    "#make stuff look better\n",
    "a = float(input(\"enter value of a  \"))\n",
    "b = float(input(\"enter value of b  \"))\n",
    "c = float(input(\"enter value of c  \"))\n",
    "\n",
    "# add 2 to a, assign the results to b\n",
    "b = a + 2\n",
    "# multiply b by 4, assign results to c\n",
    "c = b * 4\n",
    "# divide a by 3.14, assign results to b\n",
    "b = a / 3.14\n",
    "# subtract 8 from b and assign results to a \n",
    "a = b - 8\n",
    "\n",
    "# print results\n",
    "# but more readable and less bad\n",
    "print(f \"a = {a}\" )\n",
    "print(f \"b = {b}\" )\n",
    "print(f \"c = {c}\" )"
   ]
  },
  {
   "cell_type": "code",
   "execution_count": 3,
   "id": "70dd88f4",
   "metadata": {},
   "outputs": [
    {
     "name": "stdout",
     "output_type": "stream",
     "text": [
      "enter value of a  5.6\n",
      "enter value of b  7.8\n",
      "enter value of c  9.9\n",
      "a is -6.2165605095541405\n",
      "b is 1.7834394904458597\n",
      "c is 30.4\n"
     ]
    }
   ],
   "source": [
    "#assign a b and c\n",
    "#make stuff look better\n",
    "a = float(input(\"enter value of a  \"))\n",
    "b = float(input(\"enter value of b  \"))\n",
    "c = float(input(\"enter value of c  \"))\n",
    "\n",
    "# add 2 to a, assign the results to b\n",
    "b = a + 2\n",
    "# multiply b by 4, assign results to c\n",
    "c = b * 4\n",
    "# divide a by 3.14, assign results to b\n",
    "b = a / 3.14\n",
    "# subtract 8 from b and assign results to a \n",
    "a = b - 8\n",
    "\n",
    "# print results\n",
    "# but more readable and less bad\n",
    "print(f\"a is {a}\")\n",
    "print(f\"b is {b}\")\n",
    "print(f\"c is {c}\")"
   ]
  },
  {
   "cell_type": "markdown",
   "id": "7314670e",
   "metadata": {},
   "source": []
  },
  {
   "cell_type": "markdown",
   "id": "beff424f",
   "metadata": {},
   "source": [
    "# Programming Exercises\n",
    "\n",
    "# 9. Celsius/Farenheit Temperature Coverter"
   ]
  },
  {
   "cell_type": "code",
   "execution_count": 4,
   "id": "a407cc15",
   "metadata": {},
   "outputs": [
    {
     "ename": "SyntaxError",
     "evalue": "invalid syntax (1414934546.py, line 8)",
     "output_type": "error",
     "traceback": [
      "\u001b[1;36m  Cell \u001b[1;32mIn[4], line 8\u001b[1;36m\u001b[0m\n\u001b[1;33m    print(f \"{C} degrees Celcius is {F} degrees Farenheit\")\u001b[0m\n\u001b[1;37m            ^\u001b[0m\n\u001b[1;31mSyntaxError\u001b[0m\u001b[1;31m:\u001b[0m invalid syntax\n"
     ]
    }
   ],
   "source": [
    "# take input for degrees Celcius\n",
    "C = float(input(\"Enter temperature in Celcius   \"))\n",
    "\n",
    "#conversion\n",
    "F = (9/5)*C + 32\n",
    "\n",
    "#print output\n",
    "print(f \"{C} degrees Celcius is {F} degrees Farenheit\")"
   ]
  },
  {
   "cell_type": "code",
   "execution_count": 5,
   "id": "d866d517",
   "metadata": {},
   "outputs": [
    {
     "name": "stdout",
     "output_type": "stream",
     "text": [
      "Enter temperature in Celcius   56\n",
      "56.0 degrees Celcius is 132.8 degrees Farenheit\n"
     ]
    }
   ],
   "source": [
    "# take input for degrees Celcius\n",
    "C = float(input(\"Enter temperature in Celcius   \"))\n",
    "\n",
    "#conversion\n",
    "F = (9/5)*C + 32\n",
    "\n",
    "#print output with syntax error corrected hopefully\n",
    "print(f\"{C} degrees Celcius is {F} degrees Farenheit\")"
   ]
  },
  {
   "cell_type": "code",
   "execution_count": 6,
   "id": "ee6e3f50",
   "metadata": {},
   "outputs": [
    {
     "name": "stdout",
     "output_type": "stream",
     "text": [
      "Enter temperature in Farenheit   132.8\n",
      "132.8 degrees Farenheit is 56.00000000000001 degrees Celcius\n"
     ]
    }
   ],
   "source": [
    "# trying to write one that converts F to C\n",
    "# C = (F - 32) * (5/9) - formula\n",
    "F = float(input(\"Enter temperature in Farenheit   \"))\n",
    "\n",
    "# conversion\n",
    "C = (F - 32)*(5/9)\n",
    "\n",
    "# output\n",
    "print(f\"{F} degrees Farenheit is {C} degrees Celcius\")"
   ]
  },
  {
   "cell_type": "code",
   "execution_count": 7,
   "id": "d87162c9",
   "metadata": {},
   "outputs": [],
   "source": [
    "# going to try and make a program where you can select which degree system \n",
    "# your input is in and it will convert it to the other\n",
    "# this function will convert to F\n",
    "def convert_F():\n",
    "    C = float(input(\"enter number of degrees Celsius   \"))\n",
    "    F = (9/5)*C + 32\n",
    "    print(f\"{C} degrees Celcius is {F} degrees Farenheit\")\n",
    "    "
   ]
  },
  {
   "cell_type": "code",
   "execution_count": 8,
   "id": "4c3b8879",
   "metadata": {},
   "outputs": [
    {
     "name": "stdout",
     "output_type": "stream",
     "text": [
      "enter number of degrees Celsius   0\n",
      "0.0 degrees Celcius is 32.0 degrees Farenheit\n"
     ]
    }
   ],
   "source": [
    "convert_F()"
   ]
  },
  {
   "cell_type": "code",
   "execution_count": 9,
   "id": "f3e054a0",
   "metadata": {},
   "outputs": [],
   "source": [
    "# convert to C function\n",
    "def convert_C():\n",
    "    F = float(input(\"enter number of degrees Farenheit   \"))\n",
    "    C = (F - 32)*(5/9)\n",
    "    print(f\"{F} degrees Farenheit is {C} degrees Celcius\")"
   ]
  },
  {
   "cell_type": "code",
   "execution_count": 10,
   "id": "201720d7",
   "metadata": {},
   "outputs": [
    {
     "name": "stdout",
     "output_type": "stream",
     "text": [
      "enter number of degrees Farenheit   32\n",
      "32.0 degrees Farenheit is 0.0 degrees Celcius\n"
     ]
    }
   ],
   "source": [
    "convert_C()"
   ]
  },
  {
   "cell_type": "code",
   "execution_count": 14,
   "id": "90eefb5b",
   "metadata": {},
   "outputs": [],
   "source": [
    "# making a function that can do either\n",
    "def tempConverter():\n",
    "    selection = input('Choose \"c\" to convert from Celsius to Farenheit, \\\n",
    "    choose \"f\" to convert from Farenheit to Celcius   ')\n",
    "    # this is going to be an if/then statement (https://www.w3schools.com/\n",
    "    # python/python_conditions.asp)\n",
    "    if selection == \"c\":\n",
    "        convert_C()\n",
    "    elif selection == \"f\":\n",
    "        convert_F()\n",
    "    else :\n",
    "        print(\"bad input\")\n",
    "    "
   ]
  },
  {
   "cell_type": "code",
   "execution_count": 15,
   "id": "8c422492",
   "metadata": {},
   "outputs": [
    {
     "name": "stdout",
     "output_type": "stream",
     "text": [
      "Choose \"c\" to convert from Celsius to Farenheit,     choose \"f\" to convert from Farenheit to Celcius   f\n",
      "enter number of degrees Celsius   0\n",
      "0.0 degrees Celcius is 32.0 degrees Farenheit\n"
     ]
    }
   ],
   "source": [
    "tempConverter()"
   ]
  },
  {
   "cell_type": "code",
   "execution_count": 16,
   "id": "c67db0a8",
   "metadata": {},
   "outputs": [],
   "source": [
    "# whoops this is backwards, hang on\n",
    "def tempConverter():\n",
    "    selection = input('Choose \"c\" to convert from Celsius to Farenheit, \\\n",
    "    choose \"f\" to convert from Farenheit to Celcius   ')\n",
    "    # this is going to be an if statement (https://www.w3schools.com/\n",
    "    # python/python_conditions.asp)\n",
    "    if selection == \"c\":\n",
    "        convert_F()\n",
    "    elif selection == \"f\":\n",
    "        convert_C()\n",
    "    else :\n",
    "        print(\"bad input\")\n",
    "    "
   ]
  },
  {
   "cell_type": "code",
   "execution_count": 17,
   "id": "863503ba",
   "metadata": {},
   "outputs": [
    {
     "name": "stdout",
     "output_type": "stream",
     "text": [
      "Choose \"c\" to convert from Celsius to Farenheit,     choose \"f\" to convert from Farenheit to Celcius   c\n",
      "enter number of degrees Celsius   0\n",
      "0.0 degrees Celcius is 32.0 degrees Farenheit\n"
     ]
    }
   ],
   "source": [
    "tempConverter()"
   ]
  },
  {
   "cell_type": "code",
   "execution_count": 18,
   "id": "011d1dcf",
   "metadata": {},
   "outputs": [
    {
     "name": "stdout",
     "output_type": "stream",
     "text": [
      "Choose \"c\" to convert from Celsius to Farenheit,     choose \"f\" to convert from Farenheit to Celcius   t\n",
      "bad input\n"
     ]
    }
   ],
   "source": [
    "tempConverter()"
   ]
  },
  {
   "cell_type": "code",
   "execution_count": 19,
   "id": "95bc4aed",
   "metadata": {},
   "outputs": [],
   "source": [
    "# whoops this is backwards, hang on\n",
    "def tempConverter():\n",
    "    #hopefully looks cleaner\n",
    "    selection = input('Choose \"c\" to convert from Celsius to Farenheit,\\\n",
    "    \\\n",
    "    choose \"f\" to convert from Farenheit to Celcius   ')\n",
    "    # this is going to be an if statement (https://www.w3schools.com/\n",
    "    # python/python_conditions.asp)\n",
    "    if selection == \"c\":\n",
    "        convert_F()\n",
    "    elif selection == \"f\":\n",
    "        convert_C()\n",
    "    else :\n",
    "        print(\"bad input\")\n",
    "        # call function again, kinda just assuming this works\n",
    "        tempConverter()"
   ]
  },
  {
   "cell_type": "code",
   "execution_count": 20,
   "id": "6b83285a",
   "metadata": {},
   "outputs": [
    {
     "name": "stdout",
     "output_type": "stream",
     "text": [
      "Choose \"c\" to convert from Celsius to Farenheit,        choose \"f\" to convert from Farenheit to Celcius   g\n",
      "bad input\n",
      "Choose \"c\" to convert from Celsius to Farenheit,        choose \"f\" to convert from Farenheit to Celcius   c\n",
      "enter number of degrees Celsius   0\n",
      "0.0 degrees Celcius is 32.0 degrees Farenheit\n"
     ]
    }
   ],
   "source": [
    "tempConverter()"
   ]
  },
  {
   "cell_type": "code",
   "execution_count": 2,
   "id": "2206a788",
   "metadata": {},
   "outputs": [],
   "source": [
    "def tempConverter():\n",
    "    #hopefully looks cleaner maybe for real this time\n",
    "    selection = input('Choose \"c\" to convert from Celsius to Farenheit,\\n\\\n",
    "choose \"f\" to convert from Farenheit to Celcius   ')\n",
    "    \n",
    "    if selection == \"c\":\n",
    "        convert_F()\n",
    "    elif selection == \"f\":\n",
    "        convert_C()\n",
    "    else :\n",
    "        print(\"bad input\")\n",
    "        tempConverter()"
   ]
  },
  {
   "cell_type": "code",
   "execution_count": 1,
   "id": "a9c9c017",
   "metadata": {},
   "outputs": [
    {
     "ename": "NameError",
     "evalue": "name 'tempConverter' is not defined",
     "output_type": "error",
     "traceback": [
      "\u001b[1;31m---------------------------------------------------------------------------\u001b[0m",
      "\u001b[1;31mNameError\u001b[0m                                 Traceback (most recent call last)",
      "Cell \u001b[1;32mIn[1], line 1\u001b[0m\n\u001b[1;32m----> 1\u001b[0m tempConverter()\n",
      "\u001b[1;31mNameError\u001b[0m: name 'tempConverter' is not defined"
     ]
    }
   ],
   "source": [
    "tempConverter()"
   ]
  },
  {
   "cell_type": "code",
   "execution_count": 3,
   "id": "93233f74",
   "metadata": {},
   "outputs": [],
   "source": [
    "# had to restart kernal and try it a few times to get stuff working again\n",
    "def tempConverter():\n",
    "    #hopefully looks cleaner\n",
    "    selection = input('Choose \"c\" to convert from Celsius to Farenheit,\\\n",
    "    \\\n",
    "    choose \"f\" to convert from Farenheit to Celcius   ')\n",
    "    # this is going to be an if statement (https://www.w3schools.com/\n",
    "    # python/python_conditions.asp)\n",
    "    if selection == \"c\":\n",
    "        convert_F()\n",
    "    elif selection == \"f\":\n",
    "        convert_C()\n",
    "    else :\n",
    "        print(\"bad input\")\n",
    "        # call function again, kinda just assuming this works\n",
    "        tempConverter()"
   ]
  },
  {
   "cell_type": "code",
   "execution_count": 4,
   "id": "205fa9a0",
   "metadata": {},
   "outputs": [],
   "source": [
    "def tempConverter():\n",
    "    #hopefully looks cleaner maybe for real this time\n",
    "    selection = input('Choose \"c\" to convert from Celsius to Farenheit,\\n\\\n",
    "choose \"f\" to convert from Farenheit to Celcius   ')\n",
    "    \n",
    "    if selection == \"c\":\n",
    "        convert_F()\n",
    "    elif selection == \"f\":\n",
    "        convert_C()\n",
    "    else :\n",
    "        print(\"bad input\")\n",
    "        tempConverter()"
   ]
  },
  {
   "cell_type": "code",
   "execution_count": 5,
   "id": "2f2b6e40",
   "metadata": {},
   "outputs": [
    {
     "name": "stdout",
     "output_type": "stream",
     "text": [
      "Choose \"c\" to convert from Celsius to Farenheit,\n",
      "choose \"f\" to convert from Farenheit to Celcius   t\n",
      "bad input\n",
      "Choose \"c\" to convert from Celsius to Farenheit,\n",
      "choose \"f\" to convert from Farenheit to Celcius   c\n"
     ]
    },
    {
     "ename": "NameError",
     "evalue": "name 'convert_F' is not defined",
     "output_type": "error",
     "traceback": [
      "\u001b[1;31m---------------------------------------------------------------------------\u001b[0m",
      "\u001b[1;31mNameError\u001b[0m                                 Traceback (most recent call last)",
      "Cell \u001b[1;32mIn[5], line 1\u001b[0m\n\u001b[1;32m----> 1\u001b[0m tempConverter()\n",
      "Cell \u001b[1;32mIn[4], line 12\u001b[0m, in \u001b[0;36mtempConverter\u001b[1;34m()\u001b[0m\n\u001b[0;32m     10\u001b[0m \u001b[38;5;28;01melse\u001b[39;00m :\n\u001b[0;32m     11\u001b[0m     \u001b[38;5;28mprint\u001b[39m(\u001b[38;5;124m\"\u001b[39m\u001b[38;5;124mbad input\u001b[39m\u001b[38;5;124m\"\u001b[39m)\n\u001b[1;32m---> 12\u001b[0m     tempConverter()\n",
      "Cell \u001b[1;32mIn[4], line 7\u001b[0m, in \u001b[0;36mtempConverter\u001b[1;34m()\u001b[0m\n\u001b[0;32m      3\u001b[0m     selection \u001b[38;5;241m=\u001b[39m \u001b[38;5;28minput\u001b[39m(\u001b[38;5;124m'\u001b[39m\u001b[38;5;124mChoose \u001b[39m\u001b[38;5;124m\"\u001b[39m\u001b[38;5;124mc\u001b[39m\u001b[38;5;124m\"\u001b[39m\u001b[38;5;124m to convert from Celsius to Farenheit,\u001b[39m\u001b[38;5;130;01m\\n\u001b[39;00m\u001b[38;5;130;01m\\\u001b[39;00m\n\u001b[0;32m      4\u001b[0m \u001b[38;5;124mchoose \u001b[39m\u001b[38;5;124m\"\u001b[39m\u001b[38;5;124mf\u001b[39m\u001b[38;5;124m\"\u001b[39m\u001b[38;5;124m to convert from Farenheit to Celcius   \u001b[39m\u001b[38;5;124m'\u001b[39m)\n\u001b[0;32m      6\u001b[0m     \u001b[38;5;28;01mif\u001b[39;00m selection \u001b[38;5;241m==\u001b[39m \u001b[38;5;124m\"\u001b[39m\u001b[38;5;124mc\u001b[39m\u001b[38;5;124m\"\u001b[39m:\n\u001b[1;32m----> 7\u001b[0m         convert_F()\n\u001b[0;32m      8\u001b[0m     \u001b[38;5;28;01melif\u001b[39;00m selection \u001b[38;5;241m==\u001b[39m \u001b[38;5;124m\"\u001b[39m\u001b[38;5;124mf\u001b[39m\u001b[38;5;124m\"\u001b[39m:\n\u001b[0;32m      9\u001b[0m         convert_C()\n",
      "\u001b[1;31mNameError\u001b[0m: name 'convert_F' is not defined"
     ]
    }
   ],
   "source": [
    "tempConverter()"
   ]
  },
  {
   "cell_type": "code",
   "execution_count": 6,
   "id": "e19aa84c",
   "metadata": {},
   "outputs": [],
   "source": [
    "# I think I need to declare this again\n",
    "def convert_F():\n",
    "    C = float(input(\"enter number of degrees Celsius   \"))\n",
    "    F = (9/5)*C + 32\n",
    "    print(f\"{C} degrees Celcius is {F} degrees Farenheit\")\n",
    "    \n",
    "def convert_C():\n",
    "    F = float(input(\"enter number of degrees Farenheit   \"))\n",
    "    C = (F - 32)*(5/9)\n",
    "    print(f\"{F} degrees Farenheit is {C} degrees Celcius\")\n",
    "    \n",
    "def tempConverter():\n",
    "    #hopefully looks cleaner maybe for real this time\n",
    "    selection = input('Choose \"c\" to convert from Celsius to Farenheit,\\n\\\n",
    "choose \"f\" to convert from Farenheit to Celcius   ')\n",
    "    \n",
    "    if selection == \"c\":\n",
    "        convert_F()\n",
    "    elif selection == \"f\":\n",
    "        convert_C()\n",
    "    else :\n",
    "        print(\"bad input\")\n",
    "        tempConverter()"
   ]
  },
  {
   "cell_type": "code",
   "execution_count": 7,
   "id": "37e6166d",
   "metadata": {},
   "outputs": [
    {
     "name": "stdout",
     "output_type": "stream",
     "text": [
      "Choose \"c\" to convert from Celsius to Farenheit,\n",
      "choose \"f\" to convert from Farenheit to Celcius   t\n",
      "bad input\n",
      "Choose \"c\" to convert from Celsius to Farenheit,\n",
      "choose \"f\" to convert from Farenheit to Celcius   c\n",
      "enter number of degrees Celsius   0\n",
      "0.0 degrees Celcius is 32.0 degrees Farenheit\n"
     ]
    }
   ],
   "source": [
    "tempConverter()"
   ]
  },
  {
   "cell_type": "code",
   "execution_count": 8,
   "id": "da842726",
   "metadata": {},
   "outputs": [],
   "source": [
    "# it worked, this seems pretty usable"
   ]
  },
  {
   "cell_type": "code",
   "execution_count": 9,
   "id": "9d224f9c",
   "metadata": {},
   "outputs": [],
   "source": [
    "def convert_F():\n",
    "    C = float(input(\"enter number of degrees Celsius   \"))\n",
    "    F = (9/5)*C + 32\n",
    "    print(f\"{C} degrees Celcius is {F} degrees Farenheit\")\n",
    "    \n",
    "def convert_C():\n",
    "    F = float(input(\"enter number of degrees Farenheit   \"))\n",
    "    C = (F - 32)*(5/9)\n",
    "    print(f\"{F} degrees Farenheit is {C} degrees Celcius\")\n",
    "    \n",
    "def tempConverter():\n",
    "    #hopefully looks cleaner maybe for real this time\n",
    "    selection = input('Enter \"c\" to convert from Celsius to Farenheit,\\n\\\n",
    "Enter \"f\" to convert from Farenheit to Celcius   ')\n",
    "    \n",
    "    if selection == \"c\":\n",
    "        convert_F()\n",
    "    elif selection == \"f\":\n",
    "        convert_C()\n",
    "    else :\n",
    "        print(\"bad input\")\n",
    "        tempConverter()"
   ]
  },
  {
   "cell_type": "code",
   "execution_count": 10,
   "id": "f0983103",
   "metadata": {},
   "outputs": [
    {
     "name": "stdout",
     "output_type": "stream",
     "text": [
      "Enter \"c\" to convert from Celsius to Farenheit,\n",
      "Enter \"f\" to convert from Farenheit to Celcius   r\n",
      "bad input\n",
      "Enter \"c\" to convert from Celsius to Farenheit,\n",
      "Enter \"f\" to convert from Farenheit to Celcius   f\n",
      "enter number of degrees Farenheit   32\n",
      "32.0 degrees Farenheit is 0.0 degrees Celcius\n"
     ]
    }
   ],
   "source": [
    "tempConverter()"
   ]
  },
  {
   "cell_type": "markdown",
   "id": "9bc3dfc5",
   "metadata": {},
   "source": [
    "\n",
    "\n",
    "\n",
    "\n",
    "\n",
    "\n",
    "\n",
    "# 13. Planting Grapevines"
   ]
  },
  {
   "cell_type": "code",
   "execution_count": 11,
   "id": "e466bd54",
   "metadata": {},
   "outputs": [
    {
     "name": "stdout",
     "output_type": "stream",
     "text": [
      "Enter the length of the row in feet   12\n",
      "Enter the space used by the end post assembly in feet   2\n",
      "Enter the space between vines in feet   1\n",
      "8 grapevines will fit in the row.\n"
     ]
    }
   ],
   "source": [
    "# take input for length of row\n",
    "R = float(input(\"Enter the length of the row in feet   \"))\n",
    "\n",
    "# take input for space used by end post assembly in feet\n",
    "E = float(input(\"Enter the space used by the end post assembly in feet   \"))\n",
    "\n",
    "# take input for space in between vines in feet\n",
    "S = float(input(\"Enter the space between vines in feet   \"))\n",
    "\n",
    "# calculate output of expression V=(R-(2*E))/S as an integer\n",
    "V = int((R-(2*E)) / S)\n",
    "\n",
    "# print output\n",
    "print(f\"{V} grapevines will fit in the row.\")"
   ]
  },
  {
   "cell_type": "code",
   "execution_count": 12,
   "id": "a4dffd7b",
   "metadata": {},
   "outputs": [],
   "source": [
    "# create a function to call repeatedly \n",
    "def vineCalc():\n",
    "    R = float(input(\"Enter the length of the row in feet   \"))\n",
    "\n",
    "\n",
    "    E = float(input(\"Enter the space used by the end post assembly in feet   \"))\n",
    "\n",
    "\n",
    "    S = float(input(\"Enter the space between vines in feet   \"))\n",
    "\n",
    "\n",
    "    V = int((R-(2*E)) / S)\n",
    "\n",
    "\n",
    "    print(f\"{V} grapevines will fit in the row.\")"
   ]
  },
  {
   "cell_type": "code",
   "execution_count": 13,
   "id": "6db870da",
   "metadata": {},
   "outputs": [
    {
     "name": "stdout",
     "output_type": "stream",
     "text": [
      "Enter the length of the row in feet   568\n",
      "Enter the space used by the end post assembly in feet   .5\n",
      "Enter the space between vines in feet   2.8\n",
      "202 grapevines will fit in the row.\n"
     ]
    }
   ],
   "source": [
    "vineCalc()"
   ]
  },
  {
   "cell_type": "code",
   "execution_count": null,
   "id": "e11a5687",
   "metadata": {},
   "outputs": [],
   "source": []
  }
 ],
 "metadata": {
  "kernelspec": {
   "display_name": "Python 3 (ipykernel)",
   "language": "python",
   "name": "python3"
  },
  "language_info": {
   "codemirror_mode": {
    "name": "ipython",
    "version": 3
   },
   "file_extension": ".py",
   "mimetype": "text/x-python",
   "name": "python",
   "nbconvert_exporter": "python",
   "pygments_lexer": "ipython3",
   "version": "3.11.4"
  }
 },
 "nbformat": 4,
 "nbformat_minor": 5
}
