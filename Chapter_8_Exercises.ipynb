{
 "cells": [
  {
   "cell_type": "markdown",
   "metadata": {},
   "source": [
    "# Alogorithm Workbench\n",
    "2. Write a loop that counts the number of space characters that appear in the string referenced by mystring.\n"
   ]
  },
  {
   "cell_type": "code",
   "execution_count": 1,
   "metadata": {},
   "outputs": [
    {
     "data": {
      "text/plain": [
       "8"
      ]
     },
     "execution_count": 1,
     "metadata": {},
     "output_type": "execute_result"
    }
   ],
   "source": [
    "#this is the function that will count number of spaces for a string and return\n",
    "#the number\n",
    "def spaceCounter(myString):\n",
    "    #accumulator for space number\n",
    "    spaceNum = 0\n",
    "    #for characters in string\n",
    "    for char in myString:\n",
    "        #if the characters are spaces\n",
    "        if char == ' ':\n",
    "            #add 1 to spaceNum\n",
    "            spaceNum += 1 \n",
    "    #return spaceNum\n",
    "    return spaceNum\n",
    "\n",
    "#test this\n",
    "spaceCounter('   space space space   ')\n",
    "    \n",
    "\n",
    "        "
   ]
  },
  {
   "cell_type": "code",
   "execution_count": 2,
   "metadata": {},
   "outputs": [
    {
     "name": "stdout",
     "output_type": "stream",
     "text": [
      "This program counts the number of spaces in a string.\n",
      "Your string: \"Did you ever hear the tragedy of Darth Plagueis The Wise? I thought not. It’s not a story the Jedi would tell you. It’s a Sith legend. Darth Plagueis was a Dark Lord of the Sith, so powerful and so wise he could use the Force to influence the midichlorians to create life… He had such a knowledge of the dark side that he could even keep the ones he cared about from dying. The dark side of the Force is a pathway to many abilities some consider to be unnatural. He became so powerful… the only thing he was afraid of was losing his power, which eventually, of course, he did. Unfortunately, he taught his apprentice everything he knew, then his apprentice killed him in his sleep. Ironic. He could save others from death, but not himself.\"\n",
      "Your string has 137 spaces in it.\n"
     ]
    }
   ],
   "source": [
    "#it works, now make the main program logic\n",
    "def main():\n",
    "    #tell user what program does\n",
    "    print('This program counts the number of spaces in a string.')\n",
    "    #take a string as input\n",
    "    usrString = input('Enter a string to be evaluated: ')\n",
    "    #call spaceCounter function for usrString assign returned value to stringNum\n",
    "    stringNum = spaceCounter(usrString)\n",
    "    #print the user's string\n",
    "    print(f'Your string: \"{usrString}\"')\n",
    "    #print the number of spaces\n",
    "    print(f'Your string has {stringNum} spaces in it.')\n",
    "\n",
    "#call main\n",
    "if __name__ == \"__main__\":\n",
    "    main()"
   ]
  },
  {
   "cell_type": "code",
   "execution_count": 6,
   "metadata": {},
   "outputs": [
    {
     "name": "stdout",
     "output_type": "stream",
     "text": [
      "This program counts the number of spaces in a string.\n",
      "Your string: \n",
      "\"To be fair, you have to have a very high IQ to understand Rick and Morty.\n",
      "The humour is extremely subtle, and without a solid grasp of theoretical\n",
      "physics most of the jokes will go over a typical viewer’s head. There’s\n",
      "also Rick’s nihilistic outlook, which is deftly woven into his\n",
      "characterisation- his personal philosophy draws heavily from Narodnaya\n",
      "Volya literature, for instance. The fans understand this stuff; they have\n",
      "the intellectual capacity to truly appreciate the depths of these jokes, to\n",
      "realise that they’re not just funny- they say something deep about LIFE. As\n",
      "a consequence people who dislike Rick & Morty truly ARE idiots- of course\n",
      "they wouldn’t appreciate, for instance, the humour in Rick’s existential\n",
      "catchphrase “Wubba Lubba Dub Dub,” which itself is a cryptic reference to\n",
      "Turgenev’s Russian epic Fathers and Sons. I’m smirking right now just\n",
      "imagining one of those addlepated simpletons scratching their heads in\n",
      "confusion as Dan Harmon’s genius wit unfolds itself on their television\n",
      "screens. What fools.. how I pity them\"\n",
      "Your string has 168 spaces in it.\n"
     ]
    }
   ],
   "source": [
    "#going to use the tewxtwrap module to fix long string output\n",
    "import textwrap\n",
    "\n",
    "def main():\n",
    "    #tell user what program does\n",
    "    print('This program counts the number of spaces in a string.')\n",
    "    #take a string as input\n",
    "    usrString = input('Enter a string to be evaluated: ')\n",
    "    #call spaceCounter function for usrString assign returned value to stringNum\n",
    "    stringNum = spaceCounter(usrString)\n",
    "    #use textwrap to format output, do not break on long words\n",
    "    formString = textwrap.fill(usrString, width=75, break_long_words=False)\n",
    "    #print the user's string\n",
    "    print(f'Your string: \\n\"{formString}\"')\n",
    "    #print the number of spaces\n",
    "    print(f'Your string has {stringNum} spaces in it.')\n",
    "\n",
    "#call main\n",
    "if __name__ == \"__main__\":\n",
    "    main()"
   ]
  },
  {
   "cell_type": "markdown",
   "metadata": {},
   "source": [
    "# Algorithm Workbench 7\n",
    "Write a function that accepts a string as an argument and displays the string backwards.\n"
   ]
  },
  {
   "cell_type": "code",
   "execution_count": 7,
   "metadata": {},
   "outputs": [
    {
     "data": {
      "text/plain": [
       "'siht tset'"
      ]
     },
     "execution_count": 7,
     "metadata": {},
     "output_type": "execute_result"
    }
   ],
   "source": [
    "#this is the function that will take a string, reverse the content, and return\n",
    "#the reversed content\n",
    "def backString(usrString):\n",
    "    #slicing operation, step value of negative 1\n",
    "    backStr = usrString[::-1]\n",
    "    #return reverse string\n",
    "    return backStr\n",
    "\n",
    "backString('test this')\n"
   ]
  },
  {
   "cell_type": "code",
   "execution_count": 9,
   "metadata": {},
   "outputs": [
    {
     "name": "stdout",
     "output_type": "stream",
     "text": [
      "This program will reverse a string.\n",
      "your text: \n",
      "I don’t want to say I hate the Beatles. I don’t own any of their records.\n",
      "They ruined rock and roll. They put Motown out of business. So I never\n",
      "bought a new record ever until punk came out. The Beatles led to the\n",
      "Monkees. And it was a little hard hearing Lennon sing about “no\n",
      "possessions” when he was living in the Dakota. I was a yippee. Hippies got\n",
      "on my nerves. We made fun of hippies. I didn’t know it, but I was waiting\n",
      "for punk. And so that’s what I mean about the Beatles. I know they were\n",
      "amazing songwriters and all that, but I liked the Rolling Stones. I\n",
      "would’ve rather been at Altamont than Woodstock.\n",
      "You text reversed: \n",
      ".kcotsdooW naht tnomatlA ta neeb rehtar ev’dluow I .senotS gnilloR eht\n",
      "dekil I tub ,taht lla dna sretirwgnos gnizama erew yeht wonk I .seltaeB eht\n",
      "tuoba naem I tahw s’taht os dnA .knup rof gnitiaw saw I tub ,ti wonk t’ndid\n",
      "I .seippih fo nuf edam eW .sevren ym no tog seippiH .eeppiy a saw I .atokaD\n",
      "eht ni gnivil saw eh nehw ”snoissessop on“ tuoba gnis nonneL gniraeh drah\n",
      "elttil a saw ti dnA .seeknoM eht ot del seltaeB ehT .tuo emac knup litnu\n",
      "reve drocer wen a thguob reven I oS .ssenisub fo tuo nwotoM tup yehT .llor\n",
      "dna kcor deniur yehT .sdrocer rieht fo yna nwo t’nod I .seltaeB eht etah I\n",
      "yas ot tnaw t’nod I\n"
     ]
    }
   ],
   "source": [
    "import textwrap\n",
    "#it works, create a main program \n",
    "def main():\n",
    "    #describe program\n",
    "    print('This program will reverse a string.')\n",
    "    #take string input\n",
    "    usrString = input('Enter a string to reverse: ')\n",
    "    #call backString for input, assign returned string to revString \n",
    "    revString = backString(usrString)\n",
    "    #also display user text, backwards text doesn't mean anything\n",
    "    usrWrap = textwrap.fill(usrString, width=75, break_long_words=False)\n",
    "    #wrap text again bc I'm going to put in long strings\n",
    "    wrapString = textwrap.fill(revString, width=75, break_long_words=False)\n",
    "    #print formatted output, original and reversed\n",
    "    print(f'your text: \\n{usrWrap}')\n",
    "    print(f'You text reversed: \\n{wrapString}')\n",
    "\n",
    "#call main\n",
    "if __name__ == \"__main__\":\n",
    "    main()\n"
   ]
  },
  {
   "cell_type": "markdown",
   "metadata": {},
   "source": [
    "# Programming Exercise 1\n",
    "Write a program that gets a string containing a person’s first, middle, and last names, and displays their first, middle, and last initials. For example, if the user enters John William Smith, the program should display J. W. S."
   ]
  },
  {
   "cell_type": "code",
   "execution_count": 14,
   "metadata": {},
   "outputs": [
    {
     "name": "stdout",
     "output_type": "stream",
     "text": [
      "Your name: John Fitzgerald Kennedy\n",
      "Your initials: J. F. K. \n"
     ]
    }
   ],
   "source": [
    "#this program will take a name from the user and output their initials\n",
    "def main():\n",
    "    #take input for full name, it should actually give output for any number of names\n",
    "    #I think this is appropriate given Catholic naming and not having a middle name\n",
    "    #and so forth, it could be controlled\n",
    "    usrName = input('Enter your full name: ')\n",
    "    #split name input by spaces and assign to a name list\n",
    "    nameList = usrName.split(' ')\n",
    "    #empty list for initials\n",
    "    initList = []\n",
    "    #empty string for formatted output\n",
    "    outStr = ''\n",
    "    #for each name in the nameList\n",
    "    for name in nameList:\n",
    "        #add the first character in name to the initial list\n",
    "        initList += name[0:1]\n",
    "    #make sure initials are capitalized even if input not that way\n",
    "    #for each initial in the initial list\n",
    "    for init in initList:\n",
    "        #add initial to outStr + '. ' \n",
    "        outStr += init + '. '\n",
    "    #make this more meaningful\n",
    "    print(f'Your name: {usrName}')\n",
    "    #print formatted string\n",
    "    print(f'Your initials: {outStr}')\n",
    "#call main\n",
    "if __name__ == \"__main__\":\n",
    "    main()"
   ]
  },
  {
   "cell_type": "code",
   "execution_count": null,
   "metadata": {},
   "outputs": [],
   "source": []
  }
 ],
 "metadata": {
  "kernelspec": {
   "display_name": "Python 3",
   "language": "python",
   "name": "python3"
  },
  "language_info": {
   "codemirror_mode": {
    "name": "ipython",
    "version": 3
   },
   "file_extension": ".py",
   "mimetype": "text/x-python",
   "name": "python",
   "nbconvert_exporter": "python",
   "pygments_lexer": "ipython3",
   "version": "3.6.4"
  }
 },
 "nbformat": 4,
 "nbformat_minor": 2
}
