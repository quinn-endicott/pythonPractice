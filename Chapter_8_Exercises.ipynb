{
 "cells": [
  {
   "cell_type": "markdown",
   "metadata": {},
   "source": [
    "# Alogorithm Workbench\n",
    "2. Write a loop that counts the number of space characters that appear in the string referenced by mystring.\n"
   ]
  },
  {
   "cell_type": "code",
   "execution_count": 1,
   "metadata": {},
   "outputs": [
    {
     "data": {
      "text/plain": [
       "8"
      ]
     },
     "execution_count": 1,
     "metadata": {},
     "output_type": "execute_result"
    }
   ],
   "source": [
    "#this is the function that will count number of spaces for a string and return\n",
    "#the number\n",
    "def spaceCounter(myString):\n",
    "    #accumulator for space number\n",
    "    spaceNum = 0\n",
    "    #for characters in string\n",
    "    for char in myString:\n",
    "        #if the characters are spaces\n",
    "        if char == ' ':\n",
    "            #add 1 to spaceNum\n",
    "            spaceNum += 1 \n",
    "    #return spaceNum\n",
    "    return spaceNum\n",
    "\n",
    "#test this\n",
    "spaceCounter('   space space space   ')\n",
    "    \n",
    "\n",
    "        "
   ]
  },
  {
   "cell_type": "code",
   "execution_count": null,
   "metadata": {},
   "outputs": [],
   "source": []
  }
 ],
 "metadata": {
  "kernelspec": {
   "display_name": "Python 3",
   "language": "python",
   "name": "python3"
  },
  "language_info": {
   "codemirror_mode": {
    "name": "ipython",
    "version": 3
   },
   "file_extension": ".py",
   "mimetype": "text/x-python",
   "name": "python",
   "nbconvert_exporter": "python",
   "pygments_lexer": "ipython3",
   "version": "3.6.4"
  }
 },
 "nbformat": 4,
 "nbformat_minor": 2
}
