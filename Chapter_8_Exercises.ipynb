{
 "cells": [
  {
   "cell_type": "markdown",
   "metadata": {},
   "source": [
    "# Alogorithm Workbench\n",
    "2. Write a loop that counts the number of space characters that appear in the string referenced by mystring.\n"
   ]
  },
  {
   "cell_type": "code",
   "execution_count": 1,
   "metadata": {},
   "outputs": [
    {
     "data": {
      "text/plain": [
       "8"
      ]
     },
     "execution_count": 1,
     "metadata": {},
     "output_type": "execute_result"
    }
   ],
   "source": [
    "#this is the function that will count number of spaces for a string and return\n",
    "#the number\n",
    "def spaceCounter(myString):\n",
    "    #accumulator for space number\n",
    "    spaceNum = 0\n",
    "    #for characters in string\n",
    "    for char in myString:\n",
    "        #if the characters are spaces\n",
    "        if char == ' ':\n",
    "            #add 1 to spaceNum\n",
    "            spaceNum += 1 \n",
    "    #return spaceNum\n",
    "    return spaceNum\n",
    "\n",
    "#test this\n",
    "spaceCounter('   space space space   ')\n",
    "    \n",
    "\n",
    "        "
   ]
  },
  {
   "cell_type": "code",
   "execution_count": 2,
   "metadata": {},
   "outputs": [
    {
     "name": "stdout",
     "output_type": "stream",
     "text": [
      "This program counts the number of spaces in a string.\n",
      "Your string: \"Did you ever hear the tragedy of Darth Plagueis The Wise? I thought not. It’s not a story the Jedi would tell you. It’s a Sith legend. Darth Plagueis was a Dark Lord of the Sith, so powerful and so wise he could use the Force to influence the midichlorians to create life… He had such a knowledge of the dark side that he could even keep the ones he cared about from dying. The dark side of the Force is a pathway to many abilities some consider to be unnatural. He became so powerful… the only thing he was afraid of was losing his power, which eventually, of course, he did. Unfortunately, he taught his apprentice everything he knew, then his apprentice killed him in his sleep. Ironic. He could save others from death, but not himself.\"\n",
      "Your string has 137 spaces in it.\n"
     ]
    }
   ],
   "source": [
    "#it works, now make the main program logic\n",
    "def main():\n",
    "    #tell user what program does\n",
    "    print('This program counts the number of spaces in a string.')\n",
    "    #take a string as input\n",
    "    usrString = input('Enter a string to be evaluated: ')\n",
    "    #call spaceCounter function for usrString assign returned value to stringNum\n",
    "    stringNum = spaceCounter(usrString)\n",
    "    #print the user's string\n",
    "    print(f'Your string: \"{usrString}\"')\n",
    "    #print the number of spaces\n",
    "    print(f'Your string has {stringNum} spaces in it.')\n",
    "\n",
    "#call main\n",
    "if __name__ == \"__main__\":\n",
    "    main()"
   ]
  },
  {
   "cell_type": "code",
   "execution_count": null,
   "metadata": {},
   "outputs": [],
   "source": []
  }
 ],
 "metadata": {
  "kernelspec": {
   "display_name": "Python 3",
   "language": "python",
   "name": "python3"
  },
  "language_info": {
   "codemirror_mode": {
    "name": "ipython",
    "version": 3
   },
   "file_extension": ".py",
   "mimetype": "text/x-python",
   "name": "python",
   "nbconvert_exporter": "python",
   "pygments_lexer": "ipython3",
   "version": "3.6.4"
  }
 },
 "nbformat": 4,
 "nbformat_minor": 2
}
