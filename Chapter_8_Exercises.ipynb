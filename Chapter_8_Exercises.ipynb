{
 "cells": [
  {
   "cell_type": "markdown",
   "metadata": {},
   "source": [
    "# Alogorithm Workbench\n",
    "2. Write a loop that counts the number of space characters that appear in the string referenced by mystring.\n"
   ]
  },
  {
   "cell_type": "code",
   "execution_count": 1,
   "metadata": {},
   "outputs": [
    {
     "data": {
      "text/plain": [
       "8"
      ]
     },
     "execution_count": 1,
     "metadata": {},
     "output_type": "execute_result"
    }
   ],
   "source": [
    "#this is the function that will count number of spaces for a string and return\n",
    "#the number\n",
    "def spaceCounter(myString):\n",
    "    #accumulator for space number\n",
    "    spaceNum = 0\n",
    "    #for characters in string\n",
    "    for char in myString:\n",
    "        #if the characters are spaces\n",
    "        if char == ' ':\n",
    "            #add 1 to spaceNum\n",
    "            spaceNum += 1 \n",
    "    #return spaceNum\n",
    "    return spaceNum\n",
    "\n",
    "#test this\n",
    "spaceCounter('   space space space   ')\n",
    "    \n",
    "\n",
    "        "
   ]
  },
  {
   "cell_type": "code",
   "execution_count": 2,
   "metadata": {},
   "outputs": [
    {
     "name": "stdout",
     "output_type": "stream",
     "text": [
      "This program counts the number of spaces in a string.\n",
      "Your string: \"Did you ever hear the tragedy of Darth Plagueis The Wise? I thought not. It’s not a story the Jedi would tell you. It’s a Sith legend. Darth Plagueis was a Dark Lord of the Sith, so powerful and so wise he could use the Force to influence the midichlorians to create life… He had such a knowledge of the dark side that he could even keep the ones he cared about from dying. The dark side of the Force is a pathway to many abilities some consider to be unnatural. He became so powerful… the only thing he was afraid of was losing his power, which eventually, of course, he did. Unfortunately, he taught his apprentice everything he knew, then his apprentice killed him in his sleep. Ironic. He could save others from death, but not himself.\"\n",
      "Your string has 137 spaces in it.\n"
     ]
    }
   ],
   "source": [
    "#it works, now make the main program logic\n",
    "def main():\n",
    "    #tell user what program does\n",
    "    print('This program counts the number of spaces in a string.')\n",
    "    #take a string as input\n",
    "    usrString = input('Enter a string to be evaluated: ')\n",
    "    #call spaceCounter function for usrString assign returned value to stringNum\n",
    "    stringNum = spaceCounter(usrString)\n",
    "    #print the user's string\n",
    "    print(f'Your string: \"{usrString}\"')\n",
    "    #print the number of spaces\n",
    "    print(f'Your string has {stringNum} spaces in it.')\n",
    "\n",
    "#call main\n",
    "if __name__ == \"__main__\":\n",
    "    main()"
   ]
  },
  {
   "cell_type": "code",
   "execution_count": 6,
   "metadata": {},
   "outputs": [
    {
     "name": "stdout",
     "output_type": "stream",
     "text": [
      "This program counts the number of spaces in a string.\n",
      "Your string: \n",
      "\"To be fair, you have to have a very high IQ to understand Rick and Morty.\n",
      "The humour is extremely subtle, and without a solid grasp of theoretical\n",
      "physics most of the jokes will go over a typical viewer’s head. There’s\n",
      "also Rick’s nihilistic outlook, which is deftly woven into his\n",
      "characterisation- his personal philosophy draws heavily from Narodnaya\n",
      "Volya literature, for instance. The fans understand this stuff; they have\n",
      "the intellectual capacity to truly appreciate the depths of these jokes, to\n",
      "realise that they’re not just funny- they say something deep about LIFE. As\n",
      "a consequence people who dislike Rick & Morty truly ARE idiots- of course\n",
      "they wouldn’t appreciate, for instance, the humour in Rick’s existential\n",
      "catchphrase “Wubba Lubba Dub Dub,” which itself is a cryptic reference to\n",
      "Turgenev’s Russian epic Fathers and Sons. I’m smirking right now just\n",
      "imagining one of those addlepated simpletons scratching their heads in\n",
      "confusion as Dan Harmon’s genius wit unfolds itself on their television\n",
      "screens. What fools.. how I pity them\"\n",
      "Your string has 168 spaces in it.\n"
     ]
    }
   ],
   "source": [
    "#going to use the tewxtwrap module to fix long string output\n",
    "import textwrap\n",
    "\n",
    "def main():\n",
    "    #tell user what program does\n",
    "    print('This program counts the number of spaces in a string.')\n",
    "    #take a string as input\n",
    "    usrString = input('Enter a string to be evaluated: ')\n",
    "    #call spaceCounter function for usrString assign returned value to stringNum\n",
    "    stringNum = spaceCounter(usrString)\n",
    "    #use textwrap to format output, do not break on long words\n",
    "    formString = textwrap.fill(usrString, width=75, break_long_words=False)\n",
    "    #print the user's string\n",
    "    print(f'Your string: \\n\"{formString}\"')\n",
    "    #print the number of spaces\n",
    "    print(f'Your string has {stringNum} spaces in it.')\n",
    "\n",
    "#call main\n",
    "if __name__ == \"__main__\":\n",
    "    main()"
   ]
  },
  {
   "cell_type": "code",
   "execution_count": null,
   "metadata": {},
   "outputs": [],
   "source": []
  }
 ],
 "metadata": {
  "kernelspec": {
   "display_name": "Python 3",
   "language": "python",
   "name": "python3"
  },
  "language_info": {
   "codemirror_mode": {
    "name": "ipython",
    "version": 3
   },
   "file_extension": ".py",
   "mimetype": "text/x-python",
   "name": "python",
   "nbconvert_exporter": "python",
   "pygments_lexer": "ipython3",
   "version": "3.6.4"
  }
 },
 "nbformat": 4,
 "nbformat_minor": 2
}
