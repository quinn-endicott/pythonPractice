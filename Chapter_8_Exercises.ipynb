{
 "cells": [
  {
   "cell_type": "markdown",
   "metadata": {},
   "source": [
    "# Alogorithm Workbench\n",
    "2. Write a loop that counts the number of space characters that appear in the string referenced by mystring.\n"
   ]
  },
  {
   "cell_type": "code",
   "execution_count": null,
   "metadata": {},
   "outputs": [],
   "source": [
    "#this \n",
    "def spaceCounter(myString):\n",
    "    spaceNum = 0\n",
    "    for char in myString:\n",
    "        if char == ' ':\n",
    "            spaceNum += 1 \n",
    "    return spaceNum\n",
    "    \n",
    "\n",
    "        "
   ]
  }
 ],
 "metadata": {
  "language_info": {
   "name": "python"
  }
 },
 "nbformat": 4,
 "nbformat_minor": 2
}
