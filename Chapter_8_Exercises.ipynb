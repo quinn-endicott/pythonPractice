{
 "cells": [
  {
   "cell_type": "markdown",
   "metadata": {},
   "source": [
    "# Alogorithm Workbench\n",
    "2. Write a loop that counts the number of space characters that appear in the string referenced by mystring.\n"
   ]
  },
  {
   "cell_type": "code",
   "execution_count": 1,
   "metadata": {},
   "outputs": [
    {
     "data": {
      "text/plain": [
       "8"
      ]
     },
     "execution_count": 1,
     "metadata": {},
     "output_type": "execute_result"
    }
   ],
   "source": [
    "#this is the function that will count number of spaces for a string and return\n",
    "#the number\n",
    "def spaceCounter(myString):\n",
    "    #accumulator for space number\n",
    "    spaceNum = 0\n",
    "    #for characters in string\n",
    "    for char in myString:\n",
    "        #if the characters are spaces\n",
    "        if char == ' ':\n",
    "            #add 1 to spaceNum\n",
    "            spaceNum += 1 \n",
    "    #return spaceNum\n",
    "    return spaceNum\n",
    "\n",
    "#test this\n",
    "spaceCounter('   space space space   ')\n",
    "    \n",
    "\n",
    "        "
   ]
  },
  {
   "cell_type": "code",
   "execution_count": 2,
   "metadata": {},
   "outputs": [
    {
     "name": "stdout",
     "output_type": "stream",
     "text": [
      "This program counts the number of spaces in a string.\n",
      "Your string: \"Did you ever hear the tragedy of Darth Plagueis The Wise? I thought not. It’s not a story the Jedi would tell you. It’s a Sith legend. Darth Plagueis was a Dark Lord of the Sith, so powerful and so wise he could use the Force to influence the midichlorians to create life… He had such a knowledge of the dark side that he could even keep the ones he cared about from dying. The dark side of the Force is a pathway to many abilities some consider to be unnatural. He became so powerful… the only thing he was afraid of was losing his power, which eventually, of course, he did. Unfortunately, he taught his apprentice everything he knew, then his apprentice killed him in his sleep. Ironic. He could save others from death, but not himself.\"\n",
      "Your string has 137 spaces in it.\n"
     ]
    }
   ],
   "source": [
    "#it works, now make the main program logic\n",
    "def main():\n",
    "    #tell user what program does\n",
    "    print('This program counts the number of spaces in a string.')\n",
    "    #take a string as input\n",
    "    usrString = input('Enter a string to be evaluated: ')\n",
    "    #call spaceCounter function for usrString assign returned value to stringNum\n",
    "    stringNum = spaceCounter(usrString)\n",
    "    #print the user's string\n",
    "    print(f'Your string: \"{usrString}\"')\n",
    "    #print the number of spaces\n",
    "    print(f'Your string has {stringNum} spaces in it.')\n",
    "\n",
    "#call main\n",
    "if __name__ == \"__main__\":\n",
    "    main()"
   ]
  },
  {
   "cell_type": "code",
   "execution_count": 6,
   "metadata": {},
   "outputs": [
    {
     "name": "stdout",
     "output_type": "stream",
     "text": [
      "This program counts the number of spaces in a string.\n",
      "Your string: \n",
      "\"To be fair, you have to have a very high IQ to understand Rick and Morty.\n",
      "The humour is extremely subtle, and without a solid grasp of theoretical\n",
      "physics most of the jokes will go over a typical viewer’s head. There’s\n",
      "also Rick’s nihilistic outlook, which is deftly woven into his\n",
      "characterisation- his personal philosophy draws heavily from Narodnaya\n",
      "Volya literature, for instance. The fans understand this stuff; they have\n",
      "the intellectual capacity to truly appreciate the depths of these jokes, to\n",
      "realise that they’re not just funny- they say something deep about LIFE. As\n",
      "a consequence people who dislike Rick & Morty truly ARE idiots- of course\n",
      "they wouldn’t appreciate, for instance, the humour in Rick’s existential\n",
      "catchphrase “Wubba Lubba Dub Dub,” which itself is a cryptic reference to\n",
      "Turgenev’s Russian epic Fathers and Sons. I’m smirking right now just\n",
      "imagining one of those addlepated simpletons scratching their heads in\n",
      "confusion as Dan Harmon’s genius wit unfolds itself on their television\n",
      "screens. What fools.. how I pity them\"\n",
      "Your string has 168 spaces in it.\n"
     ]
    }
   ],
   "source": [
    "#going to use the tewxtwrap module to fix long string output\n",
    "import textwrap\n",
    "\n",
    "def main():\n",
    "    #tell user what program does\n",
    "    print('This program counts the number of spaces in a string.')\n",
    "    #take a string as input\n",
    "    usrString = input('Enter a string to be evaluated: ')\n",
    "    #call spaceCounter function for usrString assign returned value to stringNum\n",
    "    stringNum = spaceCounter(usrString)\n",
    "    #use textwrap to format output, do not break on long words\n",
    "    formString = textwrap.fill(usrString, width=75, break_long_words=False)\n",
    "    #print the user's string\n",
    "    print(f'Your string: \\n\"{formString}\"')\n",
    "    #print the number of spaces\n",
    "    print(f'Your string has {stringNum} spaces in it.')\n",
    "\n",
    "#call main\n",
    "if __name__ == \"__main__\":\n",
    "    main()"
   ]
  },
  {
   "cell_type": "markdown",
   "metadata": {},
   "source": [
    "# Algorithm Workbench 7\n",
    "Write a function that accepts a string as an argument and displays the string backwards.\n"
   ]
  },
  {
   "cell_type": "code",
   "execution_count": 7,
   "metadata": {},
   "outputs": [
    {
     "data": {
      "text/plain": [
       "'siht tset'"
      ]
     },
     "execution_count": 7,
     "metadata": {},
     "output_type": "execute_result"
    }
   ],
   "source": [
    "#this is the function that will take a string, reverse the content, and return\n",
    "#the reversed content\n",
    "def backString(usrString):\n",
    "    #slicing operation, step value of negative 1\n",
    "    backStr = usrString[::-1]\n",
    "    #return reverse string\n",
    "    return backStr\n",
    "\n",
    "backString('test this')\n"
   ]
  },
  {
   "cell_type": "code",
   "execution_count": 9,
   "metadata": {},
   "outputs": [
    {
     "name": "stdout",
     "output_type": "stream",
     "text": [
      "This program will reverse a string.\n",
      "your text: \n",
      "I don’t want to say I hate the Beatles. I don’t own any of their records.\n",
      "They ruined rock and roll. They put Motown out of business. So I never\n",
      "bought a new record ever until punk came out. The Beatles led to the\n",
      "Monkees. And it was a little hard hearing Lennon sing about “no\n",
      "possessions” when he was living in the Dakota. I was a yippee. Hippies got\n",
      "on my nerves. We made fun of hippies. I didn’t know it, but I was waiting\n",
      "for punk. And so that’s what I mean about the Beatles. I know they were\n",
      "amazing songwriters and all that, but I liked the Rolling Stones. I\n",
      "would’ve rather been at Altamont than Woodstock.\n",
      "You text reversed: \n",
      ".kcotsdooW naht tnomatlA ta neeb rehtar ev’dluow I .senotS gnilloR eht\n",
      "dekil I tub ,taht lla dna sretirwgnos gnizama erew yeht wonk I .seltaeB eht\n",
      "tuoba naem I tahw s’taht os dnA .knup rof gnitiaw saw I tub ,ti wonk t’ndid\n",
      "I .seippih fo nuf edam eW .sevren ym no tog seippiH .eeppiy a saw I .atokaD\n",
      "eht ni gnivil saw eh nehw ”snoissessop on“ tuoba gnis nonneL gniraeh drah\n",
      "elttil a saw ti dnA .seeknoM eht ot del seltaeB ehT .tuo emac knup litnu\n",
      "reve drocer wen a thguob reven I oS .ssenisub fo tuo nwotoM tup yehT .llor\n",
      "dna kcor deniur yehT .sdrocer rieht fo yna nwo t’nod I .seltaeB eht etah I\n",
      "yas ot tnaw t’nod I\n"
     ]
    }
   ],
   "source": [
    "import textwrap\n",
    "#it works, create a main program \n",
    "def main():\n",
    "    #describe program\n",
    "    print('This program will reverse a string.')\n",
    "    #take string input\n",
    "    usrString = input('Enter a string to reverse: ')\n",
    "    #call backString for input, assign returned string to revString \n",
    "    revString = backString(usrString)\n",
    "    #also display user text, backwards text doesn't mean anything\n",
    "    usrWrap = textwrap.fill(usrString, width=75, break_long_words=False)\n",
    "    #wrap text again bc I'm going to put in long strings\n",
    "    wrapString = textwrap.fill(revString, width=75, break_long_words=False)\n",
    "    #print formatted output, original and reversed\n",
    "    print(f'your text: \\n{usrWrap}')\n",
    "    print(f'You text reversed: \\n{wrapString}')\n",
    "\n",
    "#call main\n",
    "if __name__ == \"__main__\":\n",
    "    main()\n"
   ]
  },
  {
   "cell_type": "markdown",
   "metadata": {},
   "source": [
    "# Programming Exercise 1\n",
    "Initials\n",
    "\n",
    "Write a program that gets a string containing a person’s first, middle, and last names, and displays their first, middle, and last initials. For example, if the user enters John William Smith, the program should display J. W. S."
   ]
  },
  {
   "cell_type": "code",
   "execution_count": 18,
   "metadata": {},
   "outputs": [
    {
     "name": "stdout",
     "output_type": "stream",
     "text": [
      "Your name: Exa Dark Sideræl Musk\n",
      "Your initials: E. D. S. M. \n"
     ]
    }
   ],
   "source": [
    "#this program will take a name from the user and output their initials\n",
    "def main():\n",
    "    #take input for full name, it should actually give output for any number of names\n",
    "    #I think this is appropriate given Catholic naming and not having a middle name\n",
    "    #and so forth, it could be controlled\n",
    "    usrName = input('Enter your full name: ')\n",
    "    #split name input by spaces and assign to a name list\n",
    "    nameList = usrName.split(' ')\n",
    "    #empty list for initials\n",
    "    initList = []\n",
    "    #empty string for formatted output\n",
    "    outStr = ''\n",
    "    #for each name in the nameList\n",
    "    for name in nameList:\n",
    "        #add the first character in name to the initial list\n",
    "        initList += name[0:1]\n",
    "    #for each initial in the initial list\n",
    "    for init in initList:\n",
    "        #add initial to outStr + '. ' \n",
    "        outStr += init + '. '\n",
    "    #make sure initials are capitalized if user messes up\n",
    "    outStr = outStr.upper()\n",
    "    #make this more meaningful\n",
    "    print(f'Your name: {usrName}')\n",
    "    #print formatted string\n",
    "    print(f'Your initials: {outStr}')\n",
    "#call main\n",
    "if __name__ == \"__main__\":\n",
    "    main()"
   ]
  },
  {
   "cell_type": "code",
   "execution_count": 19,
   "metadata": {},
   "outputs": [
    {
     "name": "stdout",
     "output_type": "stream",
     "text": [
      "Your name: Nero Claudius Caesar Augustus Germanicus\n",
      "Your initials: N. C. C. A. G. \n"
     ]
    }
   ],
   "source": [
    "main()"
   ]
  },
  {
   "cell_type": "code",
   "execution_count": 20,
   "metadata": {},
   "outputs": [
    {
     "name": "stdout",
     "output_type": "stream",
     "text": [
      "Your name: anthony john soprano\n",
      "Your initials: A. J. S. \n"
     ]
    }
   ],
   "source": [
    "main()"
   ]
  },
  {
   "cell_type": "markdown",
   "metadata": {},
   "source": [
    "# Programming Exercise 5\n",
    "Alphabetic Telephone Number Translator\n",
    "\n",
    "Many companies use telephone numbers like 555-GET-FOOD so the number is easier for their customers to remember. On a standard telephone, the alphabetic letters are mapped to numbers in the following fashion:\n",
    "\n",
    "A, B, and C = 2\n",
    "D, E, and F = 3\n",
    "G, H, and I = 4\n",
    "J, K, and L = 5\n",
    "M, N, and O = 6\n",
    "P, Q, R, and S = 7\n",
    "T, U, and V = 8\n",
    "W, X, Y, and Z = 9\n",
    "\n",
    "Write a program that asks the user to enter a 10-character telephone number in the format XXX-XXX-XXXX. The application should display the telephone number with any alphabetic characters that appeared in the original translated to their numeric equivalent. For example, if the user enters 555-GET-FOOD, the application should display \n",
    "555-438-3663"
   ]
  },
  {
   "cell_type": "code",
   "execution_count": 28,
   "metadata": {},
   "outputs": [
    {
     "data": {
      "text/plain": [
       "'1-877-2274-669'"
      ]
     },
     "execution_count": 28,
     "metadata": {},
     "output_type": "execute_result"
    }
   ],
   "source": [
    "#this is the function that will convert the liguized phone number to a plain number\n",
    "#string\n",
    "def numMod(tNumber):\n",
    "    tNumber = tNumber.upper()\n",
    "    #blank string for output number\n",
    "    outNum = ''\n",
    "    #these lists group letters by which keypad number they correspond to\n",
    "    lets2 = ['A', 'B', 'C']\n",
    "    lets3 = ['D', 'E', 'F']\n",
    "    lets4 = ['G', 'H', 'I']\n",
    "    lets5 = ['J', 'K', 'L']\n",
    "    lets6 = ['M', 'N', 'O']\n",
    "    lets7 = ['P', 'Q', 'R', 'S']\n",
    "    lets8 = ['T', 'U', 'V']\n",
    "    lets9 = ['W', 'X', 'Y', 'Z']\n",
    "    #for each character in the number provided\n",
    "    for char in tNumber:\n",
    "        #by default the output character is the same as the input\n",
    "        outChar = char\n",
    "        #unless that character is in one of the above lists\n",
    "        if char in lets2:\n",
    "            #then change outChar to appropriate number\n",
    "            outChar = '2'\n",
    "        elif char in lets3:\n",
    "            outChar = '3'\n",
    "        elif char in lets4:\n",
    "            outChar = '4'\n",
    "        elif char in lets5:\n",
    "            outChar = '5'\n",
    "        elif char in lets6:\n",
    "            outChar = '6'\n",
    "        elif char in lets7:\n",
    "            outChar = '7'\n",
    "        elif char in lets8:\n",
    "            outChar = '8'\n",
    "        elif char in lets9:\n",
    "            outChar = '9'\n",
    "        #collect outChar in outNum\n",
    "        outNum += outChar\n",
    "    #return numeric number\n",
    "    return outNum\n",
    "\n",
    "#test this horrible thing, what becomes clear is 1: these numbers frequently \n",
    "#include the country prefix and 2: have dashes moved around for readability\n",
    "#this function is fine, main program will handle input/output formatting\n",
    "numMod('1-877-CASH-NOW')"
   ]
  },
  {
   "cell_type": "code",
   "execution_count": 33,
   "metadata": {},
   "outputs": [
    {
     "name": "stdout",
     "output_type": "stream",
     "text": [
      "not a number\n",
      "668-268-6237\n"
     ]
    }
   ],
   "source": [
    "\n",
    "\n",
    "#the main program will pass a supplied telephone number to numMod and format \n",
    "#output as a telephone number x-xxx-xxx-xxxx or xxx-xxx-xxxx\n",
    "def main():\n",
    "    while True:\n",
    "        returnNum = ''\n",
    "        inNumber = input('Enter the telephone number to translate: ')\n",
    "        #plain number is a  blank string, join with inNumber with non alphanumeric \n",
    "        #characters removed\n",
    "        #https://www.techiedelight.com/remove-non-alphanumeric-characters-string-python/\n",
    "        plainNumber = ''.join(filter(str.isalnum, inNumber))\n",
    "        if len(plainNumber) == 10 or len(plainNumber) == 11:\n",
    "            returnNum = numMod(plainNumber)\n",
    "        \n",
    "            if len(returnNum) == 10:\n",
    "                formNumber = returnNum[:3] + '-' + returnNum[3:6] + '-' + returnNum[6:]\n",
    "            elif len(returnNum) == 11:\n",
    "                formNumber = returnNum[:1] + '-' + returnNum[1:4] + '-' + returnNum[4:7] + '-' + returnNum[7:]\n",
    "            print(inNumber)\n",
    "            print(formNumber)\n",
    "            break\n",
    "        else:\n",
    "            print('Number must be in 10 or 11 digit format. Try again.')\n",
    "            main()\n",
    "\n",
    "if __name__ == \"__main__\":\n",
    "    main()\n",
    "#this is the output for string 'not a number', becuase it has 10 characters\n",
    "#it is translated even though it is not a telephone number, as far as I know,\n",
    "#phone numbers with words in them typically also have numbers, so that can be\n",
    "#a requirement for input, not having a directory of all valid numbers it's the\n",
    "#best this program is going to do\n",
    "            "
   ]
  },
  {
   "cell_type": "code",
   "execution_count": 40,
   "metadata": {},
   "outputs": [
    {
     "name": "stdout",
     "output_type": "stream",
     "text": [
      "1877cashnow\n",
      "1-877-227-4669\n"
     ]
    }
   ],
   "source": [
    "#the main program will pass a supplied telephone number to numMod and format \n",
    "#output as a telephone number x-xxx-xxx-xxxx or xxx-xxx-xxxx\n",
    "def main():\n",
    "    #while true loop, keep running until output is good\n",
    "    while True:\n",
    "        #this flag tracks whether input is valid, false by default\n",
    "        valid_input = False \n",
    "        #initialize string for returnNum, unneccessary\n",
    "        #returnNum = ''\n",
    "        inNumber = input('Enter the telephone number to translate: ')\n",
    "        #plain number is a  blank string, join with inNumber with non alphanumeric \n",
    "        #characters removed\n",
    "        #https://www.techiedelight.com/remove-non-alphanumeric-characters-string-python/\n",
    "        plainNumber = ''.join(filter(str.isalnum, inNumber))\n",
    "        #input has to have numbers and letters\n",
    "        if plainNumber.isalpha() != True:\n",
    "            #if input is the right number of digits\n",
    "            if len(plainNumber) == 10 or len(plainNumber) == 11:\n",
    "                #call numMod for number\n",
    "                returnNum = numMod(plainNumber)\n",
    "                #if a 10 digit number\n",
    "                if len(returnNum) == 10:\n",
    "                    #format retuned number xxx-xxx-xxxx\n",
    "                    formNumber = returnNum[:3] + '-' + returnNum[3:6] + '-' + returnNum[6:]\n",
    "                #if the length is 11\n",
    "                elif len(returnNum) == 11:\n",
    "                    #x-xxx-xxx-xxxx\n",
    "                    formNumber = returnNum[:1] + '-' + returnNum[1:4] + '-' + returnNum[4:7] + '-' + returnNum[7:]\n",
    "                #print the input\n",
    "                print(inNumber)\n",
    "                #print formatted output\n",
    "                print(formNumber)\n",
    "                #if it has numbers and is the right number of character, then\n",
    "                #valid input = true\n",
    "                valid_input = True\n",
    "            #break loop if input is valid\n",
    "            if valid_input:\n",
    "                break\n",
    "            #else clauses all gathered here now\n",
    "            else:\n",
    "                #for input with right number of characters, but no numbers\n",
    "                if plainNumber.isalpha():\n",
    "                    print('Please enter a telephone number.')\n",
    "                #input with wrong number of digits\n",
    "                else:\n",
    "                    print('Number must be in 10 or 11 digit format. Try again.')\n",
    "                \n",
    "            #not breaking out is the issue, but that didn't do it\n",
    "        \n",
    "        #the else statement here was causing the program to run twice, meant to \n",
    "        #delete, but forgot\n",
    "#call main\n",
    "if __name__ == \"__main__\":\n",
    "    main()"
   ]
  },
  {
   "cell_type": "markdown",
   "metadata": {},
   "source": [
    "# Programming Exercise 6\n",
    "Average Number of Words\n",
    "\n",
    "If you have downloaded the source code from the Computer Science Portal you will find a file named text.txt in the Chapter 08 folder. The text that is in the file is stored as one sentence per line. Write a program that reads the file’s contents and calculates the average number of words per sentence.\n"
   ]
  },
  {
   "cell_type": "code",
   "execution_count": 42,
   "metadata": {},
   "outputs": [],
   "source": [
    "#I do not have access to the file text.txt, so I'm going to create my own that\n",
    "#has the same attributes, one sentence per line\n",
    "#for my text I had chat gpt write 30 sentences about bear attacks in late capitalism\n",
    "#in the style of Werner Herzog, chat gpt only wrote 20 sentences, so the file\n",
    "#has 20 lines\n",
    "with open('text.txt', 'w') as textOb:\n",
    "    textContent = input('enter text: ')\n",
    "    contentList = textContent.split('. ')\n",
    "    for sentence in contentList:\n",
    "        textOb.write(sentence + '\\n')\n",
    "\n",
    "\n"
   ]
  },
  {
   "cell_type": "code",
   "execution_count": 49,
   "metadata": {},
   "outputs": [
    {
     "name": "stdout",
     "output_type": "stream",
     "text": [
      "['In', 'the', 'stark', 'and', 'unforgiving', 'landscape', 'of', 'late', 'capitalism,', 'bear', 'attacks', 'stand', 'as', 'a', 'chilling', 'testament', 'to', 'the', 'intrinsic', 'and', 'unsettling', 'facets', 'of', 'our', 'human', 'existence']\n",
      "[26]\n",
      "['As', 'we', 'journey', 'deeper', 'into', 'this', 'realm', 'dominated', 'by', 'unrelenting', 'consumption', 'and', 'exploitation,', 'we', 'find', 'ourselves', 'encountering', 'a', 'wilderness', 'where', 'chaos', 'and', 'brutality', 'lurk', 'beneath', 'the', 'veneer', 'of', 'progress']\n",
      "[26, 29]\n",
      "['Bear', 'attacks,', 'while', 'a', 'source', 'of', 'fear', 'and', 'dread,', 'paradoxically', 'serve', 'as', 'a', 'necessary', 'corrective', 'to', 'our', 'rampant', 'hubris']\n",
      "[26, 29, 19]\n",
      "['They', 'compel', 'us', 'to', 'confront', 'the', 'profound', 'truth', 'that', 'we', 'are', 'not', 'the', 'masters', 'of', 'this', 'world,', 'but', 'mere', 'transients', 'in', 'a', 'realm', 'far', 'older', 'and', 'more', 'potent', 'than', 'we', 'can', 'ever', 'comprehend']\n",
      "[26, 29, 19, 33]\n",
      "['Amid', 'the', 'relentless', 'pursuit', 'of', 'profit', 'in', 'late', 'capitalism,', \"nature's\", 'most', 'formidable', 'denizens', 'reclaim', 'their', 'territories,', 'leaving', 'us', 'with', 'no', 'choice', 'but', 'to', 'reckon', 'with', 'the', 'ferocity', 'that', 'underscores', 'our', 'modern', 'existence']\n",
      "[26, 29, 19, 33, 32]\n",
      "['These', 'encounters', 'force', 'us', 'to', 'come', 'face', 'to', 'face', 'with', 'our', 'own', 'vulnerability', 'and', 'the', 'fragility', 'of', 'our', 'hubristic', 'endeavors']\n",
      "[26, 29, 19, 33, 32, 20]\n",
      "['In', 'the', 'midst', 'of', 'late', 'capitalism,', 'where', 'the', 'quest', 'for', 'material', 'wealth', 'and', 'superficial', 'happiness', 'reigns', 'supreme,', 'the', 'bear,', 'with', 'its', 'raw,', 'untamed', 'power,', 'becomes', 'a', 'symbol', 'of', 'resistance', 'against', 'the', 'commodification', 'of', 'existence']\n",
      "[26, 29, 19, 33, 32, 20, 34]\n",
      "['It', 'refuses', 'to', 'succumb', 'to', 'the', 'empty', 'promises', 'and', 'artificial', 'allure', 'of', 'consumerism,', 'instead', 'embodying', 'an', 'unyielding', 'rebellion', 'against', 'the', 'dehumanizing', 'forces', 'that', 'propel', 'our', 'society']\n",
      "[26, 29, 19, 33, 32, 20, 34, 26]\n",
      "['Bear', 'attacks,', 'though', 'terrifying', 'and', 'often', 'tragic,', 'are', 'the', \"earth's\", 'way', 'of', 'rebelling', 'against', 'the', 'relentless', 'destruction', 'wrought', 'by', 'late', 'capitalism']\n",
      "[26, 29, 19, 33, 32, 20, 34, 26, 21]\n",
      "['They', 'are', 'the', \"earth's\", 'guardians,', 'its', 'enforcers', 'of', 'the', 'natural', 'order', 'that', 'has', 'been', 'disregarded', 'and', 'disrupted']\n",
      "[26, 29, 19, 33, 32, 20, 34, 26, 21, 17]\n",
      "['In', 'the', 'aftermath', 'of', 'a', 'bear', 'attack,', 'we', 'are', 'compelled', 'to', 'question', 'the', 'foundations', 'of', 'our', 'society', 'and', 'the', 'consequences', 'of', 'our', 'actions']\n",
      "[26, 29, 19, 33, 32, 20, 34, 26, 21, 17, 23]\n",
      "['These', 'encounters', 'force', 'us', 'to', 'contemplate', 'the', 'price', 'we', 'pay', 'for', 'our', 'ceaseless', 'pursuit', 'of', 'wealth', 'and', 'progress,', 'to', 'reassess', 'the', 'collateral', 'damage', 'that', 'late', 'capitalism', 'exacts', 'on', 'our', 'world']\n",
      "[26, 29, 19, 33, 32, 20, 34, 26, 21, 17, 23, 30]\n",
      "['Bear', 'attacks,', 'while', 'haunting', 'and', 'brutal,', 'are', 'a', 'stark', 'reminder', 'of', 'our', 'own', 'complicity', 'in', 'the', 'unraveling', 'of', 'our', 'environment']\n",
      "[26, 29, 19, 33, 32, 20, 34, 26, 21, 17, 23, 30, 20]\n",
      "['They', 'serve', 'as', 'a', 'clarion', 'call', 'for', 'us', 'to', 'mend', 'our', 'ways', 'before', \"it's\", 'too', 'late,', 'a', 'humbling', 'reminder', 'that', 'our', 'ambitions', 'have', 'set', 'us', 'on', 'an', 'unsustainable', 'path']\n",
      "[26, 29, 19, 33, 32, 20, 34, 26, 21, 17, 23, 30, 20, 29]\n",
      "['In', 'the', 'wake', 'of', 'a', 'bear', 'attack,', 'we', 'are', 'challenged', 'to', 'reevaluate', 'our', 'priorities', 'and', 'reconsider', 'the', 'ramifications', 'of', 'our', 'actions']\n",
      "[26, 29, 19, 33, 32, 20, 34, 26, 21, 17, 23, 30, 20, 29, 21]\n",
      "['These', 'encounters', 'demand', 'our', 'attention', 'and', 'inspire', 'a', 'newfound', 'respect', 'for', 'the', 'natural', 'world,', 'beckoning', 'us', 'to', 'recognize', 'the', 'dire', 'consequences', 'of', 'our', 'heedless', 'pursuits']\n",
      "[26, 29, 19, 33, 32, 20, 34, 26, 21, 17, 23, 30, 20, 29, 21, 25]\n",
      "['The', 'bear,', 'with', 'its', 'primal', 'ferocity,', 'reflects', 'the', 'repercussions', 'of', 'our', 'unbridled', 'pursuit', 'of', 'profit,', 'a', 'pursuit', 'that', 'has', 'blinded', 'us', 'to', 'the', 'intrinsic', 'laws', 'of', 'nature']\n",
      "[26, 29, 19, 33, 32, 20, 34, 26, 21, 17, 23, 30, 20, 29, 21, 25, 27]\n",
      "['In', 'the', 'heart', 'of', 'late', 'capitalism,', 'where', 'power', 'and', 'wealth', 'dominate,', 'bear', 'attacks', 'become', 'a', 'poignant', 'reminder', 'of', 'our', 'limitations,', 'a', 'reminder', 'that', \"nature's\", 'chaos', 'remains', 'beyond', 'our', 'control']\n",
      "[26, 29, 19, 33, 32, 20, 34, 26, 21, 17, 23, 30, 20, 29, 21, 25, 27, 29]\n",
      "['Bear', 'attacks,', 'as', 'unsettling', 'as', 'they', 'are,', 'are', 'a', 'necessary', 'feature', 'of', 'late', 'capitalism']\n",
      "[26, 29, 19, 33, 32, 20, 34, 26, 21, 17, 23, 30, 20, 29, 21, 25, 27, 29, 14]\n",
      "['They', 'serve', 'as', 'a', 'haunting', 'reminder', 'of', 'the', 'ecological', 'imbalance', 'we', 'have', 'wrought', 'and', 'the', 'dire', 'consequences', 'of', 'our', 'actions,', 'challenging', 'us', 'to', 'rectify', 'the', 'course', 'of', 'our', 'civilization.']\n",
      "[26, 29, 19, 33, 32, 20, 34, 26, 21, 17, 23, 30, 20, 29, 21, 25, 27, 29, 14, 29]\n",
      "25.2\n"
     ]
    }
   ],
   "source": [
    "#this program will open the text.txt file and determain how many words are in \n",
    "#each line, how many total lines and find the average for words per line\n",
    "def main():\n",
    "    #list for sentences\n",
    "    sentList = []\n",
    "    #list for words in sentences\n",
    "    words = []\n",
    "    #list for number of words in each sentence\n",
    "    wordNum = []\n",
    "    #open text.txt in read mode assign to texFile object\n",
    "    with open('text.txt', 'r') as textFile:\n",
    "        #for each line in the textFile\n",
    "        for line in textFile:\n",
    "            #append line to sentence list\n",
    "            sentList.append(line)\n",
    "        #for each sentence in the list\n",
    "        for sent in sentList:\n",
    "            #split sentence into words by ' '\n",
    "            words = sent.split()\n",
    "            #append length of words to word number list\n",
    "            wordNum.append(len(words))\n",
    "            #test that these lists are working correctly, they are\n",
    "            print(words)\n",
    "            print(wordNum)\n",
    "        #get the total number of sentences\n",
    "        numLines = len(sentList)\n",
    "        #average number words/sentene is sum of word number list / numLines\n",
    "        wordAv = sum(wordNum) / numLines\n",
    "    \n",
    "    print(wordAv)\n",
    "\n",
    "\n",
    "\n",
    "                \n",
    "if __name__ == \"__main__\":\n",
    "    main()\n",
    "\n",
    "            \n",
    "\n",
    "\n",
    "            \n",
    "            \n"
   ]
  },
  {
   "cell_type": "code",
   "execution_count": 51,
   "metadata": {},
   "outputs": [
    {
     "name": "stdout",
     "output_type": "stream",
     "text": [
      "The average number of words per sentence in text.txt is: 25.2\n"
     ]
    }
   ],
   "source": [
    "#this program will open the text.txt file and determain how many words are in \n",
    "#each line, how many total lines and find the average for words per line\n",
    "def main():\n",
    "    #list for sentences\n",
    "    sentList = []\n",
    "    #list for words in sentences\n",
    "    words = []\n",
    "    #list for number of words in each sentence\n",
    "    wordNum = []\n",
    "    #open text.txt in read mode assign to texFile object\n",
    "    with open('text.txt', 'r') as textFile:\n",
    "        #for each line in the textFile\n",
    "        for line in textFile:\n",
    "            #append line to sentence list\n",
    "            sentList.append(line)\n",
    "        #for each sentence in the list\n",
    "        for sent in sentList:\n",
    "            #split sentence into words by ' '\n",
    "            words = sent.split()\n",
    "            #append length of words to word number list\n",
    "            wordNum.append(len(words))\n",
    "        \n",
    "        \n",
    "        #get the total number of sentences\n",
    "        numLines = len(sentList)\n",
    "        #average number words/sentene is sum of word number list / numLines\n",
    "        wordAv = sum(wordNum) / numLines\n",
    "    # print average number words/sentence \n",
    "    print(f'The average number of words per sentence in text.txt is: {wordAv}')\n",
    "\n",
    "\n",
    "#call main                \n",
    "if __name__ == \"__main__\":\n",
    "    main()\n"
   ]
  },
  {
   "cell_type": "markdown",
   "metadata": {},
   "source": [
    "# Programming Exercise 10\n",
    "\n",
    "Most Frequent Character\n",
    "\n",
    "Write a program that lets the user enter a string and displays the character that appears most frequently in the string.\n"
   ]
  },
  {
   "cell_type": "code",
   "execution_count": 52,
   "metadata": {},
   "outputs": [
    {
     "data": {
      "text/plain": [
       "[['t', 1],\n",
       " ['h', 1],\n",
       " ['e', 1],\n",
       " [' ', 1],\n",
       " ['r', 1],\n",
       " ['a', 1],\n",
       " ['i', 1],\n",
       " ['n', 1],\n",
       " [' ', 1],\n",
       " ['i', 1],\n",
       " ['n', 1],\n",
       " [' ', 1],\n",
       " ['s', 1],\n",
       " ['p', 1],\n",
       " ['a', 1],\n",
       " ['i', 1],\n",
       " ['n', 1],\n",
       " [' ', 1],\n",
       " ['a', 1],\n",
       " ['n', 1],\n",
       " ['d', 1],\n",
       " [' ', 1],\n",
       " ['s', 1],\n",
       " ['o', 1],\n",
       " [' ', 1],\n",
       " ['f', 1],\n",
       " ['o', 1],\n",
       " ['r', 1],\n",
       " ['t', 1],\n",
       " ['h', 1],\n",
       " [' ', 1],\n",
       " ['.', 1],\n",
       " [' ', 1],\n",
       " ['9', 1],\n",
       " [' ', 1],\n",
       " ['f', 1],\n",
       " ['7', 1],\n",
       " [' ', 1],\n",
       " ['%', 1]]"
      ]
     },
     "execution_count": 52,
     "metadata": {},
     "output_type": "execute_result"
    }
   ],
   "source": [
    "def mostFrequent(usrString):\n",
    "    charList = []\n",
    "    charVal = 1\n",
    "    for char in usrString:\n",
    "        if char not in charList:\n",
    "            charList.append([char, charVal ])\n",
    "        elif char in charList:\n",
    "            index = charList.index(char)\n",
    "            charList[index] = [char, charVal + 1]\n",
    "    return charList\n",
    "\n",
    "mostFrequent('the rain in spain and so forth . 9 f7 %')\n",
    "\n",
    "        \n",
    "\n",
    "\n"
   ]
  },
  {
   "cell_type": "code",
   "execution_count": null,
   "metadata": {},
   "outputs": [],
   "source": []
  }
 ],
 "metadata": {
  "kernelspec": {
   "display_name": "Python 3",
   "language": "python",
   "name": "python3"
  },
  "language_info": {
   "codemirror_mode": {
    "name": "ipython",
    "version": 3
   },
   "file_extension": ".py",
   "mimetype": "text/x-python",
   "name": "python",
   "nbconvert_exporter": "python",
   "pygments_lexer": "ipython3",
   "version": "3.6.4"
  }
 },
 "nbformat": 4,
 "nbformat_minor": 2
}
