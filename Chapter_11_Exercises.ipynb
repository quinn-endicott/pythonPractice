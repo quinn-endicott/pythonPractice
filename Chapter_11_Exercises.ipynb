{
 "cells": [
  {
   "cell_type": "markdown",
   "metadata": {},
   "source": [
    "# 1. Employee and ProductionWorker Classes\n",
    "\n",
    "Write an Employee class that keeps data attributes for the following pieces of information:\n",
    "\n",
    "• Employee name\n",
    "\n",
    "• Employee number\n",
    "\n",
    "Next, write a class named ProductionWorker that is a subclass of the Employee class. The ProductionWorker class should keep data attributes for the following information:\n",
    "\n",
    "• Shift number (an integer, such as 1, 2, or 3)\n",
    "\n",
    "• Hourly pay rate\n",
    "\n",
    "The workday is divided into two shifts: day and night. The shift attribute will hold an integer value representing the shift that the employee works. The day shift is shift 1 and the night shift is shift 2. Write the appropriate accessor and mutator methods for each class.Once you have written the classes, write a program that creates an object of the ProductionWorker class and prompts the user to enter data for each of the object’s data attributes. Store the data in the object, then use the object’s accessor methods to retrieve it \n",
    "and display it on the screen."
   ]
  },
  {
   "cell_type": "code",
   "execution_count": 15,
   "metadata": {},
   "outputs": [
    {
     "name": "stdout",
     "output_type": "stream",
     "text": [
      "Employee Name: Luke Skywalker\n",
      "Employee ID: 666\n",
      "Employee Shift: 2\n",
      "Employee Pay Rate: 20.00\n"
     ]
    }
   ],
   "source": [
    "import employ\n",
    "def main():\n",
    "    empName = input(\"Enter the employee's name: \")\n",
    "    empID = int(input('Enter employee ID number: '))\n",
    "    shiftNum = int(input('Enter the shift number: '))\n",
    "    payRate = float(input(\"Enter employee's pay rate: \"))\n",
    "    empOb = employ.productionWorker(empName, empID, shiftNum, payRate)\n",
    "    print(f'Employee Name: {empOb.getName()}')\n",
    "    print(f'Employee ID: {empOb.getIdNumber()}')\n",
    "    print(f'Employee Shift: {empOb.getShift()}')\n",
    "    print(f'Employee Pay Rate: {empOb.getPay():.2f}')\n",
    "\n",
    "if __name__ == \"__main__\":\n",
    "    main()\n",
    "\n",
    "    \n",
    "    "
   ]
  },
  {
   "cell_type": "code",
   "execution_count": 6,
   "metadata": {},
   "outputs": [],
   "source": [
    "class Employee:\n",
    "    def __init__(self, name, idNumber):\n",
    "        self.__name = name\n",
    "        self.__idNumber = idNumber\n",
    "    def setName(self, name):\n",
    "        self.__name = name\n",
    "    def setIdNumber(self, idNumber):\n",
    "        self.__idNumber = idNumber\n",
    "    def getName(self):\n",
    "        return self.__name\n",
    "    def getIdNumber(self):\n",
    "        return self.__idNumber\n",
    "    def __str__(self):\n",
    "        return f'Employee {self.__idNumber}: {self.__name}'\n",
    "    \n",
    "class productionWorker(Employee):\n",
    "    def __init__(self, name, idNumber, shiftNumber, payRate):\n",
    "        Employee.__init__(self, name, idNumber)\n",
    "        self.__shiftNumber = shiftNumber\n",
    "        self.__payRate = payRate\n",
    "    def setShift(self, shiftNumber):\n",
    "        self.__shiftNumber = shiftNumber\n",
    "    def setPay(self, payRate):\n",
    "        self.__payRate = payRate\n",
    "    def getShift(self):\n",
    "        return self.__shiftNumber\n",
    "    def getPay(self):\n",
    "        return self.__payRate\n",
    "    def __str__(self):\n",
    "        return f'Employee {self._Employee__idNumber}: {self._Employee__name}\\nShift: \\\n",
    "            {self.__shiftNumber}\\nPayrate: {self.__payRate}'\n",
    "    \n"
   ]
  },
  {
   "cell_type": "code",
   "execution_count": 12,
   "metadata": {},
   "outputs": [
    {
     "name": "stdout",
     "output_type": "stream",
     "text": [
      "Employee 666: Luke Skywalker\n",
      "Employee 666: Luke Skywalker\n",
      "2 Shift \n",
      "Payrate: 20.0\n"
     ]
    }
   ],
   "source": [
    "newEmp = Employee('Luke Skywalker', 666)\n",
    "print(str(newEmp))\n",
    "newProd = productionWorker('Luke Skywalker', 666, 2, 20.00)\n",
    "print(str(newProd))\n"
   ]
  },
  {
   "cell_type": "markdown",
   "metadata": {},
   "source": [
    "# 2. ShiftSupervisor Class\n",
    "In a particular factory, a shift supervisor is a salaried employee who supervises a shift. In addition to a salary, the shift supervisor earns a yearly bonus when his or her shift meets production goals. Write a ShiftSupervisor class that is a subclass of the Employee class \n",
    "you created in Programming Exercise 1. The ShiftSupervisor class should keep a data attribute for the annual salary, and a data attribute for the annual production bonus that a shift supervisor has earned. Demonstrate the class by writing a program that uses a ShiftSupervisor object."
   ]
  },
  {
   "cell_type": "code",
   "execution_count": null,
   "metadata": {},
   "outputs": [],
   "source": [
    "def main():\n",
    "    "
   ]
  },
  {
   "cell_type": "code",
   "execution_count": 11,
   "metadata": {},
   "outputs": [],
   "source": [
    "class shiftSupervisor:\n",
    "    def __init__(self, name, idNumber, salary, bonus):\n",
    "        Employee.__init__(self, name, idNumber)\n",
    "        self.__salary = salary\n",
    "        self.__bonus = bonus\n",
    "    def setSalary(self, salary):\n",
    "        self.__salary = salary\n",
    "    def setBonus(self, bonus):\n",
    "        self.__bonus = bonus\n",
    "    def getSalary(self):\n",
    "        return self.__salary\n",
    "    def getBonus(self):\n",
    "        return self.__bonus\n",
    "    def __str__(self):\n",
    "        return f'Employee {self._Employee__idNumber}:\\\n",
    "              {self._Employee__name}\\nSalary: {self.__salary}\\nBonus: {self.__bonus}'\n",
    "    \n"
   ]
  },
  {
   "cell_type": "code",
   "execution_count": 13,
   "metadata": {},
   "outputs": [
    {
     "name": "stdout",
     "output_type": "stream",
     "text": [
      "Employee 667: Han Solo\n",
      "Salary: 40000.0\n",
      "Bonus: 4020.0\n"
     ]
    }
   ],
   "source": [
    "newSup = shiftSupervisor('Han Solo', 667, 40000.00, 4020.00)\n",
    "print(str(newSup))    "
   ]
  },
  {
   "cell_type": "code",
   "execution_count": null,
   "metadata": {},
   "outputs": [],
   "source": []
  }
 ],
 "metadata": {
  "kernelspec": {
   "display_name": "Python 3",
   "language": "python",
   "name": "python3"
  },
  "language_info": {
   "codemirror_mode": {
    "name": "ipython",
    "version": 3
   },
   "file_extension": ".py",
   "mimetype": "text/x-python",
   "name": "python",
   "nbconvert_exporter": "python",
   "pygments_lexer": "ipython3",
   "version": "3.11.5"
  }
 },
 "nbformat": 4,
 "nbformat_minor": 2
}
