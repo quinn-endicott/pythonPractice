{
 "cells": [
  {
   "cell_type": "markdown",
   "metadata": {},
   "source": [
    "# 1. Employee and ProductionWorker Classes\n",
    "\n",
    "Write an Employee class that keeps data attributes for the following pieces of information:\n",
    "\n",
    "• Employee name\n",
    "\n",
    "• Employee number\n",
    "\n",
    "Next, write a class named ProductionWorker that is a subclass of the Employee class. The ProductionWorker class should keep data attributes for the following information:\n",
    "\n",
    "• Shift number (an integer, such as 1, 2, or 3)\n",
    "\n",
    "• Hourly pay rate\n",
    "\n",
    "The workday is divided into two shifts: day and night. The shift attribute will hold an integer value representing the shift that the employee works. The day shift is shift 1 and the night shift is shift 2. Write the appropriate accessor and mutator methods for each class.Once you have written the classes, write a program that creates an object of the ProductionWorker class and prompts the user to enter data for each of the object’s data attributes. Store the data in the object, then use the object’s accessor methods to retrieve it \n",
    "and display it on the screen."
   ]
  },
  {
   "cell_type": "code",
   "execution_count": 15,
   "metadata": {},
   "outputs": [
    {
     "name": "stdout",
     "output_type": "stream",
     "text": [
      "Employee Name: Luke Skywalker\n",
      "Employee ID: 666\n",
      "Employee Shift: 2\n",
      "Employee Pay Rate: 20.00\n"
     ]
    }
   ],
   "source": [
    "import employ\n",
    "def main():\n",
    "    empName = input(\"Enter the employee's name: \")\n",
    "    empID = int(input('Enter employee ID number: '))\n",
    "    shiftNum = int(input('Enter the shift number: '))\n",
    "    payRate = float(input(\"Enter employee's pay rate: \"))\n",
    "    empOb = employ.productionWorker(empName, empID, shiftNum, payRate)\n",
    "    print(f'Employee Name: {empOb.getName()}')\n",
    "    print(f'Employee ID: {empOb.getIdNumber()}')\n",
    "    print(f'Employee Shift: {empOb.getShift()}')\n",
    "    print(f'Employee Pay Rate: {empOb.getPay():.2f}')\n",
    "\n",
    "if __name__ == \"__main__\":\n",
    "    main()\n",
    "\n",
    "    \n",
    "    "
   ]
  },
  {
   "cell_type": "code",
   "execution_count": 6,
   "metadata": {},
   "outputs": [],
   "source": [
    "class Employee:\n",
    "    def __init__(self, name, idNumber):\n",
    "        self.__name = name\n",
    "        self.__idNumber = idNumber\n",
    "    def setName(self, name):\n",
    "        self.__name = name\n",
    "    def setIdNumber(self, idNumber):\n",
    "        self.__idNumber = idNumber\n",
    "    def getName(self):\n",
    "        return self.__name\n",
    "    def getIdNumber(self):\n",
    "        return self.__idNumber\n",
    "    def __str__(self):\n",
    "        return f'Employee {self.__idNumber}: {self.__name}'\n",
    "    \n",
    "class productionWorker(Employee):\n",
    "    def __init__(self, name, idNumber, shiftNumber, payRate):\n",
    "        Employee.__init__(self, name, idNumber)\n",
    "        self.__shiftNumber = shiftNumber\n",
    "        self.__payRate = payRate\n",
    "    def setShift(self, shiftNumber):\n",
    "        self.__shiftNumber = shiftNumber\n",
    "    def setPay(self, payRate):\n",
    "        self.__payRate = payRate\n",
    "    def getShift(self):\n",
    "        return self.__shiftNumber\n",
    "    def getPay(self):\n",
    "        return f'{self.__payRate:.2f}'\n",
    "    def __str__(self):\n",
    "        return f'Employee {self._Employee__idNumber}: {self._Employee__name}\\nShift: \\\n",
    "            {self.__shiftNumber}\\nPayrate: {self.__payRate:.2f}'\n",
    "    \n"
   ]
  },
  {
   "cell_type": "code",
   "execution_count": 4,
   "metadata": {},
   "outputs": [
    {
     "name": "stdout",
     "output_type": "stream",
     "text": [
      "Employee 666: Luke Skywalker\n",
      "20.0\n"
     ]
    }
   ],
   "source": [
    "import employ\n",
    "newEmp = employ.Employee('Luke Skywalker', 666)\n",
    "print(str(newEmp))\n",
    "newProd = employ.productionWorker('Luke Skywalker', 666, 2, 20.00)\n",
    "print(newProd.getPay())\n"
   ]
  },
  {
   "cell_type": "markdown",
   "metadata": {},
   "source": [
    "# 2. ShiftSupervisor Class\n",
    "In a particular factory, a shift supervisor is a salaried employee who supervises a shift. In addition to a salary, the shift supervisor earns a yearly bonus when his or her shift meets production goals. Write a ShiftSupervisor class that is a subclass of the Employee class \n",
    "you created in Programming Exercise 1. The ShiftSupervisor class should keep a data attribute for the annual salary, and a data attribute for the annual production bonus that a shift supervisor has earned. Demonstrate the class by writing a program that uses a ShiftSupervisor object."
   ]
  },
  {
   "cell_type": "code",
   "execution_count": 2,
   "metadata": {},
   "outputs": [
    {
     "name": "stdout",
     "output_type": "stream",
     "text": [
      "This program will let you manage the employee directory.\n",
      "\n",
      "Options: \n",
      "Enter '1' to add a new production worker\n",
      "Enter '2' to add a new shift supervisor\n",
      "Enter '3' to look up an employee\n",
      "Enter '4' to delete an employee\n",
      "\n",
      "Your results: \n",
      "Employee type: Shift Supervisor\n",
      "Employee 5766: Leia Organa\n",
      "Salary: $453745.00\n",
      "Bonus: $4864.00\n",
      "\n",
      "Options: \n",
      "Enter '1' to add a new production worker\n",
      "Enter '2' to add a new shift supervisor\n",
      "Enter '3' to look up an employee\n",
      "Enter '4' to delete an employee\n",
      "\n",
      "Employee not found\n",
      "\n",
      "Options: \n",
      "Enter '1' to add a new production worker\n",
      "Enter '2' to add a new shift supervisor\n",
      "Enter '3' to look up an employee\n",
      "Enter '4' to delete an employee\n",
      "\n",
      "Your entry: \n",
      "Employee 4444: Elon Musk\n",
      "Salary: $4697495.00\n",
      "Bonus: $35248.00\n",
      "\n",
      "You added a new shift supervisor: \n",
      "Employee 4444: Elon Musk\n",
      "Salary: $4697495.00\n",
      "Bonus: $35248.00\n",
      "\n",
      "Options: \n",
      "Enter '1' to add a new production worker\n",
      "Enter '2' to add a new shift supervisor\n",
      "Enter '3' to look up an employee\n",
      "Enter '4' to delete an employee\n",
      "\n",
      "Employee to delete: \n",
      "Employee 4444: Elon Musk\n",
      "Salary: $4697495.00\n",
      "Bonus: $35248.00\n",
      "\n",
      "Employee deleted\n",
      "\n"
     ]
    }
   ],
   "source": [
    "import employ\n",
    "def main():\n",
    "    contVar = 'y'\n",
    "    \n",
    "    \n",
    "    print('This program will let you manage the employee directory.')\n",
    "    print()\n",
    "    dirName = input('Enter the name if the employee directory')\n",
    "    dirFile = dirName + '.dat'\n",
    "    empDir = employ.loadEmpDic(dirFile)\n",
    "    while contVar == 'y':\n",
    "        \n",
    "        employ.printOptions()\n",
    "        choice = int(input('Choose your option: '))\n",
    "        while choice < 1 or choice >4:\n",
    "            choice = input('You must choose one of the options, try again: ')\n",
    "        if choice == 1:\n",
    "            employ.makeProd(empDir)\n",
    "        elif choice == 2:\n",
    "            employ.makeSup(empDir)\n",
    "        elif choice == 3:\n",
    "            employ.findEmp(empDir)\n",
    "        elif choice == 4:\n",
    "            employ.deleteEmp(empDir)\n",
    "        \n",
    "        contVar = input('Would you like to make another choice (y/n)?').lower()\n",
    "\n",
    "    employ.saveDic(empDir, dirFile)\n",
    "        \n",
    "if __name__ == \"__main__\":\n",
    "    main()\n",
    "\n",
    "    "
   ]
  },
  {
   "cell_type": "code",
   "execution_count": 11,
   "metadata": {},
   "outputs": [],
   "source": [
    "class shiftSupervisor:\n",
    "    def __init__(self, name, idNumber, salary, bonus):\n",
    "        Employee.__init__(self, name, idNumber)\n",
    "        self.__salary = salary\n",
    "        self.__bonus = bonus\n",
    "    def setSalary(self, salary):\n",
    "        self.__salary = salary\n",
    "    def setBonus(self, bonus):\n",
    "        self.__bonus = bonus\n",
    "    def getSalary(self):\n",
    "        return f'{self.__salary:.2f}'\n",
    "    def getBonus(self):\n",
    "        return f'{self.__bonus:.2f}'\n",
    "    def __str__(self):\n",
    "        return f'Employee {self._Employee__idNumber}:\\\n",
    "              {self._Employee__name}\\nSalary: {self.__salary:.2f}\\nBonus: {self.__bonus:.2f}'\n",
    "    \n"
   ]
  },
  {
   "cell_type": "code",
   "execution_count": 1,
   "metadata": {},
   "outputs": [
    {
     "name": "stdout",
     "output_type": "stream",
     "text": [
      "Employee 667: Han Solo\n",
      "Salary: 40000.00\n",
      "Bonus: 4020.00\n"
     ]
    }
   ],
   "source": [
    "import employ\n",
    "newSup = employ.shiftSupervisor('Han Solo', 667, 40000.00, 4020.00)\n",
    "print(str(newSup))    "
   ]
  },
  {
   "cell_type": "code",
   "execution_count": null,
   "metadata": {},
   "outputs": [],
   "source": [
    "def makeProd(empDir):\n",
    "    corVar = 'n'\n",
    "    while corVar != 'y':\n",
    "        empName = input('Enter the name of the employee: ')\n",
    "        empID = int(input('Enter the employee ID number: '))\n",
    "        while empID in empDir:\n",
    "            empID = int(input('Employee ID must be unique, try again: '))\n",
    "\n",
    "        empShift = int(input('Enter the employee shift number: '))\n",
    "        while empShift < 1 or empShift > 3:\n",
    "            empShift = int(input('There are three shifts, try again: '))\n",
    "        empPay = float(input('Enter the employee pay rate: '))\n",
    "        prodOb = employ.productionWorker(empName, empID, empShift, empPay)\n",
    "        print('Your entry: ')\n",
    "        print(prodOb)\n",
    "        corVar = input('Is this information correct (y/n)?').lower()\n",
    "    empDir[empID] = prodOb\n",
    "    print('You added a new production worker: ')\n",
    "    print(prodOb)"
   ]
  },
  {
   "cell_type": "code",
   "execution_count": null,
   "metadata": {},
   "outputs": [],
   "source": [
    "def makeSup(empDir):\n",
    "    corVar = 'n'\n",
    "    while corVar != 'y':\n",
    "        empName = input('Enter the name of the employee: ')\n",
    "        empID = int(input('Enter the employee ID number: '))\n",
    "        while empID in empDir:\n",
    "            empID = int(input('Employee ID must be unique, try again: '))\n",
    "\n",
    "        empSal = float(input('Enter the employee salary: '))\n",
    "        \n",
    "        empBonus = float(input('Enter the employee bonus: '))\n",
    "        supOb = employ.shiftSupervisor(empName, empID, empSal, empBonus)\n",
    "        print('Your entry: ')\n",
    "        print(supOb)\n",
    "        corVar = input('Is this information correct (y/n)?').lower()\n",
    "    empDir[empID] = supOb\n",
    "    print('You added a new production worker: ')\n",
    "    print(supOb)"
   ]
  },
  {
   "cell_type": "code",
   "execution_count": null,
   "metadata": {},
   "outputs": [],
   "source": []
  },
  {
   "cell_type": "code",
   "execution_count": null,
   "metadata": {},
   "outputs": [],
   "source": [
    "def printOptions():\n",
    "    print('Options: ')\n",
    "    print(\"Enter '1' to add a new production worker\")\n",
    "    print(\"Enter '2' to add a new shift supervisor\")\n",
    "    print(\"Enter '3' to look up an employee\")\n",
    "    print(\"Enter '4' to delete an employee\")\n",
    "    \n",
    "    print()"
   ]
  },
  {
   "cell_type": "code",
   "execution_count": null,
   "metadata": {},
   "outputs": [],
   "source": [
    "def deleteEmp(empDir):\n",
    "    #input the key of the value to delete\n",
    "    delKey = int(input('Enter the ID of the employee to delete: '))\n",
    "    #while the key provided is not in the dictionary\n",
    "    while delKey not in empDir:\n",
    "        delKey = int(input('Employee ID must exist, try again: '))\n",
    "    delOb = empDir[delKey]\n",
    "    delVar = 'n'\n",
    "    print('Employee to delete: ')\n",
    "    print(delOb)\n",
    "    delVar = input('Are you sure you want to delete the employee (y/n)?').lower()\n",
    "    if delVar == 'y':\n",
    "    #pop object from dictionary by key, assign to variable\n",
    "        empDir.pop(delKey)\n",
    "        print(\"Employee deleted\")\n",
    "        print()\n",
    "    "
   ]
  },
  {
   "cell_type": "code",
   "execution_count": null,
   "metadata": {},
   "outputs": [],
   "source": [
    "def findEmp(empDir):\n",
    "    searchKey = int(input('Enter the ID of the employee you want to look up: '))\n",
    "    if searchKey not in empDir:\n",
    "        print('Employee not found')\n",
    "        print()\n",
    "    else:\n",
    "        foundEmp = empDir[searchKey]\n",
    "        print('Your results: ')\n",
    "        if isinstance(foundEmp, employ.productionWorker):\n",
    "            print('Employee type: Production Worker')\n",
    "        elif isinstance(foundEmp, employ.shiftSupervisor):\n",
    "            print('Employee type: Shift Supervisor')\n",
    "        print(foundEmp)"
   ]
  },
  {
   "cell_type": "code",
   "execution_count": null,
   "metadata": {},
   "outputs": [],
   "source": [
    "def loadEmpDic(dirName):\n",
    "    \n",
    "    #try to open the file in read binary mode\n",
    "    try:\n",
    "        with open(dirFile, 'rb') as empFile:\n",
    "            #unpickle dictionary and assign to empOut\n",
    "            empOut = pickle.load(empFile)\n",
    "    #if file fails to open\n",
    "    except:\n",
    "        #empOut is an empty dictionary\n",
    "        empOut = {}\n",
    "    #return empOut\n",
    "    return empOut"
   ]
  },
  {
   "cell_type": "code",
   "execution_count": null,
   "metadata": {},
   "outputs": [],
   "source": [
    "def saveDic(empDic, dirFile):\n",
    "    #open the file, write mode so new file supercedes old\n",
    "    with open(dirFile, 'wb') as savFile:\n",
    "        #pickle dictionary, save to file\n",
    "        pickle.dump(empDic, savFile)"
   ]
  }
 ],
 "metadata": {
  "kernelspec": {
   "display_name": "Python 3",
   "language": "python",
   "name": "python3"
  },
  "language_info": {
   "codemirror_mode": {
    "name": "ipython",
    "version": 3
   },
   "file_extension": ".py",
   "mimetype": "text/x-python",
   "name": "python",
   "nbconvert_exporter": "python",
   "pygments_lexer": "ipython3",
   "version": "3.11.5"
  }
 },
 "nbformat": 4,
 "nbformat_minor": 2
}
